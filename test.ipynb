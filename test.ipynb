{
  "cells": [
    {
      "cell_type": "code",
      "execution_count": 1,
      "metadata": {
        "id": "ks3Tbg2axL9C"
      },
      "outputs": [],
      "source": [
        "import pandas as pd\n",
        "\n",
        "from config import client_id, client_secret\n",
        "\n",
        "from tensorflow import keras \n",
        "import tensorflow as tf\n",
        "\n",
        "from sklearn.preprocessing import StandardScaler, LabelEncoder\n",
        "from sklearn.preprocessing import OneHotEncoder\n",
        "from sklearn.model_selection import train_test_split\n",
        "\n",
        "from pathlib import Path\n",
        "import sklearn as skl\n",
        "import spotipy\n",
        "import numpy as np\n",
        "from spotipy.oauth2 import SpotifyClientCredentials"
      ]
    },
    {
      "cell_type": "code",
      "execution_count": 4,
      "metadata": {
        "id": "A7-tZXLsyt6X"
      },
      "outputs": [],
      "source": [
        "file_path = Path(\"./Test-Data/final_genre_12k.csv\")\n",
        "df1 = pd.read_csv(file_path)"
      ]
    },
    {
      "cell_type": "code",
      "execution_count": 5,
      "metadata": {
        "id": "C-2I1Z2ixL9F"
      },
      "outputs": [],
      "source": [
        "client_credentials_manager = SpotifyClientCredentials(client_id,client_secret)\n",
        "sp = spotipy.Spotify(client_credentials_manager=client_credentials_manager)\n"
      ]
    },
    {
      "cell_type": "code",
      "execution_count": 19,
      "metadata": {
        "colab": {
          "base_uri": "https://localhost:8080/"
        },
        "id": "ftQfqrY6xL9G",
        "outputId": "6b9b8e6d-80a4-4940-f827-44f1fa43487e"
      },
      "outputs": [],
      "source": [
        "track_name = input(\"Enter a track name: \")"
      ]
    },
    {
      "cell_type": "code",
      "execution_count": 31,
      "metadata": {},
      "outputs": [],
      "source": [
        "# Search for the track\n",
        "results = sp.search(q='edemame', type=\"track\", limit=1)"
      ]
    },
    {
      "cell_type": "code",
      "execution_count": 32,
      "metadata": {},
      "outputs": [
        {
          "data": {
            "text/plain": [
              "{'tracks': {'href': 'https://api.spotify.com/v1/search?query=edemame&type=track&offset=0&limit=1',\n",
              "  'items': [{'album': {'album_type': 'single',\n",
              "     'artists': [{'external_urls': {'spotify': 'https://open.spotify.com/artist/41X1TR6hrK8Q2ZCpp2EqCz'},\n",
              "       'href': 'https://api.spotify.com/v1/artists/41X1TR6hrK8Q2ZCpp2EqCz',\n",
              "       'id': '41X1TR6hrK8Q2ZCpp2EqCz',\n",
              "       'name': 'bbno$',\n",
              "       'type': 'artist',\n",
              "       'uri': 'spotify:artist:41X1TR6hrK8Q2ZCpp2EqCz'},\n",
              "      {'external_urls': {'spotify': 'https://open.spotify.com/artist/2IDLDx25HU1nQMKde4n61a'},\n",
              "       'href': 'https://api.spotify.com/v1/artists/2IDLDx25HU1nQMKde4n61a',\n",
              "       'id': '2IDLDx25HU1nQMKde4n61a',\n",
              "       'name': 'Rich Brian',\n",
              "       'type': 'artist',\n",
              "       'uri': 'spotify:artist:2IDLDx25HU1nQMKde4n61a'}],\n",
              "     'available_markets': ['AD',\n",
              "      'AE',\n",
              "      'AG',\n",
              "      'AL',\n",
              "      'AM',\n",
              "      'AO',\n",
              "      'AR',\n",
              "      'AT',\n",
              "      'AU',\n",
              "      'AZ',\n",
              "      'BA',\n",
              "      'BB',\n",
              "      'BD',\n",
              "      'BE',\n",
              "      'BF',\n",
              "      'BG',\n",
              "      'BH',\n",
              "      'BI',\n",
              "      'BJ',\n",
              "      'BN',\n",
              "      'BO',\n",
              "      'BR',\n",
              "      'BS',\n",
              "      'BT',\n",
              "      'BW',\n",
              "      'BY',\n",
              "      'BZ',\n",
              "      'CA',\n",
              "      'CD',\n",
              "      'CG',\n",
              "      'CH',\n",
              "      'CI',\n",
              "      'CL',\n",
              "      'CM',\n",
              "      'CO',\n",
              "      'CR',\n",
              "      'CV',\n",
              "      'CW',\n",
              "      'CY',\n",
              "      'CZ',\n",
              "      'DE',\n",
              "      'DJ',\n",
              "      'DK',\n",
              "      'DM',\n",
              "      'DO',\n",
              "      'DZ',\n",
              "      'EC',\n",
              "      'EE',\n",
              "      'EG',\n",
              "      'ES',\n",
              "      'FI',\n",
              "      'FJ',\n",
              "      'FM',\n",
              "      'FR',\n",
              "      'GA',\n",
              "      'GB',\n",
              "      'GD',\n",
              "      'GE',\n",
              "      'GH',\n",
              "      'GM',\n",
              "      'GN',\n",
              "      'GQ',\n",
              "      'GR',\n",
              "      'GT',\n",
              "      'GW',\n",
              "      'GY',\n",
              "      'HK',\n",
              "      'HN',\n",
              "      'HR',\n",
              "      'HT',\n",
              "      'HU',\n",
              "      'ID',\n",
              "      'IE',\n",
              "      'IL',\n",
              "      'IN',\n",
              "      'IQ',\n",
              "      'IS',\n",
              "      'IT',\n",
              "      'JM',\n",
              "      'JO',\n",
              "      'JP',\n",
              "      'KE',\n",
              "      'KG',\n",
              "      'KH',\n",
              "      'KI',\n",
              "      'KM',\n",
              "      'KN',\n",
              "      'KR',\n",
              "      'KW',\n",
              "      'KZ',\n",
              "      'LA',\n",
              "      'LB',\n",
              "      'LC',\n",
              "      'LI',\n",
              "      'LK',\n",
              "      'LR',\n",
              "      'LS',\n",
              "      'LT',\n",
              "      'LU',\n",
              "      'LV',\n",
              "      'LY',\n",
              "      'MA',\n",
              "      'MC',\n",
              "      'MD',\n",
              "      'ME',\n",
              "      'MG',\n",
              "      'MH',\n",
              "      'MK',\n",
              "      'ML',\n",
              "      'MN',\n",
              "      'MO',\n",
              "      'MR',\n",
              "      'MT',\n",
              "      'MU',\n",
              "      'MV',\n",
              "      'MW',\n",
              "      'MX',\n",
              "      'MY',\n",
              "      'MZ',\n",
              "      'NA',\n",
              "      'NE',\n",
              "      'NG',\n",
              "      'NI',\n",
              "      'NL',\n",
              "      'NO',\n",
              "      'NP',\n",
              "      'NR',\n",
              "      'NZ',\n",
              "      'OM',\n",
              "      'PA',\n",
              "      'PE',\n",
              "      'PG',\n",
              "      'PH',\n",
              "      'PK',\n",
              "      'PL',\n",
              "      'PS',\n",
              "      'PT',\n",
              "      'PW',\n",
              "      'PY',\n",
              "      'QA',\n",
              "      'RO',\n",
              "      'RS',\n",
              "      'RW',\n",
              "      'SA',\n",
              "      'SB',\n",
              "      'SC',\n",
              "      'SE',\n",
              "      'SG',\n",
              "      'SI',\n",
              "      'SK',\n",
              "      'SL',\n",
              "      'SM',\n",
              "      'SN',\n",
              "      'SR',\n",
              "      'ST',\n",
              "      'SV',\n",
              "      'SZ',\n",
              "      'TD',\n",
              "      'TG',\n",
              "      'TH',\n",
              "      'TJ',\n",
              "      'TL',\n",
              "      'TN',\n",
              "      'TO',\n",
              "      'TR',\n",
              "      'TT',\n",
              "      'TV',\n",
              "      'TW',\n",
              "      'TZ',\n",
              "      'UA',\n",
              "      'UG',\n",
              "      'US',\n",
              "      'UY',\n",
              "      'UZ',\n",
              "      'VC',\n",
              "      'VE',\n",
              "      'VN',\n",
              "      'VU',\n",
              "      'WS',\n",
              "      'XK',\n",
              "      'ZA',\n",
              "      'ZM',\n",
              "      'ZW'],\n",
              "     'external_urls': {'spotify': 'https://open.spotify.com/album/1YrACh9xDRGpjrkdWz4MfP'},\n",
              "     'href': 'https://api.spotify.com/v1/albums/1YrACh9xDRGpjrkdWz4MfP',\n",
              "     'id': '1YrACh9xDRGpjrkdWz4MfP',\n",
              "     'images': [{'height': 640,\n",
              "       'url': 'https://i.scdn.co/image/ab67616d0000b273545a202ab06885cf2c6621ca',\n",
              "       'width': 640},\n",
              "      {'height': 300,\n",
              "       'url': 'https://i.scdn.co/image/ab67616d00001e02545a202ab06885cf2c6621ca',\n",
              "       'width': 300},\n",
              "      {'height': 64,\n",
              "       'url': 'https://i.scdn.co/image/ab67616d00004851545a202ab06885cf2c6621ca',\n",
              "       'width': 64}],\n",
              "     'name': 'edamame (feat. Rich Brian)',\n",
              "     'release_date': '2021-07-24',\n",
              "     'release_date_precision': 'day',\n",
              "     'total_tracks': 1,\n",
              "     'type': 'album',\n",
              "     'uri': 'spotify:album:1YrACh9xDRGpjrkdWz4MfP'},\n",
              "    'artists': [{'external_urls': {'spotify': 'https://open.spotify.com/artist/41X1TR6hrK8Q2ZCpp2EqCz'},\n",
              "      'href': 'https://api.spotify.com/v1/artists/41X1TR6hrK8Q2ZCpp2EqCz',\n",
              "      'id': '41X1TR6hrK8Q2ZCpp2EqCz',\n",
              "      'name': 'bbno$',\n",
              "      'type': 'artist',\n",
              "      'uri': 'spotify:artist:41X1TR6hrK8Q2ZCpp2EqCz'},\n",
              "     {'external_urls': {'spotify': 'https://open.spotify.com/artist/2IDLDx25HU1nQMKde4n61a'},\n",
              "      'href': 'https://api.spotify.com/v1/artists/2IDLDx25HU1nQMKde4n61a',\n",
              "      'id': '2IDLDx25HU1nQMKde4n61a',\n",
              "      'name': 'Rich Brian',\n",
              "      'type': 'artist',\n",
              "      'uri': 'spotify:artist:2IDLDx25HU1nQMKde4n61a'}],\n",
              "    'available_markets': ['AD',\n",
              "     'AE',\n",
              "     'AG',\n",
              "     'AL',\n",
              "     'AM',\n",
              "     'AO',\n",
              "     'AR',\n",
              "     'AT',\n",
              "     'AU',\n",
              "     'AZ',\n",
              "     'BA',\n",
              "     'BB',\n",
              "     'BD',\n",
              "     'BE',\n",
              "     'BF',\n",
              "     'BG',\n",
              "     'BH',\n",
              "     'BI',\n",
              "     'BJ',\n",
              "     'BN',\n",
              "     'BO',\n",
              "     'BR',\n",
              "     'BS',\n",
              "     'BT',\n",
              "     'BW',\n",
              "     'BY',\n",
              "     'BZ',\n",
              "     'CA',\n",
              "     'CD',\n",
              "     'CG',\n",
              "     'CH',\n",
              "     'CI',\n",
              "     'CL',\n",
              "     'CM',\n",
              "     'CO',\n",
              "     'CR',\n",
              "     'CV',\n",
              "     'CW',\n",
              "     'CY',\n",
              "     'CZ',\n",
              "     'DE',\n",
              "     'DJ',\n",
              "     'DK',\n",
              "     'DM',\n",
              "     'DO',\n",
              "     'DZ',\n",
              "     'EC',\n",
              "     'EE',\n",
              "     'EG',\n",
              "     'ES',\n",
              "     'ET',\n",
              "     'FI',\n",
              "     'FJ',\n",
              "     'FM',\n",
              "     'FR',\n",
              "     'GA',\n",
              "     'GB',\n",
              "     'GD',\n",
              "     'GE',\n",
              "     'GH',\n",
              "     'GM',\n",
              "     'GN',\n",
              "     'GQ',\n",
              "     'GR',\n",
              "     'GT',\n",
              "     'GW',\n",
              "     'GY',\n",
              "     'HK',\n",
              "     'HN',\n",
              "     'HR',\n",
              "     'HT',\n",
              "     'HU',\n",
              "     'ID',\n",
              "     'IE',\n",
              "     'IL',\n",
              "     'IN',\n",
              "     'IQ',\n",
              "     'IS',\n",
              "     'IT',\n",
              "     'JM',\n",
              "     'JO',\n",
              "     'JP',\n",
              "     'KE',\n",
              "     'KG',\n",
              "     'KH',\n",
              "     'KI',\n",
              "     'KM',\n",
              "     'KN',\n",
              "     'KR',\n",
              "     'KW',\n",
              "     'KZ',\n",
              "     'LA',\n",
              "     'LB',\n",
              "     'LC',\n",
              "     'LI',\n",
              "     'LK',\n",
              "     'LR',\n",
              "     'LS',\n",
              "     'LT',\n",
              "     'LU',\n",
              "     'LV',\n",
              "     'LY',\n",
              "     'MA',\n",
              "     'MC',\n",
              "     'MD',\n",
              "     'ME',\n",
              "     'MG',\n",
              "     'MH',\n",
              "     'MK',\n",
              "     'ML',\n",
              "     'MN',\n",
              "     'MO',\n",
              "     'MR',\n",
              "     'MT',\n",
              "     'MU',\n",
              "     'MV',\n",
              "     'MW',\n",
              "     'MX',\n",
              "     'MY',\n",
              "     'MZ',\n",
              "     'NA',\n",
              "     'NE',\n",
              "     'NG',\n",
              "     'NI',\n",
              "     'NL',\n",
              "     'NO',\n",
              "     'NP',\n",
              "     'NR',\n",
              "     'NZ',\n",
              "     'OM',\n",
              "     'PA',\n",
              "     'PE',\n",
              "     'PG',\n",
              "     'PH',\n",
              "     'PK',\n",
              "     'PL',\n",
              "     'PS',\n",
              "     'PT',\n",
              "     'PW',\n",
              "     'PY',\n",
              "     'QA',\n",
              "     'RO',\n",
              "     'RS',\n",
              "     'RW',\n",
              "     'SA',\n",
              "     'SB',\n",
              "     'SC',\n",
              "     'SE',\n",
              "     'SG',\n",
              "     'SI',\n",
              "     'SK',\n",
              "     'SL',\n",
              "     'SM',\n",
              "     'SN',\n",
              "     'SR',\n",
              "     'ST',\n",
              "     'SV',\n",
              "     'SZ',\n",
              "     'TD',\n",
              "     'TG',\n",
              "     'TH',\n",
              "     'TJ',\n",
              "     'TL',\n",
              "     'TN',\n",
              "     'TO',\n",
              "     'TR',\n",
              "     'TT',\n",
              "     'TV',\n",
              "     'TW',\n",
              "     'TZ',\n",
              "     'UA',\n",
              "     'UG',\n",
              "     'US',\n",
              "     'UY',\n",
              "     'UZ',\n",
              "     'VC',\n",
              "     'VE',\n",
              "     'VN',\n",
              "     'VU',\n",
              "     'WS',\n",
              "     'XK',\n",
              "     'ZA',\n",
              "     'ZM',\n",
              "     'ZW'],\n",
              "    'disc_number': 1,\n",
              "    'duration_ms': 133706,\n",
              "    'explicit': True,\n",
              "    'external_ids': {'isrc': 'QMUY42100151'},\n",
              "    'external_urls': {'spotify': 'https://open.spotify.com/track/1uMHCAyGmHqyygoNRuo7MV'},\n",
              "    'href': 'https://api.spotify.com/v1/tracks/1uMHCAyGmHqyygoNRuo7MV',\n",
              "    'id': '1uMHCAyGmHqyygoNRuo7MV',\n",
              "    'is_local': False,\n",
              "    'name': 'edamame (feat. Rich Brian)',\n",
              "    'popularity': 76,\n",
              "    'preview_url': 'https://p.scdn.co/mp3-preview/f98f3318817a12e36bcd4c17569b52b0be5643d5?cid=46f5d2f533c84b87b65d2d65da27adc4',\n",
              "    'track_number': 1,\n",
              "    'type': 'track',\n",
              "    'uri': 'spotify:track:1uMHCAyGmHqyygoNRuo7MV'}],\n",
              "  'limit': 1,\n",
              "  'next': 'https://api.spotify.com/v1/search?query=edemame&type=track&offset=1&limit=1',\n",
              "  'offset': 0,\n",
              "  'previous': None,\n",
              "  'total': 1820}}"
            ]
          },
          "execution_count": 32,
          "metadata": {},
          "output_type": "execute_result"
        }
      ],
      "source": [
        "results"
      ]
    },
    {
      "cell_type": "code",
      "execution_count": 20,
      "metadata": {
        "id": "WJPy0cUSxL9G"
      },
      "outputs": [],
      "source": [
        "# Search for the track\n",
        "results = sp.search(q=track_name, type=\"track\", limit=1)\n",
        "\n",
        "# Get the first track from the search results\n",
        "track = results[\"tracks\"][\"items\"][0]\n",
        "\n",
        "# Get the track's audio features\n",
        "features = sp.audio_features(track[\"id\"])[0]\n",
        "\n",
        "# Create a Pandas DataFrame with one row\n",
        "df2 = pd.DataFrame([features])\n",
        "\n"
      ]
    },
    {
      "cell_type": "code",
      "execution_count": 21,
      "metadata": {
        "colab": {
          "base_uri": "https://localhost:8080/",
          "height": 162
        },
        "id": "IiwxziXhxL9H",
        "outputId": "9f3be402-1a62-4990-beed-de9737132d9b"
      },
      "outputs": [
        {
          "data": {
            "text/html": [
              "<div>\n",
              "<style scoped>\n",
              "    .dataframe tbody tr th:only-of-type {\n",
              "        vertical-align: middle;\n",
              "    }\n",
              "\n",
              "    .dataframe tbody tr th {\n",
              "        vertical-align: top;\n",
              "    }\n",
              "\n",
              "    .dataframe thead th {\n",
              "        text-align: right;\n",
              "    }\n",
              "</style>\n",
              "<table border=\"1\" class=\"dataframe\">\n",
              "  <thead>\n",
              "    <tr style=\"text-align: right;\">\n",
              "      <th></th>\n",
              "      <th>danceability</th>\n",
              "      <th>energy</th>\n",
              "      <th>key</th>\n",
              "      <th>loudness</th>\n",
              "      <th>mode</th>\n",
              "      <th>speechiness</th>\n",
              "      <th>acousticness</th>\n",
              "      <th>instrumentalness</th>\n",
              "      <th>liveness</th>\n",
              "      <th>valence</th>\n",
              "      <th>tempo</th>\n",
              "      <th>type</th>\n",
              "      <th>id</th>\n",
              "      <th>uri</th>\n",
              "      <th>track_href</th>\n",
              "      <th>analysis_url</th>\n",
              "      <th>duration_ms</th>\n",
              "      <th>time_signature</th>\n",
              "    </tr>\n",
              "  </thead>\n",
              "  <tbody>\n",
              "    <tr>\n",
              "      <th>0</th>\n",
              "      <td>0.815</td>\n",
              "      <td>0.848</td>\n",
              "      <td>4</td>\n",
              "      <td>-4.704</td>\n",
              "      <td>0</td>\n",
              "      <td>0.115</td>\n",
              "      <td>0.023</td>\n",
              "      <td>0.000162</td>\n",
              "      <td>0.0265</td>\n",
              "      <td>0.684</td>\n",
              "      <td>106.032</td>\n",
              "      <td>audio_features</td>\n",
              "      <td>1uMHCAyGmHqyygoNRuo7MV</td>\n",
              "      <td>spotify:track:1uMHCAyGmHqyygoNRuo7MV</td>\n",
              "      <td>https://api.spotify.com/v1/tracks/1uMHCAyGmHqy...</td>\n",
              "      <td>https://api.spotify.com/v1/audio-analysis/1uMH...</td>\n",
              "      <td>133707</td>\n",
              "      <td>4</td>\n",
              "    </tr>\n",
              "  </tbody>\n",
              "</table>\n",
              "</div>"
            ],
            "text/plain": [
              "   danceability  energy  key  loudness  mode  speechiness  acousticness  \\\n",
              "0         0.815   0.848    4    -4.704     0        0.115         0.023   \n",
              "\n",
              "   instrumentalness  liveness  valence    tempo            type  \\\n",
              "0          0.000162    0.0265    0.684  106.032  audio_features   \n",
              "\n",
              "                       id                                   uri  \\\n",
              "0  1uMHCAyGmHqyygoNRuo7MV  spotify:track:1uMHCAyGmHqyygoNRuo7MV   \n",
              "\n",
              "                                          track_href  \\\n",
              "0  https://api.spotify.com/v1/tracks/1uMHCAyGmHqy...   \n",
              "\n",
              "                                        analysis_url  duration_ms  \\\n",
              "0  https://api.spotify.com/v1/audio-analysis/1uMH...       133707   \n",
              "\n",
              "   time_signature  \n",
              "0               4  "
            ]
          },
          "execution_count": 21,
          "metadata": {},
          "output_type": "execute_result"
        }
      ],
      "source": [
        "df2"
      ]
    },
    {
      "cell_type": "code",
      "execution_count": 9,
      "metadata": {
        "id": "oadkjAAiy4xs"
      },
      "outputs": [],
      "source": [
        "X = df1.drop(\"primary_genre\", axis=1)\n",
        "X.head()\n",
        "y = df1[\"primary_genre\"].values"
      ]
    },
    {
      "cell_type": "code",
      "execution_count": 10,
      "metadata": {
        "id": "IdtbemJTy7AI"
      },
      "outputs": [],
      "source": [
        "from sklearn.model_selection import train_test_split\n",
        "X_train, X_test, y_train, y_test = train_test_split(X, y, random_state=85)"
      ]
    },
    {
      "cell_type": "code",
      "execution_count": 11,
      "metadata": {
        "id": "AfUMobsxxL9H"
      },
      "outputs": [],
      "source": [
        "\n",
        "\n",
        "# Preprocess the data (note: you'll need to define the X_scaler variable in your script as well)\n",
        "model_X = df2.drop(columns={'type','id','uri','track_href','analysis_url'})"
      ]
    },
    {
      "cell_type": "code",
      "execution_count": 12,
      "metadata": {
        "id": "bcR3nduuxL9I"
      },
      "outputs": [],
      "source": [
        "\n",
        "X_scaler = StandardScaler()\n",
        "X_scaled = X_scaler.fit_transform(model_X)\n",
        "X_scaled = X_scaled.reshape(-1, 13)"
      ]
    },
    {
      "cell_type": "code",
      "execution_count": 13,
      "metadata": {
        "colab": {
          "base_uri": "https://localhost:8080/"
        },
        "id": "GdstHO_ZxL9I",
        "outputId": "e6e67607-dec9-4536-be68-14ea2c80863a"
      },
      "outputs": [
        {
          "name": "stdout",
          "output_type": "stream",
          "text": [
            "Metal device set to: Apple M1 Pro\n",
            "\n",
            "systemMemory: 16.00 GB\n",
            "maxCacheSize: 5.33 GB\n",
            "\n",
            "WARNING:tensorflow:Error in loading the saved optimizer state. As a result, your model is starting with a freshly initialized optimizer.\n"
          ]
        },
        {
          "name": "stderr",
          "output_type": "stream",
          "text": [
            "2023-01-05 13:23:46.106802: I tensorflow/core/common_runtime/pluggable_device/pluggable_device_factory.cc:306] Could not identify NUMA node of platform GPU ID 0, defaulting to 0. Your kernel may not have been built with NUMA support.\n",
            "2023-01-05 13:23:46.106823: I tensorflow/core/common_runtime/pluggable_device/pluggable_device_factory.cc:272] Created TensorFlow device (/job:localhost/replica:0/task:0/device:GPU:0 with 0 MB memory) -> physical PluggableDevice (device: 0, name: METAL, pci bus id: <undefined>)\n"
          ]
        }
      ],
      "source": [
        "model = keras.models.load_model('test_model.h5')"
      ]
    },
    {
      "cell_type": "code",
      "execution_count": 14,
      "metadata": {
        "colab": {
          "base_uri": "https://localhost:8080/"
        },
        "id": "JmvbHenSxL9I",
        "outputId": "56a83e44-809a-4978-824f-61a74315be2c"
      },
      "outputs": [
        {
          "name": "stderr",
          "output_type": "stream",
          "text": [
            "2023-01-05 13:23:46.363421: W tensorflow/tsl/platform/profile_utils/cpu_utils.cc:128] Failed to get CPU frequency: 0 Hz\n",
            "2023-01-05 13:23:46.404495: I tensorflow/core/grappler/optimizers/custom_graph_optimizer_registry.cc:114] Plugin optimizer for device_type GPU is enabled.\n"
          ]
        },
        {
          "name": "stdout",
          "output_type": "stream",
          "text": [
            "1/1 [==============================] - 0s 238ms/step\n"
          ]
        }
      ],
      "source": [
        "prediction = model.predict(X_scaled)"
      ]
    },
    {
      "cell_type": "code",
      "execution_count": 15,
      "metadata": {
        "id": "OHebR8MUxL9I"
      },
      "outputs": [],
      "source": [
        "prediction_index = np.argmax(prediction, axis=1)"
      ]
    },
    {
      "cell_type": "code",
      "execution_count": 16,
      "metadata": {
        "id": "Hp0eli_0yaHp"
      },
      "outputs": [],
      "source": [
        "y_original = y_train"
      ]
    },
    {
      "cell_type": "code",
      "execution_count": 17,
      "metadata": {
        "id": "iK43WCspxL9J"
      },
      "outputs": [],
      "source": [
        "prediction_decoded = [y_original[prediction_index[i]] for i in range(prediction_index.shape[0])]"
      ]
    },
    {
      "cell_type": "code",
      "execution_count": 30,
      "metadata": {
        "colab": {
          "base_uri": "https://localhost:8080/"
        },
        "id": "d4vps9jAxL9J",
        "outputId": "3e776d8b-b9f1-40c1-cf3f-a6e6ca83e215"
      },
      "outputs": [],
      "source": [
        "prediction_string = \"\".join(prediction_decoded)\n",
        "prediction_string = prediction_string.replace('[','').replace(']','')"
      ]
    },
    {
      "cell_type": "code",
      "execution_count": 29,
      "metadata": {},
      "outputs": [
        {
          "data": {
            "text/plain": [
              "'Pop'"
            ]
          },
          "execution_count": 29,
          "metadata": {},
          "output_type": "execute_result"
        }
      ],
      "source": [
        "prediction_string"
      ]
    }
  ],
  "metadata": {
    "colab": {
      "provenance": [],
      "toc_visible": true
    },
    "kernelspec": {
      "display_name": "tensorflow",
      "language": "python",
      "name": "python3"
    },
    "language_info": {
      "codemirror_mode": {
        "name": "ipython",
        "version": 3
      },
      "file_extension": ".py",
      "mimetype": "text/x-python",
      "name": "python",
      "nbconvert_exporter": "python",
      "pygments_lexer": "ipython3",
      "version": "3.9.15 | packaged by conda-forge | (main, Nov 22 2022, 08:48:25) \n[Clang 14.0.6 ]"
    },
    "orig_nbformat": 4,
    "vscode": {
      "interpreter": {
        "hash": "baa0b97381f90d52c49ba05802debe85b0373ced8172646c844c59020a86bc33"
      }
    }
  },
  "nbformat": 4,
  "nbformat_minor": 0
}
