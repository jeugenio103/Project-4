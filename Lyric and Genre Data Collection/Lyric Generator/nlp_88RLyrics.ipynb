{
  "cells": [
    {
      "cell_type": "code",
      "execution_count": 1,
      "metadata": {
        "colab": {
          "base_uri": "https://localhost:8080/"
        },
        "id": "Zmnr8peuYi9V",
        "outputId": "b897208e-6b9c-4cbe-dd63-f0d9f71ff771"
      },
      "outputs": [
        {
          "name": "stdout",
          "output_type": "stream",
          "text": [
            "Get:1 https://cloud.r-project.org/bin/linux/ubuntu bionic-cran40/ InRelease [3,626 B]\n",
            "Get:2 http://security.ubuntu.com/ubuntu bionic-security InRelease [88.7 kB]\n",
            "Hit:3 http://archive.ubuntu.com/ubuntu bionic InRelease\n",
            "Hit:4 http://ppa.launchpad.net/c2d4u.team/c2d4u4.0+/ubuntu bionic InRelease\n",
            "Get:5 http://archive.ubuntu.com/ubuntu bionic-updates InRelease [88.7 kB]\n",
            "Hit:6 http://ppa.launchpad.net/cran/libgit2/ubuntu bionic InRelease\n",
            "Hit:7 http://ppa.launchpad.net/deadsnakes/ppa/ubuntu bionic InRelease\n",
            "Get:8 http://archive.ubuntu.com/ubuntu bionic-backports InRelease [83.3 kB]\n",
            "Get:9 http://ppa.launchpad.net/graphics-drivers/ppa/ubuntu bionic InRelease [21.3 kB]\n",
            "Ign:10 https://developer.download.nvidia.com/compute/machine-learning/repos/ubuntu1804/x86_64  InRelease\n",
            "Hit:11 https://developer.download.nvidia.com/compute/cuda/repos/ubuntu1804/x86_64  InRelease\n",
            "Get:12 http://security.ubuntu.com/ubuntu bionic-security/main amd64 Packages [3,127 kB]\n",
            "Hit:13 https://developer.download.nvidia.com/compute/machine-learning/repos/ubuntu1804/x86_64  Release\n",
            "Get:14 http://security.ubuntu.com/ubuntu bionic-security/universe amd64 Packages [1,573 kB]\n",
            "Get:15 http://security.ubuntu.com/ubuntu bionic-security/restricted amd64 Packages [1,349 kB]\n",
            "Get:16 http://archive.ubuntu.com/ubuntu bionic-updates/multiverse amd64 Packages [30.9 kB]\n",
            "Get:17 http://archive.ubuntu.com/ubuntu bionic-updates/main amd64 Packages [3,549 kB]\n",
            "Get:18 http://archive.ubuntu.com/ubuntu bionic-updates/universe amd64 Packages [2,348 kB]\n",
            "Get:19 http://archive.ubuntu.com/ubuntu bionic-updates/restricted amd64 Packages [1,389 kB]\n",
            "Get:20 http://ppa.launchpad.net/graphics-drivers/ppa/ubuntu bionic/main amd64 Packages [43.2 kB]\n",
            "Fetched 13.7 MB in 5s (2,539 kB/s)\n",
            "Reading package lists... Done\n"
          ]
        }
      ],
      "source": [
        "import os\n",
        "# Find the latest version of spark 3.2  from http://www.apache.org/dist/spark/ and enter as the spark version\n",
        "# For example:\n",
        "# spark_version = 'spark-3.2.2'\n",
        "\n",
        "spark_version = 'spark-3.2.3'\n",
        "\n",
        "os.environ['SPARK_VERSION']=spark_version\n",
        "\n",
        "# Install Spark and Java\n",
        "!apt-get update\n",
        "!apt-get install openjdk-8-jdk-headless -qq > /dev/null\n",
        "!wget -q http://www.apache.org/dist/spark/$SPARK_VERSION/$SPARK_VERSION-bin-hadoop2.7.tgz\n",
        "!tar xf $SPARK_VERSION-bin-hadoop2.7.tgz\n",
        "!pip install -q findspark\n",
        "\n",
        "# Set Environment Variables\n",
        "import os\n",
        "os.environ[\"JAVA_HOME\"] = \"/usr/lib/jvm/java-8-openjdk-amd64\"\n",
        "os.environ[\"SPARK_HOME\"] = f\"/content/{spark_version}-bin-hadoop2.7\"\n",
        "\n",
        "# Start a SparkSession\n",
        "import findspark\n",
        "findspark.init()"
      ]
    },
    {
      "cell_type": "code",
      "execution_count": 2,
      "metadata": {
        "id": "kun56Scza3BO"
      },
      "outputs": [],
      "source": [
        "# Start Spark session\n",
        "from pyspark.sql import SparkSession\n",
        "spark = SparkSession.builder.appName(\"Hashing\").getOrCreate()"
      ]
    },
    {
      "cell_type": "code",
      "execution_count": 3,
      "metadata": {
        "id": "PNTqOmCza369"
      },
      "outputs": [],
      "source": [
        "from pyspark.ml.feature import HashingTF, IDF, Tokenizer"
      ]
    },
    {
      "cell_type": "code",
      "execution_count": null,
      "metadata": {
        "colab": {
          "base_uri": "https://localhost:8080/"
        },
        "id": "P4zIzu8Pa55e",
        "outputId": "6e0064e5-db36-4250-a50c-0c07c3f5a691"
      },
      "outputs": [
        {
          "name": "stdout",
          "output_type": "stream",
          "text": [
            "+---+-----------+--------------------+--------------------+\n",
            "|_c0|artist_name|              lyrics|    lyrics_tokenized|\n",
            "+---+-----------+--------------------+--------------------+\n",
            "|  0|       BIBI| watch me dance w...|['watch', 'me', '...|\n",
            "|  1|       BIBI| dice and ice cub...|['dice', 'and', '...|\n",
            "|  2|       BIBI| champagne it mig...|['champagne', 'it...|\n",
            "|  3|       BIBI| bad sad and mad ...|['bad', 'sad', 'a...|\n",
            "|  5|       BIBI|                    |                  []|\n",
            "|  6|       BIBI| i like that i li...|['i', 'like', 'th...|\n",
            "|  7|       BIBI| maybe if iwoke u...|['maybe', 'if', '...|\n",
            "|  8|       BIBI| jotto mm mm jott...|['jotto', 'mm', '...|\n",
            "| 10|       BIBI| pado if someone ...|['pado', 'if', 's...|\n",
            "| 16|       BIBI| i need you when ...|['i', 'need', 'yo...|\n",
            "| 18|       BIBI| feed me feed me ...|['feed', 'me', 'f...|\n",
            "| 19|       BIBI| i need you got m...|['i', 'need', 'yo...|\n",
            "| 20|       BIBI| fill me fill you...|['fill', 'me', 'f...|\n",
            "| 21|       BIBI|nobody told me i ...|['nobody', 'told'...|\n",
            "| 22|       BIBI| wet nightmare po...|['wet', 'nightmar...|\n",
            "| 25|       BIBI|open your eyes mi...|['open', 'your', ...|\n",
            "| 29|       BIBI| fly with me with...|['fly', 'with', '...|\n",
            "| 30|       BIBI| timeless inside ...|['timeless', 'ins...|\n",
            "| 31|       BIBI| give more care l...|['give', 'more', ...|\n",
            "| 32|   CHUNG HA| sparkling come a...|['sparkling', 'co...|\n",
            "+---+-----------+--------------------+--------------------+\n",
            "only showing top 20 rows\n",
            "\n"
          ]
        }
      ],
      "source": [
        "# Read in data\n",
        "from pyspark import SparkFiles\n",
        "df_88 = spark.read.csv(\"lyrics_88.csv\", header=True)\n",
        "\n",
        "# Show DataFrame\n",
        "df_88.show()"
      ]
    },
    {
      "cell_type": "code",
      "execution_count": 5,
      "metadata": {
        "colab": {
          "base_uri": "https://localhost:8080/"
        },
        "id": "60EGJVZLLdZn",
        "outputId": "5cd998a5-d72e-4597-fe6f-a3f6ccfbf463"
      },
      "outputs": [
        {
          "name": "stdout",
          "output_type": "stream",
          "text": [
            "+---+------+--------------------+\n",
            "|_c0|artist|    formatted_lyrics|\n",
            "+---+------+--------------------+\n",
            "|  0|     0|      Watch me dance|\n",
            "|  1|     0|      Watch me sing |\n",
            "|  2|     0|      Watch me dance|\n",
            "|  3|     0|      Watch me sing |\n",
            "|  4|     0|I got mercy, I go...|\n",
            "|  5|     0|Desperado with th...|\n",
            "|  6|     0|Throw a rose on y...|\n",
            "|  7|     0|Mask of Zorro I'm...|\n",
            "|  8|     0|        Look scared |\n",
            "|  9|     0|  Dice and Ice cube |\n",
            "| 10|     0| Home girls bitches |\n",
            "| 11|     0|Spin it, spin it,...|\n",
            "| 12|     0|Chips andchips an...|\n",
            "| 13|     0|Demon under the t...|\n",
            "| 14|     0|Risk it, risk it,...|\n",
            "| 15|     0|    Yeah, yeah, yeah|\n",
            "| 16|     0|Risk it, risk it,...|\n",
            "| 17|     0|B-b-bitches, Ice ...|\n",
            "| 18|     0|Bitches, Ice and ...|\n",
            "| 19|     0|Bitches, Ice and ...|\n",
            "+---+------+--------------------+\n",
            "only showing top 20 rows\n",
            "\n"
          ]
        }
      ],
      "source": [
        "# Read in data\n",
        "from pyspark import SparkFiles\n",
        "df_88_line = spark.read.csv(\"lyrics88_by_line.csv\", header=True)\n",
        "\n",
        "# Show DataFrame\n",
        "df_88_line.show()"
      ]
    },
    {
      "cell_type": "code",
      "execution_count": null,
      "metadata": {
        "colab": {
          "base_uri": "https://localhost:8080/"
        },
        "id": "3l9slZFet2H8",
        "outputId": "c753979a-ad0c-4519-b98e-15268818613f"
      },
      "outputs": [
        {
          "name": "stdout",
          "output_type": "stream",
          "text": [
            "+---+-----------+--------------------+\n",
            "|_c0|artist_name|              lyrics|\n",
            "+---+-----------+--------------------+\n",
            "|  0|       BIBI| watch me dance w...|\n",
            "|  1|       BIBI| dice and ice cub...|\n",
            "|  2|       BIBI| champagne it mig...|\n",
            "|  3|       BIBI| bad sad and mad ...|\n",
            "|  5|       BIBI|                    |\n",
            "|  6|       BIBI| i like that i li...|\n",
            "|  7|       BIBI| maybe if iwoke u...|\n",
            "|  8|       BIBI| jotto mm mm jott...|\n",
            "| 10|       BIBI| pado if someone ...|\n",
            "| 16|       BIBI| i need you when ...|\n",
            "| 18|       BIBI| feed me feed me ...|\n",
            "| 19|       BIBI| i need you got m...|\n",
            "| 20|       BIBI| fill me fill you...|\n",
            "| 21|       BIBI|nobody told me i ...|\n",
            "| 22|       BIBI| wet nightmare po...|\n",
            "| 25|       BIBI|open your eyes mi...|\n",
            "| 29|       BIBI| fly with me with...|\n",
            "| 30|       BIBI| timeless inside ...|\n",
            "| 31|       BIBI| give more care l...|\n",
            "| 32|   CHUNG HA| sparkling come a...|\n",
            "+---+-----------+--------------------+\n",
            "only showing top 20 rows\n",
            "\n"
          ]
        }
      ],
      "source": [
        "newdf_88= df_88.drop(\"lyrics_tokenized\")\n",
        "newdf_88.show()"
      ]
    },
    {
      "cell_type": "code",
      "execution_count": 6,
      "metadata": {
        "colab": {
          "base_uri": "https://localhost:8080/"
        },
        "id": "k8WKeocMMBBO",
        "outputId": "a4a47770-d01b-4fd2-d648-5dfe86b45ee1"
      },
      "outputs": [
        {
          "name": "stdout",
          "output_type": "stream",
          "text": [
            "+------+--------------------+\n",
            "|artist|    formatted_lyrics|\n",
            "+------+--------------------+\n",
            "|     0|      Watch me dance|\n",
            "|     0|      Watch me sing |\n",
            "|     0|      Watch me dance|\n",
            "|     0|      Watch me sing |\n",
            "|     0|I got mercy, I go...|\n",
            "|     0|Desperado with th...|\n",
            "|     0|Throw a rose on y...|\n",
            "|     0|Mask of Zorro I'm...|\n",
            "|     0|        Look scared |\n",
            "|     0|  Dice and Ice cube |\n",
            "|     0| Home girls bitches |\n",
            "|     0|Spin it, spin it,...|\n",
            "|     0|Chips andchips an...|\n",
            "|     0|Demon under the t...|\n",
            "|     0|Risk it, risk it,...|\n",
            "|     0|    Yeah, yeah, yeah|\n",
            "|     0|Risk it, risk it,...|\n",
            "|     0|B-b-bitches, Ice ...|\n",
            "|     0|Bitches, Ice and ...|\n",
            "|     0|Bitches, Ice and ...|\n",
            "+------+--------------------+\n",
            "only showing top 20 rows\n",
            "\n"
          ]
        }
      ],
      "source": [
        "newdf_line_88= df_88_line.select(\"artist\", \"formatted_lyrics\")\n",
        "newdf_line_88.show()"
      ]
    },
    {
      "cell_type": "code",
      "execution_count": 13,
      "metadata": {
        "id": "zTk7Gb09lTz9"
      },
      "outputs": [],
      "source": [
        "# Tokenize DataFrame\n",
        "tokened = Tokenizer(inputCol=\"lyrics\", outputCol=\"lyrics_words\")"
      ]
    },
    {
      "cell_type": "code",
      "execution_count": 7,
      "metadata": {
        "id": "KMgUfoVMTwkq"
      },
      "outputs": [],
      "source": [
        "tokened_line = Tokenizer(inputCol = \"formatted_lyrics\", outputCol = \"lyrics_words\")"
      ]
    },
    {
      "cell_type": "code",
      "execution_count": null,
      "metadata": {
        "colab": {
          "base_uri": "https://localhost:8080/"
        },
        "id": "ndDo9j-YlY9J",
        "outputId": "469e50cd-aa1e-4681-9ca6-cc37a21d470a"
      },
      "outputs": [
        {
          "name": "stdout",
          "output_type": "stream",
          "text": [
            "+---+-----------+--------------------+--------------------+\n",
            "|_c0|artist_name|              lyrics|        lyrics_words|\n",
            "+---+-----------+--------------------+--------------------+\n",
            "|  0|       BIBI| watch me dance w...|[, watch, me, dan...|\n",
            "|  1|       BIBI| dice and ice cub...|[, dice, and, ice...|\n",
            "|  2|       BIBI| champagne it mig...|[, champagne, it,...|\n",
            "|  3|       BIBI| bad sad and mad ...|[, bad, sad, and,...|\n",
            "|  5|       BIBI|                    |                  []|\n",
            "|  6|       BIBI| i like that i li...|[, i, like, that,...|\n",
            "|  7|       BIBI| maybe if iwoke u...|[, maybe, if, iwo...|\n",
            "|  8|       BIBI| jotto mm mm jott...|[, jotto, mm, mm,...|\n",
            "| 10|       BIBI| pado if someone ...|[, pado, if, some...|\n",
            "| 16|       BIBI| i need you when ...|[, i, need, you, ...|\n",
            "| 18|       BIBI| feed me feed me ...|[, feed, me, feed...|\n",
            "| 19|       BIBI| i need you got m...|[, i, need, you, ...|\n",
            "| 20|       BIBI| fill me fill you...|[, fill, me, fill...|\n",
            "| 21|       BIBI|nobody told me i ...|[nobody, told, me...|\n",
            "| 22|       BIBI| wet nightmare po...|[, wet, nightmare...|\n",
            "| 25|       BIBI|open your eyes mi...|[open, your, eyes...|\n",
            "| 29|       BIBI| fly with me with...|[, fly, with, me,...|\n",
            "| 30|       BIBI| timeless inside ...|[, timeless, insi...|\n",
            "| 31|       BIBI| give more care l...|[, give, more, ca...|\n",
            "| 32|   CHUNG HA| sparkling come a...|[, sparkling, com...|\n",
            "+---+-----------+--------------------+--------------------+\n",
            "only showing top 20 rows\n",
            "\n"
          ]
        }
      ],
      "source": [
        "# Transform DataFrame\n",
        "tokenized = tokened.transform(newdf_88)\n",
        "tokenized.show()"
      ]
    },
    {
      "cell_type": "code",
      "execution_count": 8,
      "metadata": {
        "colab": {
          "base_uri": "https://localhost:8080/"
        },
        "id": "YWJqF8GnTgt0",
        "outputId": "d8e6d0e5-f49f-41ae-c676-1be7cae9a066"
      },
      "outputs": [
        {
          "name": "stdout",
          "output_type": "stream",
          "text": [
            "+------+--------------------+--------------------+\n",
            "|artist|    formatted_lyrics|        lyrics_words|\n",
            "+------+--------------------+--------------------+\n",
            "|     0|      Watch me dance|  [watch, me, dance]|\n",
            "|     0|      Watch me sing |   [watch, me, sing]|\n",
            "|     0|      Watch me dance|  [watch, me, dance]|\n",
            "|     0|      Watch me sing |   [watch, me, sing]|\n",
            "|     0|I got mercy, I go...|[i, got, mercy,, ...|\n",
            "|     0|Desperado with th...|[desperado, with,...|\n",
            "|     0|Throw a rose on y...|[throw, a, rose, ...|\n",
            "|     0|Mask of Zorro I'm...|[mask, of, zorro,...|\n",
            "|     0|        Look scared |      [look, scared]|\n",
            "|     0|  Dice and Ice cube |[dice, and, ice, ...|\n",
            "|     0| Home girls bitches |[home, girls, bit...|\n",
            "|     0|Spin it, spin it,...|[spin, it,, spin,...|\n",
            "|     0|Chips andchips an...|[chips, andchips,...|\n",
            "|     0|Demon under the t...|[demon, under, th...|\n",
            "|     0|Risk it, risk it,...|[risk, it,, risk,...|\n",
            "|     0|    Yeah, yeah, yeah|[yeah,, yeah,, yeah]|\n",
            "|     0|Risk it, risk it,...|[risk, it,, risk,...|\n",
            "|     0|B-b-bitches, Ice ...|[b-b-bitches,, ic...|\n",
            "|     0|Bitches, Ice and ...|[bitches,, ice, a...|\n",
            "|     0|Bitches, Ice and ...|[bitches,, ice, a...|\n",
            "+------+--------------------+--------------------+\n",
            "only showing top 20 rows\n",
            "\n"
          ]
        }
      ],
      "source": [
        "tokenized_line = tokened_line.transform(newdf_line_88)\n",
        "tokenized_line.show()"
      ]
    },
    {
      "cell_type": "code",
      "execution_count": 9,
      "metadata": {
        "id": "YugN5bKioKAR"
      },
      "outputs": [],
      "source": [
        "spark = SparkSession.builder.appName(\"StopWords\").getOrCreate()\n",
        "from pyspark.ml.feature import StopWordsRemover"
      ]
    },
    {
      "cell_type": "code",
      "execution_count": 10,
      "metadata": {
        "id": "_i9q0giCn6YB"
      },
      "outputs": [],
      "source": [
        "# Remove Stop words\n",
        "remover = StopWordsRemover(inputCol=\"lyrics_words\", outputCol=\"filtered_lyrics\")"
      ]
    },
    {
      "cell_type": "code",
      "execution_count": null,
      "metadata": {
        "colab": {
          "base_uri": "https://localhost:8080/"
        },
        "id": "ohOukXy4occq",
        "outputId": "0082a38e-d6f1-4181-df72-0af17af1f6e6"
      },
      "outputs": [
        {
          "name": "stdout",
          "output_type": "stream",
          "text": [
            "+---+-----------+--------------------+--------------------+--------------------+\n",
            "|_c0|artist_name|              lyrics|        lyrics_words|     filtered_lyrics|\n",
            "+---+-----------+--------------------+--------------------+--------------------+\n",
            "|  0|       BIBI| watch me dance w...|[, watch, me, dan...|[, watch, dance, ...|\n",
            "|  1|       BIBI| dice and ice cub...|[, dice, and, ice...|[, dice, ice, cub...|\n",
            "|  2|       BIBI| champagne it mig...|[, champagne, it,...|[, champagne, mig...|\n",
            "|  3|       BIBI| bad sad and mad ...|[, bad, sad, and,...|[, bad, sad, mad,...|\n",
            "|  5|       BIBI|                    |                  []|                  []|\n",
            "|  6|       BIBI| i like that i li...|[, i, like, that,...|[, like, like, le...|\n",
            "|  7|       BIBI| maybe if iwoke u...|[, maybe, if, iwo...|[, maybe, iwoke, ...|\n",
            "|  8|       BIBI| jotto mm mm jott...|[, jotto, mm, mm,...|[, jotto, mm, mm,...|\n",
            "| 10|       BIBI| pado if someone ...|[, pado, if, some...|[, pado, someone,...|\n",
            "| 16|       BIBI| i need you when ...|[, i, need, you, ...|[, need, instinct...|\n",
            "| 18|       BIBI| feed me feed me ...|[, feed, me, feed...|[, feed, feed, pl...|\n",
            "| 19|       BIBI| i need you got m...|[, i, need, you, ...|[, need, got, wea...|\n",
            "| 20|       BIBI| fill me fill you...|[, fill, me, fill...|[, fill, fill, go...|\n",
            "| 21|       BIBI|nobody told me i ...|[nobody, told, me...|[nobody, told, wh...|\n",
            "| 22|       BIBI| wet nightmare po...|[, wet, nightmare...|[, wet, nightmare...|\n",
            "| 25|       BIBI|open your eyes mi...|[open, your, eyes...|[open, eyes, mind...|\n",
            "| 29|       BIBI| fly with me with...|[, fly, with, me,...|[, fly, stony, ey...|\n",
            "| 30|       BIBI| timeless inside ...|[, timeless, insi...|[, timeless, insi...|\n",
            "| 31|       BIBI| give more care l...|[, give, more, ca...|[, give, care, le...|\n",
            "| 32|   CHUNG HA| sparkling come a...|[, sparkling, com...|[, sparkling, com...|\n",
            "+---+-----------+--------------------+--------------------+--------------------+\n",
            "only showing top 20 rows\n",
            "\n"
          ]
        }
      ],
      "source": [
        "no_stop_words_df = remover.transform(tokenized)\n",
        "no_stop_words_df.show()"
      ]
    },
    {
      "cell_type": "code",
      "execution_count": 11,
      "metadata": {
        "colab": {
          "base_uri": "https://localhost:8080/"
        },
        "id": "zhTIAiSWUAox",
        "outputId": "11cb0d21-e2e2-44cb-e0f8-5f7ad5332e2e"
      },
      "outputs": [
        {
          "name": "stdout",
          "output_type": "stream",
          "text": [
            "+------+--------------------+--------------------+--------------------+\n",
            "|artist|    formatted_lyrics|        lyrics_words|     filtered_lyrics|\n",
            "+------+--------------------+--------------------+--------------------+\n",
            "|     0|      Watch me dance|  [watch, me, dance]|      [watch, dance]|\n",
            "|     0|      Watch me sing |   [watch, me, sing]|       [watch, sing]|\n",
            "|     0|      Watch me dance|  [watch, me, dance]|      [watch, dance]|\n",
            "|     0|      Watch me sing |   [watch, me, sing]|       [watch, sing]|\n",
            "|     0|I got mercy, I go...|[i, got, mercy,, ...|[got, mercy,, got...|\n",
            "|     0|Desperado with th...|[desperado, with,...| [desperado, scales]|\n",
            "|     0|Throw a rose on y...|[throw, a, rose, ...| [throw, rose, body]|\n",
            "|     0|Mask of Zorro I'm...|[mask, of, zorro,...|[mask, zorro, wan...|\n",
            "|     0|        Look scared |      [look, scared]|      [look, scared]|\n",
            "|     0|  Dice and Ice cube |[dice, and, ice, ...|   [dice, ice, cube]|\n",
            "|     0| Home girls bitches |[home, girls, bit...|[home, girls, bit...|\n",
            "|     0|Spin it, spin it,...|[spin, it,, spin,...|[spin, it,, spin,...|\n",
            "|     0|Chips andchips an...|[chips, andchips,...|[chips, andchips,...|\n",
            "|     0|Demon under the t...|[demon, under, th...|      [demon, table]|\n",
            "|     0|Risk it, risk it,...|[risk, it,, risk,...|[risk, it,, risk,...|\n",
            "|     0|    Yeah, yeah, yeah|[yeah,, yeah,, yeah]|[yeah,, yeah,, yeah]|\n",
            "|     0|Risk it, risk it,...|[risk, it,, risk,...|[risk, it,, risk,...|\n",
            "|     0|B-b-bitches, Ice ...|[b-b-bitches,, ic...|[b-b-bitches,, ic...|\n",
            "|     0|Bitches, Ice and ...|[bitches,, ice, a...|[bitches,, ice, h...|\n",
            "|     0|Bitches, Ice and ...|[bitches,, ice, a...|[bitches,, ice, h...|\n",
            "+------+--------------------+--------------------+--------------------+\n",
            "only showing top 20 rows\n",
            "\n"
          ]
        }
      ],
      "source": [
        "no_stop_words_df_line = remover.transform(tokenized_line)\n",
        "no_stop_words_df_line.show()"
      ]
    },
    {
      "cell_type": "code",
      "execution_count": 12,
      "metadata": {
        "colab": {
          "base_uri": "https://localhost:8080/"
        },
        "id": "eGYsGcf_UI7t",
        "outputId": "732f3aa8-0b8e-42ab-f94b-4199a248ffb1"
      },
      "outputs": [
        {
          "name": "stdout",
          "output_type": "stream",
          "text": [
            "+-------------------------------------------------------+\n",
            "|filtered_lyrics                                        |\n",
            "+-------------------------------------------------------+\n",
            "|[watch, dance]                                         |\n",
            "|[watch, sing]                                          |\n",
            "|[watch, dance]                                         |\n",
            "|[watch, sing]                                          |\n",
            "|[got, mercy,, got, grace]                              |\n",
            "|[desperado, scales]                                    |\n",
            "|[throw, rose, body]                                    |\n",
            "|[mask, zorro, wanted]                                  |\n",
            "|[look, scared]                                         |\n",
            "|[dice, ice, cube]                                      |\n",
            "|[home, girls, bitches]                                 |\n",
            "|[spin, it,, spin, it,pussy]                            |\n",
            "|[chips, andchips, chips]                               |\n",
            "|[demon, table]                                         |\n",
            "|[risk, it,, risk, it,, risk, it,, till, last, dime]    |\n",
            "|[yeah,, yeah,, yeah]                                   |\n",
            "|[risk, it,, risk, it,, risk, it,, till, last]          |\n",
            "|[b-b-bitches,, ice, home, girl,, you,, on,, home, girl]|\n",
            "|[bitches,, ice, home, girl,, you,, on,, home, girl]    |\n",
            "|[bitches,, ice, home, girl,, you,, on,, home, girl]    |\n",
            "+-------------------------------------------------------+\n",
            "only showing top 20 rows\n",
            "\n"
          ]
        }
      ],
      "source": [
        "no_stop_words_df_line.select(\"filtered_lyrics\").show(truncate=False)"
      ]
    },
    {
      "cell_type": "code",
      "execution_count": 14,
      "metadata": {
        "colab": {
          "base_uri": "https://localhost:8080/"
        },
        "id": "T9iveMA3o0ia",
        "outputId": "b6d6ac43-9c18-452a-84e9-02bae515c660"
      },
      "outputs": [
        {
          "name": "stdout",
          "output_type": "stream",
          "text": [
            "+-------------------------------------------------------+\n",
            "|filtered_lyrics                                        |\n",
            "+-------------------------------------------------------+\n",
            "|[watch, dance]                                         |\n",
            "|[watch, sing]                                          |\n",
            "|[watch, dance]                                         |\n",
            "|[watch, sing]                                          |\n",
            "|[got, mercy,, got, grace]                              |\n",
            "|[desperado, scales]                                    |\n",
            "|[throw, rose, body]                                    |\n",
            "|[mask, zorro, wanted]                                  |\n",
            "|[look, scared]                                         |\n",
            "|[dice, ice, cube]                                      |\n",
            "|[home, girls, bitches]                                 |\n",
            "|[spin, it,, spin, it,pussy]                            |\n",
            "|[chips, andchips, chips]                               |\n",
            "|[demon, table]                                         |\n",
            "|[risk, it,, risk, it,, risk, it,, till, last, dime]    |\n",
            "|[yeah,, yeah,, yeah]                                   |\n",
            "|[risk, it,, risk, it,, risk, it,, till, last]          |\n",
            "|[b-b-bitches,, ice, home, girl,, you,, on,, home, girl]|\n",
            "|[bitches,, ice, home, girl,, you,, on,, home, girl]    |\n",
            "|[bitches,, ice, home, girl,, you,, on,, home, girl]    |\n",
            "+-------------------------------------------------------+\n",
            "only showing top 20 rows\n",
            "\n"
          ]
        }
      ],
      "source": [
        "no_stop_words_df_line.select(\"filtered_lyrics\").show(truncate=False)"
      ]
    },
    {
      "cell_type": "code",
      "execution_count": 15,
      "metadata": {
        "id": "rut1PGRWpIEX"
      },
      "outputs": [],
      "source": [
        "from pyspark.ml.feature import HashingTF, IDF"
      ]
    },
    {
      "cell_type": "code",
      "execution_count": 16,
      "metadata": {
        "id": "llKI4olPpLmI"
      },
      "outputs": [],
      "source": [
        "hashing = HashingTF(inputCol=\"filtered_lyrics\", outputCol=\"hashedValues\")"
      ]
    },
    {
      "cell_type": "code",
      "execution_count": 18,
      "metadata": {
        "colab": {
          "base_uri": "https://localhost:8080/"
        },
        "id": "4AjHvxgHpio9",
        "outputId": "a2f2e8b7-65d8-4452-f59e-d706b09becd8"
      },
      "outputs": [
        {
          "name": "stdout",
          "output_type": "stream",
          "text": [
            "+------+-----------------------------------------------------+----------------------------------------------------------------+-------------------------------------------------------+--------------------------------------------------------------------------------------+\n",
            "|artist|formatted_lyrics                                     |lyrics_words                                                    |filtered_lyrics                                        |hashedValues                                                                          |\n",
            "+------+-----------------------------------------------------+----------------------------------------------------------------+-------------------------------------------------------+--------------------------------------------------------------------------------------+\n",
            "|0     |Watch me dance                                       |[watch, me, dance]                                              |[watch, dance]                                         |(262144,[33075,229604],[1.0,1.0])                                                     |\n",
            "|0     |Watch me sing                                        |[watch, me, sing]                                               |[watch, sing]                                          |(262144,[117155,229604],[1.0,1.0])                                                    |\n",
            "|0     |Watch me dance                                       |[watch, me, dance]                                              |[watch, dance]                                         |(262144,[33075,229604],[1.0,1.0])                                                     |\n",
            "|0     |Watch me sing                                        |[watch, me, sing]                                               |[watch, sing]                                          |(262144,[117155,229604],[1.0,1.0])                                                    |\n",
            "|0     |I got mercy, I got grace                             |[i, got, mercy,, i, got, grace]                                 |[got, mercy,, got, grace]                              |(262144,[34919,47491,225898],[1.0,1.0,2.0])                                           |\n",
            "|0     |Desperado with the scales                            |[desperado, with, the, scales]                                  |[desperado, scales]                                    |(262144,[141796,216076],[1.0,1.0])                                                    |\n",
            "|0     |Throw a rose on your body                            |[throw, a, rose, on, your, body]                                |[throw, rose, body]                                    |(262144,[34121,48885,181442],[1.0,1.0,1.0])                                           |\n",
            "|0     |Mask of Zorro I'm so wanted                          |[mask, of, zorro, i'm, so, wanted]                              |[mask, zorro, wanted]                                  |(262144,[97006,186829,224040],[1.0,1.0,1.0])                                          |\n",
            "|0     |Look scared                                          |[look, scared]                                                  |[look, scared]                                         |(262144,[165682,223763],[1.0,1.0])                                                    |\n",
            "|0     |Dice and Ice cube                                    |[dice, and, ice, cube]                                          |[dice, ice, cube]                                      |(262144,[84809,120751,188746],[1.0,1.0,1.0])                                          |\n",
            "|0     |Home girls bitches                                   |[home, girls, bitches]                                          |[home, girls, bitches]                                 |(262144,[17893,226953,250007],[1.0,1.0,1.0])                                          |\n",
            "|0     |Spin it, spin it,pussy                               |[spin, it,, spin, it,pussy]                                     |[spin, it,, spin, it,pussy]                            |(262144,[46029,112431,256849],[1.0,1.0,2.0])                                          |\n",
            "|0     |Chips andchips and chips and                         |[chips, andchips, and, chips, and]                              |[chips, andchips, chips]                               |(262144,[194321,233449],[1.0,2.0])                                                    |\n",
            "|0     |Demon under the table                                |[demon, under, the, table]                                      |[demon, table]                                         |(262144,[114395,235601],[1.0,1.0])                                                    |\n",
            "|0     |Risk it, risk it, risk it, till the last dime        |[risk, it,, risk, it,, risk, it,, till, the, last, dime]        |[risk, it,, risk, it,, risk, it,, till, last, dime]    |(262144,[5381,46029,175255,192394,240329],[1.0,3.0,1.0,3.0,1.0])                      |\n",
            "|0     |Yeah, yeah, yeah                                     |[yeah,, yeah,, yeah]                                            |[yeah,, yeah,, yeah]                                   |(262144,[82065,93718],[1.0,2.0])                                                      |\n",
            "|0     |Risk it, risk it, risk it, till the last             |[risk, it,, risk, it,, risk, it,, till, the, last]              |[risk, it,, risk, it,, risk, it,, till, last]          |(262144,[5381,46029,192394,240329],[1.0,3.0,3.0,1.0])                                 |\n",
            "|0     |B-b-bitches, Ice and home girl, on you, on, home girl|[b-b-bitches,, ice, and, home, girl,, on, you,, on,, home, girl]|[b-b-bitches,, ice, home, girl,, you,, on,, home, girl]|(262144,[13781,17893,78794,106907,188746,199416,261479],[1.0,2.0,1.0,1.0,1.0,1.0,1.0])|\n",
            "|0     |Bitches, Ice and home girl, on you, on, home girl    |[bitches,, ice, and, home, girl,, on, you,, on,, home, girl]    |[bitches,, ice, home, girl,, you,, on,, home, girl]    |(262144,[13781,17893,78794,188746,199416,251815,261479],[1.0,2.0,1.0,1.0,1.0,1.0,1.0])|\n",
            "|0     |Bitches, Ice and home girl, on you, on, home girl    |[bitches,, ice, and, home, girl,, on, you,, on,, home, girl]    |[bitches,, ice, home, girl,, you,, on,, home, girl]    |(262144,[13781,17893,78794,188746,199416,251815,261479],[1.0,2.0,1.0,1.0,1.0,1.0,1.0])|\n",
            "+------+-----------------------------------------------------+----------------------------------------------------------------+-------------------------------------------------------+--------------------------------------------------------------------------------------+\n",
            "only showing top 20 rows\n",
            "\n"
          ]
        }
      ],
      "source": [
        "hashed_df = hashing.transform(no_stop_words_df_line)\n",
        "hashed_df.show(truncate=False)"
      ]
    },
    {
      "cell_type": "code",
      "execution_count": 23,
      "metadata": {
        "colab": {
          "base_uri": "https://localhost:8080/"
        },
        "id": "CZ6vfwIkURuB",
        "outputId": "acad771f-3e14-4dc2-c9a6-7a556696d5da"
      },
      "outputs": [
        {
          "name": "stdout",
          "output_type": "stream",
          "text": [
            "+------+-----------------------------------------------------+----------------------------------------------------------------+-------------------------------------------------------+--------------------------------------------------------------------------------------+\n",
            "|artist|formatted_lyrics                                     |lyrics_words                                                    |filtered_lyrics                                        |hashedValues                                                                          |\n",
            "+------+-----------------------------------------------------+----------------------------------------------------------------+-------------------------------------------------------+--------------------------------------------------------------------------------------+\n",
            "|0     |Watch me dance                                       |[watch, me, dance]                                              |[watch, dance]                                         |(262144,[33075,229604],[1.0,1.0])                                                     |\n",
            "|0     |Watch me sing                                        |[watch, me, sing]                                               |[watch, sing]                                          |(262144,[117155,229604],[1.0,1.0])                                                    |\n",
            "|0     |Watch me dance                                       |[watch, me, dance]                                              |[watch, dance]                                         |(262144,[33075,229604],[1.0,1.0])                                                     |\n",
            "|0     |Watch me sing                                        |[watch, me, sing]                                               |[watch, sing]                                          |(262144,[117155,229604],[1.0,1.0])                                                    |\n",
            "|0     |I got mercy, I got grace                             |[i, got, mercy,, i, got, grace]                                 |[got, mercy,, got, grace]                              |(262144,[34919,47491,225898],[1.0,1.0,2.0])                                           |\n",
            "|0     |Desperado with the scales                            |[desperado, with, the, scales]                                  |[desperado, scales]                                    |(262144,[141796,216076],[1.0,1.0])                                                    |\n",
            "|0     |Throw a rose on your body                            |[throw, a, rose, on, your, body]                                |[throw, rose, body]                                    |(262144,[34121,48885,181442],[1.0,1.0,1.0])                                           |\n",
            "|0     |Mask of Zorro I'm so wanted                          |[mask, of, zorro, i'm, so, wanted]                              |[mask, zorro, wanted]                                  |(262144,[97006,186829,224040],[1.0,1.0,1.0])                                          |\n",
            "|0     |Look scared                                          |[look, scared]                                                  |[look, scared]                                         |(262144,[165682,223763],[1.0,1.0])                                                    |\n",
            "|0     |Dice and Ice cube                                    |[dice, and, ice, cube]                                          |[dice, ice, cube]                                      |(262144,[84809,120751,188746],[1.0,1.0,1.0])                                          |\n",
            "|0     |Home girls bitches                                   |[home, girls, bitches]                                          |[home, girls, bitches]                                 |(262144,[17893,226953,250007],[1.0,1.0,1.0])                                          |\n",
            "|0     |Spin it, spin it,pussy                               |[spin, it,, spin, it,pussy]                                     |[spin, it,, spin, it,pussy]                            |(262144,[46029,112431,256849],[1.0,1.0,2.0])                                          |\n",
            "|0     |Chips andchips and chips and                         |[chips, andchips, and, chips, and]                              |[chips, andchips, chips]                               |(262144,[194321,233449],[1.0,2.0])                                                    |\n",
            "|0     |Demon under the table                                |[demon, under, the, table]                                      |[demon, table]                                         |(262144,[114395,235601],[1.0,1.0])                                                    |\n",
            "|0     |Risk it, risk it, risk it, till the last dime        |[risk, it,, risk, it,, risk, it,, till, the, last, dime]        |[risk, it,, risk, it,, risk, it,, till, last, dime]    |(262144,[5381,46029,175255,192394,240329],[1.0,3.0,1.0,3.0,1.0])                      |\n",
            "|0     |Yeah, yeah, yeah                                     |[yeah,, yeah,, yeah]                                            |[yeah,, yeah,, yeah]                                   |(262144,[82065,93718],[1.0,2.0])                                                      |\n",
            "|0     |Risk it, risk it, risk it, till the last             |[risk, it,, risk, it,, risk, it,, till, the, last]              |[risk, it,, risk, it,, risk, it,, till, last]          |(262144,[5381,46029,192394,240329],[1.0,3.0,3.0,1.0])                                 |\n",
            "|0     |B-b-bitches, Ice and home girl, on you, on, home girl|[b-b-bitches,, ice, and, home, girl,, on, you,, on,, home, girl]|[b-b-bitches,, ice, home, girl,, you,, on,, home, girl]|(262144,[13781,17893,78794,106907,188746,199416,261479],[1.0,2.0,1.0,1.0,1.0,1.0,1.0])|\n",
            "|0     |Bitches, Ice and home girl, on you, on, home girl    |[bitches,, ice, and, home, girl,, on, you,, on,, home, girl]    |[bitches,, ice, home, girl,, you,, on,, home, girl]    |(262144,[13781,17893,78794,188746,199416,251815,261479],[1.0,2.0,1.0,1.0,1.0,1.0,1.0])|\n",
            "|0     |Bitches, Ice and home girl, on you, on, home girl    |[bitches,, ice, and, home, girl,, on, you,, on,, home, girl]    |[bitches,, ice, home, girl,, you,, on,, home, girl]    |(262144,[13781,17893,78794,188746,199416,251815,261479],[1.0,2.0,1.0,1.0,1.0,1.0,1.0])|\n",
            "+------+-----------------------------------------------------+----------------------------------------------------------------+-------------------------------------------------------+--------------------------------------------------------------------------------------+\n",
            "only showing top 20 rows\n",
            "\n"
          ]
        }
      ],
      "source": [
        "hashed_df = hashing.transform(no_stop_words_df_line)\n",
        "hashed_df.show(truncate=False)"
      ]
    },
    {
      "cell_type": "code",
      "execution_count": 24,
      "metadata": {
        "id": "hlK3GewGlq-W"
      },
      "outputs": [],
      "source": [
        "# Fit the IDF on the data set \n",
        "idf = IDF(inputCol=\"hashedValues\", outputCol=\"features\")\n",
        "idfModel = idf.fit(hashed_df)\n",
        "rescaledData = idfModel.transform(hashed_df)"
      ]
    },
    {
      "cell_type": "code",
      "execution_count": 25,
      "metadata": {
        "colab": {
          "base_uri": "https://localhost:8080/"
        },
        "id": "CkH3cAysl1UZ",
        "outputId": "eb2e2e77-b09c-45ab-e341-674d060cef69"
      },
      "outputs": [
        {
          "name": "stdout",
          "output_type": "stream",
          "text": [
            "+----------------------------------------------------------------+-------------------------------------------------------------------------------------------------------------------------------------------------------------------------------------------+\n",
            "|lyrics_words                                                    |features                                                                                                                                                                                   |\n",
            "+----------------------------------------------------------------+-------------------------------------------------------------------------------------------------------------------------------------------------------------------------------------------+\n",
            "|[watch, me, dance]                                              |(262144,[33075,229604],[5.782084537851953,5.973139774614663])                                                                                                                              |\n",
            "|[watch, me, sing]                                               |(262144,[117155,229604],[6.278521424165844,5.973139774614663])                                                                                                                             |\n",
            "|[watch, me, dance]                                              |(262144,[33075,229604],[5.782084537851953,5.973139774614663])                                                                                                                              |\n",
            "|[watch, me, sing]                                               |(262144,[117155,229604],[6.278521424165844,5.973139774614663])                                                                                                                             |\n",
            "|[i, got, mercy,, i, got, grace]                                 |(262144,[34919,47491,225898],[7.818966465112993,8.224431573221159,6.7292383377189715])                                                                                                     |\n",
            "|[desperado, with, the, scales]                                  |(262144,[141796,216076],[7.531284392661212,8.224431573221159])                                                                                                                             |\n",
            "|[throw, a, rose, on, your, body]                                |(262144,[34121,48885,181442],[5.782084537851953,6.084365409724887,7.125819284553049])                                                                                                      |\n",
            "|[mask, of, zorro, i'm, so, wanted]                              |(262144,[97006,186829,224040],[8.224431573221159,7.125819284553049,6.1449900315413215])                                                                                                    |\n",
            "|[look, scared]                                                  |(262144,[165682,223763],[7.125819284553049,4.535552119107222])                                                                                                                             |\n",
            "|[dice, and, ice, cube]                                          |(262144,[84809,120751,188746],[8.224431573221159,8.224431573221159,6.2095285526788935])                                                                                                    |\n",
            "|[home, girls, bitches]                                          |(262144,[17893,226953,250007],[5.483591549295957,6.838137212101267,5.782084537851953])                                                                                                     |\n",
            "|[spin, it,, spin, it,pussy]                                     |(262144,[46029,112431,256849],[4.332611275110531,8.224431573221159,13.94333720945158])                                                                                                     |\n",
            "|[chips, andchips, and, chips, and]                              |(262144,[194321,233449],[8.224431573221159,15.637932930225986])                                                                                                                            |\n",
            "|[demon, under, the, table]                                      |(262144,[114395,235601],[7.818966465112993,8.224431573221159])                                                                                                                             |\n",
            "|[risk, it,, risk, it,, risk, it,, till, the, last, dime]        |(262144,[5381,46029,175255,192394,240329],[5.334059815324993,12.997833825331593,7.818966465112993,20.91500581417737,6.084365409724887])                                                    |\n",
            "|[yeah,, yeah,, yeah]                                            |(262144,[82065,93718],[3.51941605226335,8.009847736090101])                                                                                                                                |\n",
            "|[risk, it,, risk, it,, risk, it,, till, the, last]              |(262144,[5381,46029,192394,240329],[5.334059815324993,12.997833825331593,20.91500581417737,6.084365409724887])                                                                             |\n",
            "|[b-b-bitches,, ice, and, home, girl,, on, you,, on,, home, girl]|(262144,[13781,17893,78794,106907,188746,199416,261479],[4.985753121056778,10.967183098591914,5.8730563160576805,8.224431573221159,6.2095285526788935,4.535552119107222,5.483591549295957])|\n",
            "|[bitches,, ice, and, home, girl,, on, you,, on,, home, girl]    |(262144,[13781,17893,78794,188746,199416,251815,261479],[4.985753121056778,10.967183098591914,5.8730563160576805,6.2095285526788935,4.535552119107222,6.838137212101267,5.483591549295957])|\n",
            "|[bitches,, ice, and, home, girl,, on, you,, on,, home, girl]    |(262144,[13781,17893,78794,188746,199416,251815,261479],[4.985753121056778,10.967183098591914,5.8730563160576805,6.2095285526788935,4.535552119107222,6.838137212101267,5.483591549295957])|\n",
            "+----------------------------------------------------------------+-------------------------------------------------------------------------------------------------------------------------------------------------------------------------------------------+\n",
            "only showing top 20 rows\n",
            "\n"
          ]
        }
      ],
      "source": [
        "rescaledData.select(\"lyrics_words\", \"features\").show(truncate=False)"
      ]
    },
    {
      "cell_type": "code",
      "execution_count": 19,
      "metadata": {
        "id": "5At1YtE91d0F"
      },
      "outputs": [],
      "source": [
        "from pyspark.ml.feature import Tokenizer, StopWordsRemover, HashingTF, IDF, StringIndexer\n",
        "# Create all the features to the data set\n",
        "pos_neg_to_num = StringIndexer(inputCol='artist_name',outputCol='label')\n",
        "tokenizer = Tokenizer(inputCol=\"lyrics\", outputCol=\"token_text\")\n",
        "stopremove = StopWordsRemover(inputCol='token_text',outputCol='stop_tokens')\n",
        "hashingTF = HashingTF(inputCol=\"stop_tokens\", outputCol='hash_token')\n",
        "idf = IDF(inputCol='hash_token', outputCol='idf_token')"
      ]
    },
    {
      "cell_type": "code",
      "execution_count": 20,
      "metadata": {
        "id": "6ly4qknZUdcB"
      },
      "outputs": [],
      "source": [
        "from pyspark.ml.feature import Tokenizer, StopWordsRemover, HashingTF, IDF, StringIndexer\n",
        "# Create all the features to the data set\n",
        "pos_neg_to_num = StringIndexer(inputCol='artist',outputCol='label')\n",
        "tokenizer = Tokenizer(inputCol=\"formatted_lyrics\", outputCol=\"token_text\")\n",
        "stopremove = StopWordsRemover(inputCol='token_text',outputCol='stop_tokens')\n",
        "hashingTF = HashingTF(inputCol=\"stop_tokens\", outputCol='hash_token')\n",
        "idf = IDF(inputCol='hash_token', outputCol='idf_token')"
      ]
    },
    {
      "cell_type": "code",
      "execution_count": 21,
      "metadata": {
        "id": "IIWqNQry1maC"
      },
      "outputs": [],
      "source": [
        "from pyspark.ml.feature import VectorAssembler\n",
        "from pyspark.ml.linalg import Vector\n",
        "\n",
        "# Create feature vectors\n",
        "clean_up = VectorAssembler(inputCols=['idf_token'], outputCol='features')"
      ]
    },
    {
      "cell_type": "code",
      "execution_count": 22,
      "metadata": {
        "id": "AMNYlazX1m-L"
      },
      "outputs": [],
      "source": [
        "# Create a and run a data processing Pipeline\n",
        "from pyspark.ml import Pipeline\n",
        "data_prep_pipeline = Pipeline(stages=[pos_neg_to_num, tokenizer, stopremove, hashingTF, idf, clean_up])"
      ]
    },
    {
      "cell_type": "code",
      "execution_count": null,
      "metadata": {
        "id": "tHPYBjmI1oiC"
      },
      "outputs": [],
      "source": [
        "# Fit and transform the pipeline\n",
        "cleaner = data_prep_pipeline.fit(newdf_88)\n",
        "cleaned = cleaner.transform(newdf_88)"
      ]
    },
    {
      "cell_type": "code",
      "execution_count": 23,
      "metadata": {
        "id": "DSxzcVvuUwZV"
      },
      "outputs": [],
      "source": [
        "# Fit and transform the pipeline\n",
        "cleaner = data_prep_pipeline.fit(newdf_line_88)\n",
        "cleaned = cleaner.transform(newdf_line_88)"
      ]
    },
    {
      "cell_type": "code",
      "execution_count": 24,
      "metadata": {
        "colab": {
          "base_uri": "https://localhost:8080/"
        },
        "id": "jIu-4QtA2HN8",
        "outputId": "e6045641-d2b2-4140-8ef2-6e8a0ea7b48b"
      },
      "outputs": [
        {
          "name": "stdout",
          "output_type": "stream",
          "text": [
            "+-----+--------------------+\n",
            "|label|            features|\n",
            "+-----+--------------------+\n",
            "| 12.0|(262144,[33075,22...|\n",
            "| 12.0|(262144,[117155,2...|\n",
            "| 12.0|(262144,[33075,22...|\n",
            "| 12.0|(262144,[117155,2...|\n",
            "| 12.0|(262144,[34919,47...|\n",
            "| 12.0|(262144,[141796,2...|\n",
            "| 12.0|(262144,[34121,48...|\n",
            "| 12.0|(262144,[97006,18...|\n",
            "| 12.0|(262144,[165682,2...|\n",
            "| 12.0|(262144,[84809,12...|\n",
            "| 12.0|(262144,[17893,22...|\n",
            "| 12.0|(262144,[46029,11...|\n",
            "| 12.0|(262144,[194321,2...|\n",
            "| 12.0|(262144,[114395,2...|\n",
            "| 12.0|(262144,[5381,460...|\n",
            "| 12.0|(262144,[82065,93...|\n",
            "| 12.0|(262144,[5381,460...|\n",
            "| 12.0|(262144,[13781,17...|\n",
            "| 12.0|(262144,[13781,17...|\n",
            "| 12.0|(262144,[13781,17...|\n",
            "+-----+--------------------+\n",
            "only showing top 20 rows\n",
            "\n"
          ]
        }
      ],
      "source": [
        "cleaned.select(['label', 'features']).show()"
      ]
    },
    {
      "cell_type": "code",
      "execution_count": 25,
      "metadata": {
        "id": "WheNPnAH2KpQ"
      },
      "outputs": [],
      "source": [
        "from pyspark.ml.classification import NaiveBayes\n",
        "# Break data down into a training set and a testing set\n",
        "training, testing = cleaned.randomSplit([0.7, 0.3])\n",
        "\n",
        "# Create a Naive Bayes model and fit training data\n",
        "nb = NaiveBayes()\n",
        "predictor = nb.fit(training)"
      ]
    },
    {
      "cell_type": "code",
      "execution_count": 26,
      "metadata": {
        "colab": {
          "base_uri": "https://localhost:8080/"
        },
        "id": "byd_Z9oa2SAP",
        "outputId": "e1ff59ba-7a9e-4eed-dd75-a93b6647e0fb"
      },
      "outputs": [
        {
          "name": "stdout",
          "output_type": "stream",
          "text": [
            "+------+--------------------+-----+--------------------+--------------------+--------------------+--------------------+--------------------+--------------------+--------------------+----------+\n",
            "|artist|    formatted_lyrics|label|          token_text|         stop_tokens|          hash_token|           idf_token|            features|       rawPrediction|         probability|prediction|\n",
            "+------+--------------------+-----+--------------------+--------------------+--------------------+--------------------+--------------------+--------------------+--------------------+----------+\n",
            "|     0| got my weapon no...| 12.0|[, got, my, weapo...|[, got, weapon, g...|(262144,[81672,13...|(262144,[81672,13...|(262144,[81672,13...|[-776.20657819002...|[1.0,4.6524076649...|       0.0|\n",
            "|     0|     pills and wine | 12.0|[, pills, and, wine]|     [, pills, wine]|(262144,[203513,2...|(262144,[203513,2...|(262144,[203513,2...|[-197.30021326057...|[3.23662785444732...|       7.0|\n",
            "|     0|\"Least loved will...| 12.0|[\"least, loved, w...|[\"least, loved, s...|(262144,[15514,51...|(262144,[15514,51...|(262144,[15514,51...|[-359.44565121925...|[4.76251165203405...|       4.0|\n",
            "|     0|Addicted, I digge...| 12.0|[addicted,, i, di...|[addicted,, digge...|(262144,[21559,46...|(262144,[21559,46...|(262144,[21559,46...|[-254.43723007748...|[2.42697766824898...|      12.0|\n",
            "|     0|Allow myself to l...| 12.0|[allow, myself, t...|       [allow, lose]|(262144,[189827,1...|(262144,[189827,1...|(262144,[189827,1...|[-163.61831273386...|[7.18567655692024...|      12.0|\n",
            "+------+--------------------+-----+--------------------+--------------------+--------------------+--------------------+--------------------+--------------------+--------------------+----------+\n",
            "only showing top 5 rows\n",
            "\n"
          ]
        }
      ],
      "source": [
        "# Tranform the model with the testing data\n",
        "test_results = predictor.transform(testing)\n",
        "test_results.show(5)"
      ]
    },
    {
      "cell_type": "code",
      "execution_count": 27,
      "metadata": {
        "colab": {
          "base_uri": "https://localhost:8080/"
        },
        "id": "g18CB7Xu3sdL",
        "outputId": "417aa46c-43a5-4d1c-9731-c68478d5b571"
      },
      "outputs": [
        {
          "name": "stdout",
          "output_type": "stream",
          "text": [
            "+------+-----+\n",
            "|artist|label|\n",
            "+------+-----+\n",
            "|     4|  6.0|\n",
            "|     8|  7.0|\n",
            "|     9| 11.0|\n",
            "|     7|  5.0|\n",
            "|     2|  2.0|\n",
            "|    11| 13.0|\n",
            "|    12|  9.0|\n",
            "|    10|  8.0|\n",
            "|    13|  1.0|\n",
            "|     0| 12.0|\n",
            "|     6|  3.0|\n",
            "|     5| 10.0|\n",
            "|     3|  0.0|\n",
            "|     1|  4.0|\n",
            "+------+-----+\n",
            "\n"
          ]
        }
      ],
      "source": [
        "cleaned.select(\"artist\", \"label\").distinct().show()"
      ]
    },
    {
      "cell_type": "code",
      "execution_count": 28,
      "metadata": {
        "colab": {
          "base_uri": "https://localhost:8080/"
        },
        "id": "2grkcX7f2aVv",
        "outputId": "dae0d8a6-251a-4ad0-a4d5-ac79a802545d"
      },
      "outputs": [
        {
          "name": "stdout",
          "output_type": "stream",
          "text": [
            "Accuracy of model at predicting artists was: 0.464127\n"
          ]
        }
      ],
      "source": [
        "# Use the Class Evaluator for a cleaner description\n",
        "from pyspark.ml.evaluation import MulticlassClassificationEvaluator\n",
        "\n",
        "acc_eval = MulticlassClassificationEvaluator()\n",
        "acc = acc_eval.evaluate(test_results)\n",
        "print(\"Accuracy of model at predicting artists was: %f\" % acc)"
      ]
    },
    {
      "cell_type": "code",
      "execution_count": 42,
      "metadata": {
        "colab": {
          "base_uri": "https://localhost:8080/"
        },
        "id": "oGMAEtxp3BuA",
        "outputId": "ce8649d8-1e6a-4760-ae74-c62e2d849c75"
      },
      "outputs": [
        {
          "name": "stdout",
          "output_type": "stream",
          "text": [
            "+-------------------------------------------------------------------------------------------------------------------------------------------+\n",
            "|value                                                                                                                                      |\n",
            "+-------------------------------------------------------------------------------------------------------------------------------------------+\n",
            "|Artist: Rich Brian                                                                                                                         |\n",
            "|                                                                                                                                           |\n",
            "|Topic: Hype Time                                                                                                                           |\n",
            "|                                                                                                                                           |\n",
            "|Lyrics:                                                                                                                                    |\n",
            "|                                                                                                                                           |\n",
            "|[Chorus]                                                                                                                                   |\n",
            "|If I want the hype, I'll get the hype (Uh)                                                                                                 |\n",
            "|If I want the money, well, then I'ma get the money (Uh)                                                                                    |\n",
            "|If I want a bad bitch then I'ma get a bad bitch (Uh)                                                                                       |\n",
            "|I don't need your opinion 'cause this ain't about you (About you)                                                                          |\n",
            "|I was born in ' , but I'm living in ' now (Now)                                                                                            |\n",
            "|You don't know me, bitch just follow what they own'Cause it's no time for your scumbag attitude                                            |\n",
            "|I'm so focused on where I'm going that my eyes are closed'Cause I don't need to see the road when I've rode it so many times(So many times)|\n",
            "|When you ready for me then let me know (Let me know)                                                                                       |\n",
            "|When you ready to drop then let me show (Show)                                                                                             |\n",
            "|When you ready for this shit then let's go (Let's go)                                                                                      |\n",
            "|Fuck what these niggas talk'Cause when they see us they know it's hype time(Hype time, hype time, hype time, hype time)                    |\n",
            "+-------------------------------------------------------------------------------------------------------------------------------------------+\n",
            "\n"
          ]
        }
      ],
      "source": [
        "# Test model on generated lyrics\n",
        "rb_hypetime = spark.read.text('RichBrian-HypeTime.txt')\n",
        "rb_hypetime.show(truncate=False)\n"
      ]
    },
    {
      "cell_type": "code",
      "execution_count": 43,
      "metadata": {
        "colab": {
          "base_uri": "https://localhost:8080/"
        },
        "id": "tTevid8nXm47",
        "outputId": "1e67cb14-a0c1-430a-ba61-6a022e03b6bd"
      },
      "outputs": [
        {
          "name": "stdout",
          "output_type": "stream",
          "text": [
            "+--------------------+\n",
            "|               value|\n",
            "+--------------------+\n",
            "|If I want the hyp...|\n",
            "|If I want the mon...|\n",
            "|If I want a bad b...|\n",
            "|I don't need your...|\n",
            "|I was born in ' ,...|\n",
            "|You don't know me...|\n",
            "|I'm so focused on...|\n",
            "|When you ready fo...|\n",
            "|When you ready to...|\n",
            "|When you ready fo...|\n",
            "|Fuck what these n...|\n",
            "+--------------------+\n",
            "\n"
          ]
        }
      ],
      "source": [
        "rb_hypetime = rb_hypetime.where(rb_hypetime.value.isin(['Artist: Rich Brian ','Topic: Hype Time ', 'Lyrics:', '[Chorus]', '', ' '])==False)\n",
        "rb_hypetime.show()"
      ]
    },
    {
      "cell_type": "code",
      "execution_count": 44,
      "metadata": {
        "id": "iTBE1mXHCdfI"
      },
      "outputs": [],
      "source": [
        "from pyspark.sql.functions import lit\n"
      ]
    },
    {
      "cell_type": "code",
      "execution_count": 45,
      "metadata": {
        "colab": {
          "base_uri": "https://localhost:8080/"
        },
        "id": "eq0FhURe3ktz",
        "outputId": "90f1eec0-200f-44ff-caf7-a785623ac58a"
      },
      "outputs": [
        {
          "name": "stdout",
          "output_type": "stream",
          "text": [
            "+----------+--------------------+\n",
            "|    artist|               value|\n",
            "+----------+--------------------+\n",
            "|Rich Brian|If I want the hyp...|\n",
            "|Rich Brian|If I want the mon...|\n",
            "|Rich Brian|If I want a bad b...|\n",
            "|Rich Brian|I don't need your...|\n",
            "|Rich Brian|I was born in ' ,...|\n",
            "|Rich Brian|You don't know me...|\n",
            "|Rich Brian|I'm so focused on...|\n",
            "|Rich Brian|When you ready fo...|\n",
            "|Rich Brian|When you ready to...|\n",
            "|Rich Brian|When you ready fo...|\n",
            "|Rich Brian|Fuck what these n...|\n",
            "+----------+--------------------+\n",
            "\n"
          ]
        }
      ],
      "source": [
        "# Add artist_name and lyrics columns\n",
        "rb_hypetime = rb_hypetime.withColumn(\"artist\", lit('Rich Brian')).select(\"artist\", \"value\")\n",
        "rb_hypetime.show()"
      ]
    },
    {
      "cell_type": "code",
      "execution_count": 46,
      "metadata": {
        "colab": {
          "base_uri": "https://localhost:8080/"
        },
        "id": "04Eo5yAt6YpT",
        "outputId": "78166102-80f6-4d15-bb5f-e670f47d7e74"
      },
      "outputs": [
        {
          "name": "stdout",
          "output_type": "stream",
          "text": [
            "+----------+--------------------+\n",
            "|    artist|    formatted_lyrics|\n",
            "+----------+--------------------+\n",
            "|Rich Brian|If I want the hyp...|\n",
            "|Rich Brian|If I want the mon...|\n",
            "|Rich Brian|If I want a bad b...|\n",
            "|Rich Brian|I don't need your...|\n",
            "|Rich Brian|I was born in ' ,...|\n",
            "|Rich Brian|You don't know me...|\n",
            "|Rich Brian|I'm so focused on...|\n",
            "|Rich Brian|When you ready fo...|\n",
            "|Rich Brian|When you ready to...|\n",
            "|Rich Brian|When you ready fo...|\n",
            "|Rich Brian|Fuck what these n...|\n",
            "+----------+--------------------+\n",
            "\n"
          ]
        }
      ],
      "source": [
        "rb_hypetime = rb_hypetime.withColumnRenamed(\"value\",\"formatted_lyrics\")\n",
        "rb_hypetime.show()"
      ]
    },
    {
      "cell_type": "code",
      "execution_count": 48,
      "metadata": {
        "id": "j6djpMOijXSP"
      },
      "outputs": [],
      "source": [
        "import pandas as pd"
      ]
    },
    {
      "cell_type": "code",
      "execution_count": 58,
      "metadata": {
        "id": "vS9TcH2miomy"
      },
      "outputs": [],
      "source": [
        "# Save lyrics as csv\n",
        "rb_hypetime.toPandas().to_csv(\"/content/sample_data/rb_hypetime.csv\")"
      ]
    },
    {
      "cell_type": "code",
      "execution_count": 37,
      "metadata": {
        "colab": {
          "base_uri": "https://localhost:8080/"
        },
        "id": "-UgeueeoCPNI",
        "outputId": "3242aaa5-bfad-4aed-aa99-14e3eee408a1"
      },
      "outputs": [
        {
          "name": "stdout",
          "output_type": "stream",
          "text": [
            "+----------+--------------------+-----+\n",
            "|    artist|    formatted_lyrics|label|\n",
            "+----------+--------------------+-----+\n",
            "|Rich Brian|If I want the hyp...|  0.0|\n",
            "|Rich Brian|If I want the mon...|  0.0|\n",
            "|Rich Brian|If I want a bad b...|  0.0|\n",
            "|Rich Brian|I don't need your...|  0.0|\n",
            "|Rich Brian|I was born in ' ,...|  0.0|\n",
            "|Rich Brian|You don't know me...|  0.0|\n",
            "|Rich Brian|I'm so focused on...|  0.0|\n",
            "|Rich Brian|When you ready fo...|  0.0|\n",
            "|Rich Brian|When you ready to...|  0.0|\n",
            "|Rich Brian|When you ready fo...|  0.0|\n",
            "|Rich Brian|Fuck what these n...|  0.0|\n",
            "+----------+--------------------+-----+\n",
            "\n"
          ]
        }
      ],
      "source": [
        "rb_hypetime = rb_hypetime.withColumn(\"label\", lit(0.0))\n",
        "rb_hypetime.show()"
      ]
    },
    {
      "cell_type": "code",
      "execution_count": 38,
      "metadata": {
        "id": "PM0KAs_zCKAI"
      },
      "outputs": [],
      "source": [
        "artist_data_prep_pipeline = Pipeline(stages=[tokenizer, stopremove, hashingTF, idf, clean_up])"
      ]
    },
    {
      "cell_type": "code",
      "execution_count": 39,
      "metadata": {
        "id": "QBREZuP_7nZv"
      },
      "outputs": [],
      "source": [
        "# Fit and transform the pipeline\n",
        "rb_cleaner = artist_data_prep_pipeline.fit(rb_hypetime)\n",
        "rb_cleaned = rb_cleaner.transform(rb_hypetime)"
      ]
    },
    {
      "cell_type": "code",
      "execution_count": 40,
      "metadata": {
        "colab": {
          "base_uri": "https://localhost:8080/"
        },
        "id": "LLiN0t5h7von",
        "outputId": "299fe77d-af5f-4c85-d10a-5c2be5a420a1"
      },
      "outputs": [
        {
          "name": "stdout",
          "output_type": "stream",
          "text": [
            "+----------+--------------------+-----+--------------------+--------------------+--------------------+--------------------+--------------------+--------------------+--------------------+----------+\n",
            "|    artist|    formatted_lyrics|label|          token_text|         stop_tokens|          hash_token|           idf_token|            features|       rawPrediction|         probability|prediction|\n",
            "+----------+--------------------+-----+--------------------+--------------------+--------------------+--------------------+--------------------+--------------------+--------------------+----------+\n",
            "|Rich Brian|If I want the hyp...|  0.0|[if, i, want, the...|[want, hype,, get...|(262144,[34994,63...|(262144,[34994,63...|(262144,[34994,63...|[-69.630388127142...|[0.48732310252362...|       1.0|\n",
            "|Rich Brian|If I want the mon...|  0.0|[if, i, want, the...|[want, money,, we...|(262144,[28482,10...|(262144,[28482,10...|(262144,[28482,10...|[-104.92062106943...|[0.89270396870369...|       0.0|\n",
            "|Rich Brian|If I want a bad b...|  0.0|[if, i, want, a, ...|[want, bad, bitch...|(262144,[102149,1...|(262144,[102149,1...|(262144,[102149,1...|[-101.08113513360...|[0.99919754851531...|       0.0|\n",
            "|Rich Brian|I don't need your...|  0.0|[i, don't, need, ...|[need, opinion, '...|(262144,[46210,64...|(262144,[46210,64...|(262144,[46210,64...|[-110.37554947455...|[0.24114032203162...|       1.0|\n",
            "|Rich Brian|I was born in ' ,...|  0.0|[i, was, born, in...|[born, ', ,, livi...|(262144,[65568,10...|(262144,[65568,10...|(262144,[65568,10...|[-116.74067420366...|[0.99800493571677...|       0.0|\n",
            "|Rich Brian|You don't know me...|  0.0|[you, don't, know...|[know, me,, bitch...|(262144,[45393,11...|(262144,[45393,11...|(262144,[45393,11...|[-137.68988760150...|[0.99406289993465...|       0.0|\n",
            "|Rich Brian|I'm so focused on...|  0.0|[i'm, so, focused...|[focused, going, ...|(262144,[8449,853...|(262144,[8449,853...|(262144,[8449,853...|[-221.03736184392...|[0.99997351133574...|       0.0|\n",
            "|Rich Brian|When you ready fo...|  0.0|[when, you, ready...|[ready, let, know...|(262144,[140931,1...|(262144,[140931,1...|(262144,[140931,1...|[-78.433718557207...|[0.00432694854803...|       5.0|\n",
            "|Rich Brian|When you ready to...|  0.0|[when, you, ready...|[ready, drop, let...|(262144,[14385,29...|(262144,[14385,29...|(262144,[14385,29...|[-83.276841370385...|[0.43570936181740...|       2.0|\n",
            "|Rich Brian|When you ready fo...|  0.0|[when, you, ready...|[ready, shit, go,...|(262144,[21798,64...|(262144,[21798,64...|(262144,[21798,64...|[-84.580362211536...|[0.94013438612569...|       0.0|\n",
            "|Rich Brian|Fuck what these n...|  0.0|[fuck, what, thes...|[fuck, niggas, ta...|(262144,[8538,349...|(262144,[8538,349...|(262144,[8538,349...|[-265.54966898005...|[0.12149804500585...|       1.0|\n",
            "+----------+--------------------+-----+--------------------+--------------------+--------------------+--------------------+--------------------+--------------------+--------------------+----------+\n",
            "\n"
          ]
        }
      ],
      "source": [
        "rb_test_results = predictor.transform(rb_cleaned)\n",
        "rb_test_results.show()"
      ]
    },
    {
      "cell_type": "code",
      "execution_count": 41,
      "metadata": {
        "colab": {
          "base_uri": "https://localhost:8080/"
        },
        "id": "lIkkTl1e8Jsy",
        "outputId": "62aa39fb-9789-4aa8-ec49-72db04d7ebeb"
      },
      "outputs": [
        {
          "name": "stdout",
          "output_type": "stream",
          "text": [
            "Accuracy of model at predicting artists was: 0.705882\n"
          ]
        }
      ],
      "source": [
        "rb_acc = acc_eval.evaluate(rb_test_results)\n",
        "print(\"Accuracy of model at predicting artists was: %f\" % rb_acc)"
      ]
    },
    {
      "cell_type": "code",
      "execution_count": 63,
      "metadata": {
        "id": "US0egIL08OlB"
      },
      "outputs": [],
      "source": [
        "# Test model on generated lyrics\n",
        "joji_ye = spark.read.text('Joji-YoungEnergy.txt')"
      ]
    },
    {
      "cell_type": "code",
      "execution_count": 64,
      "metadata": {
        "colab": {
          "base_uri": "https://localhost:8080/"
        },
        "id": "4c0NcGIpZq-h",
        "outputId": "b99601d3-53e6-4e68-d556-90d57d58687b"
      },
      "outputs": [
        {
          "name": "stdout",
          "output_type": "stream",
          "text": [
            "+--------------------+\n",
            "|               value|\n",
            "+--------------------+\n",
            "|You left me here,...|\n",
            "|I played your son...|\n",
            "|Now I'm reminisci...|\n",
            "|You said that you...|\n",
            "|I trusted you lik...|\n",
            "|You played me lik...|\n",
            "|So why did I beli...|\n",
            "|Ooh, ooh-ooh-ooh-...|\n",
            "|Ooh, ooh-ooh-ooh-...|\n",
            "|Ooh, oohl (I stil...|\n",
            "|Oohl (When you to...|\n",
            "+--------------------+\n",
            "\n"
          ]
        }
      ],
      "source": [
        "joji_ye = joji_ye.where(joji_ye.value.isin(['Artist: Joji ','Topic: Young Energy ', 'Lyrics:', '[Chorus]', '', ' ', '[Verse ]'])==False)\n",
        "joji_ye.show()"
      ]
    },
    {
      "cell_type": "code",
      "execution_count": 65,
      "metadata": {
        "id": "7B6Kvy6yaAUP"
      },
      "outputs": [],
      "source": [
        "joji_ye = joji_ye.withColumn(\"artist\", lit('Joji')).select(\"artist\", \"value\")"
      ]
    },
    {
      "cell_type": "code",
      "execution_count": 66,
      "metadata": {
        "id": "0NOPwnmZpAG9"
      },
      "outputs": [],
      "source": [
        "joji_ye.toPandas().to_csv(\"/content/sample_data/Joji_YoungEnergy.csv\")"
      ]
    },
    {
      "cell_type": "code",
      "execution_count": 67,
      "metadata": {
        "colab": {
          "base_uri": "https://localhost:8080/"
        },
        "id": "X-ovWF5Wad0w",
        "outputId": "bb32569d-d55c-45df-c4f4-14985c35c60e"
      },
      "outputs": [
        {
          "name": "stdout",
          "output_type": "stream",
          "text": [
            "+------+--------------------+-----+\n",
            "|artist|    formatted_lyrics|label|\n",
            "+------+--------------------+-----+\n",
            "|  Joji|You left me here,...|  5.0|\n",
            "|  Joji|I played your son...|  5.0|\n",
            "|  Joji|Now I'm reminisci...|  5.0|\n",
            "|  Joji|You said that you...|  5.0|\n",
            "|  Joji|I trusted you lik...|  5.0|\n",
            "|  Joji|You played me lik...|  5.0|\n",
            "|  Joji|So why did I beli...|  5.0|\n",
            "|  Joji|Ooh, ooh-ooh-ooh-...|  5.0|\n",
            "|  Joji|Ooh, ooh-ooh-ooh-...|  5.0|\n",
            "|  Joji|Ooh, oohl (I stil...|  5.0|\n",
            "|  Joji|Oohl (When you to...|  5.0|\n",
            "+------+--------------------+-----+\n",
            "\n"
          ]
        }
      ],
      "source": [
        "joji_ye = joji_ye.withColumnRenamed(\"value\",\"formatted_lyrics\")\n",
        "joji_ye = joji_ye.withColumn(\"label\", lit(5.0))\n",
        "joji_ye.show()"
      ]
    },
    {
      "cell_type": "code",
      "execution_count": 68,
      "metadata": {
        "id": "f-v_qzgI8vtk"
      },
      "outputs": [],
      "source": [
        "# Fit and transform the pipeline\n",
        "joji_cleaner = artist_data_prep_pipeline.fit(joji_ye)\n",
        "joji_cleaned = joji_cleaner.transform(joji_ye)"
      ]
    },
    {
      "cell_type": "code",
      "execution_count": 69,
      "metadata": {
        "colab": {
          "base_uri": "https://localhost:8080/"
        },
        "id": "jTL4XPpU87Nu",
        "outputId": "82c24e26-6254-48ec-f446-bab704fcdda2"
      },
      "outputs": [
        {
          "name": "stdout",
          "output_type": "stream",
          "text": [
            "+------+--------------------+-----+--------------------+--------------------+--------------------+--------------------+--------------------+--------------------+--------------------+----------+\n",
            "|artist|    formatted_lyrics|label|          token_text|         stop_tokens|          hash_token|           idf_token|            features|       rawPrediction|         probability|prediction|\n",
            "+------+--------------------+-----+--------------------+--------------------+--------------------+--------------------+--------------------+--------------------+--------------------+----------+\n",
            "|  Joji|You left me here,...|  5.0|[you, left, me, h...| [left, here,, dark]|(262144,[170414,2...|(262144,[170414,2...|(262144,[170414,2...|[-64.932046046340...|[0.00246844307684...|       6.0|\n",
            "|  Joji|I played your son...|  5.0|[i, played, your,...|[played, song,, r...|(262144,[71316,10...|(262144,[71316,10...|(262144,[71316,10...|[-83.618309389916...|[0.01519005562984...|       2.0|\n",
            "|  Joji|Now I'm reminisci...|  5.0|[now, i'm, remini...| [reminiscing, past]|(262144,[167837,2...|(262144,[167837,2...|(262144,[167837,2...|[-38.275028270414...|[0.97387380156375...|       0.0|\n",
            "|  Joji|You said that you...|  5.0|[you, said, that,...|[said, leaving, r...|(262144,[49595,13...|(262144,[49595,13...|(262144,[49595,13...|[-81.939986456954...|[0.04120460007469...|       3.0|\n",
            "|  Joji|I trusted you lik...|  5.0|[i, trusted, you,...|[trusted, like, f...|(262144,[36225,75...|(262144,[36225,75...|(262144,[36225,75...|[-124.18830883608...|[1.80032567303116...|       2.0|\n",
            "|  Joji|You played me lik...|  5.0|[you, played, me,...|[played, like, pr...|(262144,[8618,189...|(262144,[8618,189...|(262144,[8618,189...|[-113.24664672739...|[0.94399878499634...|       0.0|\n",
            "|  Joji|So why did I beli...|  5.0|[so, why, did, i,...|[believe?(why, be...|(262144,[188938,2...|(262144,[188938,2...|(262144,[188938,2...|[-46.959607346516...|[0.12335080156036...|       0.0|\n",
            "|  Joji|Ooh, ooh-ooh-ooh-...|  5.0|[ooh,, ooh-ooh-oo...|[ooh,, ooh-ooh-oo...|(262144,[53461,54...|(262144,[53461,54...|(262144,[53461,54...|[-96.054481501561...|[0.00252846844036...|       3.0|\n",
            "|  Joji|Ooh, ooh-ooh-ooh-...|  5.0|[ooh,, ooh-ooh-oo...|[ooh,, ooh-ooh-oo...|(262144,[63546,63...|(262144,[63546,63...|(262144,[63546,63...|[-92.811259392529...|[0.01640807236437...|       3.0|\n",
            "|  Joji|Ooh, oohl (I stil...|  5.0|[ooh,, oohl, (i, ...|[ooh,, oohl, (i, ...|(262144,[31536,63...|(262144,[31536,63...|(262144,[31536,63...|[-133.67340939198...|[0.21764496006398...|       1.0|\n",
            "|  Joji|Oohl (When you to...|  5.0|[oohl, (when, you...|[oohl, (when, tol...|(262144,[52914,11...|(262144,[52914,11...|(262144,[52914,11...|[-97.568704149271...|[6.90075277159806...|       5.0|\n",
            "+------+--------------------+-----+--------------------+--------------------+--------------------+--------------------+--------------------+--------------------+--------------------+----------+\n",
            "\n"
          ]
        }
      ],
      "source": [
        "joji_test_results = predictor.transform(joji_cleaned)\n",
        "joji_test_results.show()"
      ]
    },
    {
      "cell_type": "code",
      "execution_count": 70,
      "metadata": {
        "colab": {
          "base_uri": "https://localhost:8080/"
        },
        "id": "jeO4G2ph90aC",
        "outputId": "12917213-9f8b-4ada-cd87-8fdc4e2cfa0e"
      },
      "outputs": [
        {
          "name": "stdout",
          "output_type": "stream",
          "text": [
            "Accuracy of model at predicting artists was: 0.166667\n"
          ]
        }
      ],
      "source": [
        "joji_acc = acc_eval.evaluate(joji_test_results)\n",
        "print(\"Accuracy of model at predicting artists was: %f\" % joji_acc)"
      ]
    },
    {
      "cell_type": "code",
      "execution_count": null,
      "metadata": {
        "colab": {
          "base_uri": "https://localhost:8080/"
        },
        "id": "txdY-1BK-jWk",
        "outputId": "f6b6c34e-c0d7-4bcf-aeca-47fa134d4123"
      },
      "outputs": [
        {
          "data": {
            "text/plain": [
              "DataFrame[summary: string, label: string]"
            ]
          },
          "execution_count": 84,
          "metadata": {},
          "output_type": "execute_result"
        }
      ],
      "source": [
        "joji_test_results.select('label').describe()"
      ]
    }
  ],
  "metadata": {
    "colab": {
      "provenance": []
    },
    "kernelspec": {
      "display_name": "Python 3.9.12 ('base')",
      "language": "python",
      "name": "python3"
    },
    "language_info": {
      "name": "python",
      "version": "3.9.12"
    },
    "vscode": {
      "interpreter": {
        "hash": "fd5f0602b361fcd80b6e43c9db32d5ff96b182a40640908c77b502a93aa9387e"
      }
    }
  },
  "nbformat": 4,
  "nbformat_minor": 0
}
