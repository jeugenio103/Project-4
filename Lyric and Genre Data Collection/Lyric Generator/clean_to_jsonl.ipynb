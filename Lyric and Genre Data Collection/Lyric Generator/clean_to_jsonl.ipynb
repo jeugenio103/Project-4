{
 "cells": [
  {
   "cell_type": "code",
   "execution_count": 207,
   "metadata": {},
   "outputs": [],
   "source": [
    "import pandas as pd\n",
    "import json"
   ]
  },
  {
   "cell_type": "code",
   "execution_count": 208,
   "metadata": {},
   "outputs": [
    {
     "name": "stdout",
     "output_type": "stream",
     "text": [
      "458\n"
     ]
    },
    {
     "data": {
      "text/html": [
       "<div>\n",
       "<style scoped>\n",
       "    .dataframe tbody tr th:only-of-type {\n",
       "        vertical-align: middle;\n",
       "    }\n",
       "\n",
       "    .dataframe tbody tr th {\n",
       "        vertical-align: top;\n",
       "    }\n",
       "\n",
       "    .dataframe thead th {\n",
       "        text-align: right;\n",
       "    }\n",
       "</style>\n",
       "<table border=\"1\" class=\"dataframe\">\n",
       "  <thead>\n",
       "    <tr style=\"text-align: right;\">\n",
       "      <th></th>\n",
       "      <th>Unnamed: 0</th>\n",
       "      <th>track</th>\n",
       "      <th>album</th>\n",
       "      <th>artist</th>\n",
       "      <th>popularity</th>\n",
       "      <th>featured</th>\n",
       "      <th>release_date</th>\n",
       "      <th>track_id</th>\n",
       "      <th>danceability</th>\n",
       "      <th>energy</th>\n",
       "      <th>...</th>\n",
       "      <th>speechiness</th>\n",
       "      <th>instrumentalness</th>\n",
       "      <th>liveness</th>\n",
       "      <th>valence</th>\n",
       "      <th>tempo</th>\n",
       "      <th>duration_ms</th>\n",
       "      <th>time_signature</th>\n",
       "      <th>lyrics</th>\n",
       "      <th>filtered_lyrics</th>\n",
       "      <th>genre</th>\n",
       "    </tr>\n",
       "  </thead>\n",
       "  <tbody>\n",
       "    <tr>\n",
       "      <th>0</th>\n",
       "      <td>0</td>\n",
       "      <td>BIBI Vengeance</td>\n",
       "      <td>Lowlife Princess: Noir</td>\n",
       "      <td>BIBI</td>\n",
       "      <td>76</td>\n",
       "      <td>BIBI</td>\n",
       "      <td>2022-11-17</td>\n",
       "      <td>0ra3bPUOj2YnY4FJHXtgHZ</td>\n",
       "      <td>0.442</td>\n",
       "      <td>0.748</td>\n",
       "      <td>...</td>\n",
       "      <td>0.0895</td>\n",
       "      <td>0.000128</td>\n",
       "      <td>0.0642</td>\n",
       "      <td>0.408</td>\n",
       "      <td>99.981</td>\n",
       "      <td>165135</td>\n",
       "      <td>4</td>\n",
       "      <td>[비비 \"나쁜년\" 가사][Verse 1]들어오라 해눈을 깔어 왜비밀로 할게네 부정과 죄전부 드러내자릴 넘보네눈감아 줄게네 본성과 뇌춤추는 저 장미를 꺾어완성한 왕관 나의 것다시는 얼신 못하게가시를 친 성관[Pre-Chorus]Watch me danceWatch me sing여기까진 놓아줄게도망가 얼른Watch me danceWatch me sing다...</td>\n",
       "      <td>Watch me danceWatch me sing Watch me danceWatch me sing I got mercy I got graceDesperado with the scalesThrow a rose on your bodyMask of Zorro I m so wanted Look scared</td>\n",
       "      <td>['R&amp;B', 'K-R&amp;B', 'Reggaetón', 'South Korea', 'Genius Korea', 'Korean', 'K-Solo']</td>\n",
       "    </tr>\n",
       "    <tr>\n",
       "      <th>1</th>\n",
       "      <td>1</td>\n",
       "      <td>KAZINO</td>\n",
       "      <td>KAZINO</td>\n",
       "      <td>BIBI</td>\n",
       "      <td>68</td>\n",
       "      <td>BIBI</td>\n",
       "      <td>2020-04-29</td>\n",
       "      <td>245onUPHGD1DYuiacxTuW0</td>\n",
       "      <td>0.625</td>\n",
       "      <td>0.686</td>\n",
       "      <td>...</td>\n",
       "      <td>0.0414</td>\n",
       "      <td>0.000000</td>\n",
       "      <td>0.1100</td>\n",
       "      <td>0.263</td>\n",
       "      <td>133.041</td>\n",
       "      <td>185947</td>\n",
       "      <td>4</td>\n",
       "      <td>[비비 \"사장님 도박은 재미로 하셔야 합니다\" 가사][Verse 1]Dice and Ice cube 여기 너무 위험해Home girls bitches 카드를 막 섞네Spin it, spin it, pussy들 다 보내Chips and chips and chips and 목숨을 거네나는 여기를 걸고 쟤는 저년을 걸고Demon under the tabl...</td>\n",
       "      <td>Dice and Ice cube Home girls bitches Spin it spin it pussy Chips and chips and chips and Demon under the table Risk it risk it risk it till the last dime Yeah yeah yeahRisk it risk it risk it til...</td>\n",
       "      <td>['R&amp;B', 'South Korea', 'Trap', 'Korean']</td>\n",
       "    </tr>\n",
       "    <tr>\n",
       "      <th>2</th>\n",
       "      <td>2</td>\n",
       "      <td>Animal Farm</td>\n",
       "      <td>Animal Farm</td>\n",
       "      <td>BIBI</td>\n",
       "      <td>67</td>\n",
       "      <td>BIBI</td>\n",
       "      <td>2022-09-27</td>\n",
       "      <td>3gAXVQOR0h7Ks71lsr5MFZ</td>\n",
       "      <td>0.617</td>\n",
       "      <td>0.570</td>\n",
       "      <td>...</td>\n",
       "      <td>0.0308</td>\n",
       "      <td>0.000006</td>\n",
       "      <td>0.5500</td>\n",
       "      <td>0.375</td>\n",
       "      <td>107.971</td>\n",
       "      <td>203946</td>\n",
       "      <td>3</td>\n",
       "      <td>[비비 \"가면무도회\" 가사][Verse 1]죄악의 단어위선의 가면넘쳐흐르는 무도회장터지는 champagne포도주와 빵배부른 돼지들의 춤[Pre-Chorus]It might be pretty, it might be beautifulIt might be grandThis might be right, this might be justiceBut I[Cho...</td>\n",
       "      <td>champagne It might be pretty it might be beautifulIt might be grandThis might be right this might be justiceBut I Welcome well doneShameless friends of mine Hang my pretty head in your roomWhere ...</td>\n",
       "      <td>['R&amp;B', 'Korean', 'K-R&amp;B', 'K-Solo', 'South Korea', 'Genius Korea']</td>\n",
       "    </tr>\n",
       "    <tr>\n",
       "      <th>3</th>\n",
       "      <td>3</td>\n",
       "      <td>BAD SAD AND MAD</td>\n",
       "      <td>Life is a Bi…</td>\n",
       "      <td>BIBI</td>\n",
       "      <td>66</td>\n",
       "      <td>BIBI</td>\n",
       "      <td>2021-04-28</td>\n",
       "      <td>0zPbUxvYRlCGwruakkXPLI</td>\n",
       "      <td>0.746</td>\n",
       "      <td>0.558</td>\n",
       "      <td>...</td>\n",
       "      <td>0.0880</td>\n",
       "      <td>0.000190</td>\n",
       "      <td>0.0904</td>\n",
       "      <td>0.638</td>\n",
       "      <td>90.013</td>\n",
       "      <td>154988</td>\n",
       "      <td>4</td>\n",
       "      <td>[비비 \"BAD SAD AND MAD\" 가사][Refrain]You blued my bruisePink me with tiesYou red my mindYou red my mindBlack my bones andPurple my eyesYou red my mindYeah, you red my mind (Ah-ah-ah)[Chorus]Drip, dri...</td>\n",
       "      <td>BAD SAD AND MAD Refrain You blued my bruisePink me with tiesYou red my mindYou red my mindBlack my bones andPurple my eyesYou red my mindYeah you red my mind Ah ah ah Drip drip drip drip on my wa...</td>\n",
       "      <td>['R&amp;B', 'K-R&amp;B', 'Korean', 'K-Solo', 'South Korea', 'Genius Korea']</td>\n",
       "    </tr>\n",
       "    <tr>\n",
       "      <th>4</th>\n",
       "      <td>4</td>\n",
       "      <td>Very, Slowly</td>\n",
       "      <td>Twenty-Five Twenty-One OST Part 3</td>\n",
       "      <td>BIBI</td>\n",
       "      <td>62</td>\n",
       "      <td>BIBI</td>\n",
       "      <td>2022-02-20</td>\n",
       "      <td>7GkHIsnziYgk6j1lx2TK6H</td>\n",
       "      <td>0.528</td>\n",
       "      <td>0.423</td>\n",
       "      <td>...</td>\n",
       "      <td>0.0264</td>\n",
       "      <td>0.001480</td>\n",
       "      <td>0.1670</td>\n",
       "      <td>0.249</td>\n",
       "      <td>135.917</td>\n",
       "      <td>214852</td>\n",
       "      <td>4</td>\n",
       "      <td>missing</td>\n",
       "      <td>missing</td>\n",
       "      <td>[]</td>\n",
       "    </tr>\n",
       "  </tbody>\n",
       "</table>\n",
       "<p>5 rows × 23 columns</p>\n",
       "</div>"
      ],
      "text/plain": [
       "   Unnamed: 0            track                              album artist  \\\n",
       "0           0   BIBI Vengeance             Lowlife Princess: Noir   BIBI   \n",
       "1           1           KAZINO                             KAZINO   BIBI   \n",
       "2           2      Animal Farm                        Animal Farm   BIBI   \n",
       "3           3  BAD SAD AND MAD                      Life is a Bi…   BIBI   \n",
       "4           4     Very, Slowly  Twenty-Five Twenty-One OST Part 3   BIBI   \n",
       "\n",
       "   popularity featured release_date                track_id  danceability  \\\n",
       "0          76     BIBI   2022-11-17  0ra3bPUOj2YnY4FJHXtgHZ         0.442   \n",
       "1          68     BIBI   2020-04-29  245onUPHGD1DYuiacxTuW0         0.625   \n",
       "2          67     BIBI   2022-09-27  3gAXVQOR0h7Ks71lsr5MFZ         0.617   \n",
       "3          66     BIBI   2021-04-28  0zPbUxvYRlCGwruakkXPLI         0.746   \n",
       "4          62     BIBI   2022-02-20  7GkHIsnziYgk6j1lx2TK6H         0.528   \n",
       "\n",
       "   energy  ...  speechiness  instrumentalness  liveness  valence    tempo  \\\n",
       "0   0.748  ...       0.0895          0.000128    0.0642    0.408   99.981   \n",
       "1   0.686  ...       0.0414          0.000000    0.1100    0.263  133.041   \n",
       "2   0.570  ...       0.0308          0.000006    0.5500    0.375  107.971   \n",
       "3   0.558  ...       0.0880          0.000190    0.0904    0.638   90.013   \n",
       "4   0.423  ...       0.0264          0.001480    0.1670    0.249  135.917   \n",
       "\n",
       "   duration_ms  time_signature  \\\n",
       "0       165135               4   \n",
       "1       185947               4   \n",
       "2       203946               3   \n",
       "3       154988               4   \n",
       "4       214852               4   \n",
       "\n",
       "                                                                                                                                                                                                    lyrics  \\\n",
       "0  [비비 \"나쁜년\" 가사][Verse 1]들어오라 해눈을 깔어 왜비밀로 할게네 부정과 죄전부 드러내자릴 넘보네눈감아 줄게네 본성과 뇌춤추는 저 장미를 꺾어완성한 왕관 나의 것다시는 얼신 못하게가시를 친 성관[Pre-Chorus]Watch me danceWatch me sing여기까진 놓아줄게도망가 얼른Watch me danceWatch me sing다...   \n",
       "1  [비비 \"사장님 도박은 재미로 하셔야 합니다\" 가사][Verse 1]Dice and Ice cube 여기 너무 위험해Home girls bitches 카드를 막 섞네Spin it, spin it, pussy들 다 보내Chips and chips and chips and 목숨을 거네나는 여기를 걸고 쟤는 저년을 걸고Demon under the tabl...   \n",
       "2  [비비 \"가면무도회\" 가사][Verse 1]죄악의 단어위선의 가면넘쳐흐르는 무도회장터지는 champagne포도주와 빵배부른 돼지들의 춤[Pre-Chorus]It might be pretty, it might be beautifulIt might be grandThis might be right, this might be justiceBut I[Cho...   \n",
       "3  [비비 \"BAD SAD AND MAD\" 가사][Refrain]You blued my bruisePink me with tiesYou red my mindYou red my mindBlack my bones andPurple my eyesYou red my mindYeah, you red my mind (Ah-ah-ah)[Chorus]Drip, dri...   \n",
       "4                                                                                                                                                                                                  missing   \n",
       "\n",
       "                                                                                                                                                                                           filtered_lyrics  \\\n",
       "0                                Watch me danceWatch me sing Watch me danceWatch me sing I got mercy I got graceDesperado with the scalesThrow a rose on your bodyMask of Zorro I m so wanted Look scared    \n",
       "1   Dice and Ice cube Home girls bitches Spin it spin it pussy Chips and chips and chips and Demon under the table Risk it risk it risk it till the last dime Yeah yeah yeahRisk it risk it risk it til...   \n",
       "2   champagne It might be pretty it might be beautifulIt might be grandThis might be right this might be justiceBut I Welcome well doneShameless friends of mine Hang my pretty head in your roomWhere ...   \n",
       "3   BAD SAD AND MAD Refrain You blued my bruisePink me with tiesYou red my mindYou red my mindBlack my bones andPurple my eyesYou red my mindYeah you red my mind Ah ah ah Drip drip drip drip on my wa...   \n",
       "4                                                                                                                                                                                                  missing   \n",
       "\n",
       "                                                                              genre  \n",
       "0  ['R&B', 'K-R&B', 'Reggaetón', 'South Korea', 'Genius Korea', 'Korean', 'K-Solo']  \n",
       "1                                          ['R&B', 'South Korea', 'Trap', 'Korean']  \n",
       "2               ['R&B', 'Korean', 'K-R&B', 'K-Solo', 'South Korea', 'Genius Korea']  \n",
       "3               ['R&B', 'K-R&B', 'Korean', 'K-Solo', 'South Korea', 'Genius Korea']  \n",
       "4                                                                                []  \n",
       "\n",
       "[5 rows x 23 columns]"
      ]
     },
     "execution_count": 208,
     "metadata": {},
     "output_type": "execute_result"
    }
   ],
   "source": [
    "# Import 88Rising Data with Lyrics\n",
    "df_88 = pd.read_csv('../../Test-Data/pre-final-88-genre.csv')\n",
    "print(len(df_88))\n",
    "df_88.head()"
   ]
  },
  {
   "cell_type": "code",
   "execution_count": 209,
   "metadata": {},
   "outputs": [
    {
     "data": {
      "text/plain": [
       "array(['BIBI', 'CHUNG HA', 'Keith Ape', 'Dumbfoundead', 'Guapdad 4000',\n",
       "       'Rich Brian', 'Higher Brothers', 'Jackson Wang', 'Joji',\n",
       "       'Lexie Liu', 'Mili', 'Seori', 'Stephanie Poetri', 'Warren Hue'],\n",
       "      dtype=object)"
      ]
     },
     "execution_count": 209,
     "metadata": {},
     "output_type": "execute_result"
    }
   ],
   "source": [
    "df_88['artist'].unique()"
   ]
  },
  {
   "cell_type": "code",
   "execution_count": 210,
   "metadata": {},
   "outputs": [
    {
     "data": {
      "text/plain": [
       "281"
      ]
     },
     "execution_count": 210,
     "metadata": {},
     "output_type": "execute_result"
    }
   ],
   "source": [
    "# Remove rows where lyrics is \"missing\"\n",
    "df_88_comp = df_88.loc[df_88['filtered_lyrics'] != 'missing']\n",
    "len(df_88_comp)"
   ]
  },
  {
   "cell_type": "code",
   "execution_count": 65,
   "metadata": {},
   "outputs": [
    {
     "data": {
      "text/plain": [
       "\"[Intro: Rich Brian]Ayy[Chorus: Rich Brian]Uh, always workin' hard, I just got it in my genes (Uh)Think so much, I\\u2005think\\u2005my brain is\\u2005burnin' calories (Uh)I'm mostly quiet, but\\u2005I'm always wildin' when I drink (Uh)To you, it's fantasies, but to me, it's just last week (Uh)I don't never stress none of that shit from yesterdayAt nine, I got a date, told her that she could pick the placeDon't tell me we're the same, little bitch, this is night and dayI thought we was in Bali, shit feel like holidays[Verse 1: Rich Brian]I spent my day with a smile and with my soul intactBut you just spent your day on simpin', hopin' that she gon' call you back, yeahStop answerin' all the questions when nobody askedYou geekin' when you winning, and it shows me you ain't used to that, yeahMy life is startin' to look like a completed bucket list, ayyYou know you in some trouble if your girl know I existI been winning and I know that's what you hate to seeI feel like I'm six foot tall whenever you stand next to meYeah, my schedule's packed, I got a pool, I haven't swam in itLike yeah, I'm on a date, we watchin' Parasite, she lovin' itLike ayy, yeah, ayy, I like to keep my dates affordableLike ayy, yeah, ayy, that's why I got on Forbes' article, like ayyYou like to hate, but you can't walk a mile inside my shoes, ayyI'm schoolin' all these rappers, but I never went to school, uhYou say you rollin' deep, those numbers 'bout to get reducedI came from Indonesia, but inside I never moved[Chorus: Rich Brian]Uh, always workin' hard, I just got it in my genes (Uh)Think so much, I think my brain is burnin' calories (Uh)I'm mostly quiet, but I'm always wildin' when I drink (Uh)To you, it's fantasies, but to me, it's just last week (Uh)I don't never stress none of that shit from yesterdayAt nine, I got a date, told her that she could pick the placeDon't tell me we're the same, little bitch, this is night and dayI thought we was in Bali, shit feel like holidays\""
      ]
     },
     "execution_count": 65,
     "metadata": {},
     "output_type": "execute_result"
    }
   ],
   "source": [
    "test1 = df_88.loc[(df_88['artist'] == 'Rich Brian') & (df_88['track'] == 'BALI'), 'lyrics']\n",
    "test1[135]"
   ]
  },
  {
   "cell_type": "code",
   "execution_count": 66,
   "metadata": {},
   "outputs": [
    {
     "data": {
      "text/plain": [
       "' Intro Rich Brian Ayy Chorus Rich Brian Uh always workin hard I just got it in my genes Uh Think so much I think my brain is burnin calories Uh I m mostly quiet but I m always wildin when I drink Uh To you it s fantasies but to me it s just last week Uh I don t never stress none of that shit from yesterdayAt nine I got a date told her that she could pick the placeDon t tell me we re the same little bitch this is night and dayI thought we was in Bali shit feel like holidays  Rich Brian I spent my day with a smile and with my soul intactBut you just spent your day on simpin hopin that she gon call you back yeahStop answerin all the questions when nobody askedYou geekin when you winning and it shows me you ain t used to that yeahMy life is startin to look like a completed bucket list ayyYou know you in some trouble if your girl know I existI been winning and I know that s what you hate to seeI feel like I m six foot tall whenever you stand next to meYeah my schedule s packed I got a pool I haven t swam in itLike yeah I m on a date we watchin Parasite she lovin itLike ayy yeah ayy I like to keep my dates affordableLike ayy yeah ayy that s why I got on Forbes article like ayyYou like to hate but you can t walk a mile inside my shoes ayyI m schoolin all these rappers but I never went to school uhYou say you rollin deep those numbers bout to get reducedI came from Indonesia but inside I never moved Chorus Rich Brian Uh always workin hard I just got it in my genes Uh Think so much I think my brain is burnin calories Uh I m mostly quiet but I m always wildin when I drink Uh To you it s fantasies but to me it s just last week Uh I don t never stress none of that shit from yesterdayAt nine I got a date told her that she could pick the placeDon t tell me we re the same little bitch this is night and dayI thought we was in Bali shit feel like holidays'"
      ]
     },
     "execution_count": 66,
     "metadata": {},
     "output_type": "execute_result"
    }
   ],
   "source": [
    "test2 = df_88.loc[(df_88['artist'] == 'Rich Brian') & (df_88['track'] == 'BALI'), 'filtered_lyrics']\n",
    "test2[135]"
   ]
  },
  {
   "cell_type": "code",
   "execution_count": 211,
   "metadata": {},
   "outputs": [],
   "source": [
    "# Lyrics are not formatted correctly - correct formatting in lyrics\n",
    "# Must add new lines, correct spaces\n",
    "nl_char_after = \"])\"\n",
    "nl_char_before = \"[\""
   ]
  },
  {
   "cell_type": "code",
   "execution_count": 213,
   "metadata": {},
   "outputs": [
    {
     "name": "stdout",
     "output_type": "stream",
     "text": [
      "\n",
      "[Intro: Rich Brian]\n",
      "Ayy\n",
      "[Chorus: Rich Brian]\n",
      "Uh, always workin' hard, I just got it in my genes (Uh)\n",
      "Think so much, I think my brain is burnin' calories (Uh)\n",
      "I'm mostly quiet, but I'm always wildin' when I drink (Uh)\n",
      "To you, it's fantasies, but to me, it's just last week (Uh)\n",
      "I don't never stress none of that shit from yesterdayAt nine, I got a date, told her that she could pick the placeDon't tell me we're the same, little bitch, this is night and dayI thought we was in Bali, shit feel like holidays\n",
      "[Verse 1: Rich Brian]\n",
      "I spent my day with a smile and with my soul intactBut you just spent your day on simpin', hopin' that she gon' call you back, yeahStop answerin' all the questions when nobody askedYou geekin' when you winning, and it shows me you ain't used to that, yeahMy life is startin' to look like a completed bucket list, ayyYou know you in some trouble if your girl know I existI been winning and I know that's what you hate to seeI feel like I'm six foot tall whenever you stand next to meYeah, my schedule's packed, I got a pool, I haven't swam in itLike yeah, I'm on a date, we watchin' Parasite, she lovin' itLike ayy, yeah, ayy, I like to keep my dates affordableLike ayy, yeah, ayy, that's why I got on Forbes' article, like ayyYou like to hate, but you can't walk a mile inside my shoes, ayyI'm schoolin' all these rappers, but I never went to school, uhYou say you rollin' deep, those numbers 'bout to get reducedI came from Indonesia, but inside I never moved\n",
      "[Chorus: Rich Brian]\n",
      "Uh, always workin' hard, I just got it in my genes (Uh)\n",
      "Think so much, I think my brain is burnin' calories (Uh)\n",
      "I'm mostly quiet, but I'm always wildin' when I drink (Uh)\n",
      "To you, it's fantasies, but to me, it's just last week (Uh)\n",
      "I don't never stress none of that shit from yesterdayAt nine, I got a date, told her that she could pick the placeDon't tell me we're the same, little bitch, this is night and dayI thought we was in Bali, shit feel like holidays\n"
     ]
    }
   ],
   "source": [
    "lyric_str = \"\"\n",
    "for char in test1[135]:\n",
    "    if char in nl_char_after:\n",
    "        lyric_str = lyric_str + char + \"\\n\"\n",
    "    elif char in nl_char_before:\n",
    "        lyric_str = lyric_str + \"\\n\" + char\n",
    "    else:\n",
    "        lyric_str = lyric_str + char\n",
    "\n",
    "print(lyric_str)"
   ]
  },
  {
   "cell_type": "code",
   "execution_count": 214,
   "metadata": {},
   "outputs": [
    {
     "data": {
      "text/plain": [
       "True"
      ]
     },
     "execution_count": 214,
     "metadata": {},
     "output_type": "execute_result"
    }
   ],
   "source": [
    "\"X\".isupper() and \"x\".islower()"
   ]
  },
  {
   "cell_type": "code",
   "execution_count": 215,
   "metadata": {},
   "outputs": [
    {
     "name": "stdout",
     "output_type": "stream",
     "text": [
      "\n",
      "[Intro: Rich Brian]\n",
      "Ayy\n",
      "[Chorus: Rich Brian]\n",
      "Uh, always workin' hard, I just got it in my genes (Uh)\n",
      "Think so much, I think my brain is burnin' calories (Uh)\n",
      "I'm mostly quiet, but I'm always wildin' when I drink (Uh)\n",
      "To you, it's fantasies, but to me, it's just last week (Uh)\n",
      "I don't never stress none of that shit from yesterday\n",
      "At nine, I got a date, told her that she could pick the place\n",
      "Don't tell me we're the same, little bitch, this is night and day\n",
      "I thought we was in Bali, shit feel like holidays\n",
      "[Verse 1: Rich Brian]\n",
      "I spent my day with a smile and with my soul intact\n",
      "But you just spent your day on simpin', hopin' that she gon' call you back, yeah\n",
      "Stop answerin' all the questions when nobody asked\n",
      "You geekin' when you winning, and it shows me you ain't used to that, yeah\n",
      "My life is startin' to look like a completed bucket list, ayy\n",
      "You know you in some trouble if your girl know I exist\n",
      "I been winning and I know that's what you hate to see\n",
      "I feel like I'm six foot tall whenever you stand next to me\n",
      "Yeah, my schedule's packed, I got a pool, I haven't swam in it\n",
      "Like yeah, I'm on a date, we watchin' Parasite, she lovin' it\n",
      "Like ayy, yeah, ayy, I like to keep my dates affordable\n",
      "Like ayy, yeah, ayy, that's why I got on Forbes' article, like ayy\n",
      "You like to hate, but you can't walk a mile inside my shoes, ayy\n",
      "I'm schoolin' all these rappers, but I never went to school, uh\n",
      "You say you rollin' deep, those numbers 'bout to get reduced\n",
      "I came from Indonesia, but inside I never moved\n",
      "[Chorus: Rich Brian]\n",
      "Uh, always workin' hard, I just got it in my genes (Uh)\n",
      "Think so much, I think my brain is burnin' calories (Uh)\n",
      "I'm mostly quiet, but I'm always wildin' when I drink (Uh)\n",
      "To you, it's fantasies, but to me, it's just last week (Uh)\n",
      "I don't never stress none of that shit from yesterday\n",
      "At nine, I got a date, told her that she could pick the place\n",
      "Don't tell me we're the same, little bitch, this is night and day\n",
      "I thought we was in Bali, shit feel like holidays\n"
     ]
    }
   ],
   "source": [
    "# Need to add a new line in between words\n",
    "# Done in cases where the previous letter is lowercase and the next is uppercase\n",
    "new_str = \"\"\n",
    "for index in range(0, len(lyric_str)):\n",
    "    if index+1 == len(lyric_str):\n",
    "        new_str = new_str + lyric_str[index]\n",
    "        break\n",
    "    else:\n",
    "        prev = lyric_str[index]\n",
    "        after = lyric_str[index+1]\n",
    "        if prev.islower() and after.isupper():\n",
    "            new_str = new_str + prev + \"\\n\"\n",
    "        else:\n",
    "            new_str = new_str + prev\n",
    "\n",
    "print(new_str)\n"
   ]
  },
  {
   "cell_type": "code",
   "execution_count": 216,
   "metadata": {},
   "outputs": [],
   "source": [
    "# Create a function to correct all lyrics\n",
    "def format_lyrics(lyrics):\n",
    "    from string import ascii_letters, punctuation\n",
    "    nl_char_after = \"])\"\n",
    "    nl_char_before = \"[\"\n",
    "    \n",
    "    allowed = set(ascii_letters)\n",
    "    allowed_punc = set(punctuation)\n",
    "    allowed |= allowed_punc\n",
    "    allowed |= set(\" \")\n",
    "    \n",
    "    lyric_str = \"\"\n",
    "    prev_char = \"\"\n",
    "    for char in lyrics:\n",
    "        if char in allowed:\n",
    "            if char in nl_char_after:\n",
    "                lyric_str = lyric_str + char + \"\\n\"\n",
    "            elif char in nl_char_before or ((prev_char not in allowed) and char.isupper()):\n",
    "                lyric_str = lyric_str + \"\\n\" + char\n",
    "            else:\n",
    "                lyric_str = lyric_str + char\n",
    "            prev_char = char\n",
    "        else:\n",
    "            prev_char = char\n",
    "\n",
    "    new_str = \"\"\n",
    "    for index in range(0, len(lyric_str)):\n",
    "        if index+1 == len(lyric_str):\n",
    "            new_str = new_str + lyric_str[index]\n",
    "            break\n",
    "        else:\n",
    "            prev = lyric_str[index]\n",
    "            after = lyric_str[index+1]\n",
    "            if prev in allowed_punc or prev == \" \":\n",
    "                new_str = new_str + prev\n",
    "            elif prev.islower() and after.isupper():\n",
    "                new_str = new_str + prev + \"\\n\"\n",
    "            else:\n",
    "                new_str = new_str + prev\n",
    "    # Remove any double spaces\n",
    "    import re\n",
    "    new_str = re.sub(' +', ' ', new_str)\n",
    "    return new_str"
   ]
  },
  {
   "cell_type": "code",
   "execution_count": 90,
   "metadata": {},
   "outputs": [
    {
     "data": {
      "text/plain": [
       "'[비비 \"나쁜년\" 가사][Verse 1]들어오라 해눈을 깔어 왜비밀로 할게네 부정과 죄전부 드러내자릴 넘보네눈감아 줄게네 본성과 뇌춤추는 저 장미를 꺾어완성한 왕관 나의 것다시는 얼신 못하게가시를 친 성관[Pre-Chorus]Watch me danceWatch me sing여기까진 놓아줄게도망가 얼른Watch me danceWatch me sing다신 붙잡히지 마그땐 보게 되는 거야나쁜년[Chorus]나쁜년 아주 그냥 나쁜년나쁜년 아주 그냥 나쁜년나쁜년 아주 그냥 나쁜년다신 붙잡히지 마그땐 보게 되는 거야미친년[Verse 2]I got mercy, I got graceDesperado with the scalesThrow a rose on your bodyMask of Zorro I\\'m so wanted그러 쥐어 나를 꺾어상처가 남은 손을 적셔Look scared안아 너를 보듬어 주지술로 씻어 죄를 사하여주지'"
      ]
     },
     "execution_count": 90,
     "metadata": {},
     "output_type": "execute_result"
    }
   ],
   "source": [
    "df_88_comp['lyrics'][0]"
   ]
  },
  {
   "cell_type": "code",
   "execution_count": 217,
   "metadata": {},
   "outputs": [
    {
     "name": "stdout",
     "output_type": "stream",
     "text": [
      "\n",
      "[ \"\" ]\n",
      "\n",
      "[Verse ]\n",
      " \n",
      "[Pre-Chorus]\n",
      "Watch me dance\n",
      "Watch me sing \n",
      "Watch me dance\n",
      "Watch me sing \n",
      "[Chorus]\n",
      " \n",
      "[Verse ]\n",
      "I got mercy, I got grace\n",
      "Desperado with the scales\n",
      "Throw a rose on your body\n",
      "Mask of Zorro I'm so wanted \n",
      "Look scared \n"
     ]
    }
   ],
   "source": [
    "# Test function on BIBI (korean artist)\n",
    "bibi_test = format_lyrics(df_88_comp['lyrics'][0])\n",
    "print(bibi_test)"
   ]
  },
  {
   "cell_type": "code",
   "execution_count": 218,
   "metadata": {},
   "outputs": [
    {
     "name": "stdout",
     "output_type": "stream",
     "text": [
      "\n",
      "[Intro: Rich Brian]\n",
      "Ayy\n",
      "[Chorus: Rich Brian]\n",
      "Uh, always workin' hard, I just got it in my genes (Uh)\n",
      "Think so much, Ithinkmy brain isburnin' calories (Uh)\n",
      "I'm mostly quiet, but\n",
      "I'm always wildin' when I drink (Uh)\n",
      "To you, it's fantasies, but to me, it's just last week (Uh)\n",
      "I don't never stress none of that shit from yesterday\n",
      "At nine, I got a date, told her that she could pick the place\n",
      "Don't tell me we're the same, little bitch, this is night and day\n",
      "I thought we was in Bali, shit feel like holidays\n",
      "[Verse : Rich Brian]\n",
      "I spent my day with a smile and with my soul intact\n",
      "But you just spent your day on simpin', hopin' that she gon' call you back, yeah\n",
      "Stop answerin' all the questions when nobody asked\n",
      "You geekin' when you winning, and it shows me you ain't used to that, yeah\n",
      "My life is startin' to look like a completed bucket list, ayy\n",
      "You know you in some trouble if your girl know I exist\n",
      "I been winning and I know that's what you hate to see\n",
      "I feel like I'm six foot tall whenever you stand next to me\n",
      "Yeah, my schedule's packed, I got a pool, I haven't swam in it\n",
      "Like yeah, I'm on a date, we watchin' Parasite, she lovin' it\n",
      "Like ayy, yeah, ayy, I like to keep my dates affordable\n",
      "Like ayy, yeah, ayy, that's why I got on Forbes' article, like ayy\n",
      "You like to hate, but you can't walk a mile inside my shoes, ayy\n",
      "I'm schoolin' all these rappers, but I never went to school, uh\n",
      "You say you rollin' deep, those numbers 'bout to get reduced\n",
      "I came from Indonesia, but inside I never moved\n",
      "[Chorus: Rich Brian]\n",
      "Uh, always workin' hard, I just got it in my genes (Uh)\n",
      "Think so much, I think my brain is burnin' calories (Uh)\n",
      "I'm mostly quiet, but I'm always wildin' when I drink (Uh)\n",
      "To you, it's fantasies, but to me, it's just last week (Uh)\n",
      "I don't never stress none of that shit from yesterday\n",
      "At nine, I got a date, told her that she could pick the place\n",
      "Don't tell me we're the same, little bitch, this is night and day\n",
      "I thought we was in Bali, shit feel like holidays\n"
     ]
    }
   ],
   "source": [
    "# Test Function on Rich Brian - BALI\n",
    "rb_test = format_lyrics(test1[135])\n",
    "print(rb_test)"
   ]
  },
  {
   "cell_type": "code",
   "execution_count": 219,
   "metadata": {},
   "outputs": [
    {
     "name": "stderr",
     "output_type": "stream",
     "text": [
      "C:\\Users\\krist\\AppData\\Local\\Temp\\ipykernel_22932\\3993139583.py:2: SettingWithCopyWarning: \n",
      "A value is trying to be set on a copy of a slice from a DataFrame.\n",
      "Try using .loc[row_indexer,col_indexer] = value instead\n",
      "\n",
      "See the caveats in the documentation: https://pandas.pydata.org/pandas-docs/stable/user_guide/indexing.html#returning-a-view-versus-a-copy\n",
      "  df_88_comp['formatted_lyrics'] = df_88_comp['lyrics'].apply(lambda x: format_lyrics(x))\n"
     ]
    },
    {
     "data": {
      "text/plain": [
       "0      \\n[ \"\" ]\\n\\n[Verse ]\\n \\n[Pre-Chorus]\\nWatch me dance\\nWatch me sing \\nWatch me dance\\nWatch me sing \\n[Chorus]\\n \\n[Verse ]\\nI got mercy, I got grace\\nDesperado with the scales\\nThrow a rose on y...\n",
       "1      \\n[ \" \" ]\\n\\n[Verse ]\\nDice and Ice cube \\nHome girls bitches \\nSpin it, spin it,pussy \\nChips andchips and chips and \\nDemon under the table \\nRisk it, risk it, risk it, till the last dime\\n[Pre-...\n",
       "2      \\n[ \"\" ]\\n\\n[Verse ]\\n champagne \\n[Pre-Chorus]\\nIt might be pretty, it might be beautiful\\nIt might be grand\\nThis might be right, this might be justice\\nBut I\\n[Chorus]\\n \\n[Verse ]\\nWelcome, we...\n",
       "3      \\n[ \"BAD SAD AND MAD\" ]\\n\\n[Refrain]\\nYou blued my bruise\\nPink me with ties\\nYou red my mind\\nYou red my mind\\nBlack my bones and\\nPurple my eyes\\nYou red my mind\\nYeah, you red my mind (Ah-ah-ah...\n",
       "5                                                                                                           \\n[ \"\" ]\\n\\n[Verse ]\\n \\n[Pre-Chorus]\\n \\n[Chorus]\\n \\n[Verse ]\\n , \\n[Pre-Chorus]\\n \\n[Chorus]\\n \n",
       "                                                                                                        ...                                                                                                   \n",
       "451    \\n[Verse ]\\nAyy, ayy, ayy\\nWent to Los Angeles\\nDissin all these weak boys how D. Rose ankle is\\nCopy bro, avalanche\\nWay I'm too cold, turned a pro to a average\\nProne to being goat, sheep's ques...\n",
       "453    \\n[Verse : Warren Hue]\\n(I wanna be like)\\nI've been stuck inside the stu, this shit like my home, ayy\\nSee my bank account get bigger when my eyes close, ayy\\nChain so bling the cameraman gon' ch...\n",
       "455    \\n[Intro]\\nUh, uh, ayy, ya-ya\\nUh, uh, turn-turn, ya-ya\\nT-turn, ya, uh-uh\\nYa, ayy, ya, ayy, ya-ya\\n[Chorus]\\nBeen lit, ayy\\nShout out all my ex, bitches hoe they still lit, ayy\\nShout out Sean, ...\n",
       "456    \\n[Chorus]\\nWon't you, run away with me this evening?Oh true, I could never shake this feeling\\nWon't you, love me 'til we reach the weekend?Oh true, run away with me, we're leaving\\n[Verse ]\\nYea...\n",
       "457    \\n[Pre-Chorus]\\nYour neck covered in jade\\nYour kicks covered with Js\\nYou look like a magazine cover\\nDo you still think about me I wonder, wonder (ayy)\\nAnd I know, and I know you hate me\\nAnd I...\n",
       "Name: formatted_lyrics, Length: 281, dtype: object"
      ]
     },
     "execution_count": 219,
     "metadata": {},
     "output_type": "execute_result"
    }
   ],
   "source": [
    "# Reformat all lyrics using the format_lyrics function\n",
    "df_88_comp['formatted_lyrics'] = df_88_comp['lyrics'].apply(lambda x: format_lyrics(x))\n",
    "df_88_comp['formatted_lyrics']"
   ]
  },
  {
   "cell_type": "code",
   "execution_count": 165,
   "metadata": {},
   "outputs": [
    {
     "data": {
      "text/html": [
       "<div>\n",
       "<style scoped>\n",
       "    .dataframe tbody tr th:only-of-type {\n",
       "        vertical-align: middle;\n",
       "    }\n",
       "\n",
       "    .dataframe tbody tr th {\n",
       "        vertical-align: top;\n",
       "    }\n",
       "\n",
       "    .dataframe thead th {\n",
       "        text-align: right;\n",
       "    }\n",
       "</style>\n",
       "<table border=\"1\" class=\"dataframe\">\n",
       "  <thead>\n",
       "    <tr style=\"text-align: right;\">\n",
       "      <th></th>\n",
       "      <th>Unnamed: 0</th>\n",
       "      <th>track</th>\n",
       "      <th>album</th>\n",
       "      <th>artist</th>\n",
       "      <th>popularity</th>\n",
       "      <th>featured</th>\n",
       "      <th>release_date</th>\n",
       "      <th>track_id</th>\n",
       "      <th>danceability</th>\n",
       "      <th>energy</th>\n",
       "      <th>...</th>\n",
       "      <th>instrumentalness</th>\n",
       "      <th>liveness</th>\n",
       "      <th>valence</th>\n",
       "      <th>tempo</th>\n",
       "      <th>duration_ms</th>\n",
       "      <th>time_signature</th>\n",
       "      <th>lyrics</th>\n",
       "      <th>filtered_lyrics</th>\n",
       "      <th>genre</th>\n",
       "      <th>formatted_lyrics</th>\n",
       "    </tr>\n",
       "  </thead>\n",
       "  <tbody>\n",
       "    <tr>\n",
       "      <th>0</th>\n",
       "      <td>0</td>\n",
       "      <td>BIBI Vengeance</td>\n",
       "      <td>Lowlife Princess: Noir</td>\n",
       "      <td>BIBI</td>\n",
       "      <td>76</td>\n",
       "      <td>BIBI</td>\n",
       "      <td>2022-11-17</td>\n",
       "      <td>0ra3bPUOj2YnY4FJHXtgHZ</td>\n",
       "      <td>0.442</td>\n",
       "      <td>0.748</td>\n",
       "      <td>...</td>\n",
       "      <td>0.000128</td>\n",
       "      <td>0.0642</td>\n",
       "      <td>0.408</td>\n",
       "      <td>99.981</td>\n",
       "      <td>165135</td>\n",
       "      <td>4</td>\n",
       "      <td>[비비 \"나쁜년\" 가사][Verse 1]들어오라 해눈을 깔어 왜비밀로 할게네 부정과 죄전부 드러내자릴 넘보네눈감아 줄게네 본성과 뇌춤추는 저 장미를 꺾어완성한 왕관 나의 것다시는 얼신 못하게가시를 친 성관[Pre-Chorus]Watch me danceWatch me sing여기까진 놓아줄게도망가 얼른Watch me danceWatch me sing다...</td>\n",
       "      <td>Watch me danceWatch me sing Watch me danceWatch me sing I got mercy I got graceDesperado with the scalesThrow a rose on your bodyMask of Zorro I m so wanted Look scared</td>\n",
       "      <td>['R&amp;B', 'K-R&amp;B', 'Reggaetón', 'South Korea', 'Genius Korea', 'Korean', 'K-Solo']</td>\n",
       "      <td>\\n[ \"\" ]\\n\\n[Verse ]\\n \\n[Pre-Chorus]\\nWatch me dance\\nWatch me sing \\nWatch me dance\\nWatch me sing \\n[Chorus]\\n \\n[Verse ]\\nI got mercy, I got grace\\nDesperado with the scales\\nThrow a rose on y...</td>\n",
       "    </tr>\n",
       "  </tbody>\n",
       "</table>\n",
       "<p>1 rows × 24 columns</p>\n",
       "</div>"
      ],
      "text/plain": [
       "   Unnamed: 0           track                   album artist  popularity  \\\n",
       "0           0  BIBI Vengeance  Lowlife Princess: Noir   BIBI          76   \n",
       "\n",
       "  featured release_date                track_id  danceability  energy  ...  \\\n",
       "0     BIBI   2022-11-17  0ra3bPUOj2YnY4FJHXtgHZ         0.442   0.748  ...   \n",
       "\n",
       "   instrumentalness  liveness  valence   tempo  duration_ms  time_signature  \\\n",
       "0          0.000128    0.0642    0.408  99.981       165135               4   \n",
       "\n",
       "                                                                                                                                                                                                    lyrics  \\\n",
       "0  [비비 \"나쁜년\" 가사][Verse 1]들어오라 해눈을 깔어 왜비밀로 할게네 부정과 죄전부 드러내자릴 넘보네눈감아 줄게네 본성과 뇌춤추는 저 장미를 꺾어완성한 왕관 나의 것다시는 얼신 못하게가시를 친 성관[Pre-Chorus]Watch me danceWatch me sing여기까진 놓아줄게도망가 얼른Watch me danceWatch me sing다...   \n",
       "\n",
       "                                                                                                                                                              filtered_lyrics  \\\n",
       "0   Watch me danceWatch me sing Watch me danceWatch me sing I got mercy I got graceDesperado with the scalesThrow a rose on your bodyMask of Zorro I m so wanted Look scared    \n",
       "\n",
       "                                                                              genre  \\\n",
       "0  ['R&B', 'K-R&B', 'Reggaetón', 'South Korea', 'Genius Korea', 'Korean', 'K-Solo']   \n",
       "\n",
       "                                                                                                                                                                                          formatted_lyrics  \n",
       "0  \\n[ \"\" ]\\n\\n[Verse ]\\n \\n[Pre-Chorus]\\nWatch me dance\\nWatch me sing \\nWatch me dance\\nWatch me sing \\n[Chorus]\\n \\n[Verse ]\\nI got mercy, I got grace\\nDesperado with the scales\\nThrow a rose on y...  \n",
       "\n",
       "[1 rows x 24 columns]"
      ]
     },
     "execution_count": 165,
     "metadata": {},
     "output_type": "execute_result"
    }
   ],
   "source": [
    "df_88_comp.head(1)"
   ]
  },
  {
   "cell_type": "code",
   "execution_count": null,
   "metadata": {},
   "outputs": [],
   "source": [
    "test_df = pd.DataFrame('prompt': {1,2}, 'completion': {'testing'})\n",
    "test_df"
   ]
  },
  {
   "cell_type": "code",
   "execution_count": 178,
   "metadata": {},
   "outputs": [],
   "source": [
    "# Create a Prompt\n",
    "def format_prompt(artist, track):\n",
    "    prompt = prompt = f'Artist: {artist} \\n\\nTopic: {track} \\n\\nLyrics:\\n'\n",
    "    return prompt\n",
    "\n",
    "def format_compl(lyric):\n",
    "    completion = f' {lyric}\\n###END'\n",
    "    return completion"
   ]
  },
  {
   "cell_type": "code",
   "execution_count": 175,
   "metadata": {},
   "outputs": [
    {
     "data": {
      "text/plain": [
       "'formatted_lyrics'"
      ]
     },
     "execution_count": 175,
     "metadata": {},
     "output_type": "execute_result"
    }
   ],
   "source": [
    "df_88_comp.columns[23]"
   ]
  },
  {
   "cell_type": "code",
   "execution_count": 195,
   "metadata": {},
   "outputs": [
    {
     "name": "stdout",
     "output_type": "stream",
     "text": [
      " 0      \\n[ \"\" ]\\n\\n[Verse ]\\n \\n[Pre-Chorus]\\nWatch me dance\\nWatch me sing \\nWatch me dance\\nWatch me sing \\n[Chorus]\\n \\n[Verse ]\\nI got mercy, I got grace\\nDesperado with the scales\\nThrow a rose on y...\n",
      "1      \\n[ \" \" ]\\n\\n[Verse ]\\nDice and Ice cube \\nHome girls bitches \\nSpin it, spin it,pussy \\nChips andchips and chips and \\nDemon under the table \\nRisk it, risk it, risk it, till the last dime\\n[Pre-...\n",
      "2      \\n[ \"\" ]\\n\\n[Verse ]\\n champagne \\n[Pre-Chorus]\\nIt might be pretty, it might be beautiful\\nIt might be grand\\nThis might be right, this might be justice\\nBut I\\n[Chorus]\\n \\n[Verse ]\\nWelcome, we...\n",
      "3      \\n[ \"BAD SAD AND MAD\" ]\\n\\n[Refrain]\\nYou blued my bruise\\nPink me with ties\\nYou red my mind\\nYou red my mind\\nBlack my bones and\\nPurple my eyes\\nYou red my mind\\nYeah, you red my mind (Ah-ah-ah...\n",
      "5                                                                                                           \\n[ \"\" ]\\n\\n[Verse ]\\n \\n[Pre-Chorus]\\n \\n[Chorus]\\n \\n[Verse ]\\n , \\n[Pre-Chorus]\\n \\n[Chorus]\\n \n",
      "                                                                                                        ...                                                                                                   \n",
      "451    \\n[Verse ]\\nAyy, ayy, ayy\\nWent to Los Angeles\\nDissin all these weak boys how D. Rose ankle is\\nCopy bro, avalanche\\nWay I'm too cold, turned a pro to a average\\nProne to being goat, sheep's ques...\n",
      "453    \\n[Verse : Warren Hue]\\n(I wanna be like)\\nI've been stuck inside the stu, this shit like my home, ayy\\nSee my bank account get bigger when my eyes close, ayy\\nChain so bling the cameraman gon' ch...\n",
      "455    \\n[Intro]\\nUh, uh, ayy, ya-ya\\nUh, uh, turn-turn, ya-ya\\nT-turn, ya, uh-uh\\nYa, ayy, ya, ayy, ya-ya\\n[Chorus]\\nBeen lit, ayy\\nShout out all my ex, bitches hoe they still lit, ayy\\nShout out Sean, ...\n",
      "456    \\n[Chorus]\\nWon't you, run away with me this evening?Oh true, I could never shake this feeling\\nWon't you, love me 'til we reach the weekend?Oh true, run away with me, we're leaving\\n[Verse ]\\nYea...\n",
      "457    \\n[Pre-Chorus]\\nYour neck covered in jade\\nYour kicks covered with Js\\nYou look like a magazine cover\\nDo you still think about me I wonder, wonder (ayy)\\nAnd I know, and I know you hate me\\nAnd I...\n",
      "Name: formatted_lyrics, Length: 281, dtype: object\n",
      "###END\n"
     ]
    },
    {
     "data": {
      "text/html": [
       "<div>\n",
       "<style scoped>\n",
       "    .dataframe tbody tr th:only-of-type {\n",
       "        vertical-align: middle;\n",
       "    }\n",
       "\n",
       "    .dataframe tbody tr th {\n",
       "        vertical-align: top;\n",
       "    }\n",
       "\n",
       "    .dataframe thead th {\n",
       "        text-align: right;\n",
       "    }\n",
       "</style>\n",
       "<table border=\"1\" class=\"dataframe\">\n",
       "  <thead>\n",
       "    <tr style=\"text-align: right;\">\n",
       "      <th></th>\n",
       "      <th>artist</th>\n",
       "      <th>track</th>\n",
       "    </tr>\n",
       "  </thead>\n",
       "  <tbody>\n",
       "    <tr>\n",
       "      <th>0</th>\n",
       "      <td>BIBI</td>\n",
       "      <td>BIBI Vengeance</td>\n",
       "    </tr>\n",
       "    <tr>\n",
       "      <th>1</th>\n",
       "      <td>BIBI</td>\n",
       "      <td>KAZINO</td>\n",
       "    </tr>\n",
       "  </tbody>\n",
       "</table>\n",
       "</div>"
      ],
      "text/plain": [
       "  artist           track\n",
       "0   BIBI  BIBI Vengeance\n",
       "1   BIBI          KAZINO"
      ]
     },
     "execution_count": 195,
     "metadata": {},
     "output_type": "execute_result"
    }
   ],
   "source": [
    "print(format_compl(df_88_comp['formatted_lyrics']))\n",
    "df_88_comp[['artist','track']][0:2]"
   ]
  },
  {
   "cell_type": "code",
   "execution_count": 202,
   "metadata": {},
   "outputs": [
    {
     "data": {
      "text/html": [
       "<div>\n",
       "<style scoped>\n",
       "    .dataframe tbody tr th:only-of-type {\n",
       "        vertical-align: middle;\n",
       "    }\n",
       "\n",
       "    .dataframe tbody tr th {\n",
       "        vertical-align: top;\n",
       "    }\n",
       "\n",
       "    .dataframe thead th {\n",
       "        text-align: right;\n",
       "    }\n",
       "</style>\n",
       "<table border=\"1\" class=\"dataframe\">\n",
       "  <thead>\n",
       "    <tr style=\"text-align: right;\">\n",
       "      <th></th>\n",
       "      <th>prompt</th>\n",
       "      <th>completion</th>\n",
       "    </tr>\n",
       "  </thead>\n",
       "  <tbody>\n",
       "    <tr>\n",
       "      <th>0</th>\n",
       "      <td>Artist: BIBI \\n\\nTopic: BIBI Vengeance \\n\\nLyrics:\\n</td>\n",
       "      <td>\\n[ \"\" ]\\n\\n[Verse ]\\n \\n[Pre-Chorus]\\nWatch me dance\\nWatch me sing \\nWatch me dance\\nWatch me sing \\n[Chorus]\\n \\n[Verse ]\\nI got mercy, I got grace\\nDesperado with the scales\\nThrow a rose on ...</td>\n",
       "    </tr>\n",
       "    <tr>\n",
       "      <th>1</th>\n",
       "      <td>Artist: BIBI \\n\\nTopic: KAZINO \\n\\nLyrics:\\n</td>\n",
       "      <td>\\n[ \" \" ]\\n\\n[Verse ]\\nDice and Ice cube \\nHome girls bitches \\nSpin it, spin it,pussy \\nChips andchips and chips and \\nDemon under the table \\nRisk it, risk it, risk it, till the last dime\\n[Pre...</td>\n",
       "    </tr>\n",
       "  </tbody>\n",
       "</table>\n",
       "</div>"
      ],
      "text/plain": [
       "                                                 prompt  \\\n",
       "0  Artist: BIBI \\n\\nTopic: BIBI Vengeance \\n\\nLyrics:\\n   \n",
       "1          Artist: BIBI \\n\\nTopic: KAZINO \\n\\nLyrics:\\n   \n",
       "\n",
       "                                                                                                                                                                                                completion  \n",
       "0   \\n[ \"\" ]\\n\\n[Verse ]\\n \\n[Pre-Chorus]\\nWatch me dance\\nWatch me sing \\nWatch me dance\\nWatch me sing \\n[Chorus]\\n \\n[Verse ]\\nI got mercy, I got grace\\nDesperado with the scales\\nThrow a rose on ...  \n",
       "1   \\n[ \" \" ]\\n\\n[Verse ]\\nDice and Ice cube \\nHome girls bitches \\nSpin it, spin it,pussy \\nChips andchips and chips and \\nDemon under the table \\nRisk it, risk it, risk it, till the last dime\\n[Pre...  "
      ]
     },
     "execution_count": 202,
     "metadata": {},
     "output_type": "execute_result"
    }
   ],
   "source": [
    "# Create a column with the prompt\n",
    "df_88_jsonl = pd.DataFrame()\n",
    "df_88_jsonl['prompt'] = df_88_comp.apply(lambda x: format_prompt(x.artist, x.track), axis=1)\n",
    "df_88_jsonl['completion'] = df_88_comp['formatted_lyrics'].apply(lambda x: format_compl(x))\n",
    "df_88_jsonl.head(2)"
   ]
  },
  {
   "cell_type": "code",
   "execution_count": 205,
   "metadata": {},
   "outputs": [],
   "source": [
    "# Save as jsonl file\n",
    "df_88_jsonl.to_json('tuning_88R_data.jsonl', orient='records', lines=True)"
   ]
  },
  {
   "cell_type": "code",
   "execution_count": 224,
   "metadata": {},
   "outputs": [],
   "source": [
    "# Save Data as CSV\n",
    "df_88_comp.to_csv('formatted_lyrics_88.csv')"
   ]
  }
 ],
 "metadata": {
  "kernelspec": {
   "display_name": "Python 3.9.12 ('base')",
   "language": "python",
   "name": "python3"
  },
  "language_info": {
   "codemirror_mode": {
    "name": "ipython",
    "version": 3
   },
   "file_extension": ".py",
   "mimetype": "text/x-python",
   "name": "python",
   "nbconvert_exporter": "python",
   "pygments_lexer": "ipython3",
   "version": "3.9.12"
  },
  "orig_nbformat": 4,
  "vscode": {
   "interpreter": {
    "hash": "fd5f0602b361fcd80b6e43c9db32d5ff96b182a40640908c77b502a93aa9387e"
   }
  }
 },
 "nbformat": 4,
 "nbformat_minor": 2
}
