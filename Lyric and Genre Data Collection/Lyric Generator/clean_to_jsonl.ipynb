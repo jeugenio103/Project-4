{
 "cells": [
  {
   "cell_type": "code",
   "execution_count": 49,
   "metadata": {},
   "outputs": [],
   "source": [
    "import pandas as pd\n",
    "import json"
   ]
  },
  {
   "cell_type": "code",
   "execution_count": 2,
   "metadata": {},
   "outputs": [
    {
     "data": {
      "text/html": [
       "<div>\n",
       "<style scoped>\n",
       "    .dataframe tbody tr th:only-of-type {\n",
       "        vertical-align: middle;\n",
       "    }\n",
       "\n",
       "    .dataframe tbody tr th {\n",
       "        vertical-align: top;\n",
       "    }\n",
       "\n",
       "    .dataframe thead th {\n",
       "        text-align: right;\n",
       "    }\n",
       "</style>\n",
       "<table border=\"1\" class=\"dataframe\">\n",
       "  <thead>\n",
       "    <tr style=\"text-align: right;\">\n",
       "      <th></th>\n",
       "      <th>Unnamed: 0</th>\n",
       "      <th>track</th>\n",
       "      <th>album</th>\n",
       "      <th>artist</th>\n",
       "      <th>popularity</th>\n",
       "      <th>featured</th>\n",
       "      <th>release_date</th>\n",
       "      <th>track_id</th>\n",
       "      <th>danceability</th>\n",
       "      <th>energy</th>\n",
       "      <th>...</th>\n",
       "      <th>speechiness</th>\n",
       "      <th>instrumentalness</th>\n",
       "      <th>liveness</th>\n",
       "      <th>valence</th>\n",
       "      <th>tempo</th>\n",
       "      <th>duration_ms</th>\n",
       "      <th>time_signature</th>\n",
       "      <th>lyrics</th>\n",
       "      <th>filtered_lyrics</th>\n",
       "      <th>genre</th>\n",
       "    </tr>\n",
       "  </thead>\n",
       "  <tbody>\n",
       "    <tr>\n",
       "      <th>0</th>\n",
       "      <td>0</td>\n",
       "      <td>BIBI Vengeance</td>\n",
       "      <td>Lowlife Princess: Noir</td>\n",
       "      <td>BIBI</td>\n",
       "      <td>76</td>\n",
       "      <td>BIBI</td>\n",
       "      <td>2022-11-17</td>\n",
       "      <td>0ra3bPUOj2YnY4FJHXtgHZ</td>\n",
       "      <td>0.442</td>\n",
       "      <td>0.748</td>\n",
       "      <td>...</td>\n",
       "      <td>0.0895</td>\n",
       "      <td>0.000128</td>\n",
       "      <td>0.0642</td>\n",
       "      <td>0.408</td>\n",
       "      <td>99.981</td>\n",
       "      <td>165135</td>\n",
       "      <td>4</td>\n",
       "      <td>[비비 \"나쁜년\" 가사][Verse 1]들어오라 해눈을 깔어 왜비밀로 할게네 부정과...</td>\n",
       "      <td>Watch me danceWatch me sing Watch me danceWat...</td>\n",
       "      <td>['R&amp;B', 'K-R&amp;B', 'Reggaetón', 'South Korea', '...</td>\n",
       "    </tr>\n",
       "    <tr>\n",
       "      <th>1</th>\n",
       "      <td>1</td>\n",
       "      <td>KAZINO</td>\n",
       "      <td>KAZINO</td>\n",
       "      <td>BIBI</td>\n",
       "      <td>68</td>\n",
       "      <td>BIBI</td>\n",
       "      <td>2020-04-29</td>\n",
       "      <td>245onUPHGD1DYuiacxTuW0</td>\n",
       "      <td>0.625</td>\n",
       "      <td>0.686</td>\n",
       "      <td>...</td>\n",
       "      <td>0.0414</td>\n",
       "      <td>0.000000</td>\n",
       "      <td>0.1100</td>\n",
       "      <td>0.263</td>\n",
       "      <td>133.041</td>\n",
       "      <td>185947</td>\n",
       "      <td>4</td>\n",
       "      <td>[비비 \"사장님 도박은 재미로 하셔야 합니다\" 가사][Verse 1]Dice and...</td>\n",
       "      <td>Dice and Ice cube Home girls bitches Spin it ...</td>\n",
       "      <td>['R&amp;B', 'South Korea', 'Trap', 'Korean']</td>\n",
       "    </tr>\n",
       "    <tr>\n",
       "      <th>2</th>\n",
       "      <td>2</td>\n",
       "      <td>Animal Farm</td>\n",
       "      <td>Animal Farm</td>\n",
       "      <td>BIBI</td>\n",
       "      <td>67</td>\n",
       "      <td>BIBI</td>\n",
       "      <td>2022-09-27</td>\n",
       "      <td>3gAXVQOR0h7Ks71lsr5MFZ</td>\n",
       "      <td>0.617</td>\n",
       "      <td>0.570</td>\n",
       "      <td>...</td>\n",
       "      <td>0.0308</td>\n",
       "      <td>0.000006</td>\n",
       "      <td>0.5500</td>\n",
       "      <td>0.375</td>\n",
       "      <td>107.971</td>\n",
       "      <td>203946</td>\n",
       "      <td>3</td>\n",
       "      <td>[비비 \"가면무도회\" 가사][Verse 1]죄악의 단어위선의 가면넘쳐흐르는 무도회장...</td>\n",
       "      <td>champagne It might be pretty it might be beau...</td>\n",
       "      <td>['R&amp;B', 'Korean', 'K-R&amp;B', 'K-Solo', 'South Ko...</td>\n",
       "    </tr>\n",
       "    <tr>\n",
       "      <th>3</th>\n",
       "      <td>3</td>\n",
       "      <td>BAD SAD AND MAD</td>\n",
       "      <td>Life is a Bi…</td>\n",
       "      <td>BIBI</td>\n",
       "      <td>66</td>\n",
       "      <td>BIBI</td>\n",
       "      <td>2021-04-28</td>\n",
       "      <td>0zPbUxvYRlCGwruakkXPLI</td>\n",
       "      <td>0.746</td>\n",
       "      <td>0.558</td>\n",
       "      <td>...</td>\n",
       "      <td>0.0880</td>\n",
       "      <td>0.000190</td>\n",
       "      <td>0.0904</td>\n",
       "      <td>0.638</td>\n",
       "      <td>90.013</td>\n",
       "      <td>154988</td>\n",
       "      <td>4</td>\n",
       "      <td>[비비 \"BAD SAD AND MAD\" 가사][Refrain]You blued my...</td>\n",
       "      <td>BAD SAD AND MAD Refrain You blued my bruisePi...</td>\n",
       "      <td>['R&amp;B', 'K-R&amp;B', 'Korean', 'K-Solo', 'South Ko...</td>\n",
       "    </tr>\n",
       "    <tr>\n",
       "      <th>4</th>\n",
       "      <td>4</td>\n",
       "      <td>Very, Slowly</td>\n",
       "      <td>Twenty-Five Twenty-One OST Part 3</td>\n",
       "      <td>BIBI</td>\n",
       "      <td>62</td>\n",
       "      <td>BIBI</td>\n",
       "      <td>2022-02-20</td>\n",
       "      <td>7GkHIsnziYgk6j1lx2TK6H</td>\n",
       "      <td>0.528</td>\n",
       "      <td>0.423</td>\n",
       "      <td>...</td>\n",
       "      <td>0.0264</td>\n",
       "      <td>0.001480</td>\n",
       "      <td>0.1670</td>\n",
       "      <td>0.249</td>\n",
       "      <td>135.917</td>\n",
       "      <td>214852</td>\n",
       "      <td>4</td>\n",
       "      <td>missing</td>\n",
       "      <td>missing</td>\n",
       "      <td>[]</td>\n",
       "    </tr>\n",
       "  </tbody>\n",
       "</table>\n",
       "<p>5 rows × 23 columns</p>\n",
       "</div>"
      ],
      "text/plain": [
       "   Unnamed: 0            track                              album artist  \\\n",
       "0           0   BIBI Vengeance             Lowlife Princess: Noir   BIBI   \n",
       "1           1           KAZINO                             KAZINO   BIBI   \n",
       "2           2      Animal Farm                        Animal Farm   BIBI   \n",
       "3           3  BAD SAD AND MAD                      Life is a Bi…   BIBI   \n",
       "4           4     Very, Slowly  Twenty-Five Twenty-One OST Part 3   BIBI   \n",
       "\n",
       "   popularity featured release_date                track_id  danceability  \\\n",
       "0          76     BIBI   2022-11-17  0ra3bPUOj2YnY4FJHXtgHZ         0.442   \n",
       "1          68     BIBI   2020-04-29  245onUPHGD1DYuiacxTuW0         0.625   \n",
       "2          67     BIBI   2022-09-27  3gAXVQOR0h7Ks71lsr5MFZ         0.617   \n",
       "3          66     BIBI   2021-04-28  0zPbUxvYRlCGwruakkXPLI         0.746   \n",
       "4          62     BIBI   2022-02-20  7GkHIsnziYgk6j1lx2TK6H         0.528   \n",
       "\n",
       "   energy  ...  speechiness  instrumentalness  liveness  valence    tempo  \\\n",
       "0   0.748  ...       0.0895          0.000128    0.0642    0.408   99.981   \n",
       "1   0.686  ...       0.0414          0.000000    0.1100    0.263  133.041   \n",
       "2   0.570  ...       0.0308          0.000006    0.5500    0.375  107.971   \n",
       "3   0.558  ...       0.0880          0.000190    0.0904    0.638   90.013   \n",
       "4   0.423  ...       0.0264          0.001480    0.1670    0.249  135.917   \n",
       "\n",
       "   duration_ms  time_signature  \\\n",
       "0       165135               4   \n",
       "1       185947               4   \n",
       "2       203946               3   \n",
       "3       154988               4   \n",
       "4       214852               4   \n",
       "\n",
       "                                              lyrics  \\\n",
       "0  [비비 \"나쁜년\" 가사][Verse 1]들어오라 해눈을 깔어 왜비밀로 할게네 부정과...   \n",
       "1  [비비 \"사장님 도박은 재미로 하셔야 합니다\" 가사][Verse 1]Dice and...   \n",
       "2  [비비 \"가면무도회\" 가사][Verse 1]죄악의 단어위선의 가면넘쳐흐르는 무도회장...   \n",
       "3  [비비 \"BAD SAD AND MAD\" 가사][Refrain]You blued my...   \n",
       "4                                            missing   \n",
       "\n",
       "                                     filtered_lyrics  \\\n",
       "0   Watch me danceWatch me sing Watch me danceWat...   \n",
       "1   Dice and Ice cube Home girls bitches Spin it ...   \n",
       "2   champagne It might be pretty it might be beau...   \n",
       "3   BAD SAD AND MAD Refrain You blued my bruisePi...   \n",
       "4                                            missing   \n",
       "\n",
       "                                               genre  \n",
       "0  ['R&B', 'K-R&B', 'Reggaetón', 'South Korea', '...  \n",
       "1           ['R&B', 'South Korea', 'Trap', 'Korean']  \n",
       "2  ['R&B', 'Korean', 'K-R&B', 'K-Solo', 'South Ko...  \n",
       "3  ['R&B', 'K-R&B', 'Korean', 'K-Solo', 'South Ko...  \n",
       "4                                                 []  \n",
       "\n",
       "[5 rows x 23 columns]"
      ]
     },
     "execution_count": 2,
     "metadata": {},
     "output_type": "execute_result"
    }
   ],
   "source": [
    "# Import 88Rising Data with Lyrics\n",
    "df_88 = pd.read_csv('../../Test-Data/pre-final-88-genre.csv')\n",
    "df_88.head()"
   ]
  },
  {
   "cell_type": "code",
   "execution_count": 8,
   "metadata": {},
   "outputs": [
    {
     "data": {
      "text/plain": [
       "array(['BIBI', 'CHUNG HA', 'Keith Ape', 'Dumbfoundead', 'Guapdad 4000',\n",
       "       'Rich Brian', 'Higher Brothers', 'Jackson Wang', 'Joji',\n",
       "       'Lexie Liu', 'Mili', 'Seori', 'Stephanie Poetri', 'Warren Hue'],\n",
       "      dtype=object)"
      ]
     },
     "execution_count": 8,
     "metadata": {},
     "output_type": "execute_result"
    }
   ],
   "source": [
    "df_88['artist'].unique()"
   ]
  },
  {
   "cell_type": "code",
   "execution_count": 27,
   "metadata": {},
   "outputs": [
    {
     "data": {
      "text/plain": [
       "\"[Intro: Rich Brian]Ayy[Chorus: Rich Brian]Uh, always workin' hard, I just got it in my genes (Uh)Think so much, I\\u2005think\\u2005my brain is\\u2005burnin' calories (Uh)I'm mostly quiet, but\\u2005I'm always wildin' when I drink (Uh)To you, it's fantasies, but to me, it's just last week (Uh)I don't never stress none of that shit from yesterdayAt nine, I got a date, told her that she could pick the placeDon't tell me we're the same, little bitch, this is night and dayI thought we was in Bali, shit feel like holidays[Verse 1: Rich Brian]I spent my day with a smile and with my soul intactBut you just spent your day on simpin', hopin' that she gon' call you back, yeahStop answerin' all the questions when nobody askedYou geekin' when you winning, and it shows me you ain't used to that, yeahMy life is startin' to look like a completed bucket list, ayyYou know you in some trouble if your girl know I existI been winning and I know that's what you hate to seeI feel like I'm six foot tall whenever you stand next to meYeah, my schedule's packed, I got a pool, I haven't swam in itLike yeah, I'm on a date, we watchin' Parasite, she lovin' itLike ayy, yeah, ayy, I like to keep my dates affordableLike ayy, yeah, ayy, that's why I got on Forbes' article, like ayyYou like to hate, but you can't walk a mile inside my shoes, ayyI'm schoolin' all these rappers, but I never went to school, uhYou say you rollin' deep, those numbers 'bout to get reducedI came from Indonesia, but inside I never moved[Chorus: Rich Brian]Uh, always workin' hard, I just got it in my genes (Uh)Think so much, I think my brain is burnin' calories (Uh)I'm mostly quiet, but I'm always wildin' when I drink (Uh)To you, it's fantasies, but to me, it's just last week (Uh)I don't never stress none of that shit from yesterdayAt nine, I got a date, told her that she could pick the placeDon't tell me we're the same, little bitch, this is night and dayI thought we was in Bali, shit feel like holidays\""
      ]
     },
     "execution_count": 27,
     "metadata": {},
     "output_type": "execute_result"
    }
   ],
   "source": [
    "test = df_88.loc[(df_88['artist'] == 'Rich Brian') & (df_88['track'] == 'BALI'), 'lyrics']\n",
    "test[135]"
   ]
  },
  {
   "cell_type": "code",
   "execution_count": 28,
   "metadata": {},
   "outputs": [
    {
     "data": {
      "text/plain": [
       "' Intro Rich Brian Ayy Chorus Rich Brian Uh always workin hard I just got it in my genes Uh Think so much I think my brain is burnin calories Uh I m mostly quiet but I m always wildin when I drink Uh To you it s fantasies but to me it s just last week Uh I don t never stress none of that shit from yesterdayAt nine I got a date told her that she could pick the placeDon t tell me we re the same little bitch this is night and dayI thought we was in Bali shit feel like holidays  Rich Brian I spent my day with a smile and with my soul intactBut you just spent your day on simpin hopin that she gon call you back yeahStop answerin all the questions when nobody askedYou geekin when you winning and it shows me you ain t used to that yeahMy life is startin to look like a completed bucket list ayyYou know you in some trouble if your girl know I existI been winning and I know that s what you hate to seeI feel like I m six foot tall whenever you stand next to meYeah my schedule s packed I got a pool I haven t swam in itLike yeah I m on a date we watchin Parasite she lovin itLike ayy yeah ayy I like to keep my dates affordableLike ayy yeah ayy that s why I got on Forbes article like ayyYou like to hate but you can t walk a mile inside my shoes ayyI m schoolin all these rappers but I never went to school uhYou say you rollin deep those numbers bout to get reducedI came from Indonesia but inside I never moved Chorus Rich Brian Uh always workin hard I just got it in my genes Uh Think so much I think my brain is burnin calories Uh I m mostly quiet but I m always wildin when I drink Uh To you it s fantasies but to me it s just last week Uh I don t never stress none of that shit from yesterdayAt nine I got a date told her that she could pick the placeDon t tell me we re the same little bitch this is night and dayI thought we was in Bali shit feel like holidays'"
      ]
     },
     "execution_count": 28,
     "metadata": {},
     "output_type": "execute_result"
    }
   ],
   "source": [
    "test = df_88.loc[(df_88['artist'] == 'Rich Brian') & (df_88['track'] == 'BALI'), 'filtered_lyrics']\n",
    "test[135]"
   ]
  },
  {
   "cell_type": "code",
   "execution_count": 46,
   "metadata": {},
   "outputs": [],
   "source": [
    "# Create a Prompt\n",
    "def format_jsonl(artist, track, lyric):\n",
    "    prompt = prompt = f'Artist: {artist} \\n\\nTopic: {track} \\n\\nLyrics:\\n'\n",
    "    completion = lyric\n",
    "    jsonl = {\"prompt\": prompt, \"completion\" : completion}\n",
    "    return jsonl"
   ]
  },
  {
   "cell_type": "code",
   "execution_count": 47,
   "metadata": {},
   "outputs": [
    {
     "data": {
      "text/plain": [
       "{'prompt': 'Artist: BIBI \\n\\nTopic: BIBI Vengeance \\n\\nLyrics:\\n',\n",
       " 'completion': '[비비 \"나쁜년\" 가사][Verse 1]들어오라 해눈을 깔어 왜비밀로 할게네 부정과 죄전부 드러내자릴 넘보네눈감아 줄게네 본성과 뇌춤추는 저 장미를 꺾어완성한 왕관 나의 것다시는 얼신 못하게가시를 친 성관[Pre-Chorus]Watch me danceWatch me sing여기까진 놓아줄게도망가 얼른Watch me danceWatch me sing다신 붙잡히지 마그땐 보게 되는 거야나쁜년[Chorus]나쁜년 아주 그냥 나쁜년나쁜년 아주 그냥 나쁜년나쁜년 아주 그냥 나쁜년다신 붙잡히지 마그땐 보게 되는 거야미친년[Verse 2]I got mercy, I got graceDesperado with the scalesThrow a rose on your bodyMask of Zorro I\\'m so wanted그러 쥐어 나를 꺾어상처가 남은 손을 적셔Look scared안아 너를 보듬어 주지술로 씻어 죄를 사하여주지'}"
      ]
     },
     "execution_count": 47,
     "metadata": {},
     "output_type": "execute_result"
    }
   ],
   "source": [
    "format_jsonl(df_88['artist'][0], df_88['track'][0], df_88['lyrics'][0])"
   ]
  },
  {
   "cell_type": "code",
   "execution_count": 48,
   "metadata": {},
   "outputs": [],
   "source": [
    "jsonl_data = []\n",
    "for index in range(0, len(df_88)):\n",
    "    jsonl_line = format_jsonl(df_88['artist'][index], df_88['track'][index], df_88['lyrics'][index])\n",
    "    jsonl_data.append(jsonl_line)"
   ]
  },
  {
   "cell_type": "code",
   "execution_count": 51,
   "metadata": {},
   "outputs": [],
   "source": [
    "with open('tuning_88R_data.jsonl', 'w') as outfile:\n",
    "    for i in jsonl_data:\n",
    "        json.dump(i, outfile)\n",
    "    outfile.write('\\n')\n"
   ]
  }
 ],
 "metadata": {
  "kernelspec": {
   "display_name": "Python 3.9.12 ('base')",
   "language": "python",
   "name": "python3"
  },
  "language_info": {
   "codemirror_mode": {
    "name": "ipython",
    "version": 3
   },
   "file_extension": ".py",
   "mimetype": "text/x-python",
   "name": "python",
   "nbconvert_exporter": "python",
   "pygments_lexer": "ipython3",
   "version": "3.9.12"
  },
  "orig_nbformat": 4,
  "vscode": {
   "interpreter": {
    "hash": "fd5f0602b361fcd80b6e43c9db32d5ff96b182a40640908c77b502a93aa9387e"
   }
  }
 },
 "nbformat": 4,
 "nbformat_minor": 2
}
