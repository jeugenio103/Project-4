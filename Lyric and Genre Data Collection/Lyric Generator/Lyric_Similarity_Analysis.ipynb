{
 "cells": [
  {
   "cell_type": "code",
   "execution_count": 75,
   "metadata": {},
   "outputs": [],
   "source": [
    "import pandas as pd\n",
    "import nltk\n",
    "import json\n",
    "import matplotlib as plt\n",
    "import seaborn as sns"
   ]
  },
  {
   "cell_type": "code",
   "execution_count": 34,
   "metadata": {},
   "outputs": [
    {
     "data": {
      "text/html": [
       "<div>\n",
       "<style scoped>\n",
       "    .dataframe tbody tr th:only-of-type {\n",
       "        vertical-align: middle;\n",
       "    }\n",
       "\n",
       "    .dataframe tbody tr th {\n",
       "        vertical-align: top;\n",
       "    }\n",
       "\n",
       "    .dataframe thead th {\n",
       "        text-align: right;\n",
       "    }\n",
       "</style>\n",
       "<table border=\"1\" class=\"dataframe\">\n",
       "  <thead>\n",
       "    <tr style=\"text-align: right;\">\n",
       "      <th></th>\n",
       "      <th>Unnamed: 0</th>\n",
       "      <th>track</th>\n",
       "      <th>album</th>\n",
       "      <th>artist</th>\n",
       "      <th>popularity</th>\n",
       "      <th>featured</th>\n",
       "      <th>release_date</th>\n",
       "      <th>track_id</th>\n",
       "      <th>danceability</th>\n",
       "      <th>energy</th>\n",
       "      <th>...</th>\n",
       "      <th>speechiness</th>\n",
       "      <th>instrumentalness</th>\n",
       "      <th>liveness</th>\n",
       "      <th>valence</th>\n",
       "      <th>tempo</th>\n",
       "      <th>duration_ms</th>\n",
       "      <th>time_signature</th>\n",
       "      <th>lyrics</th>\n",
       "      <th>filtered_lyrics</th>\n",
       "      <th>genre</th>\n",
       "    </tr>\n",
       "  </thead>\n",
       "  <tbody>\n",
       "    <tr>\n",
       "      <th>0</th>\n",
       "      <td>0</td>\n",
       "      <td>BIBI Vengeance</td>\n",
       "      <td>Lowlife Princess: Noir</td>\n",
       "      <td>BIBI</td>\n",
       "      <td>76</td>\n",
       "      <td>BIBI</td>\n",
       "      <td>2022-11-17</td>\n",
       "      <td>0ra3bPUOj2YnY4FJHXtgHZ</td>\n",
       "      <td>0.442</td>\n",
       "      <td>0.748</td>\n",
       "      <td>...</td>\n",
       "      <td>0.0895</td>\n",
       "      <td>0.000128</td>\n",
       "      <td>0.0642</td>\n",
       "      <td>0.408</td>\n",
       "      <td>99.981</td>\n",
       "      <td>165135</td>\n",
       "      <td>4</td>\n",
       "      <td>[비비 \"나쁜년\" 가사][Verse 1]들어오라 해눈을 깔어 왜비밀로 할게네 부정과...</td>\n",
       "      <td>Watch me danceWatch me sing Watch me danceWat...</td>\n",
       "      <td>['R&amp;B', 'K-R&amp;B', 'Reggaetón', 'South Korea', '...</td>\n",
       "    </tr>\n",
       "  </tbody>\n",
       "</table>\n",
       "<p>1 rows × 23 columns</p>\n",
       "</div>"
      ],
      "text/plain": [
       "   Unnamed: 0           track                   album artist  popularity  \\\n",
       "0           0  BIBI Vengeance  Lowlife Princess: Noir   BIBI          76   \n",
       "\n",
       "  featured release_date                track_id  danceability  energy  ...  \\\n",
       "0     BIBI   2022-11-17  0ra3bPUOj2YnY4FJHXtgHZ         0.442   0.748  ...   \n",
       "\n",
       "   speechiness  instrumentalness  liveness  valence   tempo  duration_ms  \\\n",
       "0       0.0895          0.000128    0.0642    0.408  99.981       165135   \n",
       "\n",
       "   time_signature                                             lyrics  \\\n",
       "0               4  [비비 \"나쁜년\" 가사][Verse 1]들어오라 해눈을 깔어 왜비밀로 할게네 부정과...   \n",
       "\n",
       "                                     filtered_lyrics  \\\n",
       "0   Watch me danceWatch me sing Watch me danceWat...   \n",
       "\n",
       "                                               genre  \n",
       "0  ['R&B', 'K-R&B', 'Reggaetón', 'South Korea', '...  \n",
       "\n",
       "[1 rows x 23 columns]"
      ]
     },
     "execution_count": 34,
     "metadata": {},
     "output_type": "execute_result"
    }
   ],
   "source": [
    "df_88 = pd.read_csv('../../Test-Data/pre-final-88-genre.csv')\n",
    "df_88.head(1)"
   ]
  },
  {
   "cell_type": "code",
   "execution_count": 35,
   "metadata": {},
   "outputs": [
    {
     "data": {
      "text/html": [
       "<div>\n",
       "<style scoped>\n",
       "    .dataframe tbody tr th:only-of-type {\n",
       "        vertical-align: middle;\n",
       "    }\n",
       "\n",
       "    .dataframe tbody tr th {\n",
       "        vertical-align: top;\n",
       "    }\n",
       "\n",
       "    .dataframe thead th {\n",
       "        text-align: right;\n",
       "    }\n",
       "</style>\n",
       "<table border=\"1\" class=\"dataframe\">\n",
       "  <thead>\n",
       "    <tr style=\"text-align: right;\">\n",
       "      <th></th>\n",
       "      <th>artist_name</th>\n",
       "      <th>lyrics</th>\n",
       "    </tr>\n",
       "  </thead>\n",
       "  <tbody>\n",
       "    <tr>\n",
       "      <th>0</th>\n",
       "      <td>BIBI</td>\n",
       "      <td>Watch me danceWatch me sing Watch me danceWat...</td>\n",
       "    </tr>\n",
       "  </tbody>\n",
       "</table>\n",
       "</div>"
      ],
      "text/plain": [
       "  artist_name                                             lyrics\n",
       "0        BIBI   Watch me danceWatch me sing Watch me danceWat..."
      ]
     },
     "execution_count": 35,
     "metadata": {},
     "output_type": "execute_result"
    }
   ],
   "source": [
    "new_df88 = pd.DataFrame({'artist_name': df_88['artist'], 'lyrics': df_88['filtered_lyrics']})\n",
    "new_df88.head(1)"
   ]
  },
  {
   "cell_type": "code",
   "execution_count": 120,
   "metadata": {},
   "outputs": [
    {
     "data": {
      "text/plain": [
       "0"
      ]
     },
     "execution_count": 120,
     "metadata": {},
     "output_type": "execute_result"
    }
   ],
   "source": [
    "# Remove \"missing\" songs\n",
    "new_df88 = new_df88.loc[new_df88['lyrics'] != 'missing']\n",
    "len(new_df88.loc[new_df88['lyrics'] == 'missing'])"
   ]
  },
  {
   "cell_type": "code",
   "execution_count": 86,
   "metadata": {},
   "outputs": [],
   "source": [
    "# Add space in between words and lowercase\n",
    "def correct_format(lyric_str):\n",
    "    lyric_str = lyric_str.lower()\n",
    "    new_str = \"\"\n",
    "    for index in range(0, len(lyric_str)):\n",
    "        if index+1 == len(lyric_str):\n",
    "            new_str = new_str + lyric_str[index]\n",
    "            break\n",
    "        else:\n",
    "            prev = lyric_str[index]\n",
    "            after = lyric_str[index+1]\n",
    "            if prev.islower() and after.isupper():\n",
    "                new_str = new_str + prev + \" \"\n",
    "            else:\n",
    "                new_str = new_str + prev\n",
    "    return new_str"
   ]
  },
  {
   "cell_type": "code",
   "execution_count": 87,
   "metadata": {},
   "outputs": [],
   "source": [
    "new_df88['lyrics'] = new_df88['lyrics'].apply(lambda x: correct_format(x))"
   ]
  },
  {
   "cell_type": "code",
   "execution_count": 88,
   "metadata": {},
   "outputs": [
    {
     "data": {
      "text/html": [
       "<div>\n",
       "<style scoped>\n",
       "    .dataframe tbody tr th:only-of-type {\n",
       "        vertical-align: middle;\n",
       "    }\n",
       "\n",
       "    .dataframe tbody tr th {\n",
       "        vertical-align: top;\n",
       "    }\n",
       "\n",
       "    .dataframe thead th {\n",
       "        text-align: right;\n",
       "    }\n",
       "</style>\n",
       "<table border=\"1\" class=\"dataframe\">\n",
       "  <thead>\n",
       "    <tr style=\"text-align: right;\">\n",
       "      <th></th>\n",
       "      <th>artist_name</th>\n",
       "      <th>lyrics</th>\n",
       "      <th>lyrics_tokenized</th>\n",
       "    </tr>\n",
       "  </thead>\n",
       "  <tbody>\n",
       "    <tr>\n",
       "      <th>0</th>\n",
       "      <td>BIBI</td>\n",
       "      <td>watch me dance watch me sing watch me dance w...</td>\n",
       "      <td>[watch, me, dance, watch, me, sing, watch, me,...</td>\n",
       "    </tr>\n",
       "    <tr>\n",
       "      <th>1</th>\n",
       "      <td>BIBI</td>\n",
       "      <td>dice and ice cube home girls bitches spin it ...</td>\n",
       "      <td>[dice, and, ice, cube, home, girls, bitches, s...</td>\n",
       "    </tr>\n",
       "    <tr>\n",
       "      <th>2</th>\n",
       "      <td>BIBI</td>\n",
       "      <td>champagne it might be pretty it might be beau...</td>\n",
       "      <td>[champagne, it, might, be, pretty, it, might, ...</td>\n",
       "    </tr>\n",
       "    <tr>\n",
       "      <th>3</th>\n",
       "      <td>BIBI</td>\n",
       "      <td>bad sad and mad refrain you blued my bruise p...</td>\n",
       "      <td>[bad, sad, and, mad, refrain, you, blued, my, ...</td>\n",
       "    </tr>\n",
       "    <tr>\n",
       "      <th>4</th>\n",
       "      <td>BIBI</td>\n",
       "      <td>missing</td>\n",
       "      <td>[missing]</td>\n",
       "    </tr>\n",
       "    <tr>\n",
       "      <th>...</th>\n",
       "      <td>...</td>\n",
       "      <td>...</td>\n",
       "      <td>...</td>\n",
       "    </tr>\n",
       "    <tr>\n",
       "      <th>453</th>\n",
       "      <td>Warren Hue</td>\n",
       "      <td>warren hue i wanna be like i ve been stuck i...</td>\n",
       "      <td>[warren, hue, i, wanna, be, like, i, ve, been,...</td>\n",
       "    </tr>\n",
       "    <tr>\n",
       "      <th>454</th>\n",
       "      <td>Warren Hue</td>\n",
       "      <td>missing</td>\n",
       "      <td>[missing]</td>\n",
       "    </tr>\n",
       "    <tr>\n",
       "      <th>455</th>\n",
       "      <td>Warren Hue</td>\n",
       "      <td>uh uh ayy ya ya uh uh turn turn ya ya t turn y...</td>\n",
       "      <td>[uh, uh, ayy, ya, ya, uh, uh, turn, turn, ya, ...</td>\n",
       "    </tr>\n",
       "    <tr>\n",
       "      <th>456</th>\n",
       "      <td>Warren Hue</td>\n",
       "      <td>won t you run away with me this evening oh tru...</td>\n",
       "      <td>[won, t, you, run, away, with, me, this, eveni...</td>\n",
       "    </tr>\n",
       "    <tr>\n",
       "      <th>457</th>\n",
       "      <td>Warren Hue</td>\n",
       "      <td>your neck covered in jade your kicks covered w...</td>\n",
       "      <td>[your, neck, covered, in, jade, your, kicks, c...</td>\n",
       "    </tr>\n",
       "  </tbody>\n",
       "</table>\n",
       "<p>458 rows × 3 columns</p>\n",
       "</div>"
      ],
      "text/plain": [
       "    artist_name                                             lyrics  \\\n",
       "0          BIBI   watch me dance watch me sing watch me dance w...   \n",
       "1          BIBI   dice and ice cube home girls bitches spin it ...   \n",
       "2          BIBI   champagne it might be pretty it might be beau...   \n",
       "3          BIBI   bad sad and mad refrain you blued my bruise p...   \n",
       "4          BIBI                                            missing   \n",
       "..          ...                                                ...   \n",
       "453  Warren Hue    warren hue i wanna be like i ve been stuck i...   \n",
       "454  Warren Hue                                            missing   \n",
       "455  Warren Hue  uh uh ayy ya ya uh uh turn turn ya ya t turn y...   \n",
       "456  Warren Hue  won t you run away with me this evening oh tru...   \n",
       "457  Warren Hue  your neck covered in jade your kicks covered w...   \n",
       "\n",
       "                                      lyrics_tokenized  \n",
       "0    [watch, me, dance, watch, me, sing, watch, me,...  \n",
       "1    [dice, and, ice, cube, home, girls, bitches, s...  \n",
       "2    [champagne, it, might, be, pretty, it, might, ...  \n",
       "3    [bad, sad, and, mad, refrain, you, blued, my, ...  \n",
       "4                                            [missing]  \n",
       "..                                                 ...  \n",
       "453  [warren, hue, i, wanna, be, like, i, ve, been,...  \n",
       "454                                          [missing]  \n",
       "455  [uh, uh, ayy, ya, ya, uh, uh, turn, turn, ya, ...  \n",
       "456  [won, t, you, run, away, with, me, this, eveni...  \n",
       "457  [your, neck, covered, in, jade, your, kicks, c...  \n",
       "\n",
       "[458 rows x 3 columns]"
      ]
     },
     "execution_count": 88,
     "metadata": {},
     "output_type": "execute_result"
    }
   ],
   "source": [
    "# Tokenize lyrics\n",
    "new_df88['lyrics_tokenized']=new_df88['lyrics'].apply(lambda x: x.split())\n",
    "new_df88\n"
   ]
  },
  {
   "cell_type": "code",
   "execution_count": 126,
   "metadata": {},
   "outputs": [],
   "source": [
    "# Save as csv file\n",
    "new_df88.to_csv('lyrics_88.csv')"
   ]
  },
  {
   "cell_type": "code",
   "execution_count": 114,
   "metadata": {},
   "outputs": [
    {
     "data": {
      "text/plain": [
       "array(['BIBI', 'CHUNG HA', 'Keith Ape', 'Dumbfoundead', 'Guapdad 4000',\n",
       "       'Rich Brian', 'Higher Brothers', 'Jackson Wang', 'Joji',\n",
       "       'Lexie Liu', 'Mili', 'Seori', 'Stephanie Poetri', 'Warren Hue'],\n",
       "      dtype=object)"
      ]
     },
     "execution_count": 114,
     "metadata": {},
     "output_type": "execute_result"
    }
   ],
   "source": [
    "df_88['artist'].unique()"
   ]
  },
  {
   "cell_type": "code",
   "execution_count": 106,
   "metadata": {},
   "outputs": [],
   "source": [
    "# Find the frequency of words for Rich Brian and Joji\n",
    "richbrian_lyrics = new_df88.loc[new_df88['artist_name'] == 'Rich Brian']\n",
    "joji_lyrics = new_df88.loc[new_df88['artist_name'] == 'Joji']"
   ]
  },
  {
   "cell_type": "code",
   "execution_count": 107,
   "metadata": {},
   "outputs": [],
   "source": [
    "# Function to combine all words into one list\n",
    "def comb_words(df):\n",
    "    word_list = []\n",
    "    for rows in df:\n",
    "        word_list.extend(rows)\n",
    "    return word_list"
   ]
  },
  {
   "cell_type": "code",
   "execution_count": 108,
   "metadata": {},
   "outputs": [],
   "source": [
    "rb_all_words = comb_words(richbrian_lyrics['lyrics_tokenized'])\n",
    "joji_all_words = comb_words(joji_lyrics['lyrics_tokenized'])"
   ]
  },
  {
   "cell_type": "code",
   "execution_count": 109,
   "metadata": {},
   "outputs": [],
   "source": [
    "rb_word_dist = nltk.FreqDist(rb_all_words) \n",
    "rb_words_df = pd.DataFrame({'word':list(rb_word_dist.keys()), 'count':list(rb_word_dist.values())}).sort_values(by='count', ascending=False)\n",
    "joji_word_dist = nltk.FreqDist(joji_all_words) \n",
    "joji_words_df = pd.DataFrame({'word':list(joji_word_dist.keys()), 'count':list(joji_word_dist.values())}).sort_values(by='count', ascending=False) "
   ]
  },
  {
   "cell_type": "code",
   "execution_count": 95,
   "metadata": {},
   "outputs": [
    {
     "data": {
      "text/html": [
       "<div>\n",
       "<style scoped>\n",
       "    .dataframe tbody tr th:only-of-type {\n",
       "        vertical-align: middle;\n",
       "    }\n",
       "\n",
       "    .dataframe tbody tr th {\n",
       "        vertical-align: top;\n",
       "    }\n",
       "\n",
       "    .dataframe thead th {\n",
       "        text-align: right;\n",
       "    }\n",
       "</style>\n",
       "<table border=\"1\" class=\"dataframe\">\n",
       "  <thead>\n",
       "    <tr style=\"text-align: right;\">\n",
       "      <th></th>\n",
       "      <th>word</th>\n",
       "      <th>count</th>\n",
       "    </tr>\n",
       "  </thead>\n",
       "  <tbody>\n",
       "    <tr>\n",
       "      <th>9</th>\n",
       "      <td>i</td>\n",
       "      <td>663</td>\n",
       "    </tr>\n",
       "    <tr>\n",
       "      <th>56</th>\n",
       "      <td>the</td>\n",
       "      <td>307</td>\n",
       "    </tr>\n",
       "    <tr>\n",
       "      <th>14</th>\n",
       "      <td>my</td>\n",
       "      <td>258</td>\n",
       "    </tr>\n",
       "    <tr>\n",
       "      <th>31</th>\n",
       "      <td>you</td>\n",
       "      <td>237</td>\n",
       "    </tr>\n",
       "    <tr>\n",
       "      <th>12</th>\n",
       "      <td>it</td>\n",
       "      <td>220</td>\n",
       "    </tr>\n",
       "    <tr>\n",
       "      <th>...</th>\n",
       "      <td>...</td>\n",
       "      <td>...</td>\n",
       "    </tr>\n",
       "    <tr>\n",
       "      <th>1040</th>\n",
       "      <td>attention</td>\n",
       "      <td>1</td>\n",
       "    </tr>\n",
       "    <tr>\n",
       "      <th>1041</th>\n",
       "      <td>bullshit</td>\n",
       "      <td>1</td>\n",
       "    </tr>\n",
       "    <tr>\n",
       "      <th>1042</th>\n",
       "      <td>captions</td>\n",
       "      <td>1</td>\n",
       "    </tr>\n",
       "    <tr>\n",
       "      <th>1044</th>\n",
       "      <td>outlive</td>\n",
       "      <td>1</td>\n",
       "    </tr>\n",
       "    <tr>\n",
       "      <th>1824</th>\n",
       "      <td>brag</td>\n",
       "      <td>1</td>\n",
       "    </tr>\n",
       "  </tbody>\n",
       "</table>\n",
       "<p>1825 rows × 2 columns</p>\n",
       "</div>"
      ],
      "text/plain": [
       "           word  count\n",
       "9             i    663\n",
       "56          the    307\n",
       "14           my    258\n",
       "31          you    237\n",
       "12           it    220\n",
       "...         ...    ...\n",
       "1040  attention      1\n",
       "1041   bullshit      1\n",
       "1042   captions      1\n",
       "1044    outlive      1\n",
       "1824       brag      1\n",
       "\n",
       "[1825 rows x 2 columns]"
      ]
     },
     "execution_count": 95,
     "metadata": {},
     "output_type": "execute_result"
    }
   ],
   "source": [
    "rb_words_df"
   ]
  },
  {
   "cell_type": "code",
   "execution_count": 96,
   "metadata": {},
   "outputs": [
    {
     "name": "stderr",
     "output_type": "stream",
     "text": [
      "[nltk_data] Downloading package stopwords to\n",
      "[nltk_data]     C:\\Users\\krist\\AppData\\Roaming\\nltk_data...\n",
      "[nltk_data]   Package stopwords is already up-to-date!\n"
     ]
    }
   ],
   "source": [
    "# Remove stop words\n",
    "from nltk.corpus import stopwords\n",
    "nltk.download(\"stopwords\")\n",
    "stop = set(stopwords.words(\"english\"))"
   ]
  },
  {
   "cell_type": "code",
   "execution_count": 110,
   "metadata": {},
   "outputs": [],
   "source": [
    "new_rb_words_df = rb_words_df.loc[rb_words_df['word'].isin(stop) == False]\n",
    "new_joji_words_df = joji_words_df.loc[joji_words_df['word'].isin(stop)==False]"
   ]
  },
  {
   "cell_type": "code",
   "execution_count": 99,
   "metadata": {},
   "outputs": [
    {
     "data": {
      "text/plain": [
       "<AxesSubplot:xlabel='count', ylabel='word'>"
      ]
     },
     "execution_count": 99,
     "metadata": {},
     "output_type": "execute_result"
    },
    {
     "data": {
      "image/png": "[encoded data removed]",
      "text/plain": [
       "<Figure size 432x288 with 1 Axes>"
      ]
     },
     "metadata": {
      "needs_background": "light"
     },
     "output_type": "display_data"
    }
   ],
   "source": [
    "# Visualize the words\n",
    "# Rich Brian\n",
    "sns.barplot(data=new_rb_words_df[0:30], x= \"count\", y = \"word\") "
   ]
  },
  {
   "cell_type": "code",
   "execution_count": 100,
   "metadata": {},
   "outputs": [
    {
     "data": {
      "text/plain": [
       "<AxesSubplot:xlabel='count', ylabel='word'>"
      ]
     },
     "execution_count": 100,
     "metadata": {},
     "output_type": "execute_result"
    },
    {
     "data": {
      "image/png": "[encoded data removed]",
      "text/plain": [
       "<Figure size 432x288 with 1 Axes>"
      ]
     },
     "metadata": {
      "needs_background": "light"
     },
     "output_type": "display_data"
    }
   ],
   "source": [
    "# Joji\n",
    "sns.barplot(data=new_joji_words_df[0:30], x= \"count\", y = \"word\") "
   ]
  },
  {
   "cell_type": "markdown",
   "metadata": {},
   "source": [
    "# Bag of Words and Naive Bayes & Random Forest Algorithm to Predit Artist based on Lyric Sentiment"
   ]
  },
  {
   "cell_type": "code",
   "execution_count": 174,
   "metadata": {},
   "outputs": [],
   "source": [
    "# Import libraries\n",
    "import numpy as np\n",
    "import pandas as pd\n",
    "import sklearn\n",
    "import matplotlib as plt\n",
    "from sklearn.feature_extraction.text import CountVectorizer\n",
    "from sklearn.metrics import confusion_matrix\n",
    "from sklearn.model_selection import GridSearchCV\n",
    "from sklearn.model_selection import train_test_split\n",
    "from sklearn.model_selection import cross_val_score\n",
    "from sklearn.naive_bayes import MultinomialNB\n",
    "from sklearn.ensemble import RandomForestClassifier\n",
    "from sklearn.preprocessing import OneHotEncoder"
   ]
  },
  {
   "cell_type": "code",
   "execution_count": 349,
   "metadata": {},
   "outputs": [
    {
     "data": {
      "text/html": [
       "<div>\n",
       "<style scoped>\n",
       "    .dataframe tbody tr th:only-of-type {\n",
       "        vertical-align: middle;\n",
       "    }\n",
       "\n",
       "    .dataframe tbody tr th {\n",
       "        vertical-align: top;\n",
       "    }\n",
       "\n",
       "    .dataframe thead th {\n",
       "        text-align: right;\n",
       "    }\n",
       "</style>\n",
       "<table border=\"1\" class=\"dataframe\">\n",
       "  <thead>\n",
       "    <tr style=\"text-align: right;\">\n",
       "      <th></th>\n",
       "      <th>Unnamed: 0.1</th>\n",
       "      <th>Unnamed: 0</th>\n",
       "      <th>track</th>\n",
       "      <th>album</th>\n",
       "      <th>artist</th>\n",
       "      <th>popularity</th>\n",
       "      <th>featured</th>\n",
       "      <th>release_date</th>\n",
       "      <th>track_id</th>\n",
       "      <th>danceability</th>\n",
       "      <th>...</th>\n",
       "      <th>instrumentalness</th>\n",
       "      <th>liveness</th>\n",
       "      <th>valence</th>\n",
       "      <th>tempo</th>\n",
       "      <th>duration_ms</th>\n",
       "      <th>time_signature</th>\n",
       "      <th>lyrics</th>\n",
       "      <th>filtered_lyrics</th>\n",
       "      <th>genre</th>\n",
       "      <th>formatted_lyrics</th>\n",
       "    </tr>\n",
       "  </thead>\n",
       "  <tbody>\n",
       "    <tr>\n",
       "      <th>0</th>\n",
       "      <td>0</td>\n",
       "      <td>0</td>\n",
       "      <td>BIBI Vengeance</td>\n",
       "      <td>Lowlife Princess: Noir</td>\n",
       "      <td>BIBI</td>\n",
       "      <td>76</td>\n",
       "      <td>BIBI</td>\n",
       "      <td>2022-11-17</td>\n",
       "      <td>0ra3bPUOj2YnY4FJHXtgHZ</td>\n",
       "      <td>0.442</td>\n",
       "      <td>...</td>\n",
       "      <td>0.000128</td>\n",
       "      <td>0.0642</td>\n",
       "      <td>0.408</td>\n",
       "      <td>99.981</td>\n",
       "      <td>165135</td>\n",
       "      <td>4</td>\n",
       "      <td>[비비 \"나쁜년\" 가사][Verse 1]들어오라 해눈을 깔어 왜비밀로 할게네 부정과...</td>\n",
       "      <td>Watch me danceWatch me sing Watch me danceWat...</td>\n",
       "      <td>['R&amp;B', 'K-R&amp;B', 'Reggaetón', 'South Korea', '...</td>\n",
       "      <td>\\n[ \"\" ]\\n\\n[Verse ]\\n \\n[Pre-Chorus]\\nWatch m...</td>\n",
       "    </tr>\n",
       "    <tr>\n",
       "      <th>1</th>\n",
       "      <td>1</td>\n",
       "      <td>1</td>\n",
       "      <td>KAZINO</td>\n",
       "      <td>KAZINO</td>\n",
       "      <td>BIBI</td>\n",
       "      <td>68</td>\n",
       "      <td>BIBI</td>\n",
       "      <td>2020-04-29</td>\n",
       "      <td>245onUPHGD1DYuiacxTuW0</td>\n",
       "      <td>0.625</td>\n",
       "      <td>...</td>\n",
       "      <td>0.000000</td>\n",
       "      <td>0.1100</td>\n",
       "      <td>0.263</td>\n",
       "      <td>133.041</td>\n",
       "      <td>185947</td>\n",
       "      <td>4</td>\n",
       "      <td>[비비 \"사장님 도박은 재미로 하셔야 합니다\" 가사][Verse 1]Dice and...</td>\n",
       "      <td>Dice and Ice cube Home girls bitches Spin it ...</td>\n",
       "      <td>['R&amp;B', 'South Korea', 'Trap', 'Korean']</td>\n",
       "      <td>\\n[ \" \" ]\\n\\n[Verse ]\\nDice and Ice cube \\nHom...</td>\n",
       "    </tr>\n",
       "    <tr>\n",
       "      <th>2</th>\n",
       "      <td>2</td>\n",
       "      <td>2</td>\n",
       "      <td>Animal Farm</td>\n",
       "      <td>Animal Farm</td>\n",
       "      <td>BIBI</td>\n",
       "      <td>67</td>\n",
       "      <td>BIBI</td>\n",
       "      <td>2022-09-27</td>\n",
       "      <td>3gAXVQOR0h7Ks71lsr5MFZ</td>\n",
       "      <td>0.617</td>\n",
       "      <td>...</td>\n",
       "      <td>0.000006</td>\n",
       "      <td>0.5500</td>\n",
       "      <td>0.375</td>\n",
       "      <td>107.971</td>\n",
       "      <td>203946</td>\n",
       "      <td>3</td>\n",
       "      <td>[비비 \"가면무도회\" 가사][Verse 1]죄악의 단어위선의 가면넘쳐흐르는 무도회장...</td>\n",
       "      <td>champagne It might be pretty it might be beau...</td>\n",
       "      <td>['R&amp;B', 'Korean', 'K-R&amp;B', 'K-Solo', 'South Ko...</td>\n",
       "      <td>\\n[ \"\" ]\\n\\n[Verse ]\\n champagne \\n[Pre-Chorus...</td>\n",
       "    </tr>\n",
       "    <tr>\n",
       "      <th>3</th>\n",
       "      <td>3</td>\n",
       "      <td>3</td>\n",
       "      <td>BAD SAD AND MAD</td>\n",
       "      <td>Life is a Bi…</td>\n",
       "      <td>BIBI</td>\n",
       "      <td>66</td>\n",
       "      <td>BIBI</td>\n",
       "      <td>2021-04-28</td>\n",
       "      <td>0zPbUxvYRlCGwruakkXPLI</td>\n",
       "      <td>0.746</td>\n",
       "      <td>...</td>\n",
       "      <td>0.000190</td>\n",
       "      <td>0.0904</td>\n",
       "      <td>0.638</td>\n",
       "      <td>90.013</td>\n",
       "      <td>154988</td>\n",
       "      <td>4</td>\n",
       "      <td>[비비 \"BAD SAD AND MAD\" 가사][Refrain]You blued my...</td>\n",
       "      <td>BAD SAD AND MAD Refrain You blued my bruisePi...</td>\n",
       "      <td>['R&amp;B', 'K-R&amp;B', 'Korean', 'K-Solo', 'South Ko...</td>\n",
       "      <td>\\n[ \"BAD SAD AND MAD\" ]\\n\\n[Refrain]\\nYou blue...</td>\n",
       "    </tr>\n",
       "    <tr>\n",
       "      <th>4</th>\n",
       "      <td>5</td>\n",
       "      <td>5</td>\n",
       "      <td>Restless</td>\n",
       "      <td>LISTEN 035 Restless</td>\n",
       "      <td>BIBI</td>\n",
       "      <td>62</td>\n",
       "      <td>BIBI</td>\n",
       "      <td>2020-02-02</td>\n",
       "      <td>4AHNi316rl3KI3hKIsdxZe</td>\n",
       "      <td>0.575</td>\n",
       "      <td>...</td>\n",
       "      <td>0.000112</td>\n",
       "      <td>0.1150</td>\n",
       "      <td>0.298</td>\n",
       "      <td>89.985</td>\n",
       "      <td>267080</td>\n",
       "      <td>4</td>\n",
       "      <td>[비비 \"신경쓰여\" 가사][Verse 1]불 꺼진 방안 뒹굴다전화는 왜 잠만 잘 자...</td>\n",
       "      <td></td>\n",
       "      <td>['R&amp;B', 'South Korea', 'K-R&amp;B', 'Korean']</td>\n",
       "      <td>\\n[ \"\" ]\\n\\n[Verse ]\\n \\n[Pre-Chorus]\\n \\n[Cho...</td>\n",
       "    </tr>\n",
       "  </tbody>\n",
       "</table>\n",
       "<p>5 rows × 25 columns</p>\n",
       "</div>"
      ],
      "text/plain": [
       "   Unnamed: 0.1  Unnamed: 0            track                   album artist  \\\n",
       "0             0           0   BIBI Vengeance  Lowlife Princess: Noir   BIBI   \n",
       "1             1           1           KAZINO                  KAZINO   BIBI   \n",
       "2             2           2      Animal Farm             Animal Farm   BIBI   \n",
       "3             3           3  BAD SAD AND MAD           Life is a Bi…   BIBI   \n",
       "4             5           5         Restless     LISTEN 035 Restless   BIBI   \n",
       "\n",
       "   popularity featured release_date                track_id  danceability  \\\n",
       "0          76     BIBI   2022-11-17  0ra3bPUOj2YnY4FJHXtgHZ         0.442   \n",
       "1          68     BIBI   2020-04-29  245onUPHGD1DYuiacxTuW0         0.625   \n",
       "2          67     BIBI   2022-09-27  3gAXVQOR0h7Ks71lsr5MFZ         0.617   \n",
       "3          66     BIBI   2021-04-28  0zPbUxvYRlCGwruakkXPLI         0.746   \n",
       "4          62     BIBI   2020-02-02  4AHNi316rl3KI3hKIsdxZe         0.575   \n",
       "\n",
       "   ...  instrumentalness  liveness  valence    tempo  duration_ms  \\\n",
       "0  ...          0.000128    0.0642    0.408   99.981       165135   \n",
       "1  ...          0.000000    0.1100    0.263  133.041       185947   \n",
       "2  ...          0.000006    0.5500    0.375  107.971       203946   \n",
       "3  ...          0.000190    0.0904    0.638   90.013       154988   \n",
       "4  ...          0.000112    0.1150    0.298   89.985       267080   \n",
       "\n",
       "   time_signature                                             lyrics  \\\n",
       "0               4  [비비 \"나쁜년\" 가사][Verse 1]들어오라 해눈을 깔어 왜비밀로 할게네 부정과...   \n",
       "1               4  [비비 \"사장님 도박은 재미로 하셔야 합니다\" 가사][Verse 1]Dice and...   \n",
       "2               3  [비비 \"가면무도회\" 가사][Verse 1]죄악의 단어위선의 가면넘쳐흐르는 무도회장...   \n",
       "3               4  [비비 \"BAD SAD AND MAD\" 가사][Refrain]You blued my...   \n",
       "4               4  [비비 \"신경쓰여\" 가사][Verse 1]불 꺼진 방안 뒹굴다전화는 왜 잠만 잘 자...   \n",
       "\n",
       "                                     filtered_lyrics  \\\n",
       "0   Watch me danceWatch me sing Watch me danceWat...   \n",
       "1   Dice and Ice cube Home girls bitches Spin it ...   \n",
       "2   champagne It might be pretty it might be beau...   \n",
       "3   BAD SAD AND MAD Refrain You blued my bruisePi...   \n",
       "4                                                      \n",
       "\n",
       "                                               genre  \\\n",
       "0  ['R&B', 'K-R&B', 'Reggaetón', 'South Korea', '...   \n",
       "1           ['R&B', 'South Korea', 'Trap', 'Korean']   \n",
       "2  ['R&B', 'Korean', 'K-R&B', 'K-Solo', 'South Ko...   \n",
       "3  ['R&B', 'K-R&B', 'Korean', 'K-Solo', 'South Ko...   \n",
       "4          ['R&B', 'South Korea', 'K-R&B', 'Korean']   \n",
       "\n",
       "                                    formatted_lyrics  \n",
       "0  \\n[ \"\" ]\\n\\n[Verse ]\\n \\n[Pre-Chorus]\\nWatch m...  \n",
       "1  \\n[ \" \" ]\\n\\n[Verse ]\\nDice and Ice cube \\nHom...  \n",
       "2  \\n[ \"\" ]\\n\\n[Verse ]\\n champagne \\n[Pre-Chorus...  \n",
       "3  \\n[ \"BAD SAD AND MAD\" ]\\n\\n[Refrain]\\nYou blue...  \n",
       "4  \\n[ \"\" ]\\n\\n[Verse ]\\n \\n[Pre-Chorus]\\n \\n[Cho...  \n",
       "\n",
       "[5 rows x 25 columns]"
      ]
     },
     "execution_count": 349,
     "metadata": {},
     "output_type": "execute_result"
    }
   ],
   "source": [
    "df_88 = pd.read_csv('formatted_lyrics_88.csv')\n",
    "df_88.head()"
   ]
  },
  {
   "cell_type": "code",
   "execution_count": 178,
   "metadata": {},
   "outputs": [
    {
     "data": {
      "text/plain": [
       "CHUNG HA            47\n",
       "Rich Brian          27\n",
       "Warren Hue          24\n",
       "Jackson Wang        23\n",
       "Joji                22\n",
       "Dumbfoundead        21\n",
       "BIBI                19\n",
       "Lexie Liu           17\n",
       "Higher Brothers     16\n",
       "Keith Ape           16\n",
       "Stephanie Poetri    14\n",
       "Guapdad 4000        13\n",
       "Mili                13\n",
       "Seori                9\n",
       "Name: artist, dtype: int64"
      ]
     },
     "execution_count": 178,
     "metadata": {},
     "output_type": "execute_result"
    }
   ],
   "source": [
    "df_88['artist'].value_counts()"
   ]
  },
  {
   "cell_type": "code",
   "execution_count": 350,
   "metadata": {},
   "outputs": [
    {
     "name": "stdout",
     "output_type": "stream",
     "text": [
      "{'artist': {'BIBI': 0, 'CHUNG HA': 1, 'Dumbfoundead': 2, 'Rich Brian': 3, 'Guapdad 4000': 4, 'Higher Brothers': 5, 'Jackson Wang': 6, 'Joji': 7, 'Keith Ape': 8, 'Lexie Liu': 9, 'Mili': 10, 'Seori': 11, 'Stephanie Poetri': 12, 'Warren Hue': 13}}\n"
     ]
    }
   ],
   "source": [
    "# Encode Artist names\n",
    "artist_code = {}\n",
    "num = 0\n",
    "for name in df_88['artist'].unique():\n",
    "    artist_code.update({name: num})\n",
    "    num+=1\n",
    "artist_code_dict={'artist': artist_code}\n",
    "print(artist_code_dict)\n"
   ]
  },
  {
   "cell_type": "code",
   "execution_count": 351,
   "metadata": {},
   "outputs": [
    {
     "data": {
      "text/html": [
       "<div>\n",
       "<style scoped>\n",
       "    .dataframe tbody tr th:only-of-type {\n",
       "        vertical-align: middle;\n",
       "    }\n",
       "\n",
       "    .dataframe tbody tr th {\n",
       "        vertical-align: top;\n",
       "    }\n",
       "\n",
       "    .dataframe thead th {\n",
       "        text-align: right;\n",
       "    }\n",
       "</style>\n",
       "<table border=\"1\" class=\"dataframe\">\n",
       "  <thead>\n",
       "    <tr style=\"text-align: right;\">\n",
       "      <th></th>\n",
       "      <th>Unnamed: 0.1</th>\n",
       "      <th>Unnamed: 0</th>\n",
       "      <th>track</th>\n",
       "      <th>album</th>\n",
       "      <th>artist</th>\n",
       "      <th>popularity</th>\n",
       "      <th>featured</th>\n",
       "      <th>release_date</th>\n",
       "      <th>track_id</th>\n",
       "      <th>danceability</th>\n",
       "      <th>...</th>\n",
       "      <th>instrumentalness</th>\n",
       "      <th>liveness</th>\n",
       "      <th>valence</th>\n",
       "      <th>tempo</th>\n",
       "      <th>duration_ms</th>\n",
       "      <th>time_signature</th>\n",
       "      <th>lyrics</th>\n",
       "      <th>filtered_lyrics</th>\n",
       "      <th>genre</th>\n",
       "      <th>formatted_lyrics</th>\n",
       "    </tr>\n",
       "  </thead>\n",
       "  <tbody>\n",
       "    <tr>\n",
       "      <th>0</th>\n",
       "      <td>0</td>\n",
       "      <td>0</td>\n",
       "      <td>BIBI Vengeance</td>\n",
       "      <td>Lowlife Princess: Noir</td>\n",
       "      <td>0</td>\n",
       "      <td>76</td>\n",
       "      <td>BIBI</td>\n",
       "      <td>2022-11-17</td>\n",
       "      <td>0ra3bPUOj2YnY4FJHXtgHZ</td>\n",
       "      <td>0.442</td>\n",
       "      <td>...</td>\n",
       "      <td>0.000128</td>\n",
       "      <td>0.0642</td>\n",
       "      <td>0.408</td>\n",
       "      <td>99.981</td>\n",
       "      <td>165135</td>\n",
       "      <td>4</td>\n",
       "      <td>[비비 \"나쁜년\" 가사][Verse 1]들어오라 해눈을 깔어 왜비밀로 할게네 부정과...</td>\n",
       "      <td>Watch me danceWatch me sing Watch me danceWat...</td>\n",
       "      <td>['R&amp;B', 'K-R&amp;B', 'Reggaetón', 'South Korea', '...</td>\n",
       "      <td>\\n[ \"\" ]\\n\\n[Verse ]\\n \\n[Pre-Chorus]\\nWatch m...</td>\n",
       "    </tr>\n",
       "    <tr>\n",
       "      <th>1</th>\n",
       "      <td>1</td>\n",
       "      <td>1</td>\n",
       "      <td>KAZINO</td>\n",
       "      <td>KAZINO</td>\n",
       "      <td>0</td>\n",
       "      <td>68</td>\n",
       "      <td>BIBI</td>\n",
       "      <td>2020-04-29</td>\n",
       "      <td>245onUPHGD1DYuiacxTuW0</td>\n",
       "      <td>0.625</td>\n",
       "      <td>...</td>\n",
       "      <td>0.000000</td>\n",
       "      <td>0.1100</td>\n",
       "      <td>0.263</td>\n",
       "      <td>133.041</td>\n",
       "      <td>185947</td>\n",
       "      <td>4</td>\n",
       "      <td>[비비 \"사장님 도박은 재미로 하셔야 합니다\" 가사][Verse 1]Dice and...</td>\n",
       "      <td>Dice and Ice cube Home girls bitches Spin it ...</td>\n",
       "      <td>['R&amp;B', 'South Korea', 'Trap', 'Korean']</td>\n",
       "      <td>\\n[ \" \" ]\\n\\n[Verse ]\\nDice and Ice cube \\nHom...</td>\n",
       "    </tr>\n",
       "    <tr>\n",
       "      <th>2</th>\n",
       "      <td>2</td>\n",
       "      <td>2</td>\n",
       "      <td>Animal Farm</td>\n",
       "      <td>Animal Farm</td>\n",
       "      <td>0</td>\n",
       "      <td>67</td>\n",
       "      <td>BIBI</td>\n",
       "      <td>2022-09-27</td>\n",
       "      <td>3gAXVQOR0h7Ks71lsr5MFZ</td>\n",
       "      <td>0.617</td>\n",
       "      <td>...</td>\n",
       "      <td>0.000006</td>\n",
       "      <td>0.5500</td>\n",
       "      <td>0.375</td>\n",
       "      <td>107.971</td>\n",
       "      <td>203946</td>\n",
       "      <td>3</td>\n",
       "      <td>[비비 \"가면무도회\" 가사][Verse 1]죄악의 단어위선의 가면넘쳐흐르는 무도회장...</td>\n",
       "      <td>champagne It might be pretty it might be beau...</td>\n",
       "      <td>['R&amp;B', 'Korean', 'K-R&amp;B', 'K-Solo', 'South Ko...</td>\n",
       "      <td>\\n[ \"\" ]\\n\\n[Verse ]\\n champagne \\n[Pre-Chorus...</td>\n",
       "    </tr>\n",
       "    <tr>\n",
       "      <th>3</th>\n",
       "      <td>3</td>\n",
       "      <td>3</td>\n",
       "      <td>BAD SAD AND MAD</td>\n",
       "      <td>Life is a Bi…</td>\n",
       "      <td>0</td>\n",
       "      <td>66</td>\n",
       "      <td>BIBI</td>\n",
       "      <td>2021-04-28</td>\n",
       "      <td>0zPbUxvYRlCGwruakkXPLI</td>\n",
       "      <td>0.746</td>\n",
       "      <td>...</td>\n",
       "      <td>0.000190</td>\n",
       "      <td>0.0904</td>\n",
       "      <td>0.638</td>\n",
       "      <td>90.013</td>\n",
       "      <td>154988</td>\n",
       "      <td>4</td>\n",
       "      <td>[비비 \"BAD SAD AND MAD\" 가사][Refrain]You blued my...</td>\n",
       "      <td>BAD SAD AND MAD Refrain You blued my bruisePi...</td>\n",
       "      <td>['R&amp;B', 'K-R&amp;B', 'Korean', 'K-Solo', 'South Ko...</td>\n",
       "      <td>\\n[ \"BAD SAD AND MAD\" ]\\n\\n[Refrain]\\nYou blue...</td>\n",
       "    </tr>\n",
       "    <tr>\n",
       "      <th>4</th>\n",
       "      <td>5</td>\n",
       "      <td>5</td>\n",
       "      <td>Restless</td>\n",
       "      <td>LISTEN 035 Restless</td>\n",
       "      <td>0</td>\n",
       "      <td>62</td>\n",
       "      <td>BIBI</td>\n",
       "      <td>2020-02-02</td>\n",
       "      <td>4AHNi316rl3KI3hKIsdxZe</td>\n",
       "      <td>0.575</td>\n",
       "      <td>...</td>\n",
       "      <td>0.000112</td>\n",
       "      <td>0.1150</td>\n",
       "      <td>0.298</td>\n",
       "      <td>89.985</td>\n",
       "      <td>267080</td>\n",
       "      <td>4</td>\n",
       "      <td>[비비 \"신경쓰여\" 가사][Verse 1]불 꺼진 방안 뒹굴다전화는 왜 잠만 잘 자...</td>\n",
       "      <td></td>\n",
       "      <td>['R&amp;B', 'South Korea', 'K-R&amp;B', 'Korean']</td>\n",
       "      <td>\\n[ \"\" ]\\n\\n[Verse ]\\n \\n[Pre-Chorus]\\n \\n[Cho...</td>\n",
       "    </tr>\n",
       "  </tbody>\n",
       "</table>\n",
       "<p>5 rows × 25 columns</p>\n",
       "</div>"
      ],
      "text/plain": [
       "   Unnamed: 0.1  Unnamed: 0            track                   album  artist  \\\n",
       "0             0           0   BIBI Vengeance  Lowlife Princess: Noir       0   \n",
       "1             1           1           KAZINO                  KAZINO       0   \n",
       "2             2           2      Animal Farm             Animal Farm       0   \n",
       "3             3           3  BAD SAD AND MAD           Life is a Bi…       0   \n",
       "4             5           5         Restless     LISTEN 035 Restless       0   \n",
       "\n",
       "   popularity featured release_date                track_id  danceability  \\\n",
       "0          76     BIBI   2022-11-17  0ra3bPUOj2YnY4FJHXtgHZ         0.442   \n",
       "1          68     BIBI   2020-04-29  245onUPHGD1DYuiacxTuW0         0.625   \n",
       "2          67     BIBI   2022-09-27  3gAXVQOR0h7Ks71lsr5MFZ         0.617   \n",
       "3          66     BIBI   2021-04-28  0zPbUxvYRlCGwruakkXPLI         0.746   \n",
       "4          62     BIBI   2020-02-02  4AHNi316rl3KI3hKIsdxZe         0.575   \n",
       "\n",
       "   ...  instrumentalness  liveness  valence    tempo  duration_ms  \\\n",
       "0  ...          0.000128    0.0642    0.408   99.981       165135   \n",
       "1  ...          0.000000    0.1100    0.263  133.041       185947   \n",
       "2  ...          0.000006    0.5500    0.375  107.971       203946   \n",
       "3  ...          0.000190    0.0904    0.638   90.013       154988   \n",
       "4  ...          0.000112    0.1150    0.298   89.985       267080   \n",
       "\n",
       "   time_signature                                             lyrics  \\\n",
       "0               4  [비비 \"나쁜년\" 가사][Verse 1]들어오라 해눈을 깔어 왜비밀로 할게네 부정과...   \n",
       "1               4  [비비 \"사장님 도박은 재미로 하셔야 합니다\" 가사][Verse 1]Dice and...   \n",
       "2               3  [비비 \"가면무도회\" 가사][Verse 1]죄악의 단어위선의 가면넘쳐흐르는 무도회장...   \n",
       "3               4  [비비 \"BAD SAD AND MAD\" 가사][Refrain]You blued my...   \n",
       "4               4  [비비 \"신경쓰여\" 가사][Verse 1]불 꺼진 방안 뒹굴다전화는 왜 잠만 잘 자...   \n",
       "\n",
       "                                     filtered_lyrics  \\\n",
       "0   Watch me danceWatch me sing Watch me danceWat...   \n",
       "1   Dice and Ice cube Home girls bitches Spin it ...   \n",
       "2   champagne It might be pretty it might be beau...   \n",
       "3   BAD SAD AND MAD Refrain You blued my bruisePi...   \n",
       "4                                                      \n",
       "\n",
       "                                               genre  \\\n",
       "0  ['R&B', 'K-R&B', 'Reggaetón', 'South Korea', '...   \n",
       "1           ['R&B', 'South Korea', 'Trap', 'Korean']   \n",
       "2  ['R&B', 'Korean', 'K-R&B', 'K-Solo', 'South Ko...   \n",
       "3  ['R&B', 'K-R&B', 'Korean', 'K-Solo', 'South Ko...   \n",
       "4          ['R&B', 'South Korea', 'K-R&B', 'Korean']   \n",
       "\n",
       "                                    formatted_lyrics  \n",
       "0  \\n[ \"\" ]\\n\\n[Verse ]\\n \\n[Pre-Chorus]\\nWatch m...  \n",
       "1  \\n[ \" \" ]\\n\\n[Verse ]\\nDice and Ice cube \\nHom...  \n",
       "2  \\n[ \"\" ]\\n\\n[Verse ]\\n champagne \\n[Pre-Chorus...  \n",
       "3  \\n[ \"BAD SAD AND MAD\" ]\\n\\n[Refrain]\\nYou blue...  \n",
       "4  \\n[ \"\" ]\\n\\n[Verse ]\\n \\n[Pre-Chorus]\\n \\n[Cho...  \n",
       "\n",
       "[5 rows x 25 columns]"
      ]
     },
     "execution_count": 351,
     "metadata": {},
     "output_type": "execute_result"
    }
   ],
   "source": [
    "# Create a column with artist codes\n",
    "updated_df = df_88.replace(artist_code_dict)\n",
    "updated_df.head()"
   ]
  },
  {
   "cell_type": "code",
   "execution_count": 352,
   "metadata": {},
   "outputs": [
    {
     "data": {
      "text/plain": [
       "array([19, 47, 21, 27, 13, 16, 23, 22, 16, 17, 13,  9, 14, 24],\n",
       "      dtype=int64)"
      ]
     },
     "execution_count": 352,
     "metadata": {},
     "output_type": "execute_result"
    }
   ],
   "source": [
    "np.bincount(updated_df.artist)"
   ]
  },
  {
   "cell_type": "code",
   "execution_count": 353,
   "metadata": {},
   "outputs": [
    {
     "name": "stdout",
     "output_type": "stream",
     "text": [
      "281 281\n"
     ]
    }
   ],
   "source": [
    "# Drop any missing values\n",
    "no_missing_df = updated_df.dropna()\n",
    "print(len(no_missing_df), len(updated_df))"
   ]
  },
  {
   "cell_type": "code",
   "execution_count": 221,
   "metadata": {},
   "outputs": [
    {
     "data": {
      "text/html": [
       "<div>\n",
       "<style scoped>\n",
       "    .dataframe tbody tr th:only-of-type {\n",
       "        vertical-align: middle;\n",
       "    }\n",
       "\n",
       "    .dataframe tbody tr th {\n",
       "        vertical-align: top;\n",
       "    }\n",
       "\n",
       "    .dataframe thead th {\n",
       "        text-align: right;\n",
       "    }\n",
       "</style>\n",
       "<table border=\"1\" class=\"dataframe\">\n",
       "  <thead>\n",
       "    <tr style=\"text-align: right;\">\n",
       "      <th></th>\n",
       "      <th>Unnamed: 0.1</th>\n",
       "      <th>Unnamed: 0</th>\n",
       "      <th>track</th>\n",
       "      <th>album</th>\n",
       "      <th>artist</th>\n",
       "      <th>popularity</th>\n",
       "      <th>featured</th>\n",
       "      <th>release_date</th>\n",
       "      <th>track_id</th>\n",
       "      <th>danceability</th>\n",
       "      <th>...</th>\n",
       "      <th>instrumentalness</th>\n",
       "      <th>liveness</th>\n",
       "      <th>valence</th>\n",
       "      <th>tempo</th>\n",
       "      <th>duration_ms</th>\n",
       "      <th>time_signature</th>\n",
       "      <th>lyrics</th>\n",
       "      <th>filtered_lyrics</th>\n",
       "      <th>genre</th>\n",
       "      <th>formatted_lyrics</th>\n",
       "    </tr>\n",
       "  </thead>\n",
       "  <tbody>\n",
       "    <tr>\n",
       "      <th>0</th>\n",
       "      <td>0</td>\n",
       "      <td>0</td>\n",
       "      <td>BIBI Vengeance</td>\n",
       "      <td>Lowlife Princess: Noir</td>\n",
       "      <td>0</td>\n",
       "      <td>76</td>\n",
       "      <td>BIBI</td>\n",
       "      <td>2022-11-17</td>\n",
       "      <td>0ra3bPUOj2YnY4FJHXtgHZ</td>\n",
       "      <td>0.442</td>\n",
       "      <td>...</td>\n",
       "      <td>0.000128</td>\n",
       "      <td>0.0642</td>\n",
       "      <td>0.408</td>\n",
       "      <td>99.981</td>\n",
       "      <td>165135</td>\n",
       "      <td>4</td>\n",
       "      <td>[비비 \"나쁜년\" 가사][Verse 1]들어오라 해눈을 깔어 왜비밀로 할게네 부정과...</td>\n",
       "      <td>Watch me danceWatch me sing Watch me danceWat...</td>\n",
       "      <td>['R&amp;B', 'K-R&amp;B', 'Reggaetón', 'South Korea', '...</td>\n",
       "      <td>\\n[ \"\" ]\\n\\n[Verse ]\\n \\n[Pre-Chorus]\\nWatch m...</td>\n",
       "    </tr>\n",
       "    <tr>\n",
       "      <th>1</th>\n",
       "      <td>1</td>\n",
       "      <td>1</td>\n",
       "      <td>KAZINO</td>\n",
       "      <td>KAZINO</td>\n",
       "      <td>0</td>\n",
       "      <td>68</td>\n",
       "      <td>BIBI</td>\n",
       "      <td>2020-04-29</td>\n",
       "      <td>245onUPHGD1DYuiacxTuW0</td>\n",
       "      <td>0.625</td>\n",
       "      <td>...</td>\n",
       "      <td>0.000000</td>\n",
       "      <td>0.1100</td>\n",
       "      <td>0.263</td>\n",
       "      <td>133.041</td>\n",
       "      <td>185947</td>\n",
       "      <td>4</td>\n",
       "      <td>[비비 \"사장님 도박은 재미로 하셔야 합니다\" 가사][Verse 1]Dice and...</td>\n",
       "      <td>Dice and Ice cube Home girls bitches Spin it ...</td>\n",
       "      <td>['R&amp;B', 'South Korea', 'Trap', 'Korean']</td>\n",
       "      <td>\\n[ \" \" ]\\n\\n[Verse ]\\nDice and Ice cube \\nHom...</td>\n",
       "    </tr>\n",
       "    <tr>\n",
       "      <th>2</th>\n",
       "      <td>2</td>\n",
       "      <td>2</td>\n",
       "      <td>Animal Farm</td>\n",
       "      <td>Animal Farm</td>\n",
       "      <td>0</td>\n",
       "      <td>67</td>\n",
       "      <td>BIBI</td>\n",
       "      <td>2022-09-27</td>\n",
       "      <td>3gAXVQOR0h7Ks71lsr5MFZ</td>\n",
       "      <td>0.617</td>\n",
       "      <td>...</td>\n",
       "      <td>0.000006</td>\n",
       "      <td>0.5500</td>\n",
       "      <td>0.375</td>\n",
       "      <td>107.971</td>\n",
       "      <td>203946</td>\n",
       "      <td>3</td>\n",
       "      <td>[비비 \"가면무도회\" 가사][Verse 1]죄악의 단어위선의 가면넘쳐흐르는 무도회장...</td>\n",
       "      <td>champagne It might be pretty it might be beau...</td>\n",
       "      <td>['R&amp;B', 'Korean', 'K-R&amp;B', 'K-Solo', 'South Ko...</td>\n",
       "      <td>\\n[ \"\" ]\\n\\n[Verse ]\\n champagne \\n[Pre-Chorus...</td>\n",
       "    </tr>\n",
       "    <tr>\n",
       "      <th>3</th>\n",
       "      <td>3</td>\n",
       "      <td>3</td>\n",
       "      <td>BAD SAD AND MAD</td>\n",
       "      <td>Life is a Bi…</td>\n",
       "      <td>0</td>\n",
       "      <td>66</td>\n",
       "      <td>BIBI</td>\n",
       "      <td>2021-04-28</td>\n",
       "      <td>0zPbUxvYRlCGwruakkXPLI</td>\n",
       "      <td>0.746</td>\n",
       "      <td>...</td>\n",
       "      <td>0.000190</td>\n",
       "      <td>0.0904</td>\n",
       "      <td>0.638</td>\n",
       "      <td>90.013</td>\n",
       "      <td>154988</td>\n",
       "      <td>4</td>\n",
       "      <td>[비비 \"BAD SAD AND MAD\" 가사][Refrain]You blued my...</td>\n",
       "      <td>BAD SAD AND MAD Refrain You blued my bruisePi...</td>\n",
       "      <td>['R&amp;B', 'K-R&amp;B', 'Korean', 'K-Solo', 'South Ko...</td>\n",
       "      <td>\\n[ \"BAD SAD AND MAD\" ]\\n\\n[Refrain]\\nYou blue...</td>\n",
       "    </tr>\n",
       "    <tr>\n",
       "      <th>4</th>\n",
       "      <td>5</td>\n",
       "      <td>5</td>\n",
       "      <td>Restless</td>\n",
       "      <td>LISTEN 035 Restless</td>\n",
       "      <td>0</td>\n",
       "      <td>62</td>\n",
       "      <td>BIBI</td>\n",
       "      <td>2020-02-02</td>\n",
       "      <td>4AHNi316rl3KI3hKIsdxZe</td>\n",
       "      <td>0.575</td>\n",
       "      <td>...</td>\n",
       "      <td>0.000112</td>\n",
       "      <td>0.1150</td>\n",
       "      <td>0.298</td>\n",
       "      <td>89.985</td>\n",
       "      <td>267080</td>\n",
       "      <td>4</td>\n",
       "      <td>[비비 \"신경쓰여\" 가사][Verse 1]불 꺼진 방안 뒹굴다전화는 왜 잠만 잘 자...</td>\n",
       "      <td></td>\n",
       "      <td>['R&amp;B', 'South Korea', 'K-R&amp;B', 'Korean']</td>\n",
       "      <td>\\n[ \"\" ]\\n\\n[Verse ]\\n \\n[Pre-Chorus]\\n \\n[Cho...</td>\n",
       "    </tr>\n",
       "  </tbody>\n",
       "</table>\n",
       "<p>5 rows × 25 columns</p>\n",
       "</div>"
      ],
      "text/plain": [
       "   Unnamed: 0.1  Unnamed: 0            track                   album  artist  \\\n",
       "0             0           0   BIBI Vengeance  Lowlife Princess: Noir       0   \n",
       "1             1           1           KAZINO                  KAZINO       0   \n",
       "2             2           2      Animal Farm             Animal Farm       0   \n",
       "3             3           3  BAD SAD AND MAD           Life is a Bi…       0   \n",
       "4             5           5         Restless     LISTEN 035 Restless       0   \n",
       "\n",
       "   popularity featured release_date                track_id  danceability  \\\n",
       "0          76     BIBI   2022-11-17  0ra3bPUOj2YnY4FJHXtgHZ         0.442   \n",
       "1          68     BIBI   2020-04-29  245onUPHGD1DYuiacxTuW0         0.625   \n",
       "2          67     BIBI   2022-09-27  3gAXVQOR0h7Ks71lsr5MFZ         0.617   \n",
       "3          66     BIBI   2021-04-28  0zPbUxvYRlCGwruakkXPLI         0.746   \n",
       "4          62     BIBI   2020-02-02  4AHNi316rl3KI3hKIsdxZe         0.575   \n",
       "\n",
       "   ...  instrumentalness  liveness  valence    tempo  duration_ms  \\\n",
       "0  ...          0.000128    0.0642    0.408   99.981       165135   \n",
       "1  ...          0.000000    0.1100    0.263  133.041       185947   \n",
       "2  ...          0.000006    0.5500    0.375  107.971       203946   \n",
       "3  ...          0.000190    0.0904    0.638   90.013       154988   \n",
       "4  ...          0.000112    0.1150    0.298   89.985       267080   \n",
       "\n",
       "   time_signature                                             lyrics  \\\n",
       "0               4  [비비 \"나쁜년\" 가사][Verse 1]들어오라 해눈을 깔어 왜비밀로 할게네 부정과...   \n",
       "1               4  [비비 \"사장님 도박은 재미로 하셔야 합니다\" 가사][Verse 1]Dice and...   \n",
       "2               3  [비비 \"가면무도회\" 가사][Verse 1]죄악의 단어위선의 가면넘쳐흐르는 무도회장...   \n",
       "3               4  [비비 \"BAD SAD AND MAD\" 가사][Refrain]You blued my...   \n",
       "4               4  [비비 \"신경쓰여\" 가사][Verse 1]불 꺼진 방안 뒹굴다전화는 왜 잠만 잘 자...   \n",
       "\n",
       "                                     filtered_lyrics  \\\n",
       "0   Watch me danceWatch me sing Watch me danceWat...   \n",
       "1   Dice and Ice cube Home girls bitches Spin it ...   \n",
       "2   champagne It might be pretty it might be beau...   \n",
       "3   BAD SAD AND MAD Refrain You blued my bruisePi...   \n",
       "4                                                      \n",
       "\n",
       "                                               genre  \\\n",
       "0  ['R&B', 'K-R&B', 'Reggaetón', 'South Korea', '...   \n",
       "1           ['R&B', 'South Korea', 'Trap', 'Korean']   \n",
       "2  ['R&B', 'Korean', 'K-R&B', 'K-Solo', 'South Ko...   \n",
       "3  ['R&B', 'K-R&B', 'Korean', 'K-Solo', 'South Ko...   \n",
       "4          ['R&B', 'South Korea', 'K-R&B', 'Korean']   \n",
       "\n",
       "                                    formatted_lyrics  \n",
       "0  \\n[ \"\" ]\\n\\n[Verse ]\\n \\n[Pre-Chorus]\\nWatch m...  \n",
       "1  \\n[ \" \" ]\\n\\n[Verse ]\\nDice and Ice cube \\nHom...  \n",
       "2  \\n[ \"\" ]\\n\\n[Verse ]\\n champagne \\n[Pre-Chorus...  \n",
       "3  \\n[ \"BAD SAD AND MAD\" ]\\n\\n[Refrain]\\nYou blue...  \n",
       "4  \\n[ \"\" ]\\n\\n[Verse ]\\n \\n[Pre-Chorus]\\n \\n[Cho...  \n",
       "\n",
       "[5 rows x 25 columns]"
      ]
     },
     "execution_count": 221,
     "metadata": {},
     "output_type": "execute_result"
    }
   ],
   "source": [
    "# Split lyrics by line\n",
    "# Remove extra words like [Artist:], [Verse], etc\n",
    "test1 = updated_df.iloc[0:5,:]\n",
    "test1.head()"
   ]
  },
  {
   "cell_type": "code",
   "execution_count": null,
   "metadata": {},
   "outputs": [],
   "source": [
    "test1_explode = test1.assign(formatted_lyrics=test1.formatted_lyrics.str.split(\"\\n\")).explode('formatted_lyrics')\n",
    "test1_explode.dropna(inplace=True)\n",
    "test1_explode.reset_index(drop = True, inplace=True)\n",
    "test1_explode[0:4]"
   ]
  },
  {
   "cell_type": "code",
   "execution_count": 291,
   "metadata": {},
   "outputs": [],
   "source": [
    "from string import ascii_letters, punctuation"
   ]
  },
  {
   "cell_type": "code",
   "execution_count": 308,
   "metadata": {},
   "outputs": [
    {
     "name": "stdout",
     "output_type": "stream",
     "text": [
      "61 111\n"
     ]
    }
   ],
   "source": [
    "# if lyric row contains [], remove\n",
    "watdis=test1_explode.formatted_lyrics[4]\n",
    "watdis2 = test1_explode.formatted_lyrics[106]\n",
    "row_drop = []\n",
    "items_to_drop = ['\\n', \"[\", \"]\"]\n",
    "\n",
    "letters = set(ascii_letters)\n",
    "\n",
    "for row in test1_explode['formatted_lyrics']:\n",
    "    if len(row) == 0:\n",
    "        row_drop.append(row)\n",
    "    elif (row in (letters) == False):\n",
    "        row_drop.append(row)\n",
    "    elif row == watdis or row == watdis2:\n",
    "        row_drop.append(row)\n",
    "    else:\n",
    "        for char in row:\n",
    "            if char in items_to_drop:\n",
    "                row_drop.append(row)\n",
    "                break\n",
    "\n",
    "test1_clean = test1_explode.loc[test1_explode['formatted_lyrics'].isin(row_drop) == False] \n",
    "#dup_test1.drop(row_drop, axis = 0, inplace=True)\n",
    "test1_clean.head(1)\n",
    "print(len(test1_clean), len(test1_explode))"
   ]
  },
  {
   "cell_type": "code",
   "execution_count": 287,
   "metadata": {},
   "outputs": [
    {
     "name": "stdout",
     "output_type": "stream",
     "text": [
      "82 71\n"
     ]
    }
   ],
   "source": [
    "test1_clean2 = test1_clean[test1_clean['formatted_lyrics'].apply(lambda x : len(x))>0]\n",
    "print(len(test1_clean), len(test1_clean2))"
   ]
  },
  {
   "cell_type": "code",
   "execution_count": 311,
   "metadata": {},
   "outputs": [
    {
     "name": "stdout",
     "output_type": "stream",
     "text": [
      "['Watch me dance' 'Watch me sing ' 'I got mercy, I got grace'\n",
      " 'Desperado with the scales' 'Throw a rose on your body'\n",
      " \"Mask of Zorro I'm so wanted \" 'Look scared ' 'Dice and Ice cube '\n",
      " 'Home girls bitches ' 'Spin it, spin it,pussy '\n",
      " 'Chips andchips and chips and ' 'Demon under the table '\n",
      " 'Risk it, risk it, risk it, till the last dime' 'Yeah, yeah, yeah'\n",
      " 'Risk it, risk it, risk it, till the last'\n",
      " 'B-b-bitches, Ice and home girl, on you, on, home girl'\n",
      " 'Bitches, Ice and home girl, on you, on, home girl' 'Bitches, bitches'\n",
      " 'Risk it till the last dime'\n",
      " 'Give me that, hook that, spin that, roulette' 'Vodka, in my cup, '\n",
      " 'Spin it, tip it, strip it, shawty' 'Taste the muzzle of a gun'\n",
      " 'Taste the of money' \"You think I'm dazzle up my \"\n",
      " \"Tie that bitch ain't funny chips checks matches and chicks\"\n",
      " ' champagne ' 'It might be pretty, it might be beautiful'\n",
      " 'It might be grand' 'This might be right, this might be justice' 'But I'\n",
      " 'Welcome, well done'\n",
      " 'Shameless friends of mine ?Hang my pretty head in your room'\n",
      " 'Where is love? Where is my sympathy? ?Is it a farm? Is it society?Am I a tiger or a gazelle?'\n",
      " 'You blued my bruise' 'Pink me with ties' 'You red my mind'\n",
      " 'Black my bones and' 'Purple my eyes' 'Yeah, you red my mind (Ah-ah-ah)'\n",
      " 'Drip, drip, drip, drip on my waist'\n",
      " 'And I keep, keep, keep, keep begging' 'And addicted, I digged it yeah'\n",
      " 'Addicted, I digged it yeah' 'And addicted, I digged it, yeah'\n",
      " 'Addicted, I digged it, yeah' 'Pet me, pet me Yeah Hm-hm']\n"
     ]
    }
   ],
   "source": [
    "print(test1_clean['formatted_lyrics'].unique())"
   ]
  },
  {
   "cell_type": "code",
   "execution_count": 313,
   "metadata": {},
   "outputs": [
    {
     "name": "stdout",
     "output_type": "stream",
     "text": [
      "7461 9476\n"
     ]
    }
   ],
   "source": [
    "# Clean actual data\n",
    "df_explode = updated_df.assign(formatted_lyrics=updated_df.formatted_lyrics.str.split(\"\\n\")).explode('formatted_lyrics')\n",
    "df_explode.dropna(inplace=True)\n",
    "df_explode.reset_index(drop = True, inplace=True)\n",
    "\n",
    "\n",
    "row_drop = []\n",
    "items_to_drop = ['\\n', \"[\", \"]\"]\n",
    "\n",
    "letters = set(ascii_letters)\n",
    "\n",
    "for row in df_explode['formatted_lyrics']:\n",
    "    if len(row) == 0:\n",
    "        row_drop.append(row)\n",
    "    elif (row in (letters) == False):\n",
    "        row_drop.append(row)\n",
    "    elif row == watdis or row == watdis2:\n",
    "        row_drop.append(row)\n",
    "    else:\n",
    "        for char in row:\n",
    "            if char in items_to_drop:\n",
    "                row_drop.append(row)\n",
    "                break\n",
    "\n",
    "df_clean = df_explode.loc[df_explode['formatted_lyrics'].isin(row_drop) == False] \n",
    "#dup_test1.drop(row_drop, axis = 0, inplace=True)\n",
    "df_clean.head(1)\n",
    "print(len(df_clean), len(df_explode))"
   ]
  },
  {
   "cell_type": "code",
   "execution_count": 316,
   "metadata": {},
   "outputs": [
    {
     "data": {
      "text/plain": [
       "6                                          Watch me dance\n",
       "7                                          Watch me sing \n",
       "8                                          Watch me dance\n",
       "9                                          Watch me sing \n",
       "13                               I got mercy, I got grace\n",
       "                              ...                        \n",
       "9470    Will you spend the night doing some dumb shit?...\n",
       "9471                 (Jaded off your love, faded off you)\n",
       "9472                                            Would you\n",
       "9473    Would you tell me you love me back?(Jaded off ...\n",
       "9474                                       (Jaded, oh no)\n",
       "Name: formatted_lyrics, Length: 7461, dtype: object"
      ]
     },
     "execution_count": 316,
     "metadata": {},
     "output_type": "execute_result"
    }
   ],
   "source": [
    "df_clean['formatted_lyrics']"
   ]
  },
  {
   "cell_type": "code",
   "execution_count": 340,
   "metadata": {},
   "outputs": [
    {
     "data": {
      "text/plain": [
       "array([ 248,  607,  797, 1047,  489,  354,  776,  566,  450,  345,  403,\n",
       "        148,  398,  833], dtype=int64)"
      ]
     },
     "execution_count": 340,
     "metadata": {},
     "output_type": "execute_result"
    }
   ],
   "source": [
    "np.bincount(df_clean['artist'])"
   ]
  },
  {
   "cell_type": "code",
   "execution_count": 377,
   "metadata": {},
   "outputs": [
    {
     "data": {
      "text/html": [
       "<div>\n",
       "<style scoped>\n",
       "    .dataframe tbody tr th:only-of-type {\n",
       "        vertical-align: middle;\n",
       "    }\n",
       "\n",
       "    .dataframe tbody tr th {\n",
       "        vertical-align: top;\n",
       "    }\n",
       "\n",
       "    .dataframe thead th {\n",
       "        text-align: right;\n",
       "    }\n",
       "</style>\n",
       "<table border=\"1\" class=\"dataframe\">\n",
       "  <thead>\n",
       "    <tr style=\"text-align: right;\">\n",
       "      <th></th>\n",
       "      <th>artist</th>\n",
       "      <th>formatted_lyrics</th>\n",
       "    </tr>\n",
       "  </thead>\n",
       "  <tbody>\n",
       "    <tr>\n",
       "      <th>0</th>\n",
       "      <td>0</td>\n",
       "      <td>Watch me dance</td>\n",
       "    </tr>\n",
       "    <tr>\n",
       "      <th>1</th>\n",
       "      <td>0</td>\n",
       "      <td>Watch me sing</td>\n",
       "    </tr>\n",
       "    <tr>\n",
       "      <th>2</th>\n",
       "      <td>0</td>\n",
       "      <td>Watch me dance</td>\n",
       "    </tr>\n",
       "    <tr>\n",
       "      <th>3</th>\n",
       "      <td>0</td>\n",
       "      <td>Watch me sing</td>\n",
       "    </tr>\n",
       "    <tr>\n",
       "      <th>4</th>\n",
       "      <td>0</td>\n",
       "      <td>I got mercy, I got grace</td>\n",
       "    </tr>\n",
       "    <tr>\n",
       "      <th>...</th>\n",
       "      <td>...</td>\n",
       "      <td>...</td>\n",
       "    </tr>\n",
       "    <tr>\n",
       "      <th>7456</th>\n",
       "      <td>13</td>\n",
       "      <td>Will you spend the night doing some dumb shit?...</td>\n",
       "    </tr>\n",
       "    <tr>\n",
       "      <th>7457</th>\n",
       "      <td>13</td>\n",
       "      <td>(Jaded off your love, faded off you)</td>\n",
       "    </tr>\n",
       "    <tr>\n",
       "      <th>7458</th>\n",
       "      <td>13</td>\n",
       "      <td>Would you</td>\n",
       "    </tr>\n",
       "    <tr>\n",
       "      <th>7459</th>\n",
       "      <td>13</td>\n",
       "      <td>Would you tell me you love me back?(Jaded off ...</td>\n",
       "    </tr>\n",
       "    <tr>\n",
       "      <th>7460</th>\n",
       "      <td>13</td>\n",
       "      <td>(Jaded, oh no)</td>\n",
       "    </tr>\n",
       "  </tbody>\n",
       "</table>\n",
       "<p>7461 rows × 2 columns</p>\n",
       "</div>"
      ],
      "text/plain": [
       "      artist                                   formatted_lyrics\n",
       "0          0                                     Watch me dance\n",
       "1          0                                     Watch me sing \n",
       "2          0                                     Watch me dance\n",
       "3          0                                     Watch me sing \n",
       "4          0                           I got mercy, I got grace\n",
       "...      ...                                                ...\n",
       "7456      13  Will you spend the night doing some dumb shit?...\n",
       "7457      13               (Jaded off your love, faded off you)\n",
       "7458      13                                          Would you\n",
       "7459      13  Would you tell me you love me back?(Jaded off ...\n",
       "7460      13                                     (Jaded, oh no)\n",
       "\n",
       "[7461 rows x 2 columns]"
      ]
     },
     "execution_count": 377,
     "metadata": {},
     "output_type": "execute_result"
    }
   ],
   "source": [
    "df_artist_lyric = df_clean[['artist', 'formatted_lyrics']].reset_index(drop=True)\n",
    "df_artist_lyric"
   ]
  },
  {
   "cell_type": "code",
   "execution_count": 379,
   "metadata": {},
   "outputs": [],
   "source": [
    "# Save csv file\n",
    "df_artist_lyric.to_csv('lyrics88_by_line.csv')"
   ]
  },
  {
   "cell_type": "code",
   "execution_count": 317,
   "metadata": {},
   "outputs": [],
   "source": [
    "# Vectorize the lyrics\n",
    "vect = CountVectorizer()"
   ]
  },
  {
   "cell_type": "code",
   "execution_count": 334,
   "metadata": {},
   "outputs": [],
   "source": [
    "X_train, X_test, y_train, y_test = train_test_split(df_clean['formatted_lyrics'], df_clean['artist'], random_state=25)"
   ]
  },
  {
   "cell_type": "code",
   "execution_count": 335,
   "metadata": {},
   "outputs": [
    {
     "name": "stdout",
     "output_type": "stream",
     "text": [
      "train: [181 456 585 794 370 253 587 412 348 255 303 111 311 629]\n",
      "test: [ 67 151 212 253 119 101 189 154 102  90 100  37  87 204]\n"
     ]
    }
   ],
   "source": [
    "print(f\"train: {np.bincount(y_train)}\")\n",
    "print(f\"test: {np.bincount(y_test)}\")"
   ]
  },
  {
   "cell_type": "code",
   "execution_count": 336,
   "metadata": {},
   "outputs": [],
   "source": [
    "X_train = vect.fit_transform(X_train)\n",
    "X_test = vect.transform(X_test)"
   ]
  },
  {
   "cell_type": "code",
   "execution_count": 337,
   "metadata": {},
   "outputs": [
    {
     "name": "stdout",
     "output_type": "stream",
     "text": [
      "Num Features: 4556\n"
     ]
    },
    {
     "name": "stderr",
     "output_type": "stream",
     "text": [
      "c:\\Users\\krist\\anaconda3\\lib\\site-packages\\sklearn\\utils\\deprecation.py:87: FutureWarning: Function get_feature_names is deprecated; get_feature_names is deprecated in 1.0 and will be removed in 1.2. Please use get_feature_names_out instead.\n",
      "  warnings.warn(msg, category=FutureWarning)\n"
     ]
    }
   ],
   "source": [
    "feature_names = vect.get_feature_names()\n",
    "print(f\"Num Features: {len(feature_names)}\")"
   ]
  },
  {
   "cell_type": "code",
   "execution_count": 338,
   "metadata": {},
   "outputs": [
    {
     "name": "stdout",
     "output_type": "stream",
     "text": [
      "Training score: 0.6366398570151921\n",
      "Testing score: 0.40514469453376206\n"
     ]
    }
   ],
   "source": [
    "# Naive Bayes\n",
    "nb = MultinomialNB()\n",
    "nb.fit(X_train, y_train)\n",
    "print(f\"Training score: {nb.score(X_train, y_train)}\")\n",
    "print(f\"Testing score: {nb.score(X_test, y_test)}\")"
   ]
  },
  {
   "cell_type": "code",
   "execution_count": 341,
   "metadata": {},
   "outputs": [],
   "source": [
    "# Test Random Forest\n",
    "from sklearn.ensemble import RandomForestClassifier\n",
    "from sklearn.model_selection import train_test_split\n",
    "from sklearn.preprocessing import StandardScaler"
   ]
  },
  {
   "cell_type": "code",
   "execution_count": 384,
   "metadata": {},
   "outputs": [
    {
     "name": "stdout",
     "output_type": "stream",
     "text": [
      "Training Score: 0.9824843610366398\n",
      "Testing Score: 0.5080385852090032\n"
     ]
    }
   ],
   "source": [
    "clf = RandomForestClassifier(random_state=1, n_estimators=50).fit(X_train, y_train)\n",
    "print(f'Training Score: {clf.score(X_train, y_train)}')\n",
    "print(f'Testing Score: {clf.score(X_test, y_test)}')"
   ]
  }
 ],
 "metadata": {
  "kernelspec": {
   "display_name": "Python 3.9.12 ('base')",
   "language": "python",
   "name": "python3"
  },
  "language_info": {
   "codemirror_mode": {
    "name": "ipython",
    "version": 3
   },
   "file_extension": ".py",
   "mimetype": "text/x-python",
   "name": "python",
   "nbconvert_exporter": "python",
   "pygments_lexer": "ipython3",
   "version": "3.9.12"
  },
  "orig_nbformat": 4,
  "vscode": {
   "interpreter": {
    "hash": "fd5f0602b361fcd80b6e43c9db32d5ff96b182a40640908c77b502a93aa9387e"
   }
  }
 },
 "nbformat": 4,
 "nbformat_minor": 2
}
