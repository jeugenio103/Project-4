{
 "cells": [
  {
   "cell_type": "code",
   "execution_count": 75,
   "metadata": {},
   "outputs": [],
   "source": [
    "import pandas as pd\n",
    "import nltk\n",
    "import json\n",
    "import matplotlib as plt\n",
    "import seaborn as sns"
   ]
  },
  {
   "cell_type": "code",
   "execution_count": 34,
   "metadata": {},
   "outputs": [
    {
     "data": {
      "text/html": [
       "<div>\n",
       "<style scoped>\n",
       "    .dataframe tbody tr th:only-of-type {\n",
       "        vertical-align: middle;\n",
       "    }\n",
       "\n",
       "    .dataframe tbody tr th {\n",
       "        vertical-align: top;\n",
       "    }\n",
       "\n",
       "    .dataframe thead th {\n",
       "        text-align: right;\n",
       "    }\n",
       "</style>\n",
       "<table border=\"1\" class=\"dataframe\">\n",
       "  <thead>\n",
       "    <tr style=\"text-align: right;\">\n",
       "      <th></th>\n",
       "      <th>Unnamed: 0</th>\n",
       "      <th>track</th>\n",
       "      <th>album</th>\n",
       "      <th>artist</th>\n",
       "      <th>popularity</th>\n",
       "      <th>featured</th>\n",
       "      <th>release_date</th>\n",
       "      <th>track_id</th>\n",
       "      <th>danceability</th>\n",
       "      <th>energy</th>\n",
       "      <th>...</th>\n",
       "      <th>speechiness</th>\n",
       "      <th>instrumentalness</th>\n",
       "      <th>liveness</th>\n",
       "      <th>valence</th>\n",
       "      <th>tempo</th>\n",
       "      <th>duration_ms</th>\n",
       "      <th>time_signature</th>\n",
       "      <th>lyrics</th>\n",
       "      <th>filtered_lyrics</th>\n",
       "      <th>genre</th>\n",
       "    </tr>\n",
       "  </thead>\n",
       "  <tbody>\n",
       "    <tr>\n",
       "      <th>0</th>\n",
       "      <td>0</td>\n",
       "      <td>BIBI Vengeance</td>\n",
       "      <td>Lowlife Princess: Noir</td>\n",
       "      <td>BIBI</td>\n",
       "      <td>76</td>\n",
       "      <td>BIBI</td>\n",
       "      <td>2022-11-17</td>\n",
       "      <td>0ra3bPUOj2YnY4FJHXtgHZ</td>\n",
       "      <td>0.442</td>\n",
       "      <td>0.748</td>\n",
       "      <td>...</td>\n",
       "      <td>0.0895</td>\n",
       "      <td>0.000128</td>\n",
       "      <td>0.0642</td>\n",
       "      <td>0.408</td>\n",
       "      <td>99.981</td>\n",
       "      <td>165135</td>\n",
       "      <td>4</td>\n",
       "      <td>[비비 \"나쁜년\" 가사][Verse 1]들어오라 해눈을 깔어 왜비밀로 할게네 부정과...</td>\n",
       "      <td>Watch me danceWatch me sing Watch me danceWat...</td>\n",
       "      <td>['R&amp;B', 'K-R&amp;B', 'Reggaetón', 'South Korea', '...</td>\n",
       "    </tr>\n",
       "  </tbody>\n",
       "</table>\n",
       "<p>1 rows × 23 columns</p>\n",
       "</div>"
      ],
      "text/plain": [
       "   Unnamed: 0           track                   album artist  popularity  \\\n",
       "0           0  BIBI Vengeance  Lowlife Princess: Noir   BIBI          76   \n",
       "\n",
       "  featured release_date                track_id  danceability  energy  ...  \\\n",
       "0     BIBI   2022-11-17  0ra3bPUOj2YnY4FJHXtgHZ         0.442   0.748  ...   \n",
       "\n",
       "   speechiness  instrumentalness  liveness  valence   tempo  duration_ms  \\\n",
       "0       0.0895          0.000128    0.0642    0.408  99.981       165135   \n",
       "\n",
       "   time_signature                                             lyrics  \\\n",
       "0               4  [비비 \"나쁜년\" 가사][Verse 1]들어오라 해눈을 깔어 왜비밀로 할게네 부정과...   \n",
       "\n",
       "                                     filtered_lyrics  \\\n",
       "0   Watch me danceWatch me sing Watch me danceWat...   \n",
       "\n",
       "                                               genre  \n",
       "0  ['R&B', 'K-R&B', 'Reggaetón', 'South Korea', '...  \n",
       "\n",
       "[1 rows x 23 columns]"
      ]
     },
     "execution_count": 34,
     "metadata": {},
     "output_type": "execute_result"
    }
   ],
   "source": [
    "df_88 = pd.read_csv('../../Test-Data/pre-final-88-genre.csv')\n",
    "df_88.head(1)"
   ]
  },
  {
   "cell_type": "code",
   "execution_count": 35,
   "metadata": {},
   "outputs": [
    {
     "data": {
      "text/html": [
       "<div>\n",
       "<style scoped>\n",
       "    .dataframe tbody tr th:only-of-type {\n",
       "        vertical-align: middle;\n",
       "    }\n",
       "\n",
       "    .dataframe tbody tr th {\n",
       "        vertical-align: top;\n",
       "    }\n",
       "\n",
       "    .dataframe thead th {\n",
       "        text-align: right;\n",
       "    }\n",
       "</style>\n",
       "<table border=\"1\" class=\"dataframe\">\n",
       "  <thead>\n",
       "    <tr style=\"text-align: right;\">\n",
       "      <th></th>\n",
       "      <th>artist_name</th>\n",
       "      <th>lyrics</th>\n",
       "    </tr>\n",
       "  </thead>\n",
       "  <tbody>\n",
       "    <tr>\n",
       "      <th>0</th>\n",
       "      <td>BIBI</td>\n",
       "      <td>Watch me danceWatch me sing Watch me danceWat...</td>\n",
       "    </tr>\n",
       "  </tbody>\n",
       "</table>\n",
       "</div>"
      ],
      "text/plain": [
       "  artist_name                                             lyrics\n",
       "0        BIBI   Watch me danceWatch me sing Watch me danceWat..."
      ]
     },
     "execution_count": 35,
     "metadata": {},
     "output_type": "execute_result"
    }
   ],
   "source": [
    "new_df88 = pd.DataFrame({'artist_name': df_88['artist'], 'lyrics': df_88['filtered_lyrics']})\n",
    "new_df88.head(1)"
   ]
  },
  {
   "cell_type": "code",
   "execution_count": 120,
   "metadata": {},
   "outputs": [
    {
     "data": {
      "text/plain": [
       "0"
      ]
     },
     "execution_count": 120,
     "metadata": {},
     "output_type": "execute_result"
    }
   ],
   "source": [
    "# Remove \"missing\" songs\n",
    "new_df88 = new_df88.loc[new_df88['lyrics'] != 'missing']\n",
    "len(new_df88.loc[new_df88['lyrics'] == 'missing'])"
   ]
  },
  {
   "cell_type": "code",
   "execution_count": 86,
   "metadata": {},
   "outputs": [],
   "source": [
    "# Add space in between words and lowercase\n",
    "def correct_format(lyric_str):\n",
    "    lyric_str = lyric_str.lower()\n",
    "    new_str = \"\"\n",
    "    for index in range(0, len(lyric_str)):\n",
    "        if index+1 == len(lyric_str):\n",
    "            new_str = new_str + lyric_str[index]\n",
    "            break\n",
    "        else:\n",
    "            prev = lyric_str[index]\n",
    "            after = lyric_str[index+1]\n",
    "            if prev.islower() and after.isupper():\n",
    "                new_str = new_str + prev + \" \"\n",
    "            else:\n",
    "                new_str = new_str + prev\n",
    "    return new_str"
   ]
  },
  {
   "cell_type": "code",
   "execution_count": 87,
   "metadata": {},
   "outputs": [],
   "source": [
    "new_df88['lyrics'] = new_df88['lyrics'].apply(lambda x: correct_format(x))"
   ]
  },
  {
   "cell_type": "code",
   "execution_count": 88,
   "metadata": {},
   "outputs": [
    {
     "data": {
      "text/html": [
       "<div>\n",
       "<style scoped>\n",
       "    .dataframe tbody tr th:only-of-type {\n",
       "        vertical-align: middle;\n",
       "    }\n",
       "\n",
       "    .dataframe tbody tr th {\n",
       "        vertical-align: top;\n",
       "    }\n",
       "\n",
       "    .dataframe thead th {\n",
       "        text-align: right;\n",
       "    }\n",
       "</style>\n",
       "<table border=\"1\" class=\"dataframe\">\n",
       "  <thead>\n",
       "    <tr style=\"text-align: right;\">\n",
       "      <th></th>\n",
       "      <th>artist_name</th>\n",
       "      <th>lyrics</th>\n",
       "      <th>lyrics_tokenized</th>\n",
       "    </tr>\n",
       "  </thead>\n",
       "  <tbody>\n",
       "    <tr>\n",
       "      <th>0</th>\n",
       "      <td>BIBI</td>\n",
       "      <td>watch me dance watch me sing watch me dance w...</td>\n",
       "      <td>[watch, me, dance, watch, me, sing, watch, me,...</td>\n",
       "    </tr>\n",
       "    <tr>\n",
       "      <th>1</th>\n",
       "      <td>BIBI</td>\n",
       "      <td>dice and ice cube home girls bitches spin it ...</td>\n",
       "      <td>[dice, and, ice, cube, home, girls, bitches, s...</td>\n",
       "    </tr>\n",
       "    <tr>\n",
       "      <th>2</th>\n",
       "      <td>BIBI</td>\n",
       "      <td>champagne it might be pretty it might be beau...</td>\n",
       "      <td>[champagne, it, might, be, pretty, it, might, ...</td>\n",
       "    </tr>\n",
       "    <tr>\n",
       "      <th>3</th>\n",
       "      <td>BIBI</td>\n",
       "      <td>bad sad and mad refrain you blued my bruise p...</td>\n",
       "      <td>[bad, sad, and, mad, refrain, you, blued, my, ...</td>\n",
       "    </tr>\n",
       "    <tr>\n",
       "      <th>4</th>\n",
       "      <td>BIBI</td>\n",
       "      <td>missing</td>\n",
       "      <td>[missing]</td>\n",
       "    </tr>\n",
       "    <tr>\n",
       "      <th>...</th>\n",
       "      <td>...</td>\n",
       "      <td>...</td>\n",
       "      <td>...</td>\n",
       "    </tr>\n",
       "    <tr>\n",
       "      <th>453</th>\n",
       "      <td>Warren Hue</td>\n",
       "      <td>warren hue i wanna be like i ve been stuck i...</td>\n",
       "      <td>[warren, hue, i, wanna, be, like, i, ve, been,...</td>\n",
       "    </tr>\n",
       "    <tr>\n",
       "      <th>454</th>\n",
       "      <td>Warren Hue</td>\n",
       "      <td>missing</td>\n",
       "      <td>[missing]</td>\n",
       "    </tr>\n",
       "    <tr>\n",
       "      <th>455</th>\n",
       "      <td>Warren Hue</td>\n",
       "      <td>uh uh ayy ya ya uh uh turn turn ya ya t turn y...</td>\n",
       "      <td>[uh, uh, ayy, ya, ya, uh, uh, turn, turn, ya, ...</td>\n",
       "    </tr>\n",
       "    <tr>\n",
       "      <th>456</th>\n",
       "      <td>Warren Hue</td>\n",
       "      <td>won t you run away with me this evening oh tru...</td>\n",
       "      <td>[won, t, you, run, away, with, me, this, eveni...</td>\n",
       "    </tr>\n",
       "    <tr>\n",
       "      <th>457</th>\n",
       "      <td>Warren Hue</td>\n",
       "      <td>your neck covered in jade your kicks covered w...</td>\n",
       "      <td>[your, neck, covered, in, jade, your, kicks, c...</td>\n",
       "    </tr>\n",
       "  </tbody>\n",
       "</table>\n",
       "<p>458 rows × 3 columns</p>\n",
       "</div>"
      ],
      "text/plain": [
       "    artist_name                                             lyrics  \\\n",
       "0          BIBI   watch me dance watch me sing watch me dance w...   \n",
       "1          BIBI   dice and ice cube home girls bitches spin it ...   \n",
       "2          BIBI   champagne it might be pretty it might be beau...   \n",
       "3          BIBI   bad sad and mad refrain you blued my bruise p...   \n",
       "4          BIBI                                            missing   \n",
       "..          ...                                                ...   \n",
       "453  Warren Hue    warren hue i wanna be like i ve been stuck i...   \n",
       "454  Warren Hue                                            missing   \n",
       "455  Warren Hue  uh uh ayy ya ya uh uh turn turn ya ya t turn y...   \n",
       "456  Warren Hue  won t you run away with me this evening oh tru...   \n",
       "457  Warren Hue  your neck covered in jade your kicks covered w...   \n",
       "\n",
       "                                      lyrics_tokenized  \n",
       "0    [watch, me, dance, watch, me, sing, watch, me,...  \n",
       "1    [dice, and, ice, cube, home, girls, bitches, s...  \n",
       "2    [champagne, it, might, be, pretty, it, might, ...  \n",
       "3    [bad, sad, and, mad, refrain, you, blued, my, ...  \n",
       "4                                            [missing]  \n",
       "..                                                 ...  \n",
       "453  [warren, hue, i, wanna, be, like, i, ve, been,...  \n",
       "454                                          [missing]  \n",
       "455  [uh, uh, ayy, ya, ya, uh, uh, turn, turn, ya, ...  \n",
       "456  [won, t, you, run, away, with, me, this, eveni...  \n",
       "457  [your, neck, covered, in, jade, your, kicks, c...  \n",
       "\n",
       "[458 rows x 3 columns]"
      ]
     },
     "execution_count": 88,
     "metadata": {},
     "output_type": "execute_result"
    }
   ],
   "source": [
    "# Tokenize lyrics\n",
    "new_df88['lyrics_tokenized']=new_df88['lyrics'].apply(lambda x: x.split())\n",
    "new_df88\n"
   ]
  },
  {
   "cell_type": "code",
   "execution_count": 114,
   "metadata": {},
   "outputs": [
    {
     "data": {
      "text/plain": [
       "array(['BIBI', 'CHUNG HA', 'Keith Ape', 'Dumbfoundead', 'Guapdad 4000',\n",
       "       'Rich Brian', 'Higher Brothers', 'Jackson Wang', 'Joji',\n",
       "       'Lexie Liu', 'Mili', 'Seori', 'Stephanie Poetri', 'Warren Hue'],\n",
       "      dtype=object)"
      ]
     },
     "execution_count": 114,
     "metadata": {},
     "output_type": "execute_result"
    }
   ],
   "source": [
    "df_88['artist'].unique()"
   ]
  },
  {
   "cell_type": "code",
   "execution_count": 106,
   "metadata": {},
   "outputs": [],
   "source": [
    "# Find the frequency of words for Rich Brian and Joji\n",
    "richbrian_lyrics = new_df88.loc[new_df88['artist_name'] == 'Rich Brian']\n",
    "joji_lyrics = new_df88.loc[new_df88['artist_name'] == 'Joji']"
   ]
  },
  {
   "cell_type": "code",
   "execution_count": 107,
   "metadata": {},
   "outputs": [],
   "source": [
    "# Function to combine all words into one list\n",
    "def comb_words(df):\n",
    "    word_list = []\n",
    "    for rows in df:\n",
    "        word_list.extend(rows)\n",
    "    return word_list"
   ]
  },
  {
   "cell_type": "code",
   "execution_count": 108,
   "metadata": {},
   "outputs": [],
   "source": [
    "rb_all_words = comb_words(richbrian_lyrics['lyrics_tokenized'])\n",
    "joji_all_words = comb_words(joji_lyrics['lyrics_tokenized'])"
   ]
  },
  {
   "cell_type": "code",
   "execution_count": 109,
   "metadata": {},
   "outputs": [],
   "source": [
    "rb_word_dist = nltk.FreqDist(rb_all_words) \n",
    "rb_words_df = pd.DataFrame({'word':list(rb_word_dist.keys()), 'count':list(rb_word_dist.values())}).sort_values(by='count', ascending=False)\n",
    "joji_word_dist = nltk.FreqDist(joji_all_words) \n",
    "joji_words_df = pd.DataFrame({'word':list(joji_word_dist.keys()), 'count':list(joji_word_dist.values())}).sort_values(by='count', ascending=False) "
   ]
  },
  {
   "cell_type": "code",
   "execution_count": 95,
   "metadata": {},
   "outputs": [
    {
     "data": {
      "text/html": [
       "<div>\n",
       "<style scoped>\n",
       "    .dataframe tbody tr th:only-of-type {\n",
       "        vertical-align: middle;\n",
       "    }\n",
       "\n",
       "    .dataframe tbody tr th {\n",
       "        vertical-align: top;\n",
       "    }\n",
       "\n",
       "    .dataframe thead th {\n",
       "        text-align: right;\n",
       "    }\n",
       "</style>\n",
       "<table border=\"1\" class=\"dataframe\">\n",
       "  <thead>\n",
       "    <tr style=\"text-align: right;\">\n",
       "      <th></th>\n",
       "      <th>word</th>\n",
       "      <th>count</th>\n",
       "    </tr>\n",
       "  </thead>\n",
       "  <tbody>\n",
       "    <tr>\n",
       "      <th>9</th>\n",
       "      <td>i</td>\n",
       "      <td>663</td>\n",
       "    </tr>\n",
       "    <tr>\n",
       "      <th>56</th>\n",
       "      <td>the</td>\n",
       "      <td>307</td>\n",
       "    </tr>\n",
       "    <tr>\n",
       "      <th>14</th>\n",
       "      <td>my</td>\n",
       "      <td>258</td>\n",
       "    </tr>\n",
       "    <tr>\n",
       "      <th>31</th>\n",
       "      <td>you</td>\n",
       "      <td>237</td>\n",
       "    </tr>\n",
       "    <tr>\n",
       "      <th>12</th>\n",
       "      <td>it</td>\n",
       "      <td>220</td>\n",
       "    </tr>\n",
       "    <tr>\n",
       "      <th>...</th>\n",
       "      <td>...</td>\n",
       "      <td>...</td>\n",
       "    </tr>\n",
       "    <tr>\n",
       "      <th>1040</th>\n",
       "      <td>attention</td>\n",
       "      <td>1</td>\n",
       "    </tr>\n",
       "    <tr>\n",
       "      <th>1041</th>\n",
       "      <td>bullshit</td>\n",
       "      <td>1</td>\n",
       "    </tr>\n",
       "    <tr>\n",
       "      <th>1042</th>\n",
       "      <td>captions</td>\n",
       "      <td>1</td>\n",
       "    </tr>\n",
       "    <tr>\n",
       "      <th>1044</th>\n",
       "      <td>outlive</td>\n",
       "      <td>1</td>\n",
       "    </tr>\n",
       "    <tr>\n",
       "      <th>1824</th>\n",
       "      <td>brag</td>\n",
       "      <td>1</td>\n",
       "    </tr>\n",
       "  </tbody>\n",
       "</table>\n",
       "<p>1825 rows × 2 columns</p>\n",
       "</div>"
      ],
      "text/plain": [
       "           word  count\n",
       "9             i    663\n",
       "56          the    307\n",
       "14           my    258\n",
       "31          you    237\n",
       "12           it    220\n",
       "...         ...    ...\n",
       "1040  attention      1\n",
       "1041   bullshit      1\n",
       "1042   captions      1\n",
       "1044    outlive      1\n",
       "1824       brag      1\n",
       "\n",
       "[1825 rows x 2 columns]"
      ]
     },
     "execution_count": 95,
     "metadata": {},
     "output_type": "execute_result"
    }
   ],
   "source": [
    "rb_words_df"
   ]
  },
  {
   "cell_type": "code",
   "execution_count": 96,
   "metadata": {},
   "outputs": [
    {
     "name": "stderr",
     "output_type": "stream",
     "text": [
      "[nltk_data] Downloading package stopwords to\n",
      "[nltk_data]     C:\\Users\\krist\\AppData\\Roaming\\nltk_data...\n",
      "[nltk_data]   Package stopwords is already up-to-date!\n"
     ]
    }
   ],
   "source": [
    "# Remove stop words\n",
    "from nltk.corpus import stopwords\n",
    "nltk.download(\"stopwords\")\n",
    "stop = set(stopwords.words(\"english\"))"
   ]
  },
  {
   "cell_type": "code",
   "execution_count": 110,
   "metadata": {},
   "outputs": [],
   "source": [
    "new_rb_words_df = rb_words_df.loc[rb_words_df['word'].isin(stop) == False]\n",
    "new_joji_words_df = joji_words_df.loc[joji_words_df['word'].isin(stop)==False]"
   ]
  },
  {
   "cell_type": "code",
   "execution_count": 99,
   "metadata": {},
   "outputs": [
    {
     "data": {
      "text/plain": [
       "<AxesSubplot:xlabel='count', ylabel='word'>"
      ]
     },
     "execution_count": 99,
     "metadata": {},
     "output_type": "execute_result"
    },
    {
     "data": {
      "image/png": "[encoded data removed]",
      "text/plain": [
       "<Figure size 432x288 with 1 Axes>"
      ]
     },
     "metadata": {
      "needs_background": "light"
     },
     "output_type": "display_data"
    }
   ],
   "source": [
    "# Visualize the words\n",
    "# Rich Brian\n",
    "sns.barplot(data=new_rb_words_df[0:30], x= \"count\", y = \"word\") "
   ]
  },
  {
   "cell_type": "code",
   "execution_count": 100,
   "metadata": {},
   "outputs": [
    {
     "data": {
      "text/plain": [
       "<AxesSubplot:xlabel='count', ylabel='word'>"
      ]
     },
     "execution_count": 100,
     "metadata": {},
     "output_type": "execute_result"
    },
    {
     "data": {
      "image/png": "[encoded data removed]",
      "text/plain": [
       "<Figure size 432x288 with 1 Axes>"
      ]
     },
     "metadata": {
      "needs_background": "light"
     },
     "output_type": "display_data"
    }
   ],
   "source": [
    "# Joji\n",
    "sns.barplot(data=new_joji_words_df[0:30], x= \"count\", y = \"word\") "
   ]
  },
  {
   "cell_type": "markdown",
   "metadata": {},
   "source": [
    "# Lyric Similarity Model using Natural Language Processing and One Hot Encoder"
   ]
  },
  {
   "cell_type": "code",
   "execution_count": 115,
   "metadata": {},
   "outputs": [],
   "source": [
    "# Analyze similarity between lyrics generated and artists actual song lyrics\n",
    "from sklearn.model_selection import train_test_split\n",
    "from tensorflow import keras \n",
    "import tensorflow as tf\n",
    "from sklearn.preprocessing import StandardScaler, LabelEncoder\n",
    "from sklearn.preprocessing import OneHotEncoder\n",
    "import numpy as np\n",
    "import keras_tuner as kt\n",
    "import sklearn as skl"
   ]
  },
  {
   "cell_type": "code",
   "execution_count": 121,
   "metadata": {},
   "outputs": [
    {
     "name": "stdout",
     "output_type": "stream",
     "text": [
      "[list(['watch', 'me', 'dance', 'watch', 'me', 'sing', 'watch', 'me', 'dance', 'watch', 'me', 'sing', 'i', 'got', 'mercy', 'i', 'got', 'grace', 'desperado', 'with', 'the', 'scales', 'throw', 'a', 'rose', 'on', 'your', 'body', 'mask', 'of', 'zorro', 'i', 'm', 'so', 'wanted', 'look', 'scared'])\n",
      " list(['dice', 'and', 'ice', 'cube', 'home', 'girls', 'bitches', 'spin', 'it', 'spin', 'it', 'pussy', 'chips', 'and', 'chips', 'and', 'chips', 'and', 'demon', 'under', 'the', 'table', 'risk', 'it', 'risk', 'it', 'risk', 'it', 'till', 'the', 'last', 'dime', 'yeah', 'yeah', 'yeah', 'risk', 'it', 'risk', 'it', 'risk', 'it', 'till', 'the', 'last', 'b', 'b', 'bitches', 'ice', 'and', 'home', 'girl', 'on', 'you', 'on', 'home', 'girl', 'bitches', 'ice', 'and', 'home', 'girl', 'on', 'you', 'on', 'home', 'girl', 'bitches', 'ice', 'and', 'home', 'girl', 'on', 'you', 'on', 'home', 'girl', 'bitches', 'bitches', 'risk', 'it', 'till', 'the', 'last', 'dime', 'give', 'me', 'that', 'hook', 'that', 'spin', 'that', 'roulette', 'vodka', 'in', 'my', 'cup', 'spin', 'it', 'tip', 'it', 'strip', 'it', 'shawty', 'give', 'me', 'that', 'hook', 'that', 'spin', 'that', 'roulette', 'taste', 'the', 'muzzle', 'of', 'a', 'gun', 'taste', 'the', 'of', 'money', 'you', 'think', 'i', 'm', 'dazzle', 'up', 'my', 'tie', 'that', 'bitch', 'ain', 't', 'funny', 'chips', 'checks', 'matches', 'and', 'chicks', 'yeah', 'yeah', 'yeah', 'risk', 'it', 'risk', 'it', 'risk', 'it', 'till', 'the', 'last'])] ['BIBI' 'BIBI']\n"
     ]
    }
   ],
   "source": [
    "# Preprocess the data\n",
    "X = new_df88['lyrics_tokenized'].values\n",
    "y = new_df88['artist_name'].values\n",
    "print(X[0:2], y[0:2])"
   ]
  },
  {
   "cell_type": "code",
   "execution_count": null,
   "metadata": {},
   "outputs": [],
   "source": [
    "# Start a SparkSession\n",
    "import findspark\n",
    "findspark.init()"
   ]
  },
  {
   "cell_type": "code",
   "execution_count": 125,
   "metadata": {},
   "outputs": [
    {
     "ename": "TypeError",
     "evalue": "unhashable type: 'list'",
     "output_type": "error",
     "traceback": [
      "\u001b[1;31m---------------------------------------------------------------------------\u001b[0m",
      "\u001b[1;31mTypeError\u001b[0m                                 Traceback (most recent call last)",
      "File \u001b[1;32mc:\\Users\\krist\\anaconda3\\lib\\site-packages\\pandas\\core\\arrays\\categorical.py:438\u001b[0m, in \u001b[0;36mCategorical.__init__\u001b[1;34m(self, values, categories, ordered, dtype, fastpath, copy)\u001b[0m\n\u001b[0;32m    437\u001b[0m \u001b[39mtry\u001b[39;00m:\n\u001b[1;32m--> 438\u001b[0m     codes, categories \u001b[39m=\u001b[39m factorize(values, sort\u001b[39m=\u001b[39;49m\u001b[39mTrue\u001b[39;49;00m)\n\u001b[0;32m    439\u001b[0m \u001b[39mexcept\u001b[39;00m \u001b[39mTypeError\u001b[39;00m \u001b[39mas\u001b[39;00m err:\n",
      "File \u001b[1;32mc:\\Users\\krist\\anaconda3\\lib\\site-packages\\pandas\\core\\algorithms.py:763\u001b[0m, in \u001b[0;36mfactorize\u001b[1;34m(values, sort, na_sentinel, size_hint)\u001b[0m\n\u001b[0;32m    761\u001b[0m         na_value \u001b[39m=\u001b[39m \u001b[39mNone\u001b[39;00m\n\u001b[1;32m--> 763\u001b[0m     codes, uniques \u001b[39m=\u001b[39m factorize_array(\n\u001b[0;32m    764\u001b[0m         values, na_sentinel\u001b[39m=\u001b[39;49mna_sentinel, size_hint\u001b[39m=\u001b[39;49msize_hint, na_value\u001b[39m=\u001b[39;49mna_value\n\u001b[0;32m    765\u001b[0m     )\n\u001b[0;32m    767\u001b[0m \u001b[39mif\u001b[39;00m sort \u001b[39mand\u001b[39;00m \u001b[39mlen\u001b[39m(uniques) \u001b[39m>\u001b[39m \u001b[39m0\u001b[39m:\n",
      "File \u001b[1;32mc:\\Users\\krist\\anaconda3\\lib\\site-packages\\pandas\\core\\algorithms.py:560\u001b[0m, in \u001b[0;36mfactorize_array\u001b[1;34m(values, na_sentinel, size_hint, na_value, mask)\u001b[0m\n\u001b[0;32m    559\u001b[0m table \u001b[39m=\u001b[39m hash_klass(size_hint \u001b[39mor\u001b[39;00m \u001b[39mlen\u001b[39m(values))\n\u001b[1;32m--> 560\u001b[0m uniques, codes \u001b[39m=\u001b[39m table\u001b[39m.\u001b[39;49mfactorize(\n\u001b[0;32m    561\u001b[0m     values, na_sentinel\u001b[39m=\u001b[39;49mna_sentinel, na_value\u001b[39m=\u001b[39;49mna_value, mask\u001b[39m=\u001b[39;49mmask\n\u001b[0;32m    562\u001b[0m )\n\u001b[0;32m    564\u001b[0m codes \u001b[39m=\u001b[39m ensure_platform_int(codes)\n",
      "File \u001b[1;32mpandas\\_libs\\hashtable_class_helper.pxi:5394\u001b[0m, in \u001b[0;36mpandas._libs.hashtable.PyObjectHashTable.factorize\u001b[1;34m()\u001b[0m\n",
      "File \u001b[1;32mpandas\\_libs\\hashtable_class_helper.pxi:5310\u001b[0m, in \u001b[0;36mpandas._libs.hashtable.PyObjectHashTable._unique\u001b[1;34m()\u001b[0m\n",
      "\u001b[1;31mTypeError\u001b[0m: unhashable type: 'list'",
      "\nDuring handling of the above exception, another exception occurred:\n",
      "\u001b[1;31mTypeError\u001b[0m                                 Traceback (most recent call last)",
      "\u001b[1;32mc:\\Users\\krist\\DataClass2\\Project-4\\Lyric and Genre Data Collection\\Lyric Generator\\Lyric_Similarity_Analysis.ipynb Cell 21\u001b[0m in \u001b[0;36m<cell line: 2>\u001b[1;34m()\u001b[0m\n\u001b[0;32m      <a href='vscode-notebook-cell:/c%3A/Users/krist/DataClass2/Project-4/Lyric%20and%20Genre%20Data%20Collection/Lyric%20Generator/Lyric_Similarity_Analysis.ipynb#ch0000027?line=0'>1</a>\u001b[0m \u001b[39m# One-hot encode the target variable\u001b[39;00m\n\u001b[1;32m----> <a href='vscode-notebook-cell:/c%3A/Users/krist/DataClass2/Project-4/Lyric%20and%20Genre%20Data%20Collection/Lyric%20Generator/Lyric_Similarity_Analysis.ipynb#ch0000027?line=1'>2</a>\u001b[0m X_one_hot \u001b[39m=\u001b[39m pd\u001b[39m.\u001b[39;49mget_dummies(X)\n\u001b[0;32m      <a href='vscode-notebook-cell:/c%3A/Users/krist/DataClass2/Project-4/Lyric%20and%20Genre%20Data%20Collection/Lyric%20Generator/Lyric_Similarity_Analysis.ipynb#ch0000027?line=2'>3</a>\u001b[0m y_one_hot \u001b[39m=\u001b[39m pd\u001b[39m.\u001b[39mget_dummies(y)\n\u001b[0;32m      <a href='vscode-notebook-cell:/c%3A/Users/krist/DataClass2/Project-4/Lyric%20and%20Genre%20Data%20Collection/Lyric%20Generator/Lyric_Similarity_Analysis.ipynb#ch0000027?line=4'>5</a>\u001b[0m X_train, X_test, y_train, y_test \u001b[39m=\u001b[39m train_test_split(X, y_one_hot, random_state\u001b[39m=\u001b[39m\u001b[39m78\u001b[39m)\n",
      "File \u001b[1;32mc:\\Users\\krist\\anaconda3\\lib\\site-packages\\pandas\\core\\reshape\\reshape.py:989\u001b[0m, in \u001b[0;36mget_dummies\u001b[1;34m(data, prefix, prefix_sep, dummy_na, columns, sparse, drop_first, dtype)\u001b[0m\n\u001b[0;32m    987\u001b[0m     result \u001b[39m=\u001b[39m concat(with_dummies, axis\u001b[39m=\u001b[39m\u001b[39m1\u001b[39m)\n\u001b[0;32m    988\u001b[0m \u001b[39melse\u001b[39;00m:\n\u001b[1;32m--> 989\u001b[0m     result \u001b[39m=\u001b[39m _get_dummies_1d(\n\u001b[0;32m    990\u001b[0m         data,\n\u001b[0;32m    991\u001b[0m         prefix,\n\u001b[0;32m    992\u001b[0m         prefix_sep,\n\u001b[0;32m    993\u001b[0m         dummy_na,\n\u001b[0;32m    994\u001b[0m         sparse\u001b[39m=\u001b[39;49msparse,\n\u001b[0;32m    995\u001b[0m         drop_first\u001b[39m=\u001b[39;49mdrop_first,\n\u001b[0;32m    996\u001b[0m         dtype\u001b[39m=\u001b[39;49mdtype,\n\u001b[0;32m    997\u001b[0m     )\n\u001b[0;32m    998\u001b[0m \u001b[39mreturn\u001b[39;00m result\n",
      "File \u001b[1;32mc:\\Users\\krist\\anaconda3\\lib\\site-packages\\pandas\\core\\reshape\\reshape.py:1013\u001b[0m, in \u001b[0;36m_get_dummies_1d\u001b[1;34m(data, prefix, prefix_sep, dummy_na, sparse, drop_first, dtype)\u001b[0m\n\u001b[0;32m   1010\u001b[0m \u001b[39mfrom\u001b[39;00m \u001b[39mpandas\u001b[39;00m\u001b[39m.\u001b[39;00m\u001b[39mcore\u001b[39;00m\u001b[39m.\u001b[39;00m\u001b[39mreshape\u001b[39;00m\u001b[39m.\u001b[39;00m\u001b[39mconcat\u001b[39;00m \u001b[39mimport\u001b[39;00m concat\n\u001b[0;32m   1012\u001b[0m \u001b[39m# Series avoids inconsistent NaN handling\u001b[39;00m\n\u001b[1;32m-> 1013\u001b[0m codes, levels \u001b[39m=\u001b[39m factorize_from_iterable(Series(data))\n\u001b[0;32m   1015\u001b[0m \u001b[39mif\u001b[39;00m dtype \u001b[39mis\u001b[39;00m \u001b[39mNone\u001b[39;00m:\n\u001b[0;32m   1016\u001b[0m     dtype \u001b[39m=\u001b[39m np\u001b[39m.\u001b[39mdtype(np\u001b[39m.\u001b[39muint8)\n",
      "File \u001b[1;32mc:\\Users\\krist\\anaconda3\\lib\\site-packages\\pandas\\core\\arrays\\categorical.py:2854\u001b[0m, in \u001b[0;36mfactorize_from_iterable\u001b[1;34m(values)\u001b[0m\n\u001b[0;32m   2849\u001b[0m     codes \u001b[39m=\u001b[39m values\u001b[39m.\u001b[39mcodes\n\u001b[0;32m   2850\u001b[0m \u001b[39melse\u001b[39;00m:\n\u001b[0;32m   2851\u001b[0m     \u001b[39m# The value of ordered is irrelevant since we don't use cat as such,\u001b[39;00m\n\u001b[0;32m   2852\u001b[0m     \u001b[39m# but only the resulting categories, the order of which is independent\u001b[39;00m\n\u001b[0;32m   2853\u001b[0m     \u001b[39m# from ordered. Set ordered to False as default. See GH #15457\u001b[39;00m\n\u001b[1;32m-> 2854\u001b[0m     cat \u001b[39m=\u001b[39m Categorical(values, ordered\u001b[39m=\u001b[39;49m\u001b[39mFalse\u001b[39;49;00m)\n\u001b[0;32m   2855\u001b[0m     categories \u001b[39m=\u001b[39m cat\u001b[39m.\u001b[39mcategories\n\u001b[0;32m   2856\u001b[0m     codes \u001b[39m=\u001b[39m cat\u001b[39m.\u001b[39mcodes\n",
      "File \u001b[1;32mc:\\Users\\krist\\anaconda3\\lib\\site-packages\\pandas\\core\\arrays\\categorical.py:440\u001b[0m, in \u001b[0;36mCategorical.__init__\u001b[1;34m(self, values, categories, ordered, dtype, fastpath, copy)\u001b[0m\n\u001b[0;32m    438\u001b[0m     codes, categories \u001b[39m=\u001b[39m factorize(values, sort\u001b[39m=\u001b[39m\u001b[39mTrue\u001b[39;00m)\n\u001b[0;32m    439\u001b[0m \u001b[39mexcept\u001b[39;00m \u001b[39mTypeError\u001b[39;00m \u001b[39mas\u001b[39;00m err:\n\u001b[1;32m--> 440\u001b[0m     codes, categories \u001b[39m=\u001b[39m factorize(values, sort\u001b[39m=\u001b[39;49m\u001b[39mFalse\u001b[39;49;00m)\n\u001b[0;32m    441\u001b[0m     \u001b[39mif\u001b[39;00m dtype\u001b[39m.\u001b[39mordered:\n\u001b[0;32m    442\u001b[0m         \u001b[39m# raise, as we don't have a sortable data structure and so\u001b[39;00m\n\u001b[0;32m    443\u001b[0m         \u001b[39m# the user should give us one by specifying categories\u001b[39;00m\n\u001b[0;32m    444\u001b[0m         \u001b[39mraise\u001b[39;00m \u001b[39mTypeError\u001b[39;00m(\n\u001b[0;32m    445\u001b[0m             \u001b[39m\"\u001b[39m\u001b[39m'\u001b[39m\u001b[39mvalues\u001b[39m\u001b[39m'\u001b[39m\u001b[39m is not ordered, please \u001b[39m\u001b[39m\"\u001b[39m\n\u001b[0;32m    446\u001b[0m             \u001b[39m\"\u001b[39m\u001b[39mexplicitly specify the categories order \u001b[39m\u001b[39m\"\u001b[39m\n\u001b[0;32m    447\u001b[0m             \u001b[39m\"\u001b[39m\u001b[39mby passing in a categories argument.\u001b[39m\u001b[39m\"\u001b[39m\n\u001b[0;32m    448\u001b[0m         ) \u001b[39mfrom\u001b[39;00m \u001b[39merr\u001b[39;00m\n",
      "File \u001b[1;32mc:\\Users\\krist\\anaconda3\\lib\\site-packages\\pandas\\core\\algorithms.py:763\u001b[0m, in \u001b[0;36mfactorize\u001b[1;34m(values, sort, na_sentinel, size_hint)\u001b[0m\n\u001b[0;32m    760\u001b[0m     \u001b[39melse\u001b[39;00m:\n\u001b[0;32m    761\u001b[0m         na_value \u001b[39m=\u001b[39m \u001b[39mNone\u001b[39;00m\n\u001b[1;32m--> 763\u001b[0m     codes, uniques \u001b[39m=\u001b[39m factorize_array(\n\u001b[0;32m    764\u001b[0m         values, na_sentinel\u001b[39m=\u001b[39;49mna_sentinel, size_hint\u001b[39m=\u001b[39;49msize_hint, na_value\u001b[39m=\u001b[39;49mna_value\n\u001b[0;32m    765\u001b[0m     )\n\u001b[0;32m    767\u001b[0m \u001b[39mif\u001b[39;00m sort \u001b[39mand\u001b[39;00m \u001b[39mlen\u001b[39m(uniques) \u001b[39m>\u001b[39m \u001b[39m0\u001b[39m:\n\u001b[0;32m    768\u001b[0m     uniques, codes \u001b[39m=\u001b[39m safe_sort(\n\u001b[0;32m    769\u001b[0m         uniques, codes, na_sentinel\u001b[39m=\u001b[39mna_sentinel, assume_unique\u001b[39m=\u001b[39m\u001b[39mTrue\u001b[39;00m, verify\u001b[39m=\u001b[39m\u001b[39mFalse\u001b[39;00m\n\u001b[0;32m    770\u001b[0m     )\n",
      "File \u001b[1;32mc:\\Users\\krist\\anaconda3\\lib\\site-packages\\pandas\\core\\algorithms.py:560\u001b[0m, in \u001b[0;36mfactorize_array\u001b[1;34m(values, na_sentinel, size_hint, na_value, mask)\u001b[0m\n\u001b[0;32m    557\u001b[0m hash_klass, values \u001b[39m=\u001b[39m _get_data_algo(values)\n\u001b[0;32m    559\u001b[0m table \u001b[39m=\u001b[39m hash_klass(size_hint \u001b[39mor\u001b[39;00m \u001b[39mlen\u001b[39m(values))\n\u001b[1;32m--> 560\u001b[0m uniques, codes \u001b[39m=\u001b[39m table\u001b[39m.\u001b[39;49mfactorize(\n\u001b[0;32m    561\u001b[0m     values, na_sentinel\u001b[39m=\u001b[39;49mna_sentinel, na_value\u001b[39m=\u001b[39;49mna_value, mask\u001b[39m=\u001b[39;49mmask\n\u001b[0;32m    562\u001b[0m )\n\u001b[0;32m    564\u001b[0m codes \u001b[39m=\u001b[39m ensure_platform_int(codes)\n\u001b[0;32m    565\u001b[0m \u001b[39mreturn\u001b[39;00m codes, uniques\n",
      "File \u001b[1;32mpandas\\_libs\\hashtable_class_helper.pxi:5394\u001b[0m, in \u001b[0;36mpandas._libs.hashtable.PyObjectHashTable.factorize\u001b[1;34m()\u001b[0m\n",
      "File \u001b[1;32mpandas\\_libs\\hashtable_class_helper.pxi:5310\u001b[0m, in \u001b[0;36mpandas._libs.hashtable.PyObjectHashTable._unique\u001b[1;34m()\u001b[0m\n",
      "\u001b[1;31mTypeError\u001b[0m: unhashable type: 'list'"
     ]
    }
   ],
   "source": [
    "# One-hot encode the target variable\n",
    "X_one_hot = pd.get_dummies(X)\n",
    "y_one_hot = pd.get_dummies(y)\n",
    "\n",
    "X_train, X_test, y_train, y_test = train_test_split(X, y_one_hot, random_state=78)"
   ]
  },
  {
   "cell_type": "code",
   "execution_count": 124,
   "metadata": {},
   "outputs": [
    {
     "ename": "ValueError",
     "evalue": "Failed to convert a NumPy array to a Tensor (Unsupported object type list).",
     "output_type": "error",
     "traceback": [
      "\u001b[1;31m---------------------------------------------------------------------------\u001b[0m",
      "\u001b[1;31mValueError\u001b[0m                                Traceback (most recent call last)",
      "\u001b[1;32mc:\\Users\\krist\\DataClass2\\Project-4\\Lyric and Genre Data Collection\\Lyric Generator\\Lyric_Similarity_Analysis.ipynb Cell 22\u001b[0m in \u001b[0;36m<cell line: 6>\u001b[1;34m()\u001b[0m\n\u001b[0;32m      <a href='vscode-notebook-cell:/c%3A/Users/krist/DataClass2/Project-4/Lyric%20and%20Genre%20Data%20Collection/Lyric%20Generator/Lyric_Similarity_Analysis.ipynb#ch0000036?line=3'>4</a>\u001b[0m nn_model\u001b[39m.\u001b[39madd(tf\u001b[39m.\u001b[39mkeras\u001b[39m.\u001b[39mlayers\u001b[39m.\u001b[39mDense(units\u001b[39m=\u001b[39m\u001b[39m1\u001b[39m, activation\u001b[39m=\u001b[39m\u001b[39m\"\u001b[39m\u001b[39msigmoid\u001b[39m\u001b[39m\"\u001b[39m))\n\u001b[0;32m      <a href='vscode-notebook-cell:/c%3A/Users/krist/DataClass2/Project-4/Lyric%20and%20Genre%20Data%20Collection/Lyric%20Generator/Lyric_Similarity_Analysis.ipynb#ch0000036?line=4'>5</a>\u001b[0m nn_model\u001b[39m.\u001b[39mcompile(loss\u001b[39m=\u001b[39m\u001b[39m\"\u001b[39m\u001b[39mbinary_crossentropy\u001b[39m\u001b[39m\"\u001b[39m, optimizer\u001b[39m=\u001b[39m\u001b[39m\"\u001b[39m\u001b[39madam\u001b[39m\u001b[39m\"\u001b[39m, metrics\u001b[39m=\u001b[39m[\u001b[39m\"\u001b[39m\u001b[39maccuracy\u001b[39m\u001b[39m\"\u001b[39m])\n\u001b[1;32m----> <a href='vscode-notebook-cell:/c%3A/Users/krist/DataClass2/Project-4/Lyric%20and%20Genre%20Data%20Collection/Lyric%20Generator/Lyric_Similarity_Analysis.ipynb#ch0000036?line=5'>6</a>\u001b[0m fit_model \u001b[39m=\u001b[39m nn_model\u001b[39m.\u001b[39;49mfit(X_train, y_train, epochs\u001b[39m=\u001b[39;49m\u001b[39m50\u001b[39;49m)\n\u001b[0;32m      <a href='vscode-notebook-cell:/c%3A/Users/krist/DataClass2/Project-4/Lyric%20and%20Genre%20Data%20Collection/Lyric%20Generator/Lyric_Similarity_Analysis.ipynb#ch0000036?line=7'>8</a>\u001b[0m \u001b[39m# Evaluate the model using the test data\u001b[39;00m\n\u001b[0;32m      <a href='vscode-notebook-cell:/c%3A/Users/krist/DataClass2/Project-4/Lyric%20and%20Genre%20Data%20Collection/Lyric%20Generator/Lyric_Similarity_Analysis.ipynb#ch0000036?line=8'>9</a>\u001b[0m model_loss, model_accuracy \u001b[39m=\u001b[39m nn_model\u001b[39m.\u001b[39mevaluate(X_test,y_test,verbose\u001b[39m=\u001b[39m\u001b[39m2\u001b[39m)\n",
      "File \u001b[1;32mc:\\Users\\krist\\anaconda3\\lib\\site-packages\\keras\\utils\\traceback_utils.py:70\u001b[0m, in \u001b[0;36mfilter_traceback.<locals>.error_handler\u001b[1;34m(*args, **kwargs)\u001b[0m\n\u001b[0;32m     67\u001b[0m     filtered_tb \u001b[39m=\u001b[39m _process_traceback_frames(e\u001b[39m.\u001b[39m__traceback__)\n\u001b[0;32m     68\u001b[0m     \u001b[39m# To get the full stack trace, call:\u001b[39;00m\n\u001b[0;32m     69\u001b[0m     \u001b[39m# `tf.debugging.disable_traceback_filtering()`\u001b[39;00m\n\u001b[1;32m---> 70\u001b[0m     \u001b[39mraise\u001b[39;00m e\u001b[39m.\u001b[39mwith_traceback(filtered_tb) \u001b[39mfrom\u001b[39;00m \u001b[39mNone\u001b[39m\n\u001b[0;32m     71\u001b[0m \u001b[39mfinally\u001b[39;00m:\n\u001b[0;32m     72\u001b[0m     \u001b[39mdel\u001b[39;00m filtered_tb\n",
      "File \u001b[1;32mc:\\Users\\krist\\anaconda3\\lib\\site-packages\\tensorflow\\python\\framework\\constant_op.py:102\u001b[0m, in \u001b[0;36mconvert_to_eager_tensor\u001b[1;34m(value, ctx, dtype)\u001b[0m\n\u001b[0;32m    100\u001b[0m     dtype \u001b[39m=\u001b[39m dtypes\u001b[39m.\u001b[39mas_dtype(dtype)\u001b[39m.\u001b[39mas_datatype_enum\n\u001b[0;32m    101\u001b[0m ctx\u001b[39m.\u001b[39mensure_initialized()\n\u001b[1;32m--> 102\u001b[0m \u001b[39mreturn\u001b[39;00m ops\u001b[39m.\u001b[39;49mEagerTensor(value, ctx\u001b[39m.\u001b[39;49mdevice_name, dtype)\n",
      "\u001b[1;31mValueError\u001b[0m: Failed to convert a NumPy array to a Tensor (Unsupported object type list)."
     ]
    }
   ],
   "source": [
    "# Use neural networks to make artist prediction model\n",
    "nn_model = tf.keras.models.Sequential()\n",
    "nn_model.add(tf.keras.layers.Dense(units=1, activation=\"relu\", input_dim=1))\n",
    "nn_model.add(tf.keras.layers.Dense(units=1, activation=\"sigmoid\"))\n",
    "nn_model.compile(loss=\"binary_crossentropy\", optimizer=\"adam\", metrics=[\"accuracy\"])\n",
    "fit_model = nn_model.fit(X_train, y_train, epochs=50)\n",
    "\n",
    "# Evaluate the model using the test data\n",
    "model_loss, model_accuracy = nn_model.evaluate(X_test,y_test,verbose=2)\n",
    "print(f\"Loss: {model_loss}, Accuracy: {model_accuracy}\")\n"
   ]
  }
 ],
 "metadata": {
  "kernelspec": {
   "display_name": "Python 3.9.12 ('base')",
   "language": "python",
   "name": "python3"
  },
  "language_info": {
   "codemirror_mode": {
    "name": "ipython",
    "version": 3
   },
   "file_extension": ".py",
   "mimetype": "text/x-python",
   "name": "python",
   "nbconvert_exporter": "python",
   "pygments_lexer": "ipython3",
   "version": "3.9.12"
  },
  "orig_nbformat": 4,
  "vscode": {
   "interpreter": {
    "hash": "fd5f0602b361fcd80b6e43c9db32d5ff96b182a40640908c77b502a93aa9387e"
   }
  }
 },
 "nbformat": 4,
 "nbformat_minor": 2
}
