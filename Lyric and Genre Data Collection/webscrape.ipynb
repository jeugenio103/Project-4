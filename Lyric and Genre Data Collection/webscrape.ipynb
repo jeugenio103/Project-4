{
 "cells": [
  {
   "cell_type": "code",
   "execution_count": 1,
   "metadata": {},
   "outputs": [],
   "source": [
    "from splinter import Browser\n",
    "from bs4 import BeautifulSoup as bs\n",
    "import time\n",
    "from webdriver_manager.chrome import ChromeDriverManager\n",
    "import pymongo"
   ]
  },
  {
   "cell_type": "code",
   "execution_count": 2,
   "metadata": {},
   "outputs": [],
   "source": [
    "def scrape_info():\n",
    "    # Set up Splinter\n",
    "    executable_path = {'executable_path': ChromeDriverManager().install()}\n",
    "    browser = Browser('chrome', **executable_path, headless=False)\n",
    "\n",
    "    # Visit Mars News\n",
    "    url = \"https://genius.com/Rich-brian-dat-stick-lyrics\"\n",
    "    # url = \"https://genius.com/Joji-slow-dancing-in-the-dark-lyrics\"\n",
    "    browser.visit(url)\n",
    "\n",
    "    time.sleep(1)\n",
    "\n",
    "    # Scrape page into Soup\n",
    "    html = browser.html\n",
    "    soup = bs(html, \"html.parser\")\n",
    "    genre_data = []\n",
    "    div_class = soup.find_all('div', class_=\"SongTags__Container-xixwg3-1 bZsZHM\")\n",
    "    \n",
    "    for r in div_class:\n",
    "        anchor = r.find_all('a')\n",
    "        for a in anchor:\n",
    "            genre=a.text\n",
    "            genre_data.append(genre)\n",
    "\n",
    "    # # Close the browser after scraping\n",
    "    browser.quit()\n",
    "\n",
    "    # Return results\n",
    "    return genre_data"
   ]
  },
  {
   "cell_type": "code",
   "execution_count": 3,
   "metadata": {},
   "outputs": [],
   "source": [
    "data = scrape_info()"
   ]
  },
  {
   "cell_type": "code",
   "execution_count": 4,
   "metadata": {},
   "outputs": [
    {
     "data": {
      "text/plain": [
       "['Rap', 'Indonesia', 'Meme Rap', 'Comedy', 'Memes', 'Trap']"
      ]
     },
     "execution_count": 4,
     "metadata": {},
     "output_type": "execute_result"
    }
   ],
   "source": [
    "data"
   ]
  }
 ],
 "metadata": {
  "kernelspec": {
   "display_name": "Python 3.9.12 ('base')",
   "language": "python",
   "name": "python3"
  },
  "language_info": {
   "codemirror_mode": {
    "name": "ipython",
    "version": 3
   },
   "file_extension": ".py",
   "mimetype": "text/x-python",
   "name": "python",
   "nbconvert_exporter": "python",
   "pygments_lexer": "ipython3",
   "version": "3.9.12"
  },
  "orig_nbformat": 4,
  "vscode": {
   "interpreter": {
    "hash": "fd5f0602b361fcd80b6e43c9db32d5ff96b182a40640908c77b502a93aa9387e"
   }
  }
 },
 "nbformat": 4,
 "nbformat_minor": 2
}
