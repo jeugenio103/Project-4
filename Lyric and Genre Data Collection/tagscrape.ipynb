{
 "cells": [
  {
   "cell_type": "code",
   "execution_count": 12,
   "metadata": {},
   "outputs": [
    {
     "name": "stderr",
     "output_type": "stream",
     "text": [
      "C:\\Users\\Evelyn\\AppData\\Local\\Temp\\ipykernel_20356\\1168824945.py:5: DeprecationWarning: executable_path has been deprecated, please pass in a Service object\n",
      "  driver = webdriver.Chrome(executable_path=\"C:/Users/Evelyn/Downloads/chromedriver_win32/chromedriver.exe\")\n"
     ]
    }
   ],
   "source": [
    "from selenium import webdriver\n",
    "from selenium.webdriver.common.by import By\n",
    "\n",
    "# Set up a webdriver object to control a Chrome browser.\n",
    "driver = webdriver.Chrome(executable_path=\"C:/Users/Evelyn/Downloads/chromedriver_win32/chromedriver.exe\")"
   ]
  },
  {
   "cell_type": "code",
   "execution_count": 13,
   "metadata": {},
   "outputs": [],
   "source": [
    "driver.get('https://genius.com/Niki-i-like-u-lyrics')"
   ]
  },
  {
   "cell_type": "code",
   "execution_count": 14,
   "metadata": {},
   "outputs": [
    {
     "name": "stdout",
     "output_type": "stream",
     "text": [
      "R&B\n"
     ]
    }
   ],
   "source": [
    "element = driver.find_element(By.XPATH, \"//main/div[3]/div[3]/div[1]/div[5]/div[1]/div/div[5]/a\")\n",
    "tag = element.get_attribute(\"text\")\n",
    "print(tag)"
   ]
  }
 ],
 "metadata": {
  "kernelspec": {
   "display_name": "Python 3.9.12 ('base')",
   "language": "python",
   "name": "python3"
  },
  "language_info": {
   "codemirror_mode": {
    "name": "ipython",
    "version": 3
   },
   "file_extension": ".py",
   "mimetype": "text/x-python",
   "name": "python",
   "nbconvert_exporter": "python",
   "pygments_lexer": "ipython3",
   "version": "3.9.12"
  },
  "orig_nbformat": 4,
  "vscode": {
   "interpreter": {
    "hash": "e45db8c03054ad962d1bb9759ad4f4794a5ead142d50b1c22e4ec51d09a10938"
   }
  }
 },
 "nbformat": 4,
 "nbformat_minor": 2
}
