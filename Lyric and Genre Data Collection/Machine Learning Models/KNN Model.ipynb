{
 "cells": [
  {
   "cell_type": "code",
   "execution_count": 1,
   "metadata": {},
   "outputs": [],
   "source": [
    "#Dependencies \n",
    "import pandas as pd\n",
    "from pathlib import Path\n",
    "from sklearn.preprocessing import LabelEncoder\n",
    "from sklearn.model_selection import train_test_split\n",
    "from sklearn.linear_model import LogisticRegression\n",
    "from sklearn.metrics import accuracy_score"
   ]
  },
  {
   "cell_type": "code",
   "execution_count": 2,
   "metadata": {},
   "outputs": [
    {
     "data": {
      "text/html": [
       "<div>\n",
       "<style scoped>\n",
       "    .dataframe tbody tr th:only-of-type {\n",
       "        vertical-align: middle;\n",
       "    }\n",
       "\n",
       "    .dataframe tbody tr th {\n",
       "        vertical-align: top;\n",
       "    }\n",
       "\n",
       "    .dataframe thead th {\n",
       "        text-align: right;\n",
       "    }\n",
       "</style>\n",
       "<table border=\"1\" class=\"dataframe\">\n",
       "  <thead>\n",
       "    <tr style=\"text-align: right;\">\n",
       "      <th></th>\n",
       "      <th>Unnamed: 0</th>\n",
       "      <th>track_id</th>\n",
       "      <th>track</th>\n",
       "      <th>artist</th>\n",
       "      <th>genre</th>\n",
       "      <th>primary_genre</th>\n",
       "      <th>duration_ms</th>\n",
       "      <th>key</th>\n",
       "      <th>mode</th>\n",
       "      <th>time_signature</th>\n",
       "      <th>acousticness</th>\n",
       "      <th>danceability</th>\n",
       "      <th>energy</th>\n",
       "      <th>instrumentalness</th>\n",
       "      <th>liveness</th>\n",
       "      <th>loudness</th>\n",
       "      <th>speechiness</th>\n",
       "      <th>valence</th>\n",
       "      <th>tempo</th>\n",
       "    </tr>\n",
       "  </thead>\n",
       "  <tbody>\n",
       "    <tr>\n",
       "      <th>0</th>\n",
       "      <td>0</td>\n",
       "      <td>3e9HZxeyfWwjeyPAMmWSSQ</td>\n",
       "      <td>thank-u-next</td>\n",
       "      <td>Ariana-Grande</td>\n",
       "      <td>['R&amp;B', 'Pop', 'Electro', 'Electro-Pop', 'Danc...</td>\n",
       "      <td>R&amp;B</td>\n",
       "      <td>207320</td>\n",
       "      <td>1</td>\n",
       "      <td>1</td>\n",
       "      <td>4</td>\n",
       "      <td>0.22900</td>\n",
       "      <td>0.717</td>\n",
       "      <td>0.653</td>\n",
       "      <td>0.000000</td>\n",
       "      <td>0.1010</td>\n",
       "      <td>-5.634</td>\n",
       "      <td>0.0658</td>\n",
       "      <td>0.412</td>\n",
       "      <td>106.966</td>\n",
       "    </tr>\n",
       "    <tr>\n",
       "      <th>1</th>\n",
       "      <td>1</td>\n",
       "      <td>5p7ujcrUXASCNwRaWNHR1C</td>\n",
       "      <td>Without-Me</td>\n",
       "      <td>Halsey</td>\n",
       "      <td>['R&amp;B', 'Pop', 'Contemporary R&amp;B', 'Electronic...</td>\n",
       "      <td>R&amp;B</td>\n",
       "      <td>201661</td>\n",
       "      <td>6</td>\n",
       "      <td>1</td>\n",
       "      <td>4</td>\n",
       "      <td>0.29700</td>\n",
       "      <td>0.752</td>\n",
       "      <td>0.488</td>\n",
       "      <td>0.000009</td>\n",
       "      <td>0.0936</td>\n",
       "      <td>-7.050</td>\n",
       "      <td>0.0705</td>\n",
       "      <td>0.533</td>\n",
       "      <td>136.041</td>\n",
       "    </tr>\n",
       "    <tr>\n",
       "      <th>2</th>\n",
       "      <td>2</td>\n",
       "      <td>2xLMifQCjDGFmkHkpNLD9h</td>\n",
       "      <td>SICKO-MODE</td>\n",
       "      <td>Travis-Scott</td>\n",
       "      <td>['Rap', 'Memes', 'Progressive Pop', 'Texas Rap...</td>\n",
       "      <td>Rap</td>\n",
       "      <td>312820</td>\n",
       "      <td>8</td>\n",
       "      <td>1</td>\n",
       "      <td>4</td>\n",
       "      <td>0.00513</td>\n",
       "      <td>0.834</td>\n",
       "      <td>0.730</td>\n",
       "      <td>0.000000</td>\n",
       "      <td>0.1240</td>\n",
       "      <td>-3.714</td>\n",
       "      <td>0.2220</td>\n",
       "      <td>0.446</td>\n",
       "      <td>155.008</td>\n",
       "    </tr>\n",
       "    <tr>\n",
       "      <th>3</th>\n",
       "      <td>3</td>\n",
       "      <td>0bYg9bo50gSsH3LtXe2SQn</td>\n",
       "      <td>All-I-Want-for-Christmas-Is-You</td>\n",
       "      <td>Mariah-Carey</td>\n",
       "      <td>['R&amp;B', 'Pop', 'Piano', 'New Wave', 'Christian...</td>\n",
       "      <td>R&amp;B</td>\n",
       "      <td>241107</td>\n",
       "      <td>7</td>\n",
       "      <td>1</td>\n",
       "      <td>4</td>\n",
       "      <td>0.16400</td>\n",
       "      <td>0.335</td>\n",
       "      <td>0.625</td>\n",
       "      <td>0.000000</td>\n",
       "      <td>0.0708</td>\n",
       "      <td>-7.462</td>\n",
       "      <td>0.0386</td>\n",
       "      <td>0.346</td>\n",
       "      <td>150.277</td>\n",
       "    </tr>\n",
       "    <tr>\n",
       "      <th>4</th>\n",
       "      <td>4</td>\n",
       "      <td>0MMSmg7zyo6pOKZrfHUOqu</td>\n",
       "      <td>A-Holly-Jolly-Christmas</td>\n",
       "      <td>Burl-Ives</td>\n",
       "      <td>['Pop', 'Holiday', 'Cover', 'Christmas']</td>\n",
       "      <td>Pop</td>\n",
       "      <td>133547</td>\n",
       "      <td>0</td>\n",
       "      <td>1</td>\n",
       "      <td>4</td>\n",
       "      <td>0.68500</td>\n",
       "      <td>0.665</td>\n",
       "      <td>0.398</td>\n",
       "      <td>0.000000</td>\n",
       "      <td>0.1720</td>\n",
       "      <td>-11.886</td>\n",
       "      <td>0.0300</td>\n",
       "      <td>0.864</td>\n",
       "      <td>140.456</td>\n",
       "    </tr>\n",
       "  </tbody>\n",
       "</table>\n",
       "</div>"
      ],
      "text/plain": [
       "   Unnamed: 0                track_id                            track  \\\n",
       "0           0  3e9HZxeyfWwjeyPAMmWSSQ                     thank-u-next   \n",
       "1           1  5p7ujcrUXASCNwRaWNHR1C                       Without-Me   \n",
       "2           2  2xLMifQCjDGFmkHkpNLD9h                       SICKO-MODE   \n",
       "3           3  0bYg9bo50gSsH3LtXe2SQn  All-I-Want-for-Christmas-Is-You   \n",
       "4           4  0MMSmg7zyo6pOKZrfHUOqu          A-Holly-Jolly-Christmas   \n",
       "\n",
       "          artist                                              genre  \\\n",
       "0  Ariana-Grande  ['R&B', 'Pop', 'Electro', 'Electro-Pop', 'Danc...   \n",
       "1         Halsey  ['R&B', 'Pop', 'Contemporary R&B', 'Electronic...   \n",
       "2   Travis-Scott  ['Rap', 'Memes', 'Progressive Pop', 'Texas Rap...   \n",
       "3   Mariah-Carey  ['R&B', 'Pop', 'Piano', 'New Wave', 'Christian...   \n",
       "4      Burl-Ives           ['Pop', 'Holiday', 'Cover', 'Christmas']   \n",
       "\n",
       "  primary_genre  duration_ms  key  mode  time_signature  acousticness  \\\n",
       "0           R&B       207320    1     1               4       0.22900   \n",
       "1           R&B       201661    6     1               4       0.29700   \n",
       "2           Rap       312820    8     1               4       0.00513   \n",
       "3           R&B       241107    7     1               4       0.16400   \n",
       "4           Pop       133547    0     1               4       0.68500   \n",
       "\n",
       "   danceability  energy  instrumentalness  liveness  loudness  speechiness  \\\n",
       "0         0.717   0.653          0.000000    0.1010    -5.634       0.0658   \n",
       "1         0.752   0.488          0.000009    0.0936    -7.050       0.0705   \n",
       "2         0.834   0.730          0.000000    0.1240    -3.714       0.2220   \n",
       "3         0.335   0.625          0.000000    0.0708    -7.462       0.0386   \n",
       "4         0.665   0.398          0.000000    0.1720   -11.886       0.0300   \n",
       "\n",
       "   valence    tempo  \n",
       "0    0.412  106.966  \n",
       "1    0.533  136.041  \n",
       "2    0.446  155.008  \n",
       "3    0.346  150.277  \n",
       "4    0.864  140.456  "
      ]
     },
     "execution_count": 2,
     "metadata": {},
     "output_type": "execute_result"
    }
   ],
   "source": [
    "#Loading CSV File \n",
    "file_path = Path(\"../../Test-Data/final_genre_12k.csv\")\n",
    "df = pd.read_csv(file_path)\n",
    "df.head()"
   ]
  },
  {
   "cell_type": "code",
   "execution_count": 3,
   "metadata": {},
   "outputs": [
    {
     "data": {
      "text/html": [
       "<div>\n",
       "<style scoped>\n",
       "    .dataframe tbody tr th:only-of-type {\n",
       "        vertical-align: middle;\n",
       "    }\n",
       "\n",
       "    .dataframe tbody tr th {\n",
       "        vertical-align: top;\n",
       "    }\n",
       "\n",
       "    .dataframe thead th {\n",
       "        text-align: right;\n",
       "    }\n",
       "</style>\n",
       "<table border=\"1\" class=\"dataframe\">\n",
       "  <thead>\n",
       "    <tr style=\"text-align: right;\">\n",
       "      <th></th>\n",
       "      <th>primary_genre</th>\n",
       "      <th>duration_ms</th>\n",
       "      <th>key</th>\n",
       "      <th>mode</th>\n",
       "      <th>time_signature</th>\n",
       "      <th>acousticness</th>\n",
       "      <th>danceability</th>\n",
       "      <th>energy</th>\n",
       "      <th>instrumentalness</th>\n",
       "      <th>liveness</th>\n",
       "      <th>loudness</th>\n",
       "      <th>speechiness</th>\n",
       "      <th>valence</th>\n",
       "      <th>tempo</th>\n",
       "    </tr>\n",
       "  </thead>\n",
       "  <tbody>\n",
       "    <tr>\n",
       "      <th>0</th>\n",
       "      <td>R&amp;B</td>\n",
       "      <td>207320</td>\n",
       "      <td>1</td>\n",
       "      <td>1</td>\n",
       "      <td>4</td>\n",
       "      <td>0.22900</td>\n",
       "      <td>0.717</td>\n",
       "      <td>0.653</td>\n",
       "      <td>0.000000</td>\n",
       "      <td>0.1010</td>\n",
       "      <td>-5.634</td>\n",
       "      <td>0.0658</td>\n",
       "      <td>0.412</td>\n",
       "      <td>106.966</td>\n",
       "    </tr>\n",
       "    <tr>\n",
       "      <th>1</th>\n",
       "      <td>R&amp;B</td>\n",
       "      <td>201661</td>\n",
       "      <td>6</td>\n",
       "      <td>1</td>\n",
       "      <td>4</td>\n",
       "      <td>0.29700</td>\n",
       "      <td>0.752</td>\n",
       "      <td>0.488</td>\n",
       "      <td>0.000009</td>\n",
       "      <td>0.0936</td>\n",
       "      <td>-7.050</td>\n",
       "      <td>0.0705</td>\n",
       "      <td>0.533</td>\n",
       "      <td>136.041</td>\n",
       "    </tr>\n",
       "    <tr>\n",
       "      <th>2</th>\n",
       "      <td>Rap</td>\n",
       "      <td>312820</td>\n",
       "      <td>8</td>\n",
       "      <td>1</td>\n",
       "      <td>4</td>\n",
       "      <td>0.00513</td>\n",
       "      <td>0.834</td>\n",
       "      <td>0.730</td>\n",
       "      <td>0.000000</td>\n",
       "      <td>0.1240</td>\n",
       "      <td>-3.714</td>\n",
       "      <td>0.2220</td>\n",
       "      <td>0.446</td>\n",
       "      <td>155.008</td>\n",
       "    </tr>\n",
       "    <tr>\n",
       "      <th>3</th>\n",
       "      <td>R&amp;B</td>\n",
       "      <td>241107</td>\n",
       "      <td>7</td>\n",
       "      <td>1</td>\n",
       "      <td>4</td>\n",
       "      <td>0.16400</td>\n",
       "      <td>0.335</td>\n",
       "      <td>0.625</td>\n",
       "      <td>0.000000</td>\n",
       "      <td>0.0708</td>\n",
       "      <td>-7.462</td>\n",
       "      <td>0.0386</td>\n",
       "      <td>0.346</td>\n",
       "      <td>150.277</td>\n",
       "    </tr>\n",
       "    <tr>\n",
       "      <th>4</th>\n",
       "      <td>Pop</td>\n",
       "      <td>133547</td>\n",
       "      <td>0</td>\n",
       "      <td>1</td>\n",
       "      <td>4</td>\n",
       "      <td>0.68500</td>\n",
       "      <td>0.665</td>\n",
       "      <td>0.398</td>\n",
       "      <td>0.000000</td>\n",
       "      <td>0.1720</td>\n",
       "      <td>-11.886</td>\n",
       "      <td>0.0300</td>\n",
       "      <td>0.864</td>\n",
       "      <td>140.456</td>\n",
       "    </tr>\n",
       "  </tbody>\n",
       "</table>\n",
       "</div>"
      ],
      "text/plain": [
       "  primary_genre  duration_ms  key  mode  time_signature  acousticness  \\\n",
       "0           R&B       207320    1     1               4       0.22900   \n",
       "1           R&B       201661    6     1               4       0.29700   \n",
       "2           Rap       312820    8     1               4       0.00513   \n",
       "3           R&B       241107    7     1               4       0.16400   \n",
       "4           Pop       133547    0     1               4       0.68500   \n",
       "\n",
       "   danceability  energy  instrumentalness  liveness  loudness  speechiness  \\\n",
       "0         0.717   0.653          0.000000    0.1010    -5.634       0.0658   \n",
       "1         0.752   0.488          0.000009    0.0936    -7.050       0.0705   \n",
       "2         0.834   0.730          0.000000    0.1240    -3.714       0.2220   \n",
       "3         0.335   0.625          0.000000    0.0708    -7.462       0.0386   \n",
       "4         0.665   0.398          0.000000    0.1720   -11.886       0.0300   \n",
       "\n",
       "   valence    tempo  \n",
       "0    0.412  106.966  \n",
       "1    0.533  136.041  \n",
       "2    0.446  155.008  \n",
       "3    0.346  150.277  \n",
       "4    0.864  140.456  "
      ]
     },
     "execution_count": 3,
     "metadata": {},
     "output_type": "execute_result"
    }
   ],
   "source": [
    "df=df.drop(columns=[\"Unnamed: 0\",\"track_id\",\"track\",\"artist\",\"genre\"])\n",
    "df.head()"
   ]
  },
  {
   "cell_type": "code",
   "execution_count": 4,
   "metadata": {},
   "outputs": [],
   "source": [
    "from sklearn.preprocessing import StandardScaler \n",
    "scaler = StandardScaler()\n",
    "scaled_data = scaler.fit_transform(df[[\"acousticness\",\"energy\",\"liveness\",\"loudness\",\"speechiness\",\"valence\",\"tempo\",\"instrumentalness\",\"duration_ms\",\"time_signature\",\"key\",\"mode\",\"danceability\"]])\n"
   ]
  },
  {
   "cell_type": "code",
   "execution_count": 5,
   "metadata": {},
   "outputs": [],
   "source": [
    "X = df.drop(\"primary_genre\", axis=1)\n",
    "y = df[\"primary_genre\"].values"
   ]
  },
  {
   "cell_type": "code",
   "execution_count": 6,
   "metadata": {},
   "outputs": [
    {
     "data": {
      "text/html": [
       "<div>\n",
       "<style scoped>\n",
       "    .dataframe tbody tr th:only-of-type {\n",
       "        vertical-align: middle;\n",
       "    }\n",
       "\n",
       "    .dataframe tbody tr th {\n",
       "        vertical-align: top;\n",
       "    }\n",
       "\n",
       "    .dataframe thead th {\n",
       "        text-align: right;\n",
       "    }\n",
       "</style>\n",
       "<table border=\"1\" class=\"dataframe\">\n",
       "  <thead>\n",
       "    <tr style=\"text-align: right;\">\n",
       "      <th></th>\n",
       "      <th>duration_ms</th>\n",
       "      <th>key</th>\n",
       "      <th>mode</th>\n",
       "      <th>time_signature</th>\n",
       "      <th>acousticness</th>\n",
       "      <th>danceability</th>\n",
       "      <th>energy</th>\n",
       "      <th>instrumentalness</th>\n",
       "      <th>liveness</th>\n",
       "      <th>loudness</th>\n",
       "      <th>speechiness</th>\n",
       "      <th>valence</th>\n",
       "      <th>tempo</th>\n",
       "    </tr>\n",
       "  </thead>\n",
       "  <tbody>\n",
       "    <tr>\n",
       "      <th>0</th>\n",
       "      <td>207320</td>\n",
       "      <td>1</td>\n",
       "      <td>1</td>\n",
       "      <td>4</td>\n",
       "      <td>0.22900</td>\n",
       "      <td>0.717</td>\n",
       "      <td>0.653</td>\n",
       "      <td>0.000000</td>\n",
       "      <td>0.1010</td>\n",
       "      <td>-5.634</td>\n",
       "      <td>0.0658</td>\n",
       "      <td>0.412</td>\n",
       "      <td>106.966</td>\n",
       "    </tr>\n",
       "    <tr>\n",
       "      <th>1</th>\n",
       "      <td>201661</td>\n",
       "      <td>6</td>\n",
       "      <td>1</td>\n",
       "      <td>4</td>\n",
       "      <td>0.29700</td>\n",
       "      <td>0.752</td>\n",
       "      <td>0.488</td>\n",
       "      <td>0.000009</td>\n",
       "      <td>0.0936</td>\n",
       "      <td>-7.050</td>\n",
       "      <td>0.0705</td>\n",
       "      <td>0.533</td>\n",
       "      <td>136.041</td>\n",
       "    </tr>\n",
       "    <tr>\n",
       "      <th>2</th>\n",
       "      <td>312820</td>\n",
       "      <td>8</td>\n",
       "      <td>1</td>\n",
       "      <td>4</td>\n",
       "      <td>0.00513</td>\n",
       "      <td>0.834</td>\n",
       "      <td>0.730</td>\n",
       "      <td>0.000000</td>\n",
       "      <td>0.1240</td>\n",
       "      <td>-3.714</td>\n",
       "      <td>0.2220</td>\n",
       "      <td>0.446</td>\n",
       "      <td>155.008</td>\n",
       "    </tr>\n",
       "    <tr>\n",
       "      <th>3</th>\n",
       "      <td>241107</td>\n",
       "      <td>7</td>\n",
       "      <td>1</td>\n",
       "      <td>4</td>\n",
       "      <td>0.16400</td>\n",
       "      <td>0.335</td>\n",
       "      <td>0.625</td>\n",
       "      <td>0.000000</td>\n",
       "      <td>0.0708</td>\n",
       "      <td>-7.462</td>\n",
       "      <td>0.0386</td>\n",
       "      <td>0.346</td>\n",
       "      <td>150.277</td>\n",
       "    </tr>\n",
       "    <tr>\n",
       "      <th>4</th>\n",
       "      <td>133547</td>\n",
       "      <td>0</td>\n",
       "      <td>1</td>\n",
       "      <td>4</td>\n",
       "      <td>0.68500</td>\n",
       "      <td>0.665</td>\n",
       "      <td>0.398</td>\n",
       "      <td>0.000000</td>\n",
       "      <td>0.1720</td>\n",
       "      <td>-11.886</td>\n",
       "      <td>0.0300</td>\n",
       "      <td>0.864</td>\n",
       "      <td>140.456</td>\n",
       "    </tr>\n",
       "  </tbody>\n",
       "</table>\n",
       "</div>"
      ],
      "text/plain": [
       "   duration_ms  key  mode  time_signature  acousticness  danceability  energy  \\\n",
       "0       207320    1     1               4       0.22900         0.717   0.653   \n",
       "1       201661    6     1               4       0.29700         0.752   0.488   \n",
       "2       312820    8     1               4       0.00513         0.834   0.730   \n",
       "3       241107    7     1               4       0.16400         0.335   0.625   \n",
       "4       133547    0     1               4       0.68500         0.665   0.398   \n",
       "\n",
       "   instrumentalness  liveness  loudness  speechiness  valence    tempo  \n",
       "0          0.000000    0.1010    -5.634       0.0658    0.412  106.966  \n",
       "1          0.000009    0.0936    -7.050       0.0705    0.533  136.041  \n",
       "2          0.000000    0.1240    -3.714       0.2220    0.446  155.008  \n",
       "3          0.000000    0.0708    -7.462       0.0386    0.346  150.277  \n",
       "4          0.000000    0.1720   -11.886       0.0300    0.864  140.456  "
      ]
     },
     "execution_count": 6,
     "metadata": {},
     "output_type": "execute_result"
    }
   ],
   "source": [
    "X.head()\n"
   ]
  },
  {
   "cell_type": "code",
   "execution_count": 7,
   "metadata": {},
   "outputs": [],
   "source": [
    "label_encoder = LabelEncoder()\n",
    "y = label_encoder.fit_transform(y)"
   ]
  },
  {
   "cell_type": "code",
   "execution_count": 8,
   "metadata": {},
   "outputs": [],
   "source": [
    "from sklearn.model_selection import train_test_split\n",
    "X_train, X_test, y_train, y_test = train_test_split(X, y, random_state=42)"
   ]
  },
  {
   "cell_type": "code",
   "execution_count": 9,
   "metadata": {},
   "outputs": [],
   "source": [
    "from sklearn.preprocessing import StandardScaler\n",
    "from sklearn.linear_model import LogisticRegression\n",
    "\n",
    "scaler = StandardScaler().fit(X_train)\n",
    "X_train_scaled = scaler.transform(X_train)\n",
    "X_test_scaled = scaler.transform(X_test)"
   ]
  },
  {
   "cell_type": "code",
   "execution_count": 10,
   "metadata": {},
   "outputs": [],
   "source": [
    "import matplotlib.pyplot as plt\n",
    "from sklearn.neighbors import KNeighborsClassifier\n"
   ]
  },
  {
   "cell_type": "code",
   "execution_count": 11,
   "metadata": {},
   "outputs": [
    {
     "name": "stdout",
     "output_type": "stream",
     "text": [
      "k: 1, Train/Test Score: 1.000/0.392\n",
      "k: 3, Train/Test Score: 0.670/0.408\n",
      "k: 5, Train/Test Score: 0.614/0.436\n",
      "k: 7, Train/Test Score: 0.596/0.455\n",
      "k: 9, Train/Test Score: 0.571/0.451\n",
      "k: 11, Train/Test Score: 0.559/0.458\n",
      "k: 13, Train/Test Score: 0.550/0.457\n",
      "k: 15, Train/Test Score: 0.538/0.459\n",
      "k: 17, Train/Test Score: 0.537/0.460\n",
      "k: 19, Train/Test Score: 0.538/0.460\n"
     ]
    },
    {
     "data": {
      "image/png": "[encoded data removed]",
      "text/plain": [
       "<Figure size 432x288 with 1 Axes>"
      ]
     },
     "metadata": {
      "needs_background": "light"
     },
     "output_type": "display_data"
    }
   ],
   "source": [
    "train_scores = []\n",
    "test_scores = []\n",
    "for k in range(1, 20, 2):\n",
    "    knn = KNeighborsClassifier(n_neighbors=k)\n",
    "    knn.fit(X_train_scaled, y_train)\n",
    "    train_score = knn.score(X_train_scaled, y_train)\n",
    "    test_score = knn.score(X_test_scaled, y_test)\n",
    "    train_scores.append(train_score)\n",
    "    test_scores.append(test_score)\n",
    "    print(f\"k: {k}, Train/Test Score: {train_score:.3f}/{test_score:.3f}\")\n",
    "    \n",
    "    \n",
    "plt.plot(range(1, 20, 2), train_scores, marker='o')\n",
    "plt.plot(range(1, 20, 2), test_scores, marker=\"x\")\n",
    "plt.xlabel(\"k neighbors\")\n",
    "plt.ylabel(\"Testing accuracy score\")\n",
    "plt.show()"
   ]
  },
  {
   "cell_type": "code",
   "execution_count": 12,
   "metadata": {},
   "outputs": [
    {
     "name": "stdout",
     "output_type": "stream",
     "text": [
      "k=9 Test Acc: 0.436\n"
     ]
    }
   ],
   "source": [
    "# Note that k: 5 seems to be the best choice for this dataset\n",
    "knn = KNeighborsClassifier(n_neighbors=5)\n",
    "knn.fit(X_train_scaled, y_train)\n",
    "print('k=9 Test Acc: %.3f' % knn.score(X_test_scaled, y_test))"
   ]
  },
  {
   "cell_type": "code",
   "execution_count": 13,
   "metadata": {},
   "outputs": [],
   "source": [
    "y_true = y_test\n",
    "y_pred = knn.predict(X_test_scaled)"
   ]
  },
  {
   "cell_type": "code",
   "execution_count": 15,
   "metadata": {},
   "outputs": [],
   "source": [
    "from sklearn.metrics import confusion_matrix, classification_report"
   ]
  },
  {
   "cell_type": "code",
   "execution_count": 16,
   "metadata": {},
   "outputs": [
    {
     "data": {
      "text/plain": [
       "array([[113,   0, 145,   9,   0,  56],\n",
       "       [  0,   0,   4,   0,   0,   1],\n",
       "       [146,   0, 775, 100,  25, 193],\n",
       "       [ 32,   0, 306,  82,  18,  40],\n",
       "       [  4,   0,  56,  31, 118,   4],\n",
       "       [ 90,   0, 352,  34,   6, 189]], dtype=int64)"
      ]
     },
     "execution_count": 16,
     "metadata": {},
     "output_type": "execute_result"
    }
   ],
   "source": [
    "confusion_matrix(y_true, y_pred)"
   ]
  },
  {
   "cell_type": "code",
   "execution_count": 17,
   "metadata": {},
   "outputs": [
    {
     "name": "stdout",
     "output_type": "stream",
     "text": [
      "              precision    recall  f1-score   support\n",
      "\n",
      "           0       0.29      0.35      0.32       323\n",
      "           1       0.00      0.00      0.00         5\n",
      "           2       0.47      0.63      0.54      1239\n",
      "           3       0.32      0.17      0.22       478\n",
      "           4       0.71      0.55      0.62       213\n",
      "           5       0.39      0.28      0.33       671\n",
      "\n",
      "    accuracy                           0.44      2929\n",
      "   macro avg       0.36      0.33      0.34      2929\n",
      "weighted avg       0.43      0.44      0.42      2929\n",
      "\n"
     ]
    },
    {
     "name": "stderr",
     "output_type": "stream",
     "text": [
      "c:\\Users\\jeuge\\anaconda3\\lib\\site-packages\\sklearn\\metrics\\_classification.py:1318: UndefinedMetricWarning: Precision and F-score are ill-defined and being set to 0.0 in labels with no predicted samples. Use `zero_division` parameter to control this behavior.\n",
      "  _warn_prf(average, modifier, msg_start, len(result))\n",
      "c:\\Users\\jeuge\\anaconda3\\lib\\site-packages\\sklearn\\metrics\\_classification.py:1318: UndefinedMetricWarning: Precision and F-score are ill-defined and being set to 0.0 in labels with no predicted samples. Use `zero_division` parameter to control this behavior.\n",
      "  _warn_prf(average, modifier, msg_start, len(result))\n",
      "c:\\Users\\jeuge\\anaconda3\\lib\\site-packages\\sklearn\\metrics\\_classification.py:1318: UndefinedMetricWarning: Precision and F-score are ill-defined and being set to 0.0 in labels with no predicted samples. Use `zero_division` parameter to control this behavior.\n",
      "  _warn_prf(average, modifier, msg_start, len(result))\n"
     ]
    }
   ],
   "source": [
    "print(classification_report(y_true, y_pred))"
   ]
  },
  {
   "cell_type": "code",
   "execution_count": 18,
   "metadata": {},
   "outputs": [],
   "source": [
    "new_song = [[0.22900, 0.653, 0.1010, -5.634, 0.0658, 0.412, 106.966, 0.000000, 207320, 4, 1,\t1,\t0.717]]\n",
    "#Correct Answer is R&B\n",
    "prediction = knn.predict(new_song)"
   ]
  },
  {
   "cell_type": "code",
   "execution_count": 19,
   "metadata": {},
   "outputs": [],
   "source": [
    "from sklearn.metrics import accuracy_score\n"
   ]
  },
  {
   "cell_type": "code",
   "execution_count": 20,
   "metadata": {},
   "outputs": [
    {
     "name": "stdout",
     "output_type": "stream",
     "text": [
      "['Pop']\n",
      "0.42301126664390576\n"
     ]
    },
    {
     "name": "stderr",
     "output_type": "stream",
     "text": [
      "c:\\Users\\jeuge\\anaconda3\\lib\\site-packages\\sklearn\\base.py:443: UserWarning: X has feature names, but KNeighborsClassifier was fitted without feature names\n",
      "  warnings.warn(\n"
     ]
    }
   ],
   "source": [
    "predicted_genre = label_encoder.inverse_transform(prediction)\n",
    "prediction = knn.predict(X_test)\n",
    "accuracy = accuracy_score(y_test, prediction)\n",
    "print(predicted_genre)\n",
    "print(accuracy)"
   ]
  }
 ],
 "metadata": {
  "kernelspec": {
   "display_name": "base",
   "language": "python",
   "name": "python3"
  },
  "language_info": {
   "codemirror_mode": {
    "name": "ipython",
    "version": 3
   },
   "file_extension": ".py",
   "mimetype": "text/x-python",
   "name": "python",
   "nbconvert_exporter": "python",
   "pygments_lexer": "ipython3",
   "version": "3.9.12"
  },
  "orig_nbformat": 4,
  "vscode": {
   "interpreter": {
    "hash": "649c1df603cb0c763ecfaa92bb521097eed9c2899b8783802d049b76a8b3378e"
   }
  }
 },
 "nbformat": 4,
 "nbformat_minor": 2
}
