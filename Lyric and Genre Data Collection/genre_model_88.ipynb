{
 "cells": [
  {
   "cell_type": "code",
   "execution_count": 2,
   "metadata": {},
   "outputs": [],
   "source": [
    "from matplotlib import pyplot as plt\n",
    "from sklearn.datasets import make_classification\n",
    "import numpy as np\n",
    "import pandas as pd\n",
    "from sklearn.ensemble import RandomForestClassifier\n",
    "from sklearn.linear_model import LogisticRegression\n",
    "from sklearn.model_selection import train_test_split\n",
    "from sklearn.preprocessing import StandardScaler"
   ]
  },
  {
   "cell_type": "code",
   "execution_count": 72,
   "metadata": {},
   "outputs": [
    {
     "data": {
      "text/plain": [
       "Index(['Unnamed: 0', 'track', 'album', 'artist', 'popularity', 'featured',\n",
       "       'release_date', 'track_id', 'danceability', 'energy', 'key', 'loudness',\n",
       "       'mode', 'speechiness', 'instrumentalness', 'liveness', 'valence',\n",
       "       'tempo', 'duration_ms', 'time_signature', 'lyrics', 'filtered_lyrics',\n",
       "       'genre'],\n",
       "      dtype='object')"
      ]
     },
     "execution_count": 72,
     "metadata": {},
     "output_type": "execute_result"
    }
   ],
   "source": [
    "# Import 88Rising Data\n",
    "df_88 = pd.read_csv('../Test-Data/pre-final-88-genre.csv')\n",
    "df_88.columns"
   ]
  },
  {
   "cell_type": "code",
   "execution_count": 47,
   "metadata": {},
   "outputs": [
    {
     "data": {
      "text/plain": [
       "0      ['R&B', 'K-R&B', 'Reggaetón', 'South Korea', '...\n",
       "1               ['R&B', 'South Korea', 'Trap', 'Korean']\n",
       "2      ['R&B', 'Korean', 'K-R&B', 'K-Solo', 'South Ko...\n",
       "3      ['R&B', 'K-R&B', 'Korean', 'K-Solo', 'South Ko...\n",
       "4                                                     []\n",
       "                             ...                        \n",
       "453                                 ['Rap', 'Indonesia']\n",
       "454                                                   []\n",
       "455                                              ['Rap']\n",
       "456                                 ['Pop', 'Indonesia']\n",
       "457                                   ['Rap', 'Hip-Hop']\n",
       "Name: genre, Length: 458, dtype: object"
      ]
     },
     "execution_count": 47,
     "metadata": {},
     "output_type": "execute_result"
    }
   ],
   "source": [
    "df_88['genre']"
   ]
  },
  {
   "cell_type": "code",
   "execution_count": 23,
   "metadata": {},
   "outputs": [],
   "source": [
    "import re"
   ]
  },
  {
   "cell_type": "code",
   "execution_count": 30,
   "metadata": {},
   "outputs": [
    {
     "data": {
      "text/plain": [
       "str"
      ]
     },
     "execution_count": 30,
     "metadata": {},
     "output_type": "execute_result"
    }
   ],
   "source": [
    "type(df_88['genre'][0])"
   ]
  },
  {
   "cell_type": "code",
   "execution_count": 39,
   "metadata": {},
   "outputs": [
    {
     "data": {
      "text/plain": [
       "\"['R&B', 'K-R&B', 'Reggaetón', 'South Korea', 'Genius Korea', 'Korean', 'K-Solo']\""
      ]
     },
     "execution_count": 39,
     "metadata": {},
     "output_type": "execute_result"
    }
   ],
   "source": [
    "df_88['genre'][0]"
   ]
  },
  {
   "cell_type": "code",
   "execution_count": 73,
   "metadata": {},
   "outputs": [],
   "source": [
    "df_88['genre'] = df_88['genre'].apply(lambda x: re.sub(\"['[\\]]\", \"\", x))\n",
    "df_88['genre']=df_88['genre'].apply(lambda x: re.split(r',', x))"
   ]
  },
  {
   "cell_type": "code",
   "execution_count": 57,
   "metadata": {},
   "outputs": [
    {
     "data": {
      "text/plain": [
       "'R&B'"
      ]
     },
     "execution_count": 57,
     "metadata": {},
     "output_type": "execute_result"
    }
   ],
   "source": [
    "df_88['genre'][0][0]"
   ]
  },
  {
   "cell_type": "code",
   "execution_count": 74,
   "metadata": {},
   "outputs": [
    {
     "data": {
      "text/plain": [
       "array(['R&B', '', 'Pop', 'Rock', 'Rap'], dtype=object)"
      ]
     },
     "execution_count": 74,
     "metadata": {},
     "output_type": "execute_result"
    }
   ],
   "source": [
    "df_88['primary_genre'] = df_88['genre'].apply(lambda x: x[0])\n",
    "df_88['primary_genre'].unique()"
   ]
  },
  {
   "cell_type": "code",
   "execution_count": 76,
   "metadata": {},
   "outputs": [
    {
     "data": {
      "text/plain": [
       "Index(['artist', 'popularity', 'danceability', 'energy', 'key', 'loudness',\n",
       "       'mode', 'speechiness', 'instrumentalness', 'liveness', 'valence',\n",
       "       'tempo', 'duration_ms', 'primary_genre'],\n",
       "      dtype='object')"
      ]
     },
     "execution_count": 76,
     "metadata": {},
     "output_type": "execute_result"
    }
   ],
   "source": [
    "df_88.drop(['Unnamed: 0', 'track', 'album', 'genre', 'featured', 'release_date','time_signature', 'track_id', 'lyrics', 'filtered_lyrics'], axis=1, inplace = True)\n",
    "df_88.columns"
   ]
  },
  {
   "cell_type": "code",
   "execution_count": 85,
   "metadata": {},
   "outputs": [],
   "source": [
    "# Label x and y for model\n",
    "y = df_88['primary_genre']\n",
    "X = df_88.loc[:, df_88.columns != 'primary_genre']"
   ]
  },
  {
   "cell_type": "code",
   "execution_count": 86,
   "metadata": {},
   "outputs": [],
   "source": [
    "# Convert Categorical into Numerical categories\n",
    "X_num = pd.get_dummies(X)"
   ]
  },
  {
   "cell_type": "code",
   "execution_count": 87,
   "metadata": {},
   "outputs": [],
   "source": [
    "X_train, X_test, y_train, y_test = train_test_split(X_num, y, random_state=1)"
   ]
  },
  {
   "cell_type": "code",
   "execution_count": 102,
   "metadata": {},
   "outputs": [
    {
     "name": "stdout",
     "output_type": "stream",
     "text": [
      "Training Score: 0.9883381924198251\n",
      "Testing Score: 0.5565217391304348\n"
     ]
    }
   ],
   "source": [
    "clf = RandomForestClassifier(random_state=1, n_estimators=10).fit(X_train, y_train)\n",
    "print(f'Training Score: {clf.score(X_train, y_train)}')\n",
    "print(f'Testing Score: {clf.score(X_test, y_test)}')"
   ]
  },
  {
   "cell_type": "code",
   "execution_count": 89,
   "metadata": {},
   "outputs": [],
   "source": [
    "# Scaling values\n",
    "scaler = StandardScaler().fit(X_train)\n",
    "X_train_scaled = scaler.transform(X_train)\n",
    "X_test_scaled = scaler.transform(X_test)"
   ]
  },
  {
   "cell_type": "code",
   "execution_count": 90,
   "metadata": {},
   "outputs": [
    {
     "name": "stdout",
     "output_type": "stream",
     "text": [
      "Training Score: 1.0\n",
      "Testing Score: 0.5739130434782609\n"
     ]
    }
   ],
   "source": [
    "clf = RandomForestClassifier(random_state=1, n_estimators=500).fit(X_train_scaled, y_train)\n",
    "print(f'Training Score: {clf.score(X_train_scaled, y_train)}')\n",
    "print(f'Testing Score: {clf.score(X_test_scaled, y_test)}')"
   ]
  },
  {
   "cell_type": "code",
   "execution_count": 92,
   "metadata": {},
   "outputs": [
    {
     "data": {
      "text/plain": [
       "Index(['popularity', 'danceability', 'energy', 'key', 'loudness', 'mode',\n",
       "       'speechiness', 'instrumentalness', 'liveness', 'valence', 'tempo',\n",
       "       'duration_ms', 'artist_BIBI', 'artist_CHUNG HA', 'artist_Dumbfoundead',\n",
       "       'artist_Guapdad 4000', 'artist_Higher Brothers', 'artist_Jackson Wang',\n",
       "       'artist_Joji', 'artist_Keith Ape', 'artist_Lexie Liu', 'artist_Mili',\n",
       "       'artist_Rich Brian', 'artist_Seori', 'artist_Stephanie Poetri',\n",
       "       'artist_Warren Hue'],\n",
       "      dtype='object')"
      ]
     },
     "execution_count": 92,
     "metadata": {},
     "output_type": "execute_result"
    }
   ],
   "source": [
    "X_train.columns"
   ]
  },
  {
   "cell_type": "code",
   "execution_count": 91,
   "metadata": {},
   "outputs": [
    {
     "name": "stdout",
     "output_type": "stream",
     "text": [
      "[0.0853933  0.10023003 0.06894441 0.04722567 0.07795053 0.01535586\n",
      " 0.1164457  0.04266365 0.07200115 0.07549237 0.0639999  0.07334834\n",
      " 0.02497976 0.03382868 0.01018691 0.0063851  0.00436208 0.01109503\n",
      " 0.00684717 0.00787848 0.00642081 0.01016911 0.0145071  0.00667979\n",
      " 0.00962673 0.00798233]\n"
     ]
    },
    {
     "data": {
      "image/png": "[encoded data removed]",
      "text/plain": [
       "<Figure size 432x288 with 1 Axes>"
      ]
     },
     "metadata": {
      "needs_background": "light"
     },
     "output_type": "display_data"
    }
   ],
   "source": [
    "# Feature Selection\n",
    "features = clf.feature_importances_\n",
    "print(features)\n",
    "plt.bar(x = range(len(features)), height=features)\n",
    "plt.show()"
   ]
  },
  {
   "cell_type": "code",
   "execution_count": 93,
   "metadata": {},
   "outputs": [
    {
     "data": {
      "text/plain": [
       "array([ True,  True,  True,  True,  True, False,  True,  True,  True,\n",
       "        True,  True,  True, False, False, False, False, False, False,\n",
       "       False, False, False, False, False, False, False, False])"
      ]
     },
     "execution_count": 93,
     "metadata": {},
     "output_type": "execute_result"
    }
   ],
   "source": [
    "from sklearn.feature_selection import SelectFromModel\n",
    "sel = SelectFromModel(clf)\n",
    "sel.fit(X_train_scaled, y_train)\n",
    "sel.get_support()"
   ]
  },
  {
   "cell_type": "code",
   "execution_count": 95,
   "metadata": {},
   "outputs": [
    {
     "name": "stderr",
     "output_type": "stream",
     "text": [
      "c:\\Users\\krist\\anaconda3\\lib\\site-packages\\sklearn\\base.py:443: UserWarning: X has feature names, but SelectFromModel was fitted without feature names\n",
      "  warnings.warn(\n"
     ]
    }
   ],
   "source": [
    "X_selected_train, X_selected_test, y_train, y_test = train_test_split(sel.transform(X_num), y, random_state=1)\n",
    "scaler = StandardScaler().fit(X_selected_train)\n",
    "X_selected_train_scaled = scaler.transform(X_selected_train)\n",
    "X_selected_test_scaled = scaler.transform(X_selected_test)"
   ]
  },
  {
   "cell_type": "code",
   "execution_count": 126,
   "metadata": {},
   "outputs": [
    {
     "name": "stdout",
     "output_type": "stream",
     "text": [
      "Training Score: 0.9941690962099126\n",
      "Testing Score: 0.4260869565217391\n"
     ]
    }
   ],
   "source": [
    "clf = RandomForestClassifier(random_state=1, n_estimators=10).fit(X_selected_train_scaled, y_train)\n",
    "print(f'Training Score: {clf.score(X_selected_train_scaled, y_train)}')\n",
    "print(f'Testing Score: {clf.score(X_selected_test_scaled, y_test)}')"
   ]
  },
  {
   "cell_type": "code",
   "execution_count": 103,
   "metadata": {},
   "outputs": [],
   "source": [
    "# Test K-means Algorithm\n",
    "from sklearn.cluster import KMeans\n"
   ]
  },
  {
   "cell_type": "code",
   "execution_count": 106,
   "metadata": {},
   "outputs": [],
   "source": [
    "num_clust = len(df_88['primary_genre'].unique())"
   ]
  },
  {
   "cell_type": "code",
   "execution_count": 107,
   "metadata": {},
   "outputs": [],
   "source": [
    "model = KMeans(n_clusters=num_clust, random_state=5)"
   ]
  },
  {
   "cell_type": "code",
   "execution_count": 117,
   "metadata": {},
   "outputs": [],
   "source": [
    "df_88_no_genre = df_88.drop('primary_genre', axis=1)\n",
    "# Convert data into numerical\n",
    "df_88_num = pd.get_dummies(df_88_no_genre)"
   ]
  },
  {
   "cell_type": "code",
   "execution_count": 118,
   "metadata": {},
   "outputs": [
    {
     "data": {
      "text/plain": [
       "KMeans(n_clusters=5, random_state=5)"
      ]
     },
     "execution_count": 118,
     "metadata": {},
     "output_type": "execute_result"
    }
   ],
   "source": [
    "model.fit(df_88_num)"
   ]
  },
  {
   "cell_type": "code",
   "execution_count": 119,
   "metadata": {},
   "outputs": [
    {
     "name": "stdout",
     "output_type": "stream",
     "text": [
      "[3 3 2 3 2 4 0 2 2 3 2 3 3 2 0 2 0 3 0 2 3 0 3 2 2 3 2 3 3 2 2 3 3 3 3 3 3\n",
      " 2 2 2 2 2 3 2 3 4 2 2 3 2 2 3 2 2 2 3 2 2 2 2 2 0 2 2 2 2 3 2 2 2 2 2 2 0\n",
      " 2 2 3 2 4 2 4 2 2 0 2 2 2 2 0 2 3 4 0 3 2 2 2 2 4 3 3 3 3 4 2 2 3 2 3 3 2\n",
      " 3 2 4 2 3 2 2 2 2 0 0 2 3 4 2 3 3 4 2 1 2 3 3 0 2 2 0 2 3 3 3 3 3 2 3 0 2\n",
      " 3 3 2 0 2 3 3 3 2 4 3 0 2 3 3 2 3 3 4 2 2 4 3 3 3 3 4 2 2 3 4 3 3 4 2 2 3\n",
      " 3 2 3 0 2 0 0 2 3 0 0 0 3 2 3 3 2 2 3 0 4 0 3 3 2 0 0 2 2 2 3 0 0 3 4 0 2\n",
      " 3 0 0 2 3 3 0 2 3 0 2 2 3 4 2 0 2 4 3 4 3 2 4 4 3 2 0 3 3 2 0 0 1 3 0 2 2\n",
      " 3 2 2 2 2 0 2 0 2 0 0 2 0 0 2 2 2 2 2 3 2 2 3 2 2 4 3 4 3 4 3 2 3 3 2 4 2\n",
      " 2 2 0 0 2 0 2 2 2 2 2 3 3 2 2 3 2 2 0 2 2 3 2 2 4 3 4 4 2 3 2 2 4 0 3 2 3\n",
      " 2 4 0 0 4 4 3 3 2 2 4 4 2 2 0 2 2 3 2 2 2 3 3 2 2 0 0 2 4 4 2 4 3 0 4 3 4\n",
      " 3 2 3 3 2 2 3 4 3 3 2 0 3 3 2 0 3 3 4 2 2 2 2 2 2 2 0 3 2 2 2 2 2 2 3 0 2\n",
      " 0 2 2 3 3 0 2 2 3 3 2 3 3 2 0 0 2 3 3 3 2 2 3 0 2 0 2 0 2 3 2 2 3 0 4 4 3\n",
      " 3 3 2 3 3 0 0 0 2 0 3 0 3 2]\n"
     ]
    }
   ],
   "source": [
    "predictions = model.predict(df_88_num)\n",
    "print(predictions)"
   ]
  },
  {
   "cell_type": "code",
   "execution_count": 120,
   "metadata": {},
   "outputs": [
    {
     "data": {
      "text/html": [
       "<div>\n",
       "<style scoped>\n",
       "    .dataframe tbody tr th:only-of-type {\n",
       "        vertical-align: middle;\n",
       "    }\n",
       "\n",
       "    .dataframe tbody tr th {\n",
       "        vertical-align: top;\n",
       "    }\n",
       "\n",
       "    .dataframe thead th {\n",
       "        text-align: right;\n",
       "    }\n",
       "</style>\n",
       "<table border=\"1\" class=\"dataframe\">\n",
       "  <thead>\n",
       "    <tr style=\"text-align: right;\">\n",
       "      <th></th>\n",
       "      <th>popularity</th>\n",
       "      <th>danceability</th>\n",
       "      <th>energy</th>\n",
       "      <th>key</th>\n",
       "      <th>loudness</th>\n",
       "      <th>mode</th>\n",
       "      <th>speechiness</th>\n",
       "      <th>instrumentalness</th>\n",
       "      <th>liveness</th>\n",
       "      <th>valence</th>\n",
       "      <th>...</th>\n",
       "      <th>artist_Jackson Wang</th>\n",
       "      <th>artist_Joji</th>\n",
       "      <th>artist_Keith Ape</th>\n",
       "      <th>artist_Lexie Liu</th>\n",
       "      <th>artist_Mili</th>\n",
       "      <th>artist_Rich Brian</th>\n",
       "      <th>artist_Seori</th>\n",
       "      <th>artist_Stephanie Poetri</th>\n",
       "      <th>artist_Warren Hue</th>\n",
       "      <th>class</th>\n",
       "    </tr>\n",
       "  </thead>\n",
       "  <tbody>\n",
       "    <tr>\n",
       "      <th>0</th>\n",
       "      <td>76</td>\n",
       "      <td>0.442</td>\n",
       "      <td>0.748</td>\n",
       "      <td>11</td>\n",
       "      <td>-4.718</td>\n",
       "      <td>0</td>\n",
       "      <td>0.0895</td>\n",
       "      <td>0.000128</td>\n",
       "      <td>0.0642</td>\n",
       "      <td>0.408</td>\n",
       "      <td>...</td>\n",
       "      <td>0</td>\n",
       "      <td>0</td>\n",
       "      <td>0</td>\n",
       "      <td>0</td>\n",
       "      <td>0</td>\n",
       "      <td>0</td>\n",
       "      <td>0</td>\n",
       "      <td>0</td>\n",
       "      <td>0</td>\n",
       "      <td>3</td>\n",
       "    </tr>\n",
       "    <tr>\n",
       "      <th>1</th>\n",
       "      <td>68</td>\n",
       "      <td>0.625</td>\n",
       "      <td>0.686</td>\n",
       "      <td>6</td>\n",
       "      <td>-3.715</td>\n",
       "      <td>0</td>\n",
       "      <td>0.0414</td>\n",
       "      <td>0.000000</td>\n",
       "      <td>0.1100</td>\n",
       "      <td>0.263</td>\n",
       "      <td>...</td>\n",
       "      <td>0</td>\n",
       "      <td>0</td>\n",
       "      <td>0</td>\n",
       "      <td>0</td>\n",
       "      <td>0</td>\n",
       "      <td>0</td>\n",
       "      <td>0</td>\n",
       "      <td>0</td>\n",
       "      <td>0</td>\n",
       "      <td>3</td>\n",
       "    </tr>\n",
       "    <tr>\n",
       "      <th>2</th>\n",
       "      <td>67</td>\n",
       "      <td>0.617</td>\n",
       "      <td>0.570</td>\n",
       "      <td>5</td>\n",
       "      <td>-4.280</td>\n",
       "      <td>0</td>\n",
       "      <td>0.0308</td>\n",
       "      <td>0.000006</td>\n",
       "      <td>0.5500</td>\n",
       "      <td>0.375</td>\n",
       "      <td>...</td>\n",
       "      <td>0</td>\n",
       "      <td>0</td>\n",
       "      <td>0</td>\n",
       "      <td>0</td>\n",
       "      <td>0</td>\n",
       "      <td>0</td>\n",
       "      <td>0</td>\n",
       "      <td>0</td>\n",
       "      <td>0</td>\n",
       "      <td>2</td>\n",
       "    </tr>\n",
       "    <tr>\n",
       "      <th>3</th>\n",
       "      <td>66</td>\n",
       "      <td>0.746</td>\n",
       "      <td>0.558</td>\n",
       "      <td>0</td>\n",
       "      <td>-7.470</td>\n",
       "      <td>0</td>\n",
       "      <td>0.0880</td>\n",
       "      <td>0.000190</td>\n",
       "      <td>0.0904</td>\n",
       "      <td>0.638</td>\n",
       "      <td>...</td>\n",
       "      <td>0</td>\n",
       "      <td>0</td>\n",
       "      <td>0</td>\n",
       "      <td>0</td>\n",
       "      <td>0</td>\n",
       "      <td>0</td>\n",
       "      <td>0</td>\n",
       "      <td>0</td>\n",
       "      <td>0</td>\n",
       "      <td>3</td>\n",
       "    </tr>\n",
       "    <tr>\n",
       "      <th>4</th>\n",
       "      <td>62</td>\n",
       "      <td>0.528</td>\n",
       "      <td>0.423</td>\n",
       "      <td>8</td>\n",
       "      <td>-7.381</td>\n",
       "      <td>1</td>\n",
       "      <td>0.0264</td>\n",
       "      <td>0.001480</td>\n",
       "      <td>0.1670</td>\n",
       "      <td>0.249</td>\n",
       "      <td>...</td>\n",
       "      <td>0</td>\n",
       "      <td>0</td>\n",
       "      <td>0</td>\n",
       "      <td>0</td>\n",
       "      <td>0</td>\n",
       "      <td>0</td>\n",
       "      <td>0</td>\n",
       "      <td>0</td>\n",
       "      <td>0</td>\n",
       "      <td>2</td>\n",
       "    </tr>\n",
       "  </tbody>\n",
       "</table>\n",
       "<p>5 rows × 27 columns</p>\n",
       "</div>"
      ],
      "text/plain": [
       "   popularity  danceability  energy  key  loudness  mode  speechiness  \\\n",
       "0          76         0.442   0.748   11    -4.718     0       0.0895   \n",
       "1          68         0.625   0.686    6    -3.715     0       0.0414   \n",
       "2          67         0.617   0.570    5    -4.280     0       0.0308   \n",
       "3          66         0.746   0.558    0    -7.470     0       0.0880   \n",
       "4          62         0.528   0.423    8    -7.381     1       0.0264   \n",
       "\n",
       "   instrumentalness  liveness  valence  ...  artist_Jackson Wang  artist_Joji  \\\n",
       "0          0.000128    0.0642    0.408  ...                    0            0   \n",
       "1          0.000000    0.1100    0.263  ...                    0            0   \n",
       "2          0.000006    0.5500    0.375  ...                    0            0   \n",
       "3          0.000190    0.0904    0.638  ...                    0            0   \n",
       "4          0.001480    0.1670    0.249  ...                    0            0   \n",
       "\n",
       "   artist_Keith Ape  artist_Lexie Liu  artist_Mili  artist_Rich Brian  \\\n",
       "0                 0                 0            0                  0   \n",
       "1                 0                 0            0                  0   \n",
       "2                 0                 0            0                  0   \n",
       "3                 0                 0            0                  0   \n",
       "4                 0                 0            0                  0   \n",
       "\n",
       "   artist_Seori  artist_Stephanie Poetri  artist_Warren Hue  class  \n",
       "0             0                        0                  0      3  \n",
       "1             0                        0                  0      3  \n",
       "2             0                        0                  0      2  \n",
       "3             0                        0                  0      3  \n",
       "4             0                        0                  0      2  \n",
       "\n",
       "[5 rows x 27 columns]"
      ]
     },
     "execution_count": 120,
     "metadata": {},
     "output_type": "execute_result"
    }
   ],
   "source": [
    "df_88_num[\"class\"] = model.labels_\n",
    "df_88_num.head()"
   ]
  },
  {
   "cell_type": "code",
   "execution_count": 121,
   "metadata": {},
   "outputs": [
    {
     "data": {
      "image/png": "[encoded data removed]",
      "text/plain": [
       "<Figure size 432x288 with 1 Axes>"
      ]
     },
     "metadata": {
      "needs_background": "light"
     },
     "output_type": "display_data"
    }
   ],
   "source": [
    "plt.scatter(x=df_88_num['popularity'], y=df_88_num['danceability'], c=df_88_num['class'])\n",
    "plt.xlabel('popularity')\n",
    "plt.ylabel('danceability')\n",
    "plt.show()"
   ]
  },
  {
   "cell_type": "code",
   "execution_count": 123,
   "metadata": {},
   "outputs": [
    {
     "name": "stderr",
     "output_type": "stream",
     "text": [
      "c:\\Users\\krist\\anaconda3\\lib\\site-packages\\sklearn\\cluster\\_kmeans.py:1036: UserWarning: KMeans is known to have a memory leak on Windows with MKL, when there are less chunks than available threads. You can avoid it by setting the environment variable OMP_NUM_THREADS=2.\n",
      "  warnings.warn(\n"
     ]
    },
    {
     "data": {
      "image/png": "[encoded data removed]",
      "text/plain": [
       "<Figure size 432x288 with 1 Axes>"
      ]
     },
     "metadata": {
      "needs_background": "light"
     },
     "output_type": "display_data"
    }
   ],
   "source": [
    "inertia = []\n",
    "# Same as k = list(range(1, 11))\n",
    "k = [1,2,3,4,5,6,7,8,9,10]\n",
    "\n",
    "\n",
    "# Looking for the best k\n",
    "for i in k:\n",
    "    km = KMeans(n_clusters=i, random_state=0)\n",
    "    km.fit(df_88_num)\n",
    "    inertia.append(km.inertia_)\n",
    "\n",
    "# Define a DataFrame to plot the Elbow Curve using hvPlot\n",
    "elbow_data = {\"k\": k, \"inertia\": inertia}\n",
    "df_elbow = pd.DataFrame(elbow_data)\n",
    "\n",
    "plt.plot(df_elbow['k'], df_elbow['inertia'])\n",
    "plt.xticks(range(1,11))\n",
    "plt.xlabel('Number of clusters')\n",
    "plt.ylabel('Inertia')\n",
    "plt.show()"
   ]
  }
 ],
 "metadata": {
  "kernelspec": {
   "display_name": "Python 3.9.12 ('base')",
   "language": "python",
   "name": "python3"
  },
  "language_info": {
   "codemirror_mode": {
    "name": "ipython",
    "version": 3
   },
   "file_extension": ".py",
   "mimetype": "text/x-python",
   "name": "python",
   "nbconvert_exporter": "python",
   "pygments_lexer": "ipython3",
   "version": "3.9.12"
  },
  "orig_nbformat": 4,
  "vscode": {
   "interpreter": {
    "hash": "fd5f0602b361fcd80b6e43c9db32d5ff96b182a40640908c77b502a93aa9387e"
   }
  }
 },
 "nbformat": 4,
 "nbformat_minor": 2
}
