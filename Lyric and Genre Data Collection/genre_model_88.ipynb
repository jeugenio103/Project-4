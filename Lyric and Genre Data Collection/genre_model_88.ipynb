{
 "cells": [
  {
   "cell_type": "code",
   "execution_count": 2,
   "metadata": {},
   "outputs": [],
   "source": [
    "from matplotlib import pyplot as plt\n",
    "from sklearn.datasets import make_classification\n",
    "import numpy as np\n",
    "import pandas as pd\n",
    "from sklearn.ensemble import RandomForestClassifier\n",
    "from sklearn.linear_model import LogisticRegression\n",
    "from sklearn.model_selection import train_test_split\n",
    "from sklearn.preprocessing import StandardScaler"
   ]
  },
  {
   "cell_type": "code",
   "execution_count": 7,
   "metadata": {},
   "outputs": [
    {
     "data": {
      "text/plain": [
       "Index(['Unnamed: 0', 'track', 'album', 'artist', 'popularity', 'featured',\n",
       "       'release_date', 'track_id', 'danceability', 'energy', 'key', 'loudness',\n",
       "       'mode', 'speechiness', 'instrumentalness', 'liveness', 'valence',\n",
       "       'tempo', 'duration_ms', 'time_signature', 'lyrics', 'filtered_lyrics',\n",
       "       'genre'],\n",
       "      dtype='object')"
      ]
     },
     "execution_count": 7,
     "metadata": {},
     "output_type": "execute_result"
    }
   ],
   "source": [
    "# Import 88Rising Data\n",
    "df_88 = pd.read_csv('../Test-Data/pre-final-88-genre.csv')\n",
    "df_88.columns"
   ]
  },
  {
   "cell_type": "code",
   "execution_count": 8,
   "metadata": {},
   "outputs": [
    {
     "data": {
      "text/plain": [
       "0      ['R&B', 'K-R&B', 'Reggaetón', 'South Korea', '...\n",
       "1               ['R&B', 'South Korea', 'Trap', 'Korean']\n",
       "2      ['R&B', 'Korean', 'K-R&B', 'K-Solo', 'South Ko...\n",
       "3      ['R&B', 'K-R&B', 'Korean', 'K-Solo', 'South Ko...\n",
       "4                                                     []\n",
       "                             ...                        \n",
       "453                                 ['Rap', 'Indonesia']\n",
       "454                                                   []\n",
       "455                                              ['Rap']\n",
       "456                                 ['Pop', 'Indonesia']\n",
       "457                                   ['Rap', 'Hip-Hop']\n",
       "Name: genre, Length: 458, dtype: object"
      ]
     },
     "execution_count": 8,
     "metadata": {},
     "output_type": "execute_result"
    }
   ],
   "source": [
    "df_88['genre']"
   ]
  },
  {
   "cell_type": "code",
   "execution_count": 15,
   "metadata": {},
   "outputs": [],
   "source": [
    "primary_genre = []"
   ]
  },
  {
   "cell_type": "code",
   "execution_count": 16,
   "metadata": {},
   "outputs": [
    {
     "data": {
      "text/plain": [
       "<generator object <genexpr> at 0x000002855E8CFAC0>"
      ]
     },
     "execution_count": 16,
     "metadata": {},
     "output_type": "execute_result"
    }
   ],
   "source": [
    "(primary_genre.append(genre[0]) for genre in df_88['genre'])"
   ]
  },
  {
   "cell_type": "code",
   "execution_count": 17,
   "metadata": {},
   "outputs": [
    {
     "data": {
      "text/plain": [
       "[]"
      ]
     },
     "execution_count": 17,
     "metadata": {},
     "output_type": "execute_result"
    }
   ],
   "source": [
    "primary_genre"
   ]
  }
 ],
 "metadata": {
  "kernelspec": {
   "display_name": "Python 3.9.12 ('base')",
   "language": "python",
   "name": "python3"
  },
  "language_info": {
   "codemirror_mode": {
    "name": "ipython",
    "version": 3
   },
   "file_extension": ".py",
   "mimetype": "text/x-python",
   "name": "python",
   "nbconvert_exporter": "python",
   "pygments_lexer": "ipython3",
   "version": "3.9.12"
  },
  "orig_nbformat": 4,
  "vscode": {
   "interpreter": {
    "hash": "fd5f0602b361fcd80b6e43c9db32d5ff96b182a40640908c77b502a93aa9387e"
   }
  }
 },
 "nbformat": 4,
 "nbformat_minor": 2
}
