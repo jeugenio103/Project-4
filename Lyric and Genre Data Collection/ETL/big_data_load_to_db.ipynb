{
  "cells": [
    {
      "cell_type": "code",
      "execution_count": 1,
      "metadata": {
        "colab": {
          "base_uri": "https://localhost:8080/"
        },
        "id": "IIi7HEN-NFym",
        "outputId": "0617005a-03b6-483e-f5e7-070713ff6540"
      },
      "outputs": [
        {
          "name": "stdout",
          "output_type": "stream",
          "text": [
            "\r0% [Working]\r            \rIgn:1 https://developer.download.nvidia.com/compute/machine-learning/repos/ubuntu1804/x86_64  InRelease\n",
            "\r0% [Waiting for headers] [Connecting to security.ubuntu.com] [Connected to clou\r                                                                               \rHit:2 https://developer.download.nvidia.com/compute/cuda/repos/ubuntu1804/x86_64  InRelease\n",
            "\r0% [Waiting for headers] [Connecting to security.ubuntu.com] [Waiting for heade\r                                                                               \rHit:3 http://archive.ubuntu.com/ubuntu bionic InRelease\n",
            "\r                                                                               \rHit:4 https://cloud.r-project.org/bin/linux/ubuntu bionic-cran40/ InRelease\n",
            "\r0% [Waiting for headers] [Connecting to security.ubuntu.com (185.125.190.39)] [\r0% [2 InRelease gpgv 1,581 B] [Waiting for headers] [Connecting to security.ubu\r                                                                               \rHit:5 https://developer.download.nvidia.com/compute/machine-learning/repos/ubuntu1804/x86_64  Release\n",
            "Hit:6 http://archive.ubuntu.com/ubuntu bionic-updates InRelease\n",
            "Hit:7 http://archive.ubuntu.com/ubuntu bionic-backports InRelease\n",
            "Hit:8 http://ppa.launchpad.net/c2d4u.team/c2d4u4.0+/ubuntu bionic InRelease\n",
            "Hit:9 http://security.ubuntu.com/ubuntu bionic-security InRelease\n",
            "Hit:10 http://ppa.launchpad.net/cran/libgit2/ubuntu bionic InRelease\n",
            "Hit:11 http://ppa.launchpad.net/deadsnakes/ppa/ubuntu bionic InRelease\n",
            "Hit:13 http://ppa.launchpad.net/graphics-drivers/ppa/ubuntu bionic InRelease\n",
            "Reading package lists... Done\n"
          ]
        }
      ],
      "source": [
        "# Activate Spark in our Colab notebook.\n",
        "import os\n",
        "# Find the latest version of spark 3.2  from http://www.apache.org/dist/spark/ and enter as the spark version\n",
        "# For example:\n",
        "# spark_version = 'spark-3.2.2'\n",
        "spark_version = 'spark-3.2.3'\n",
        "os.environ['SPARK_VERSION']=spark_version\n",
        "\n",
        "# Install Spark and Java\n",
        "!apt-get update\n",
        "!apt-get install openjdk-11-jdk-headless -qq > /dev/null\n",
        "!wget -q http://www.apache.org/dist/spark/$SPARK_VERSION/$SPARK_VERSION-bin-hadoop2.7.tgz\n",
        "!tar xf $SPARK_VERSION-bin-hadoop2.7.tgz\n",
        "!pip install -q findspark\n",
        "\n",
        "# Set Environment Variables\n",
        "import os\n",
        "os.environ[\"JAVA_HOME\"] = \"/usr/lib/jvm/java-11-openjdk-amd64\"\n",
        "os.environ[\"SPARK_HOME\"] = f\"/content/{spark_version}-bin-hadoop2.7\"\n",
        "\n",
        "# Start a SparkSession\n",
        "import findspark\n",
        "findspark.init()"
      ]
    },
    {
      "cell_type": "code",
      "execution_count": 2,
      "metadata": {
        "colab": {
          "base_uri": "https://localhost:8080/"
        },
        "id": "nvBDtCOwNFyn",
        "outputId": "2be8fa82-d59b-48ac-81e5-a2b071b8a3c5"
      },
      "outputs": [
        {
          "name": "stdout",
          "output_type": "stream",
          "text": [
            "--2023-01-09 20:38:30--  https://jdbc.postgresql.org/download/postgresql-42.2.9.jar\n",
            "Resolving jdbc.postgresql.org (jdbc.postgresql.org)... 72.32.157.228, 2001:4800:3e1:1::228\n",
            "Connecting to jdbc.postgresql.org (jdbc.postgresql.org)|72.32.157.228|:443... connected.\n",
            "HTTP request sent, awaiting response... 200 OK\n",
            "Length: 914037 (893K) [application/java-archive]\n",
            "Saving to: ‘postgresql-42.2.9.jar.1’\n",
            "\n",
            "postgresql-42.2.9.j 100%[===================>] 892.61K  2.68MB/s    in 0.3s    \n",
            "\n",
            "2023-01-09 20:38:31 (2.68 MB/s) - ‘postgresql-42.2.9.jar.1’ saved [914037/914037]\n",
            "\n"
          ]
        }
      ],
      "source": [
        "# Get postgresql package\n",
        "!wget https://jdbc.postgresql.org/download/postgresql-42.2.9.jar"
      ]
    },
    {
      "cell_type": "code",
      "execution_count": 3,
      "metadata": {
        "id": "9kmOER63NFyo"
      },
      "outputs": [],
      "source": [
        "# Import Spark and create a SparkSession\n",
        "from pyspark.sql import SparkSession\n",
        "spark = SparkSession.builder.appName(\"Project-4\").config(\"spark.driver.extraClassPath\",\"/content/postgresql-42.2.9.jar\").getOrCreate()"
      ]
    },
    {
      "cell_type": "code",
      "execution_count": 4,
      "metadata": {
        "id": "jDaNVul8NFyo"
      },
      "outputs": [],
      "source": [
        "from config import password"
      ]
    },
    {
      "cell_type": "code",
      "execution_count": 5,
      "metadata": {
        "colab": {
          "base_uri": "https://localhost:8080/"
        },
        "id": "jvqMo6NsNFyo",
        "outputId": "4af7b8da-ca6c-470c-a2cc-de869e0d8534"
      },
      "outputs": [
        {
          "name": "stdout",
          "output_type": "stream",
          "text": [
            "+---+--------------------+--------------------+-------------------+--------------------+-------------+--------------+-------+------+--------------+------------+------------+------+----------------+--------+--------+-----------+-------+-------+\n",
            "|_c0|            track_id|               track|             artist|               genre|primary_genre|   duration_ms|    key|  mode|time_signature|acousticness|danceability|energy|instrumentalness|liveness|loudness|speechiness|valence|  tempo|\n",
            "+---+--------------------+--------------------+-------------------+--------------------+-------------+--------------+-------+------+--------------+------------+------------+------+----------------+--------+--------+-----------+-------+-------+\n",
            "|  0|3e9HZxeyfWwjeyPAM...|        thank-u-next|      Ariana-Grande|['R&B', 'Pop', 'E...|          R&B|        207320|      1|     1|             4|       0.229|       0.717| 0.653|             0.0|   0.101|  -5.634|     0.0658|  0.412|106.966|\n",
            "|  1|5p7ujcrUXASCNwRaW...|          Without-Me|             Halsey|['R&B', 'Pop', 'C...|          R&B|        201661|      6|     1|             4|       0.297|       0.752| 0.488|        9.11e-06|  0.0936|   -7.05|     0.0705|  0.533|136.041|\n",
            "|  2|2xLMifQCjDGFmkHkp...|          SICKO-MODE|       Travis-Scott|['Rap', 'Memes', ...|          Rap|        312820|      8|     1|             4|     0.00513|       0.834|  0.73|             0.0|   0.124|  -3.714|      0.222|  0.446|155.008|\n",
            "|  3|0bYg9bo50gSsH3LtX...|All-I-Want-for-Ch...|       Mariah-Carey|['R&B', 'Pop', 'P...|          R&B|        241107|      7|     1|             4|       0.164|       0.335| 0.625|             0.0|  0.0708|  -7.462|     0.0386|  0.346|150.277|\n",
            "|  4|0MMSmg7zyo6pOKZrf...|A-Holly-Jolly-Chr...|          Burl-Ives|['Pop', 'Holiday'...|          Pop|        133547|      0|     1|             4|       0.685|       0.665| 0.398|             0.0|   0.172| -11.886|       0.03|  0.864|140.456|\n",
            "|  5|6Z924AupOiJLdnAKH...|    Jingle-Bell-Rock|        Bobby-Helms|['Rock', 'Country...|         Rock|        130973|      2|     1|             4|       0.651|       0.757| 0.428|             0.0|  0.0644|  -8.537|      0.036|  0.816|119.813|\n",
            "|  6|1xzBco0xcoJEDXktl...|            Mo-Bamba|          Sheck-Wes|['Pop', 'Rap', 'P...|          Pop|        183907|      4|     1|             4|       0.194|       0.729| 0.625|         0.00986|   0.248|  -5.266|     0.0315|  0.261|146.034|\n",
            "|  7|4OafepJy2teCjYJbv...|            breathin|      Ariana-Grande|['R&B', 'Pop', 'B...|          R&B|        198160|      8|     1|             4|      0.0211|       0.568| 0.656|        1.37e-05|   0.213|  -5.413|     0.0433|  0.364|100.049|\n",
            "|  8|55S2PQgSMYAhgoTCc...|          Youngblood|5-Seconds-of-Summer|['Pop', 'Rock', '...|          Pop|        203418|      7|     0|             4|      0.0169|       0.596| 0.854|             0.0|   0.124|  -5.114|      0.463|  0.152|120.274|\n",
            "|  9|7dt6x5M1jzdTEt8oC...|          Better-Now|        Post-Malone|['Rap', 'R&B', 'P...|          Rap|        231267|     10|     1|             4|       0.354|        0.68| 0.563|             0.0|   0.136|  -5.843|     0.0454|  0.374|145.028|\n",
            "| 10|285pBltuF7vW8TeWk...|        Lucid-Dreams|         Juice-WRLD|['Rap', 'Mental H...|          Rap|        239836|      6|     0|             4|       0.349|       0.511| 0.566|             0.0|    0.34|   -7.23|        0.2|  0.218| 83.903|\n",
            "| 11|39LmTF9RgyakzSYX8...|             imagine|      Ariana-Grande|['R&B', 'Pop', 'S...|          R&B|        212267|      8|     1|             3|       0.378|       0.729| 0.475|             0.0|    0.12|  -4.985|     0.0364|  0.371|  62.52|\n",
            "| 12|1dtIaSlyrLI04sqYa...|Rudolph-the-Red-N...|         Gene-Autry|\"['Country', \"\"Ch...|      'Retro'| 'Christmas']\"|Country|186733|             8|           1|           4| 0.883|           0.632|   0.159|     0.0|      0.222|-14.056| 0.0492|\n",
            "| 13|6CTWathupIiDs7U4I...|                Trip|           Ella-Mai|['R&B', 'UK R&B',...|          R&B|        213993|     11|     0|             4|       0.225|       0.477|  0.61|             0.0|   0.107|  -5.628|      0.144|  0.358| 79.882|\n",
            "| 14|2GGMabyHXnJmjY6CX...|               Money|            Cardi-B|['Rap', 'East Coa...|          Rap|        183527|      8|     0|             4|     0.00534|        0.95|  0.59|             0.0|    0.11|  -6.508|       0.29|  0.219|130.003|\n",
            "| 15|14mHfNsSHN0FbLfty...|      Leave-Me-Alone|       Flipp-Dinero|['Rap', 'East Coa...|          Rap|        195637|      7|     1|             4|       0.107|       0.792| 0.743|             0.0|   0.183|  -2.806|     0.0851|  0.742|150.024|\n",
            "| 16|5ASM6Qjiav2xPe7gR...|         Sleigh-Ride|       The-Ronettes|['Pop', 'Christmas']|          Pop|        181267|      2|     1|             4|       0.403|       0.528| 0.772|        2.52e-06|   0.316|  -7.013|     0.0288|  0.852| 91.735|\n",
            "| 17|4T3fNx3CgwDRRYgmF...|              Better|             Khalid|['Pop', 'R&B', 'E...|          Pop|        229413|      0|     0|             4|      0.0984|       0.442| 0.585|           0.391|    0.14| -10.332|     0.0964|  0.116| 97.565|\n",
            "| 18|2FY7b99s15jUprqC0...|             Natural|    Imagine-Dragons|['Rock', 'Pop', '...|         Rock|        189467|      2|     1|             4|       0.217|       0.704| 0.611|             0.0|  0.0812|  -6.112|     0.0409|   0.22|  100.0|\n",
            "| 19|2MShy1GSSgbmGUxAD...|   Calling-My-Spirit|        Kodak-Black|     ['Rap', 'Trap']|          Rap|        152000|      1|     1|             4|      0.0996|        0.91| 0.366|             0.0|   0.261|  -9.954|     0.0941|   0.74|119.985|\n",
            "+---+--------------------+--------------------+-------------------+--------------------+-------------+--------------+-------+------+--------------+------------+------------+------+----------------+--------+--------+-----------+-------+-------+\n",
            "only showing top 20 rows\n",
            "\n"
          ]
        }
      ],
      "source": [
        "# Read in the data from an S3 Bucket\n",
        "from pyspark import SparkFiles\n",
        "\n",
        "url = \"https://amazonsampledata.s3.amazonaws.com/final_genre_12k.csv\"\n",
        "\n",
        "spark.sparkContext.addFile(url)\n",
        "df = spark.read.csv(SparkFiles.get(\"final_genre_12k.csv\"), sep=\",\", header=True, inferSchema=True)\n",
        "\n",
        "# Show DataFrame\n",
        "df.show()"
      ]
    },
    {
      "cell_type": "code",
      "execution_count": 6,
      "metadata": {
        "colab": {
          "base_uri": "https://localhost:8080/"
        },
        "id": "15Un4zF5NFyo",
        "outputId": "a822e339-3ab9-4da6-b646-97acbed56ce1"
      },
      "outputs": [
        {
          "data": {
            "text/plain": [
              "11714"
            ]
          },
          "execution_count": 6,
          "metadata": {},
          "output_type": "execute_result"
        }
      ],
      "source": [
        "#Create necessary df\n",
        "df.count()"
      ]
    },
    {
      "cell_type": "code",
      "execution_count": 7,
      "metadata": {
        "colab": {
          "base_uri": "https://localhost:8080/"
        },
        "id": "p0z0KCRhNFyo",
        "outputId": "1f2cb94d-142c-4841-e9b5-689a32ab37cc"
      },
      "outputs": [
        {
          "data": {
            "text/plain": [
              "19"
            ]
          },
          "execution_count": 7,
          "metadata": {},
          "output_type": "execute_result"
        }
      ],
      "source": [
        "len(df.columns)"
      ]
    },
    {
      "cell_type": "code",
      "execution_count": 8,
      "metadata": {
        "colab": {
          "base_uri": "https://localhost:8080/"
        },
        "id": "wvifHzUrQvsp",
        "outputId": "cb1a56f1-d435-41d2-aa2d-afcffccd7fbb"
      },
      "outputs": [
        {
          "name": "stdout",
          "output_type": "stream",
          "text": [
            "+---+--------------------+--------------------+--------------------+--------------------+-------------+-----------+---+----+--------------+------------+------------+------+----------------+--------+--------+-----------+-------+-------+\n",
            "|_c0|            track_id|               track|              artist|               genre|primary_genre|duration_ms|key|mode|time_signature|acousticness|danceability|energy|instrumentalness|liveness|loudness|speechiness|valence|  tempo|\n",
            "+---+--------------------+--------------------+--------------------+--------------------+-------------+-----------+---+----+--------------+------------+------------+------+----------------+--------+--------+-----------+-------+-------+\n",
            "|  4|0MMSmg7zyo6pOKZrf...|A-Holly-Jolly-Chr...|           Burl-Ives|['Pop', 'Holiday'...|          Pop|     133547|  0|   1|             4|       0.685|       0.665| 0.398|             0.0|   0.172| -11.886|       0.03|  0.864|140.456|\n",
            "|  6|1xzBco0xcoJEDXktl...|            Mo-Bamba|           Sheck-Wes|['Pop', 'Rap', 'P...|          Pop|     183907|  4|   1|             4|       0.194|       0.729| 0.625|         0.00986|   0.248|  -5.266|     0.0315|  0.261|146.034|\n",
            "|  8|55S2PQgSMYAhgoTCc...|          Youngblood| 5-Seconds-of-Summer|['Pop', 'Rock', '...|          Pop|     203418|  7|   0|             4|      0.0169|       0.596| 0.854|             0.0|   0.124|  -5.114|      0.463|  0.152|120.274|\n",
            "| 16|5ASM6Qjiav2xPe7gR...|         Sleigh-Ride|        The-Ronettes|['Pop', 'Christmas']|          Pop|     181267|  2|   1|             4|       0.403|       0.528| 0.772|        2.52e-06|   0.316|  -7.013|     0.0288|  0.852| 91.735|\n",
            "| 17|4T3fNx3CgwDRRYgmF...|              Better|              Khalid|['Pop', 'R&B', 'E...|          Pop|     229413|  0|   0|             4|      0.0984|       0.442| 0.585|           0.391|    0.14| -10.332|     0.0964|  0.116| 97.565|\n",
            "| 20|75nEUfYzeskPFRBQk...|Wonderful-Christm...|      Paul-McCartney|['Pop', 'UK Pop',...|          Pop|      87016| 11|   1|             4|       0.567|       0.877| 0.477|             0.0|   0.114|  -5.391|     0.0623|  0.688| 95.024|\n",
            "| 21|4so0Wek9Ig1p6CRCH...|     White-Christmas|         Bing-Crosby|['Pop', 'Retro', ...|          Pop|     177480|  9|   1|             3|       0.673|       0.317| 0.158|           0.353|   0.338| -16.485|     0.0381|  0.247|130.503|\n",
            "| 26|6Up545NUflOiXo8cE...|             You-Say|       Lauren-Daigle|['Pop', 'Piano', ...|          Pop|     274693|  5|   1|             4|       0.682|       0.486| 0.632|             0.0|  0.0869|   -6.89|     0.0344| 0.0791|147.892|\n",
            "| 28|3EPXxR3ImUwfayaur...|          Be-Alright|          Dean-Lewis|['Pop', 'Adult Al...|          Pop|     196373| 11|   1|             4|       0.697|       0.553| 0.586|             0.0|  0.0813|  -6.319|     0.0362|  0.443|126.684|\n",
            "| 29|3pJkBPHadRAxBBo48...|             Sixteen|        Thomas-Rhett|['Pop', 'Country'...|          Pop|     178333|  1|   1|             4|      0.0147|       0.707| 0.531|        2.11e-06|   0.175|  -7.014|     0.0273|  0.417|106.992|\n",
            "| 30|7sTtHHrD0zDpmzQzH...|        Consequences|      Camila-Cabello|['Pop', 'Ballad',...|          Pop|     178467|  0|   1|             5|       0.889|       0.455| 0.292|             0.0|   0.106|  -6.792|     0.0563|   0.43| 84.339|\n",
            "| 33|5HnXcJJbNXQQ7tRlQ...|           Good-Girl|        Dustin-Lynch|['Pop', 'Country'...|          Pop|     189533|  7|   1|             4|        0.16|       0.711| 0.696|             0.0|    0.17|   -5.05|     0.0871|  0.694| 80.512|\n",
            "| 42|7lAK3oHbfEnvUQWos...|            YOSEMITE|        Travis-Scott|['Pop', 'Rap', 'T...|          Pop|     150043|  0|   1|             4|       0.283|       0.785| 0.554|         3.4e-06|   0.116|  -6.571|     0.0409|  0.144|128.047|\n",
            "| 44|3Ol2xnObFdKV9pmRD...|     Look-Back-at-It|A-Boogie-Wit-da-H...|      ['Pop', 'Rap']|          Pop|     179449|  3|   0|             4|       0.407|       0.791| 0.587|             0.0|   0.148|  -5.075|     0.0413|  0.536| 96.057|\n",
            "| 45|6XcfKZvJio9Z0fQy1...|              broken|       lovelytheband|['Pop', 'Rock', '...|          Pop|     204878|  7|   1|             4|     0.00175|       0.666| 0.728|        4.26e-06|  0.0429|  -5.808|     0.0419|   0.51|122.996|\n",
            "| 49|57nOpVSc3j9o03Cr9...|what-are-you-so-a...|        XXXTENTACION|['Pop', 'R&B', 'E...|          Pop|     150769|  0|   1|             4|       0.774|       0.639| 0.312|           0.469|  0.0857|  -9.902|     0.0301|  0.347|103.369|\n",
            "| 64|7wC5eZcFS1Q1BsQ35...|   come-out-and-play|       Billie-Eilish|['Pop', 'Chill', ...|          Pop|     210376|  0|   1|             4|       0.693|        0.64| 0.321|          0.0307|   0.114| -14.604|     0.0931|  0.177|145.045|\n",
            "| 69|1wjzFQodRWrPcQ0An...|    I-Like-Me-Better|                Lauv|['Pop', 'Electron...|          Pop|     197437|  9|   1|             4|       0.535|       0.752| 0.505|        2.55e-06|   0.104|  -7.621|      0.253|  0.419|  91.97|\n",
            "| 70|3z8h0TU7ReDPLIbEn...|   Bohemian-Rhapsody|               Queen|['Pop', 'Rock', '...|          Pop|     354947|  0|   0|             4|       0.287|        0.39| 0.397|             0.0|   0.207|  -9.963|     0.0513|  0.246|144.031|\n",
            "| 73|4u8Gkqyg87iGSW3hQ...| Burn-the-House-Down|                 AJR|['Pop', 'Electro-...|          Pop|     212689|  0|   1|             4|      0.0364|       0.454|  0.66|             0.0|   0.181|  -4.357|      0.168|  0.568|184.353|\n",
            "+---+--------------------+--------------------+--------------------+--------------------+-------------+-----------+---+----+--------------+------------+------------+------+----------------+--------+--------+-----------+-------+-------+\n",
            "only showing top 20 rows\n",
            "\n"
          ]
        }
      ],
      "source": [
        "# Load in a sql function to use columns\n",
        "from pyspark.sql.functions import col\n",
        "\n",
        "# Filter for only columns with active users\n",
        "pop_df = df.filter(col(\"primary_genre\")  == 'Pop')\n",
        "pop_df.show()"
      ]
    },
    {
      "cell_type": "code",
      "execution_count": 9,
      "metadata": {
        "colab": {
          "base_uri": "https://localhost:8080/"
        },
        "id": "POiFUntsRQ_o",
        "outputId": "b72d2dbf-c074-4406-bbe8-d726d74640da"
      },
      "outputs": [
        {
          "data": {
            "text/plain": [
              "4975"
            ]
          },
          "execution_count": 9,
          "metadata": {},
          "output_type": "execute_result"
        }
      ],
      "source": [
        "pop_df.count()"
      ]
    },
    {
      "cell_type": "code",
      "execution_count": 20,
      "metadata": {
        "id": "8gMMqh9dTWxL"
      },
      "outputs": [],
      "source": [
        "pop_df = pop_df.drop('track_id','genre','duration_ms')"
      ]
    },
    {
      "cell_type": "code",
      "execution_count": null,
      "metadata": {
        "id": "u29wgbljTlph"
      },
      "outputs": [],
      "source": [
        "pop_df.show()"
      ]
    },
    {
      "cell_type": "code",
      "execution_count": 10,
      "metadata": {
        "colab": {
          "base_uri": "https://localhost:8080/"
        },
        "id": "9xfkcEYVRU5r",
        "outputId": "3ddfb222-4cd7-4131-c133-d292bafafb75"
      },
      "outputs": [
        {
          "name": "stdout",
          "output_type": "stream",
          "text": [
            "+---+--------------------+--------------------+-----------------+--------------------+-------------+-----------+---+----+--------------+------------+------------+------+----------------+--------+--------+-----------+-------+-------+\n",
            "|_c0|            track_id|               track|           artist|               genre|primary_genre|duration_ms|key|mode|time_signature|acousticness|danceability|energy|instrumentalness|liveness|loudness|speechiness|valence|  tempo|\n",
            "+---+--------------------+--------------------+-----------------+--------------------+-------------+-----------+---+----+--------------+------------+------------+------+----------------+--------+--------+-----------+-------+-------+\n",
            "|  5|6Z924AupOiJLdnAKH...|    Jingle-Bell-Rock|      Bobby-Helms|['Rock', 'Country...|         Rock|     130973|  2|   1|             4|       0.651|       0.757| 0.428|             0.0|  0.0644|  -8.537|      0.036|  0.816|119.813|\n",
            "| 18|2FY7b99s15jUprqC0...|             Natural|  Imagine-Dragons|['Rock', 'Pop', '...|         Rock|     189467|  2|   1|             4|       0.217|       0.704| 0.611|             0.0|  0.0812|  -6.112|     0.0409|   0.22|  100.0|\n",
            "| 50|4KpKyRFwN0gcwj58U...|  STARING-AT-THE-SKY|     XXXTENTACION|['Rock', 'Alterna...|         Rock|      85124|  5|   1|             4|       0.134|       0.557| 0.338|         0.00184|    0.14|  -9.892|     0.0257|  0.689|140.935|\n",
            "| 94|3ZPKocroJIcnHGcnJ...|              Africa|           Weezer|['Rock', 'Rock Po...|         Rock|     238627|  8|   1|             4|       0.205|       0.534| 0.784|         0.00579|   0.106|   -3.59|     0.0339|    0.6| 92.147|\n",
            "|102|5HeKOKc4phmLn8e4I...|            My-Blood|Twenty-One-Pilots|['Rock', 'Pop', '...|         Rock|     229120|  1|   1|             4|      0.0563|       0.749| 0.723|           0.022|  0.0977|  -6.609|     0.0432|  0.674|108.999|\n",
            "|104|5SehvGGC53A7SZKCL...| Nico-and-the-Niners|Twenty-One-Pilots|['Rock', 'Pop', '...|         Rock|     225040|  9|   0|             4|      0.0699|       0.728| 0.602|        7.01e-06|   0.318|  -7.748|      0.185|  0.328|140.081|\n",
            "|150|2QZ7WLBE8h2y1Y5Fb...|         In-My-Blood|     Shawn-Mendes|['Rock', 'Pop', '...|         Rock|     211360|  5|   1|             4|      0.0573|       0.622| 0.712|             0.0|    0.13|  -7.321|      0.066|  0.487|140.025|\n",
            "|163|7BXW1QCg56yzEBV8p...|         Have-It-All|       Jason-Mraz|['Rock', 'Pop', '...|         Rock|     226107|  1|   0|             4|       0.204|       0.643| 0.638|             0.0|  0.0707|  -4.947|     0.0407|    0.6| 82.001|\n",
            "|173|4BdGO1CaObRD4La9l...|      Sit-Next-to-Me|Foster-The-People|['Rock', 'Pop', '...|         Rock|     243147|  6|   0|             4|       0.117|       0.638| 0.738|        0.000384|   0.689|  -4.976|     0.0292|  0.657| 97.021|\n",
            "|184|1vNoA9F5ASnlBISFe...|              Zombie|       Bad-Wolves|['Rock', 'Metal',...|         Rock|     254805|  2|   0|             4|     0.00756|       0.448| 0.826|             0.0|   0.117|  -3.244|     0.0319|   0.19| 77.093|\n",
            "|214|01TnVDiet1DFTsyWK...|                NUMB|     XXXTENTACION|['Rock', 'Emo Pop...|         Rock|     186268| 11|   0|             4|         0.1|       0.414| 0.416|           0.179|   0.131|  -8.024|     0.0251|  0.196| 159.91|\n",
            "|226|7oHkit3F3vimtsBbn...|                Fire|  KIDS-SEE-GHOSTS|['Rock', 'Rap', '...|         Rock|     140527|  6|   1|             4|       0.472|       0.709| 0.751|        4.71e-06|   0.182|  -3.801|       0.16|   0.37|104.999|\n",
            "|227|4kUZvXB3LC3an3HX6...|        Cudi-Montage|  KIDS-SEE-GHOSTS|['Rock', 'Rap', '...|         Rock|     197001|  8|   0|             4|       0.401|       0.729| 0.504|        1.44e-06|   0.121|  -6.784|     0.0321|  0.305|110.011|\n",
            "|247|09IOPhEh1OMe0HD9b...|            Over-Now|      Post-Malone|['Rock', 'Rap', '...|         Rock|     246987|  4|   0|             4|       0.131|       0.559| 0.761|         1.6e-06|   0.143|  -4.041|     0.0877|   0.24|163.898|\n",
            "|308|0iQ77tSa7ncj7zBPt...|            One-Foot|    WALK-THE-MOON|['Rock', 'Pop', '...|         Rock|     261373|  0|   1|             4|     0.00754|       0.582| 0.821|         2.1e-06|   0.818|  -4.861|     0.0365|  0.468|100.025|\n",
            "|313|6waqLPcT6ruMhmd36...|        Losing-Sleep|      Chris-Young|['Rock', 'Country...|         Rock|     178253|  1|   1|             4|      0.0715|       0.584| 0.621|        1.68e-06|   0.389|  -5.703|     0.0443|  0.634| 92.003|\n",
            "|357|1dNIEtp7AY3oDAKCG...|Something-Just-Li...| The-Chainsmokers|['Rock', 'Pop', '...|         Rock|     247627| 11|   0|             4|      0.0306|       0.607| 0.649|        2.46e-05|   0.174|  -6.695|     0.0362|  0.505|102.996|\n",
            "|389|3n2A6l4UayVe3GGKC...|  Somebody-Else-Will|     Justin-Moore| ['Rock', 'Country']|         Rock|     165173|  2|   0|             4|      0.0353|       0.488| 0.744|             0.0|  0.0952|  -4.284|      0.131|   0.59|180.007|\n",
            "|394|2UwbhMie1EAYuTZ0Q...|             Save-Me|     XXXTENTACION|['Rock', 'Alterna...|         Rock|     163202|  9|   0|             4|       0.307|       0.731| 0.204|          0.0109|  0.0989| -11.314|     0.0369|  0.191|142.141|\n",
            "|397|6PCUP3dWmTjcTtXY0...|  Castle-on-the-Hill|       Ed-Sheeran|['Rock', 'Pop', '...|         Rock|     261154|  2|   1|             4|      0.0232|       0.461| 0.834|        1.14e-05|    0.14|  -4.868|     0.0989|  0.471|135.007|\n",
            "+---+--------------------+--------------------+-----------------+--------------------+-------------+-----------+---+----+--------------+------------+------------+------+----------------+--------+--------+-----------+-------+-------+\n",
            "only showing top 20 rows\n",
            "\n"
          ]
        }
      ],
      "source": [
        "# Load in a sql function to use columns\n",
        "from pyspark.sql.functions import col\n",
        "\n",
        "# Filter for only columns with active users\n",
        "rock_df = df.filter(col(\"primary_genre\")  == 'Rock')\n",
        "rock_df.show()"
      ]
    },
    {
      "cell_type": "code",
      "execution_count": 11,
      "metadata": {
        "colab": {
          "base_uri": "https://localhost:8080/"
        },
        "id": "HxGtFELcRUzk",
        "outputId": "b1c3b283-7a25-41ae-bf9d-ee5b0e925300"
      },
      "outputs": [
        {
          "data": {
            "text/plain": [
              "2771"
            ]
          },
          "execution_count": 11,
          "metadata": {},
          "output_type": "execute_result"
        }
      ],
      "source": [
        "rock_df.count()"
      ]
    },
    {
      "cell_type": "code",
      "execution_count": 22,
      "metadata": {
        "id": "9v6LxVOGTpcm"
      },
      "outputs": [],
      "source": [
        "rock_df = rock_df.drop('track_id','genre','duration_ms')"
      ]
    },
    {
      "cell_type": "code",
      "execution_count": 12,
      "metadata": {
        "colab": {
          "base_uri": "https://localhost:8080/"
        },
        "id": "oQ23yIeFRgEM",
        "outputId": "9b1e41d9-d855-492e-df65-596eb375e6ed"
      },
      "outputs": [
        {
          "name": "stdout",
          "output_type": "stream",
          "text": [
            "+---+--------------------+--------------------+---------------+--------------------+-------------+-----------+---+----+--------------+------------+------------+------+----------------+--------+--------+-----------+-------+-------+\n",
            "|_c0|            track_id|               track|         artist|               genre|primary_genre|duration_ms|key|mode|time_signature|acousticness|danceability|energy|instrumentalness|liveness|loudness|speechiness|valence|  tempo|\n",
            "+---+--------------------+--------------------+---------------+--------------------+-------------+-----------+---+----+--------------+------------+------------+------+----------------+--------+--------+-----------+-------+-------+\n",
            "|  0|3e9HZxeyfWwjeyPAM...|        thank-u-next|  Ariana-Grande|['R&B', 'Pop', 'E...|          R&B|     207320|  1|   1|             4|       0.229|       0.717| 0.653|             0.0|   0.101|  -5.634|     0.0658|  0.412|106.966|\n",
            "|  1|5p7ujcrUXASCNwRaW...|          Without-Me|         Halsey|['R&B', 'Pop', 'C...|          R&B|     201661|  6|   1|             4|       0.297|       0.752| 0.488|        9.11e-06|  0.0936|   -7.05|     0.0705|  0.533|136.041|\n",
            "|  3|0bYg9bo50gSsH3LtX...|All-I-Want-for-Ch...|   Mariah-Carey|['R&B', 'Pop', 'P...|          R&B|     241107|  7|   1|             4|       0.164|       0.335| 0.625|             0.0|  0.0708|  -7.462|     0.0386|  0.346|150.277|\n",
            "|  7|4OafepJy2teCjYJbv...|            breathin|  Ariana-Grande|['R&B', 'Pop', 'B...|          R&B|     198160|  8|   1|             4|      0.0211|       0.568| 0.656|        1.37e-05|   0.213|  -5.413|     0.0433|  0.364|100.049|\n",
            "| 11|39LmTF9RgyakzSYX8...|             imagine|  Ariana-Grande|['R&B', 'Pop', 'S...|          R&B|     212267|  8|   1|             3|       0.378|       0.729| 0.475|             0.0|    0.12|  -4.985|     0.0364|  0.371|  62.52|\n",
            "| 13|6CTWathupIiDs7U4I...|                Trip|       Ella-Mai|['R&B', 'UK R&B',...|          R&B|     213993| 11|   0|             4|       0.225|       0.477|  0.61|             0.0|   0.107|  -5.628|      0.144|  0.358| 79.882|\n",
            "| 35|01jIO8SJFnpSiNLH1...|                 You|       Jacquees|['R&B', 'Rap', 'A...|          R&B|     217387|  8|   0|             4|       0.413|       0.735| 0.453|             0.0|   0.104|  -8.264|     0.0602|  0.335|115.002|\n",
            "| 40|25sgk305KZfyuqVBQ...|    Sweet-but-Psycho|        Ava-Max|['R&B', 'Pop', 'S...|          R&B|     187436|  1|   1|             4|      0.0691|       0.719| 0.704|             0.0|   0.166|  -4.724|     0.0476|  0.628|133.002|\n",
            "| 47|5OCJzvD7sykQEKHH7...|      God-is-a-woman|  Ariana-Grande|['R&B', 'Pop', 'H...|          R&B|     197547|  1|   1|             4|      0.0233|       0.602| 0.658|           6e-05|   0.237|  -5.934|     0.0558|  0.268|145.031|\n",
            "| 51|07FkzikE6FuHIa8Ma...|                 Lie|             NF|['R&B', 'Pop', 'R...|          R&B|     209213|  5|   1|             4|       0.161|       0.753|  0.66|             0.0|   0.236|  -6.542|      0.133|  0.182| 95.003|\n",
            "| 55|1bx4Jw8A7GQtImIQG...|      Almost-Slipped|      Meek-Mill|['R&B', 'Rap', 'E...|          R&B|     246793|  8|   1|             4|       0.246|        0.49| 0.651|             0.0|   0.233|   -6.24|      0.251|   0.46|164.213|\n",
            "| 67|7hDVYcQq6MxkdJGwe...|          ocean-eyes|  Billie-Eilish|['R&B', 'Pop', 'D...|          R&B|     200379|  4|   0|             4|       0.816|       0.511| 0.363|          0.0317|   0.084|   -7.65|      0.041|  0.169|144.892|\n",
            "| 77|1SxagO9GK0UUeEYLm...|         Toxic-Waste|   Trippie-Redd|['R&B', 'Alternat...|          R&B|     173129|  8|   1|             4|      0.0555|       0.728| 0.517|        1.95e-06|   0.107| -11.404|     0.0629|  0.379|111.974|\n",
            "| 78|0OgGn1ofaj55l2Pci...|      Drew-Barrymore|     Bryce-Vine|['R&B', 'Pop', 'R...|          R&B|     190472| 11|   0|             4|       0.493|       0.763| 0.572|         0.00118|   0.106|  -7.312|     0.0595|   0.25| 151.93|\n",
            "| 85|7azo4rpSUh8nXgton...|            Thriller|Michael-Jackson|['R&B', 'Pop', 'D...|          R&B|     358053| 11|   1|             4|      0.0816|       0.764| 0.887|        0.000108|   0.847|  -3.725|     0.0738|  0.721|118.421|\n",
            "| 91|2qT1uLXPVPzGgFOx4...|no-tears-left-to-cry|  Ariana-Grande|['R&B', 'Pop', 'C...|          R&B|     205920|  9|   0|             4|        0.04|       0.699| 0.713|        3.11e-06|   0.294|  -5.507|     0.0594|  0.354|121.993|\n",
            "| 92|7stcuQtnHL7C6XdPv...|             Vertigo|         Khalid|             ['R&B']|          R&B|     270413|  4|   0|             4|       0.552|       0.487| 0.458|          0.0257|   0.117|  -7.761|     0.0371|  0.207|115.989|\n",
            "| 96|4lFfMRH0YH4pW5gcz...|            Medicine|    Queen-Naija|  ['R&B', 'YouTube']|          R&B|     219136|  8|   0|             4|        0.24|       0.741|  0.37|             0.0|   0.118|  -8.437|      0.324|   0.13| 116.06|\n",
            "|103|6qNALlmZa1ESnCxJm...|        The-Way-I-Am|   Charlie-Puth|['R&B', 'Pop', 'E...|          R&B|     186080| 10|   0|             4|       0.314|       0.755| 0.769|        2.38e-06|  0.0628|  -5.658|      0.186|  0.642|114.966|\n",
            "|115|4E3qImtJzRqLt8ZZy...|   Perfect-Strangers|      Lil-Wayne|['R&B', 'Rap', 'D...|          R&B|     249751|  7|   1|             4|         0.4|       0.746| 0.644|             0.0|   0.095|  -2.605|      0.232|  0.542|146.178|\n",
            "+---+--------------------+--------------------+---------------+--------------------+-------------+-----------+---+----+--------------+------------+------------+------+----------------+--------+--------+-----------+-------+-------+\n",
            "only showing top 20 rows\n",
            "\n"
          ]
        }
      ],
      "source": [
        "# Load in a sql function to use columns\n",
        "from pyspark.sql.functions import col\n",
        "\n",
        "# Filter for only columns with active users\n",
        "rb_df = df.filter(col(\"primary_genre\")  == 'R&B')\n",
        "rb_df.show()"
      ]
    },
    {
      "cell_type": "code",
      "execution_count": 13,
      "metadata": {
        "colab": {
          "base_uri": "https://localhost:8080/"
        },
        "id": "Dr-NU0UoRftF",
        "outputId": "6a8e7079-77a0-471f-be77-d329624e9d21"
      },
      "outputs": [
        {
          "data": {
            "text/plain": [
              "1863"
            ]
          },
          "execution_count": 13,
          "metadata": {},
          "output_type": "execute_result"
        }
      ],
      "source": [
        "rb_df.count()"
      ]
    },
    {
      "cell_type": "code",
      "execution_count": 23,
      "metadata": {
        "id": "e9kfyPZXTsGR"
      },
      "outputs": [],
      "source": [
        "rb_df = rb_df.drop('track_id','genre','duration_ms')"
      ]
    },
    {
      "cell_type": "code",
      "execution_count": 14,
      "metadata": {
        "colab": {
          "base_uri": "https://localhost:8080/"
        },
        "id": "W354H_I0RZjs",
        "outputId": "a1b88b39-1b69-4166-d94b-99603f1af2c4"
      },
      "outputs": [
        {
          "name": "stdout",
          "output_type": "stream",
          "text": [
            "+---+--------------------+--------------------+--------------------+--------------------+-------------+-----------+---+----+--------------+------------+------------+------+----------------+--------+--------+-----------+-------+-------+\n",
            "|_c0|            track_id|               track|              artist|               genre|primary_genre|duration_ms|key|mode|time_signature|acousticness|danceability|energy|instrumentalness|liveness|loudness|speechiness|valence|  tempo|\n",
            "+---+--------------------+--------------------+--------------------+--------------------+-------------+-----------+---+----+--------------+------------+------------+------+----------------+--------+--------+-----------+-------+-------+\n",
            "| 23|698eQRku24PIYPQPH...|She-Got-the-Best-...|          Luke-Combs|['Country', 'Pop ...|      Country|     183160| 11|   1|             4|      0.0292|       0.533| 0.907|             0.0|   0.386|  -3.793|     0.0406|    0.7| 150.99|\n",
            "| 24|1G4cdOtF36ZCs6i2d...|            Drunk-Me|   Mitchell-Tenpenny|['Country', 'Sing...|      Country|     211768|  2|   1|             4|       0.199|       0.499| 0.797|             0.0|  0.0933|   -3.77|     0.0554|  0.408|176.024|\n",
            "| 25|3VamXAvVMczcS2PTY...|           Best-Shot|        Jimmie-Allen|['Country', 'Ball...|      Country|     195053|  4|   1|             4|        0.75|       0.629| 0.464|             0.0|  0.0853|   -8.72|     0.0334|  0.523|156.051|\n",
            "| 32|2GHO21NrpLapnnfx5...|       Girl-Like-You|        Jason-Aldean|['Country', 'Dark...|      Country|     192888|  3|   0|             4|      0.0338|       0.543| 0.868|        0.000289|    0.19|   -4.69|     0.0354|  0.433| 144.07|\n",
            "| 36|6viHvc13l9A6Ua6xu...|           Last-Shot|           Kip-Moore|         ['Country']|      Country|     228480|  4|   1|             4|     0.00204|       0.487| 0.859|             0.0|   0.322|  -4.403|     0.0488|  0.377|148.037|\n",
            "| 37|2rxQMGVafnNaRaXlR...|     Beautiful-Crazy|          Luke-Combs|['Country', 'Adul...|      Country|     193200| 11|   1|             4|       0.676|       0.552| 0.402|             0.0|  0.0928|  -7.431|     0.0262|  0.382|103.313|\n",
            "| 39|34DFpyq5NJJ79GnGb...|          This-Is-It|     Scotty-McCreery|['Country', 'Sing...|      Country|     230973|  8|   1|             4|       0.254|       0.557| 0.511|             0.0|   0.099|  -6.788|     0.0291|  0.602|156.042|\n",
            "| 43|68JS5SFTnW5Yv9Vzw...|         Millionaire|     Chris-Stapleton|         ['Country']|      Country|     210133| 10|   1|             4|       0.165|       0.602| 0.463|         0.00968|  0.0975|  -9.666|     0.0279|  0.454|142.635|\n",
            "| 61|2Kpc6hdJqHCG2tt0J...|             Lose-It|          Kane-Brown|         ['Country']|      Country|     178987|  4|   0|             4|     0.00245|       0.544| 0.854|         1.2e-06|   0.249|  -4.968|     0.0289|  0.436| 91.966|\n",
            "| 65|4H0vNUFcHPz5lytcL...|                Rich|        Maren-Morris|         ['Country']|      Country|     208893|  5|   1|             4|      0.0445|       0.565| 0.855|             0.0|    0.32|  -4.189|     0.0557|  0.852|  74.98|\n",
            "| 66|2oPCR02nduYVpj7CT...|         Blue-Tacoma|   Russell-Dickerson|         ['Country']|      Country|     212067|  9|   1|             4|      0.0183|       0.455| 0.897|             0.0|   0.174|  -4.879|     0.0403|  0.728|160.139|\n",
            "| 72|2VX37A1p7tkvrH2UJ...|       Desperate-Man|         Eric-Church|         ['Country']|      Country|     208733| 10|   1|             4|      0.0716|       0.711| 0.796|          0.0045|   0.262|   -5.87|     0.0341|  0.901|109.991|\n",
            "| 82|33471tzU1VghDg9zN...|           Hotel-Key|        Old-Dominion|         ['Country']|      Country|     166573| 11|   1|             4|       0.152|       0.758| 0.867|             0.0|   0.308|  -5.087|     0.0475|  0.964|102.018|\n",
            "| 87|1kFBLqkTuNKlspkJ1...|          Drunk-Girl|        Chris-Janson|['Country', 'Sing...|      Country|     207267|  0|   1|             4|       0.794|       0.485| 0.306|             0.0|   0.122|  -8.431|     0.0409|  0.224|203.729|\n",
            "| 89|7uVkYr8gxcPEgqohv...| Break-Up-in-the-End|       Cole-Swindell|['Country', 'Pop ...|      Country|     199436|  1|   1|             4|       0.456|        0.51| 0.386|             0.0|   0.252|  -8.391|     0.0307|  0.266|  86.36|\n",
            "| 95|4L9Ds4mpD3SuYoWwF...|              Simple|Florida-Georgia-Line|['Country', 'Sing...|      Country|     185200|  3|   1|             4|      0.0791|       0.362| 0.882|             0.0|    0.15|  -3.717|     0.0973|  0.864|199.811|\n",
            "| 99|53yTYusPQJ1AApL1h...|Sunrise-Sunburn-S...|          Luke-Bryan|['Country', 'Pop ...|      Country|     216093|  9|   1|             4|       0.185|       0.472| 0.884|             0.0|   0.178|  -2.306|     0.0584|  0.718| 159.96|\n",
            "|123|3DV49ruvI5Sl6iisP...|              Hooked|         Dylan-Scott|         ['Country']|      Country|     149293|  9|   1|             4|      0.0362|       0.597| 0.721|             0.0|  0.0832|  -6.422|     0.0356|  0.437|132.054|\n",
            "|128|2VIPU72L6tIR4w8J8...|               Mercy|         Brett-Young|['Country', 'Soft...|      Country|     217120|  4|   1|             4|        0.84|       0.638| 0.367|             0.0|  0.0999|  -7.906|     0.0266|  0.219| 71.957|\n",
            "|129|7B9UAoGiN4iMCv4s4...|          Cry-Pretty|    Carrie-Underwood|['Country', 'Pop ...|      Country|     247320|  6|   1|             3|     0.00517|       0.374| 0.742|             0.0|    0.11|   -3.36|     0.0432|   0.21|139.953|\n",
            "+---+--------------------+--------------------+--------------------+--------------------+-------------+-----------+---+----+--------------+------------+------------+------+----------------+--------+--------+-----------+-------+-------+\n",
            "only showing top 20 rows\n",
            "\n"
          ]
        }
      ],
      "source": [
        "# Load in a sql function to use columns\n",
        "from pyspark.sql.functions import col\n",
        "\n",
        "# Filter for only columns with active users\n",
        "country_df = df.filter(col(\"primary_genre\")  == 'Country')\n",
        "country_df.show()"
      ]
    },
    {
      "cell_type": "code",
      "execution_count": 15,
      "metadata": {
        "colab": {
          "base_uri": "https://localhost:8080/"
        },
        "id": "9JpuTP_TRZeW",
        "outputId": "3f79a5f1-dee6-43be-f101-cf4b8ecc0d0a"
      },
      "outputs": [
        {
          "data": {
            "text/plain": [
              "1274"
            ]
          },
          "execution_count": 15,
          "metadata": {},
          "output_type": "execute_result"
        }
      ],
      "source": [
        "country_df.count()"
      ]
    },
    {
      "cell_type": "code",
      "execution_count": 24,
      "metadata": {
        "id": "Y_7eJtKuTvKy"
      },
      "outputs": [],
      "source": [
        "country_df = country_df.drop('track_id','genre','duration_ms')"
      ]
    },
    {
      "cell_type": "code",
      "execution_count": 16,
      "metadata": {
        "colab": {
          "base_uri": "https://localhost:8080/"
        },
        "id": "WZoAN5gCSMYu",
        "outputId": "abe0d515-9899-4eb5-a6f0-7519933f2c33"
      },
      "outputs": [
        {
          "name": "stdout",
          "output_type": "stream",
          "text": [
            "+----+--------------------+--------------------+----------------+--------------------+-------------+-----------+---+----+--------------+------------+------------+------+----------------+--------+--------+-----------+-------+-------+\n",
            "| _c0|            track_id|               track|          artist|               genre|primary_genre|duration_ms|key|mode|time_signature|acousticness|danceability|energy|instrumentalness|liveness|loudness|speechiness|valence|  tempo|\n",
            "+----+--------------------+--------------------+----------------+--------------------+-------------+-----------+---+----+--------------+------------+------------+------+----------------+--------+--------+-----------+-------+-------+\n",
            "|2531|7lXbmBVZsyhxsxBzo...|     Looking-for-You|   Kirk-Franklin|['Non-Music', 'Re...|    Non-Music|     246560|  1|   1|             4|      0.0138|        0.81|  0.72|             0.0|   0.221|  -4.793|     0.0503|  0.805|121.984|\n",
            "|3958|03L32Cqbq5lKcTg6C...|             Passion|              K5|['Non-Music', 'Te...|    Non-Music|     245000|  8|   1|             4|       0.101|       0.725| 0.806|           0.884|   0.114|  -3.461|     0.0499|  0.589|127.011|\n",
            "|7085|4d72Ji9WZozN9rcpT...|             Red-Hot|     Herb-Alpert|       ['Non-Music']|    Non-Music|     286105|  7|   1|             4|        0.09|       0.759| 0.763|           0.831|   0.113| -12.136|     0.0537|   0.65|109.351|\n",
            "|7559|69IFOdcqRAceXkikT...|            Shine-On|     George-Duke|       ['Non-Music']|    Non-Music|     312800|  1|   0|             4|      0.0176|         0.8|  0.77|          0.0115|  0.0285| -11.271|     0.0415|   0.96|118.832|\n",
            "|1484|7eQyTHRRxYkyUh8JR...|Love-Wont-Let-Me-...|    Major-Harris|       ['Non-Music']|    Non-Music|     333093|  9|   1|             3|       0.919|       0.569| 0.205|        1.94e-06|  0.0894| -17.148|     0.0358|  0.327|115.705|\n",
            "|2307|5uUpua8rQoX4z7JEv...|         Deteriorata|National-Lampoon|['Non-Music', 'Pa...|    Non-Music|     265480|  7|   1|             4|       0.684|       0.427| 0.562|            0.32|   0.182| -12.135|        0.1|  0.411|136.591|\n",
            "|3106|6hMgWhqWNb8jIgVwH...|I-Got-a-Thing-You...|      Funkadelic|['Non-Music', 'Ne...|    Non-Music|     236667|  9|   1|             4|      0.0692|       0.502|  0.88|          0.0921|  0.0954|  -8.468|      0.117|  0.643|   75.7|\n",
            "|3243|75g38CqUeSfxh89MM...|               Julia|    Ramsey-Lewis|       ['Non-Music']|    Non-Music|     259360|  0|   1|             4|       0.125|       0.484|  0.57|           0.614|    0.43| -12.555|      0.028|  0.381| 93.205|\n",
            "|3608|6L8CWcj8KIdz5SMhi...|       Help-Yourself|       Tom-Jones|['Non-Music', 'Ne...|    Non-Music|     170893|  4|   1|             4|       0.417|       0.616| 0.731|        0.000716|   0.725|  -7.282|     0.0569|  0.909| 91.444|\n",
            "+----+--------------------+--------------------+----------------+--------------------+-------------+-----------+---+----+--------------+------------+------------+------+----------------+--------+--------+-----------+-------+-------+\n",
            "\n"
          ]
        }
      ],
      "source": [
        "# Load in a sql function to use columns\n",
        "from pyspark.sql.functions import col\n",
        "\n",
        "# Filter for only columns with active users\n",
        "non_music_df = df.filter(col(\"primary_genre\")  == 'Non-Music')\n",
        "non_music_df.show()"
      ]
    },
    {
      "cell_type": "code",
      "execution_count": 17,
      "metadata": {
        "colab": {
          "base_uri": "https://localhost:8080/"
        },
        "id": "J3XSP-eqRUqj",
        "outputId": "707c9b87-1c0e-4559-bb34-15229d32259b"
      },
      "outputs": [
        {
          "data": {
            "text/plain": [
              "9"
            ]
          },
          "execution_count": 17,
          "metadata": {},
          "output_type": "execute_result"
        }
      ],
      "source": [
        "non_music_df.count()"
      ]
    },
    {
      "cell_type": "code",
      "execution_count": 18,
      "metadata": {
        "colab": {
          "base_uri": "https://localhost:8080/"
        },
        "id": "HmUPDh1OSeei",
        "outputId": "1ae38082-de04-439b-ec9f-9e09882f69aa"
      },
      "outputs": [
        {
          "name": "stdout",
          "output_type": "stream",
          "text": [
            "+---+--------------------+-------------------+--------------------+--------------------+-------------+-----------+---+----+--------------+------------+------------+------+----------------+--------+--------+-----------+-------+-------+\n",
            "|_c0|            track_id|              track|              artist|               genre|primary_genre|duration_ms|key|mode|time_signature|acousticness|danceability|energy|instrumentalness|liveness|loudness|speechiness|valence|  tempo|\n",
            "+---+--------------------+-------------------+--------------------+--------------------+-------------+-----------+---+----+--------------+------------+------------+------+----------------+--------+--------+-----------+-------+-------+\n",
            "|  2|2xLMifQCjDGFmkHkp...|         SICKO-MODE|        Travis-Scott|['Rap', 'Memes', ...|          Rap|     312820|  8|   1|             4|     0.00513|       0.834|  0.73|             0.0|   0.124|  -3.714|      0.222|  0.446|155.008|\n",
            "|  9|7dt6x5M1jzdTEt8oC...|         Better-Now|         Post-Malone|['Rap', 'R&B', 'P...|          Rap|     231267| 10|   1|             4|       0.354|        0.68| 0.563|             0.0|   0.136|  -5.843|     0.0454|  0.374|145.028|\n",
            "| 10|285pBltuF7vW8TeWk...|       Lucid-Dreams|          Juice-WRLD|['Rap', 'Mental H...|          Rap|     239836|  6|   0|             4|       0.349|       0.511| 0.566|             0.0|    0.34|   -7.23|        0.2|  0.218| 83.903|\n",
            "| 14|2GGMabyHXnJmjY6CX...|              Money|             Cardi-B|['Rap', 'East Coa...|          Rap|     183527|  8|   0|             4|     0.00534|        0.95|  0.59|             0.0|    0.11|  -6.508|       0.29|  0.219|130.003|\n",
            "| 15|14mHfNsSHN0FbLfty...|     Leave-Me-Alone|        Flipp-Dinero|['Rap', 'East Coa...|          Rap|     195637|  7|   1|             4|       0.107|       0.792| 0.743|             0.0|   0.183|  -2.806|     0.0851|  0.742|150.024|\n",
            "| 19|2MShy1GSSgbmGUxAD...|  Calling-My-Spirit|         Kodak-Black|     ['Rap', 'Trap']|          Rap|     152000|  1|   1|             4|      0.0996|        0.91| 0.366|             0.0|   0.261|  -9.954|     0.0941|   0.74|119.985|\n",
            "| 22|3wScL5W8H40zzCKN0...|             Uproar|           Lil-Wayne|['Rap', 'Dirty So...|          Rap|     194184|  1|   1|             4|      0.0595|       0.743|  0.87|             0.0|   0.299|  -2.188|      0.212|  0.884| 99.075|\n",
            "| 27|5wujBwqG7INdStqGd...|Armed-And-Dangerous|          Juice-WRLD|['Rap', 'Gangsta ...|          Rap|     169999| 10|   1|             4|       0.186|       0.736|  0.67|             0.0|   0.114|  -6.702|      0.311|  0.845|130.032|\n",
            "| 31|577YBGuskWkVDCxZr...|       Pure-Cocaine|            Lil-Baby|['Rap', 'Atlanta ...|          Rap|     154024| 10|   0|             4|     0.00127|       0.964| 0.487|        6.57e-06|   0.115|  -6.071|      0.421|  0.107| 127.05|\n",
            "| 34|6Gg25EZRbQd4IHiJz...|          Testimony|         Kodak-Black|['Rap', 'Hip-Hop'...|          Rap|     240000|  6|   0|             4|      0.0369|       0.814| 0.667|             0.0|    0.11|  -4.785|       0.36|  0.376| 80.031|\n",
            "| 38|5274I4mUMnYczyeXk...|         Fine-China|              Future|['Rap', 'Chicago ...|          Rap|     141587|  7|   1|             4|      0.0484|       0.656| 0.542|             0.0|   0.126|  -7.358|      0.323|  0.551|166.111|\n",
            "| 41|05t7JMip6JrLuSrMV...|            Envy-Me|              Calboy|['Rap', 'Chicago ...|          Rap|     120137| 11|   1|             4|       0.282|       0.556| 0.481|             0.0|   0.216|  -7.663|      0.313|  0.581|149.025|\n",
            "| 46|7uqcLJFlSYjVPLUz1...|     Guardian-angel|        XXXTENTACION|['Rap', 'Florida ...|          Rap|     108035|  0|   0|             4|       0.795|       0.712| 0.374|             0.0|   0.187| -10.215|      0.511|  0.779|133.952|\n",
            "| 48|5lar0mCUejpILVkAz...|         Train-food|        XXXTENTACION|['Rap', 'Storytel...|          Rap|     164083|  9|   0|             3|       0.564|       0.492| 0.712|         9.1e-05|   0.357|  -7.278|      0.691|   0.23|137.453|\n",
            "| 52|3EQ9QP2E7wjYQba8O...|              Intro|           Meek-Mill|['Rap', 'Intro', ...|          Rap|     213402|  1|   1|             4|      0.0557|       0.678|  0.76|             0.0|   0.359|  -5.546|      0.221|   0.24| 96.044|\n",
            "| 53|6pUBrvKfJL4qmn95m...|   Respect-the-Game|           Meek-Mill|['Rap', 'East Coa...|          Rap|     192099|  2|   1|             4|      0.0871|       0.603|  0.67|             0.0|   0.326|  -4.809|       0.25|  0.159| 89.842|\n",
            "| 54|45CCe4gu08OYG1I4M...|             Trauma|           Meek-Mill|             ['Rap']|          Rap|     238203|  8|   1|             4|      0.0284|       0.682| 0.639|             0.0|   0.197|  -4.406|      0.292|  0.183|  89.09|\n",
            "| 56|3EikYy40GMSp8l5mD...|        Foot-Fungus|Ski-Mask-The-Slum...|['Rap', 'Florida ...|          Rap|     129547|  1|   1|             4|       0.257|       0.881| 0.623|         1.5e-06|  0.0964|  -9.662|      0.119|  0.745| 88.953|\n",
            "| 57|39RWYLt6hgk9BbhkD...|        Crush-A-Lot|            Lil-Baby|['Rap', 'Atlanta ...|          Rap|     159755|  5|   0|             4|      0.0171|        0.92| 0.458|             0.0|   0.107|  -5.643|      0.315|  0.403|132.992|\n",
            "| 58|7cW1wHpSLYgKWzoWl...|             Global|            Lil-Baby|['Rap', 'Atlanta ...|          Rap|     169826|  1|   1|             4|       0.106|       0.672| 0.565|             0.0|   0.113|  -6.504|      0.441|  0.313|163.827|\n",
            "+---+--------------------+-------------------+--------------------+--------------------+-------------+-----------+---+----+--------------+------------+------------+------+----------------+--------+--------+-----------+-------+-------+\n",
            "only showing top 20 rows\n",
            "\n"
          ]
        }
      ],
      "source": [
        "# Load in a sql function to use columns\n",
        "from pyspark.sql.functions import col\n",
        "\n",
        "# Filter for only columns with active users\n",
        "rap_df = df.filter(col(\"primary_genre\")  == 'Rap')\n",
        "rap_df.show()"
      ]
    },
    {
      "cell_type": "code",
      "execution_count": 19,
      "metadata": {
        "colab": {
          "base_uri": "https://localhost:8080/"
        },
        "id": "RE0JFU0FSkIp",
        "outputId": "d4a1a441-dd34-459f-ce6d-6ec7cf28b67e"
      },
      "outputs": [
        {
          "data": {
            "text/plain": [
              "816"
            ]
          },
          "execution_count": 19,
          "metadata": {},
          "output_type": "execute_result"
        }
      ],
      "source": [
        "rap_df.count()"
      ]
    },
    {
      "cell_type": "code",
      "execution_count": 26,
      "metadata": {
        "id": "SiYT_8k4UdHu"
      },
      "outputs": [],
      "source": [
        "rap_df = rap_df.drop('track_id','genre','duration_ms')"
      ]
    },
    {
      "cell_type": "code",
      "execution_count": 27,
      "metadata": {
        "id": "_NQRgpyNTyt6"
      },
      "outputs": [],
      "source": [
        "final_df = pop_df.union(rock_df).union(rb_df).union(country_df).union(rap_df)\n"
      ]
    },
    {
      "cell_type": "code",
      "execution_count": 30,
      "metadata": {
        "colab": {
          "base_uri": "https://localhost:8080/"
        },
        "id": "fCKYrs8lUmAr",
        "outputId": "b9035e0d-a2ee-4f2b-85d2-c9825ebebf99"
      },
      "outputs": [
        {
          "name": "stdout",
          "output_type": "stream",
          "text": [
            "+---+--------------------+--------------------+-------------+---+----+--------------+------------+------------+------+----------------+--------+--------+-----------+-------+-------+\n",
            "|_c0|               track|              artist|primary_genre|key|mode|time_signature|acousticness|danceability|energy|instrumentalness|liveness|loudness|speechiness|valence|  tempo|\n",
            "+---+--------------------+--------------------+-------------+---+----+--------------+------------+------------+------+----------------+--------+--------+-----------+-------+-------+\n",
            "|  4|A-Holly-Jolly-Chr...|           Burl-Ives|          Pop|  0|   1|             4|       0.685|       0.665| 0.398|             0.0|   0.172| -11.886|       0.03|  0.864|140.456|\n",
            "|  6|            Mo-Bamba|           Sheck-Wes|          Pop|  4|   1|             4|       0.194|       0.729| 0.625|         0.00986|   0.248|  -5.266|     0.0315|  0.261|146.034|\n",
            "|  8|          Youngblood| 5-Seconds-of-Summer|          Pop|  7|   0|             4|      0.0169|       0.596| 0.854|             0.0|   0.124|  -5.114|      0.463|  0.152|120.274|\n",
            "| 16|         Sleigh-Ride|        The-Ronettes|          Pop|  2|   1|             4|       0.403|       0.528| 0.772|        2.52e-06|   0.316|  -7.013|     0.0288|  0.852| 91.735|\n",
            "| 17|              Better|              Khalid|          Pop|  0|   0|             4|      0.0984|       0.442| 0.585|           0.391|    0.14| -10.332|     0.0964|  0.116| 97.565|\n",
            "| 20|Wonderful-Christm...|      Paul-McCartney|          Pop| 11|   1|             4|       0.567|       0.877| 0.477|             0.0|   0.114|  -5.391|     0.0623|  0.688| 95.024|\n",
            "| 21|     White-Christmas|         Bing-Crosby|          Pop|  9|   1|             3|       0.673|       0.317| 0.158|           0.353|   0.338| -16.485|     0.0381|  0.247|130.503|\n",
            "| 26|             You-Say|       Lauren-Daigle|          Pop|  5|   1|             4|       0.682|       0.486| 0.632|             0.0|  0.0869|   -6.89|     0.0344| 0.0791|147.892|\n",
            "| 28|          Be-Alright|          Dean-Lewis|          Pop| 11|   1|             4|       0.697|       0.553| 0.586|             0.0|  0.0813|  -6.319|     0.0362|  0.443|126.684|\n",
            "| 29|             Sixteen|        Thomas-Rhett|          Pop|  1|   1|             4|      0.0147|       0.707| 0.531|        2.11e-06|   0.175|  -7.014|     0.0273|  0.417|106.992|\n",
            "| 30|        Consequences|      Camila-Cabello|          Pop|  0|   1|             5|       0.889|       0.455| 0.292|             0.0|   0.106|  -6.792|     0.0563|   0.43| 84.339|\n",
            "| 33|           Good-Girl|        Dustin-Lynch|          Pop|  7|   1|             4|        0.16|       0.711| 0.696|             0.0|    0.17|   -5.05|     0.0871|  0.694| 80.512|\n",
            "| 42|            YOSEMITE|        Travis-Scott|          Pop|  0|   1|             4|       0.283|       0.785| 0.554|         3.4e-06|   0.116|  -6.571|     0.0409|  0.144|128.047|\n",
            "| 44|     Look-Back-at-It|A-Boogie-Wit-da-H...|          Pop|  3|   0|             4|       0.407|       0.791| 0.587|             0.0|   0.148|  -5.075|     0.0413|  0.536| 96.057|\n",
            "| 45|              broken|       lovelytheband|          Pop|  7|   1|             4|     0.00175|       0.666| 0.728|        4.26e-06|  0.0429|  -5.808|     0.0419|   0.51|122.996|\n",
            "| 49|what-are-you-so-a...|        XXXTENTACION|          Pop|  0|   1|             4|       0.774|       0.639| 0.312|           0.469|  0.0857|  -9.902|     0.0301|  0.347|103.369|\n",
            "| 64|   come-out-and-play|       Billie-Eilish|          Pop|  0|   1|             4|       0.693|        0.64| 0.321|          0.0307|   0.114| -14.604|     0.0931|  0.177|145.045|\n",
            "| 69|    I-Like-Me-Better|                Lauv|          Pop|  9|   1|             4|       0.535|       0.752| 0.505|        2.55e-06|   0.104|  -7.621|      0.253|  0.419|  91.97|\n",
            "| 70|   Bohemian-Rhapsody|               Queen|          Pop|  0|   0|             4|       0.287|        0.39| 0.397|             0.0|   0.207|  -9.963|     0.0513|  0.246|144.031|\n",
            "| 73| Burn-the-House-Down|                 AJR|          Pop|  0|   1|             4|      0.0364|       0.454|  0.66|             0.0|   0.181|  -4.357|      0.168|  0.568|184.353|\n",
            "+---+--------------------+--------------------+-------------+---+----+--------------+------------+------------+------+----------------+--------+--------+-----------+-------+-------+\n",
            "only showing top 20 rows\n",
            "\n"
          ]
        }
      ],
      "source": [
        "final_df.show()"
      ]
    },
    {
      "cell_type": "code",
      "execution_count": 31,
      "metadata": {
        "id": "MowUgDVvV-vI"
      },
      "outputs": [],
      "source": [
        "from pyspark.sql.functions import monotonically_increasing_id\n",
        "final_df = final_df.withColumn(\"index\", monotonically_increasing_id())"
      ]
    },
    {
      "cell_type": "code",
      "execution_count": 32,
      "metadata": {
        "colab": {
          "base_uri": "https://localhost:8080/"
        },
        "id": "O0KX-NlcWD-6",
        "outputId": "913536a2-99b2-46d4-a229-cec8524dfbfd"
      },
      "outputs": [
        {
          "name": "stdout",
          "output_type": "stream",
          "text": [
            "+---+--------------------+--------------------+-------------+---+----+--------------+------------+------------+------+----------------+--------+--------+-----------+-------+-------+-----+\n",
            "|_c0|               track|              artist|primary_genre|key|mode|time_signature|acousticness|danceability|energy|instrumentalness|liveness|loudness|speechiness|valence|  tempo|index|\n",
            "+---+--------------------+--------------------+-------------+---+----+--------------+------------+------------+------+----------------+--------+--------+-----------+-------+-------+-----+\n",
            "|  4|A-Holly-Jolly-Chr...|           Burl-Ives|          Pop|  0|   1|             4|       0.685|       0.665| 0.398|             0.0|   0.172| -11.886|       0.03|  0.864|140.456|    0|\n",
            "|  6|            Mo-Bamba|           Sheck-Wes|          Pop|  4|   1|             4|       0.194|       0.729| 0.625|         0.00986|   0.248|  -5.266|     0.0315|  0.261|146.034|    1|\n",
            "|  8|          Youngblood| 5-Seconds-of-Summer|          Pop|  7|   0|             4|      0.0169|       0.596| 0.854|             0.0|   0.124|  -5.114|      0.463|  0.152|120.274|    2|\n",
            "| 16|         Sleigh-Ride|        The-Ronettes|          Pop|  2|   1|             4|       0.403|       0.528| 0.772|        2.52e-06|   0.316|  -7.013|     0.0288|  0.852| 91.735|    3|\n",
            "| 17|              Better|              Khalid|          Pop|  0|   0|             4|      0.0984|       0.442| 0.585|           0.391|    0.14| -10.332|     0.0964|  0.116| 97.565|    4|\n",
            "| 20|Wonderful-Christm...|      Paul-McCartney|          Pop| 11|   1|             4|       0.567|       0.877| 0.477|             0.0|   0.114|  -5.391|     0.0623|  0.688| 95.024|    5|\n",
            "| 21|     White-Christmas|         Bing-Crosby|          Pop|  9|   1|             3|       0.673|       0.317| 0.158|           0.353|   0.338| -16.485|     0.0381|  0.247|130.503|    6|\n",
            "| 26|             You-Say|       Lauren-Daigle|          Pop|  5|   1|             4|       0.682|       0.486| 0.632|             0.0|  0.0869|   -6.89|     0.0344| 0.0791|147.892|    7|\n",
            "| 28|          Be-Alright|          Dean-Lewis|          Pop| 11|   1|             4|       0.697|       0.553| 0.586|             0.0|  0.0813|  -6.319|     0.0362|  0.443|126.684|    8|\n",
            "| 29|             Sixteen|        Thomas-Rhett|          Pop|  1|   1|             4|      0.0147|       0.707| 0.531|        2.11e-06|   0.175|  -7.014|     0.0273|  0.417|106.992|    9|\n",
            "| 30|        Consequences|      Camila-Cabello|          Pop|  0|   1|             5|       0.889|       0.455| 0.292|             0.0|   0.106|  -6.792|     0.0563|   0.43| 84.339|   10|\n",
            "| 33|           Good-Girl|        Dustin-Lynch|          Pop|  7|   1|             4|        0.16|       0.711| 0.696|             0.0|    0.17|   -5.05|     0.0871|  0.694| 80.512|   11|\n",
            "| 42|            YOSEMITE|        Travis-Scott|          Pop|  0|   1|             4|       0.283|       0.785| 0.554|         3.4e-06|   0.116|  -6.571|     0.0409|  0.144|128.047|   12|\n",
            "| 44|     Look-Back-at-It|A-Boogie-Wit-da-H...|          Pop|  3|   0|             4|       0.407|       0.791| 0.587|             0.0|   0.148|  -5.075|     0.0413|  0.536| 96.057|   13|\n",
            "| 45|              broken|       lovelytheband|          Pop|  7|   1|             4|     0.00175|       0.666| 0.728|        4.26e-06|  0.0429|  -5.808|     0.0419|   0.51|122.996|   14|\n",
            "| 49|what-are-you-so-a...|        XXXTENTACION|          Pop|  0|   1|             4|       0.774|       0.639| 0.312|           0.469|  0.0857|  -9.902|     0.0301|  0.347|103.369|   15|\n",
            "| 64|   come-out-and-play|       Billie-Eilish|          Pop|  0|   1|             4|       0.693|        0.64| 0.321|          0.0307|   0.114| -14.604|     0.0931|  0.177|145.045|   16|\n",
            "| 69|    I-Like-Me-Better|                Lauv|          Pop|  9|   1|             4|       0.535|       0.752| 0.505|        2.55e-06|   0.104|  -7.621|      0.253|  0.419|  91.97|   17|\n",
            "| 70|   Bohemian-Rhapsody|               Queen|          Pop|  0|   0|             4|       0.287|        0.39| 0.397|             0.0|   0.207|  -9.963|     0.0513|  0.246|144.031|   18|\n",
            "| 73| Burn-the-House-Down|                 AJR|          Pop|  0|   1|             4|      0.0364|       0.454|  0.66|             0.0|   0.181|  -4.357|      0.168|  0.568|184.353|   19|\n",
            "+---+--------------------+--------------------+-------------+---+----+--------------+------------+------------+------+----------------+--------+--------+-----------+-------+-------+-----+\n",
            "only showing top 20 rows\n",
            "\n"
          ]
        }
      ],
      "source": [
        "final_df.show()"
      ]
    },
    {
      "cell_type": "code",
      "execution_count": 33,
      "metadata": {
        "id": "8wQoSz_5WI7U"
      },
      "outputs": [],
      "source": [
        "final_df = final_df.drop('_c0')"
      ]
    },
    {
      "cell_type": "code",
      "execution_count": 34,
      "metadata": {
        "colab": {
          "base_uri": "https://localhost:8080/"
        },
        "id": "iwjvtenTWNyh",
        "outputId": "3337fd33-6e24-4596-a7b2-d9abea787d94"
      },
      "outputs": [
        {
          "name": "stdout",
          "output_type": "stream",
          "text": [
            "+--------------------+--------------------+-------------+---+----+--------------+------------+------------+------+----------------+--------+--------+-----------+-------+-------+-----+\n",
            "|               track|              artist|primary_genre|key|mode|time_signature|acousticness|danceability|energy|instrumentalness|liveness|loudness|speechiness|valence|  tempo|index|\n",
            "+--------------------+--------------------+-------------+---+----+--------------+------------+------------+------+----------------+--------+--------+-----------+-------+-------+-----+\n",
            "|A-Holly-Jolly-Chr...|           Burl-Ives|          Pop|  0|   1|             4|       0.685|       0.665| 0.398|             0.0|   0.172| -11.886|       0.03|  0.864|140.456|    0|\n",
            "|            Mo-Bamba|           Sheck-Wes|          Pop|  4|   1|             4|       0.194|       0.729| 0.625|         0.00986|   0.248|  -5.266|     0.0315|  0.261|146.034|    1|\n",
            "|          Youngblood| 5-Seconds-of-Summer|          Pop|  7|   0|             4|      0.0169|       0.596| 0.854|             0.0|   0.124|  -5.114|      0.463|  0.152|120.274|    2|\n",
            "|         Sleigh-Ride|        The-Ronettes|          Pop|  2|   1|             4|       0.403|       0.528| 0.772|        2.52e-06|   0.316|  -7.013|     0.0288|  0.852| 91.735|    3|\n",
            "|              Better|              Khalid|          Pop|  0|   0|             4|      0.0984|       0.442| 0.585|           0.391|    0.14| -10.332|     0.0964|  0.116| 97.565|    4|\n",
            "|Wonderful-Christm...|      Paul-McCartney|          Pop| 11|   1|             4|       0.567|       0.877| 0.477|             0.0|   0.114|  -5.391|     0.0623|  0.688| 95.024|    5|\n",
            "|     White-Christmas|         Bing-Crosby|          Pop|  9|   1|             3|       0.673|       0.317| 0.158|           0.353|   0.338| -16.485|     0.0381|  0.247|130.503|    6|\n",
            "|             You-Say|       Lauren-Daigle|          Pop|  5|   1|             4|       0.682|       0.486| 0.632|             0.0|  0.0869|   -6.89|     0.0344| 0.0791|147.892|    7|\n",
            "|          Be-Alright|          Dean-Lewis|          Pop| 11|   1|             4|       0.697|       0.553| 0.586|             0.0|  0.0813|  -6.319|     0.0362|  0.443|126.684|    8|\n",
            "|             Sixteen|        Thomas-Rhett|          Pop|  1|   1|             4|      0.0147|       0.707| 0.531|        2.11e-06|   0.175|  -7.014|     0.0273|  0.417|106.992|    9|\n",
            "|        Consequences|      Camila-Cabello|          Pop|  0|   1|             5|       0.889|       0.455| 0.292|             0.0|   0.106|  -6.792|     0.0563|   0.43| 84.339|   10|\n",
            "|           Good-Girl|        Dustin-Lynch|          Pop|  7|   1|             4|        0.16|       0.711| 0.696|             0.0|    0.17|   -5.05|     0.0871|  0.694| 80.512|   11|\n",
            "|            YOSEMITE|        Travis-Scott|          Pop|  0|   1|             4|       0.283|       0.785| 0.554|         3.4e-06|   0.116|  -6.571|     0.0409|  0.144|128.047|   12|\n",
            "|     Look-Back-at-It|A-Boogie-Wit-da-H...|          Pop|  3|   0|             4|       0.407|       0.791| 0.587|             0.0|   0.148|  -5.075|     0.0413|  0.536| 96.057|   13|\n",
            "|              broken|       lovelytheband|          Pop|  7|   1|             4|     0.00175|       0.666| 0.728|        4.26e-06|  0.0429|  -5.808|     0.0419|   0.51|122.996|   14|\n",
            "|what-are-you-so-a...|        XXXTENTACION|          Pop|  0|   1|             4|       0.774|       0.639| 0.312|           0.469|  0.0857|  -9.902|     0.0301|  0.347|103.369|   15|\n",
            "|   come-out-and-play|       Billie-Eilish|          Pop|  0|   1|             4|       0.693|        0.64| 0.321|          0.0307|   0.114| -14.604|     0.0931|  0.177|145.045|   16|\n",
            "|    I-Like-Me-Better|                Lauv|          Pop|  9|   1|             4|       0.535|       0.752| 0.505|        2.55e-06|   0.104|  -7.621|      0.253|  0.419|  91.97|   17|\n",
            "|   Bohemian-Rhapsody|               Queen|          Pop|  0|   0|             4|       0.287|        0.39| 0.397|             0.0|   0.207|  -9.963|     0.0513|  0.246|144.031|   18|\n",
            "| Burn-the-House-Down|                 AJR|          Pop|  0|   1|             4|      0.0364|       0.454|  0.66|             0.0|   0.181|  -4.357|      0.168|  0.568|184.353|   19|\n",
            "+--------------------+--------------------+-------------+---+----+--------------+------------+------------+------+----------------+--------+--------+-----------+-------+-------+-----+\n",
            "only showing top 20 rows\n",
            "\n"
          ]
        }
      ],
      "source": [
        "final_df.show()"
      ]
    },
    {
      "cell_type": "code",
      "execution_count": 35,
      "metadata": {
        "id": "u_4TRsDaWjmT"
      },
      "outputs": [],
      "source": [
        "# Get the list of columns in the DataFrame\n",
        "columns = final_df.columns\n",
        "\n",
        "# Reorder the columns by moving the last column to the first position\n",
        "columns = columns[-1:] + columns[:-1]\n",
        "\n",
        "# Select the columns in the specified order\n",
        "final_df = final_df.select(*columns)\n"
      ]
    },
    {
      "cell_type": "code",
      "execution_count": 36,
      "metadata": {
        "colab": {
          "base_uri": "https://localhost:8080/"
        },
        "id": "FEQpvqnyWxLA",
        "outputId": "546aba47-7814-4c83-d4c4-7f6c84e434a1"
      },
      "outputs": [
        {
          "name": "stdout",
          "output_type": "stream",
          "text": [
            "+-----+--------------------+--------------------+-------------+---+----+--------------+------------+------------+------+----------------+--------+--------+-----------+-------+-------+\n",
            "|index|               track|              artist|primary_genre|key|mode|time_signature|acousticness|danceability|energy|instrumentalness|liveness|loudness|speechiness|valence|  tempo|\n",
            "+-----+--------------------+--------------------+-------------+---+----+--------------+------------+------------+------+----------------+--------+--------+-----------+-------+-------+\n",
            "|    0|A-Holly-Jolly-Chr...|           Burl-Ives|          Pop|  0|   1|             4|       0.685|       0.665| 0.398|             0.0|   0.172| -11.886|       0.03|  0.864|140.456|\n",
            "|    1|            Mo-Bamba|           Sheck-Wes|          Pop|  4|   1|             4|       0.194|       0.729| 0.625|         0.00986|   0.248|  -5.266|     0.0315|  0.261|146.034|\n",
            "|    2|          Youngblood| 5-Seconds-of-Summer|          Pop|  7|   0|             4|      0.0169|       0.596| 0.854|             0.0|   0.124|  -5.114|      0.463|  0.152|120.274|\n",
            "|    3|         Sleigh-Ride|        The-Ronettes|          Pop|  2|   1|             4|       0.403|       0.528| 0.772|        2.52e-06|   0.316|  -7.013|     0.0288|  0.852| 91.735|\n",
            "|    4|              Better|              Khalid|          Pop|  0|   0|             4|      0.0984|       0.442| 0.585|           0.391|    0.14| -10.332|     0.0964|  0.116| 97.565|\n",
            "|    5|Wonderful-Christm...|      Paul-McCartney|          Pop| 11|   1|             4|       0.567|       0.877| 0.477|             0.0|   0.114|  -5.391|     0.0623|  0.688| 95.024|\n",
            "|    6|     White-Christmas|         Bing-Crosby|          Pop|  9|   1|             3|       0.673|       0.317| 0.158|           0.353|   0.338| -16.485|     0.0381|  0.247|130.503|\n",
            "|    7|             You-Say|       Lauren-Daigle|          Pop|  5|   1|             4|       0.682|       0.486| 0.632|             0.0|  0.0869|   -6.89|     0.0344| 0.0791|147.892|\n",
            "|    8|          Be-Alright|          Dean-Lewis|          Pop| 11|   1|             4|       0.697|       0.553| 0.586|             0.0|  0.0813|  -6.319|     0.0362|  0.443|126.684|\n",
            "|    9|             Sixteen|        Thomas-Rhett|          Pop|  1|   1|             4|      0.0147|       0.707| 0.531|        2.11e-06|   0.175|  -7.014|     0.0273|  0.417|106.992|\n",
            "|   10|        Consequences|      Camila-Cabello|          Pop|  0|   1|             5|       0.889|       0.455| 0.292|             0.0|   0.106|  -6.792|     0.0563|   0.43| 84.339|\n",
            "|   11|           Good-Girl|        Dustin-Lynch|          Pop|  7|   1|             4|        0.16|       0.711| 0.696|             0.0|    0.17|   -5.05|     0.0871|  0.694| 80.512|\n",
            "|   12|            YOSEMITE|        Travis-Scott|          Pop|  0|   1|             4|       0.283|       0.785| 0.554|         3.4e-06|   0.116|  -6.571|     0.0409|  0.144|128.047|\n",
            "|   13|     Look-Back-at-It|A-Boogie-Wit-da-H...|          Pop|  3|   0|             4|       0.407|       0.791| 0.587|             0.0|   0.148|  -5.075|     0.0413|  0.536| 96.057|\n",
            "|   14|              broken|       lovelytheband|          Pop|  7|   1|             4|     0.00175|       0.666| 0.728|        4.26e-06|  0.0429|  -5.808|     0.0419|   0.51|122.996|\n",
            "|   15|what-are-you-so-a...|        XXXTENTACION|          Pop|  0|   1|             4|       0.774|       0.639| 0.312|           0.469|  0.0857|  -9.902|     0.0301|  0.347|103.369|\n",
            "|   16|   come-out-and-play|       Billie-Eilish|          Pop|  0|   1|             4|       0.693|        0.64| 0.321|          0.0307|   0.114| -14.604|     0.0931|  0.177|145.045|\n",
            "|   17|    I-Like-Me-Better|                Lauv|          Pop|  9|   1|             4|       0.535|       0.752| 0.505|        2.55e-06|   0.104|  -7.621|      0.253|  0.419|  91.97|\n",
            "|   18|   Bohemian-Rhapsody|               Queen|          Pop|  0|   0|             4|       0.287|        0.39| 0.397|             0.0|   0.207|  -9.963|     0.0513|  0.246|144.031|\n",
            "|   19| Burn-the-House-Down|                 AJR|          Pop|  0|   1|             4|      0.0364|       0.454|  0.66|             0.0|   0.181|  -4.357|      0.168|  0.568|184.353|\n",
            "+-----+--------------------+--------------------+-------------+---+----+--------------+------------+------------+------+----------------+--------+--------+-----------+-------+-------+\n",
            "only showing top 20 rows\n",
            "\n"
          ]
        }
      ],
      "source": [
        "final_df.show()"
      ]
    },
    {
      "cell_type": "code",
      "execution_count": 37,
      "metadata": {
        "id": "KIioh6DkXVfP"
      },
      "outputs": [],
      "source": [
        "final_df.write.option(\"sep\", \",\").option(\"header\", \"true\").csv(\"/content/csv/equalized_data.csv\")\n"
      ]
    },
    {
      "cell_type": "markdown",
      "metadata": {
        "id": "Bh6F5kg7YkP-"
      },
      "source": [
        "# **Load**"
      ]
    },
    {
      "cell_type": "code",
      "execution_count": null,
      "metadata": {
        "id": "_ulPsh43NFyo"
      },
      "outputs": [],
      "source": [
        "mode = \"overwrite\"\n",
        "jdbc_url=\"jdbc:postgresql://big-data-base.coodiqlcstgq.us-east-1.rds.amazonaws.com:5432/final_project_db\"\n",
        "config = {\"user\":\"postgres\", \"password\": password, \"driver\":\"org.postgresql.Driver\"}"
      ]
    },
    {
      "cell_type": "code",
      "execution_count": null,
      "metadata": {
        "id": "Mq5GPeBLNFyp"
      },
      "outputs": [],
      "source": [
        "# Write final_df to table in RDS\n",
        "final_df.write.jdbc(url=jdbc_url, table='final_df', mode=mode, properties=config)"
      ]
    }
  ],
  "metadata": {
    "colab": {
      "provenance": []
    },
    "kernelspec": {
      "display_name": "Python 3.9 (tensorflow)",
      "language": "python",
      "name": "tensorflow"
    },
    "language_info": {
      "name": "python",
      "version": "3.9.15 | packaged by conda-forge | (main, Nov 22 2022, 08:48:25) \n[Clang 14.0.6 ]"
    },
    "orig_nbformat": 4,
    "vscode": {
      "interpreter": {
        "hash": "baa0b97381f90d52c49ba05802debe85b0373ced8172646c844c59020a86bc33"
      }
    }
  },
  "nbformat": 4,
  "nbformat_minor": 0
}
